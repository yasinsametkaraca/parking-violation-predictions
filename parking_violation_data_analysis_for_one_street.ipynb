{
 "cells": [
  {
   "cell_type": "code",
   "execution_count": 93,
   "metadata": {
    "collapsed": true,
    "ExecuteTime": {
     "start_time": "2023-11-27T18:18:05.488022Z",
     "end_time": "2023-11-27T18:18:05.689338Z"
    }
   },
   "outputs": [],
   "source": [
    "# This Python 3 environment comes with many helpful analytics libraries installed\n",
    "# It is defined by the kaggle/python docker image: https://github.com/kaggle/docker-python\n",
    "# For example, here's several helpful packages to load in\n",
    "\n",
    "from datetime import datetime, timedelta\n",
    "\n",
    "import numpy as np # linear algebra\n",
    "import pandas as pd # data processing, CSV file I/O (e.g. pd.read_csv)\n",
    "# importing libraries\n",
    "\n",
    "import csv\n",
    "import matplotlib.pyplot as plt\n",
    "import seaborn as sns\n",
    "\n",
    "from tensorflow import keras\n",
    "from keras import callbacks\n",
    "from tensorflow.keras import Sequential\n",
    "from tensorflow.keras.layers import Dense, LSTM, Dropout\n",
    "from tensorflow.keras.optimizers import SGD\n",
    "from keras.callbacks import EarlyStopping\n",
    "import math\n",
    "from sklearn.metrics import mean_squared_error\n",
    "\n",
    "\n",
    "import warnings\n",
    "warnings.filterwarnings(\"ignore\")\n",
    "# Input data files are available in the \"../input/\" directory.\n",
    "# For example, running this (by clicking run or pressing Shift+Enter) will list the files in the input directory\n",
    "\n",
    "# import os\n",
    "# print(os.listdir(\"../input\"))\n",
    "\n",
    "# Any results you write to the current directory are saved as output."
   ]
  },
  {
   "cell_type": "code",
   "execution_count": 94,
   "outputs": [
    {
     "data": {
      "text/plain": "       Issue Date  Violation Precinct Violation Time  Street Name\n0      06/20/2017                  78          1204P  13TH STREET\n1      03/09/2017                  78          0941A  13TH STREET\n2      04/08/2017                  78          1109A  13TH STREET\n3      09/23/2016                  78          1151A  13TH STREET\n4      10/18/2016                  78          0227P  13TH STREET\n...           ...                 ...            ...          ...\n14806  09/11/2023                  78          0911A  13TH STREET\n14807  09/11/2023                  78          0918A  13TH STREET\n14808  09/11/2023                  78          0918A  13TH STREET\n14809  09/14/2023                  78          0945A  13TH STREET\n14810  09/08/2023                  78          0950A  13TH STREET\n\n[14811 rows x 4 columns]",
      "text/html": "<div>\n<style scoped>\n    .dataframe tbody tr th:only-of-type {\n        vertical-align: middle;\n    }\n\n    .dataframe tbody tr th {\n        vertical-align: top;\n    }\n\n    .dataframe thead th {\n        text-align: right;\n    }\n</style>\n<table border=\"1\" class=\"dataframe\">\n  <thead>\n    <tr style=\"text-align: right;\">\n      <th></th>\n      <th>Issue Date</th>\n      <th>Violation Precinct</th>\n      <th>Violation Time</th>\n      <th>Street Name</th>\n    </tr>\n  </thead>\n  <tbody>\n    <tr>\n      <th>0</th>\n      <td>06/20/2017</td>\n      <td>78</td>\n      <td>1204P</td>\n      <td>13TH STREET</td>\n    </tr>\n    <tr>\n      <th>1</th>\n      <td>03/09/2017</td>\n      <td>78</td>\n      <td>0941A</td>\n      <td>13TH STREET</td>\n    </tr>\n    <tr>\n      <th>2</th>\n      <td>04/08/2017</td>\n      <td>78</td>\n      <td>1109A</td>\n      <td>13TH STREET</td>\n    </tr>\n    <tr>\n      <th>3</th>\n      <td>09/23/2016</td>\n      <td>78</td>\n      <td>1151A</td>\n      <td>13TH STREET</td>\n    </tr>\n    <tr>\n      <th>4</th>\n      <td>10/18/2016</td>\n      <td>78</td>\n      <td>0227P</td>\n      <td>13TH STREET</td>\n    </tr>\n    <tr>\n      <th>...</th>\n      <td>...</td>\n      <td>...</td>\n      <td>...</td>\n      <td>...</td>\n    </tr>\n    <tr>\n      <th>14806</th>\n      <td>09/11/2023</td>\n      <td>78</td>\n      <td>0911A</td>\n      <td>13TH STREET</td>\n    </tr>\n    <tr>\n      <th>14807</th>\n      <td>09/11/2023</td>\n      <td>78</td>\n      <td>0918A</td>\n      <td>13TH STREET</td>\n    </tr>\n    <tr>\n      <th>14808</th>\n      <td>09/11/2023</td>\n      <td>78</td>\n      <td>0918A</td>\n      <td>13TH STREET</td>\n    </tr>\n    <tr>\n      <th>14809</th>\n      <td>09/14/2023</td>\n      <td>78</td>\n      <td>0945A</td>\n      <td>13TH STREET</td>\n    </tr>\n    <tr>\n      <th>14810</th>\n      <td>09/08/2023</td>\n      <td>78</td>\n      <td>0950A</td>\n      <td>13TH STREET</td>\n    </tr>\n  </tbody>\n</table>\n<p>14811 rows × 4 columns</p>\n</div>"
     },
     "execution_count": 94,
     "metadata": {},
     "output_type": "execute_result"
    }
   ],
   "source": [
    "selected_columns = [\n",
    "    # 'Street Code1',\n",
    "    # 'Street Code2',\n",
    "    # 'Street Code3',\n",
    "    'Street Name',\n",
    "    # 'Violation Location',\n",
    "    # 'Violation Post Code',\n",
    "    # 'Intersecting Street',\n",
    "    'Violation Precinct',\n",
    "    # 'Violation County',\n",
    "    # 'Vehicle Body Type',\n",
    "    'Issue Date',\n",
    "    # 'Date First Observed',\n",
    "    'Violation Time',\n",
    "    #'Days Parking In Effect',\n",
    "    #'From Hours In Effect',\n",
    "    #'To Hours In Effect',\n",
    "    # 'Violation Code',\n",
    "]\n",
    "\n",
    "file_path = 'all_data_for_one_street.csv'\n",
    "df = pd.read_csv(file_path, usecols=selected_columns)\n",
    "df"
   ],
   "metadata": {
    "collapsed": false,
    "ExecuteTime": {
     "start_time": "2023-11-27T18:18:05.497999Z",
     "end_time": "2023-11-27T18:18:05.689338Z"
    }
   }
  },
  {
   "cell_type": "code",
   "execution_count": 95,
   "outputs": [
    {
     "data": {
      "text/plain": "0"
     },
     "execution_count": 95,
     "metadata": {},
     "output_type": "execute_result"
    }
   ],
   "source": [
    "df['Violation Precinct'].isna().sum()"
   ],
   "metadata": {
    "collapsed": false,
    "ExecuteTime": {
     "start_time": "2023-11-27T18:18:05.561879Z",
     "end_time": "2023-11-27T18:18:05.689338Z"
    }
   }
  },
  {
   "cell_type": "code",
   "execution_count": 96,
   "outputs": [
    {
     "name": "stdout",
     "output_type": "stream",
     "text": [
      "<class 'pandas.core.frame.DataFrame'>\n",
      "RangeIndex: 14811 entries, 0 to 14810\n",
      "Data columns (total 4 columns):\n",
      " #   Column              Non-Null Count  Dtype \n",
      "---  ------              --------------  ----- \n",
      " 0   Issue Date          14811 non-null  object\n",
      " 1   Violation Precinct  14811 non-null  int64 \n",
      " 2   Violation Time      14811 non-null  object\n",
      " 3   Street Name         14811 non-null  object\n",
      "dtypes: int64(1), object(3)\n",
      "memory usage: 463.0+ KB\n"
     ]
    }
   ],
   "source": [
    "df.info()"
   ],
   "metadata": {
    "collapsed": false,
    "ExecuteTime": {
     "start_time": "2023-11-27T18:18:05.572875Z",
     "end_time": "2023-11-27T18:18:05.690339Z"
    }
   }
  },
  {
   "cell_type": "code",
   "execution_count": 97,
   "outputs": [
    {
     "data": {
      "text/plain": "0        1204P\n1        0941A\n2        1109A\n3        1151A\n4        0227P\n         ...  \n14806    0911A\n14807    0918A\n14808    0918A\n14809    0945A\n14810    0950A\nName: Violation Time, Length: 14811, dtype: object"
     },
     "execution_count": 97,
     "metadata": {},
     "output_type": "execute_result"
    }
   ],
   "source": [
    "df['Violation Time']"
   ],
   "metadata": {
    "collapsed": false,
    "ExecuteTime": {
     "start_time": "2023-11-27T18:18:05.588489Z",
     "end_time": "2023-11-27T18:18:05.690339Z"
    }
   }
  },
  {
   "cell_type": "code",
   "execution_count": 98,
   "outputs": [],
   "source": [
    "df_1 = df.copy()"
   ],
   "metadata": {
    "collapsed": false,
    "ExecuteTime": {
     "start_time": "2023-11-27T18:18:05.596212Z",
     "end_time": "2023-11-27T18:18:05.690339Z"
    }
   }
  },
  {
   "cell_type": "code",
   "execution_count": 99,
   "outputs": [
    {
     "data": {
      "text/plain": "                  Issue Date  Violation Precinct Violation Time  Street Name\n6085  06/13/2019 12:00:00 AM                  78          0308A  13TH STREET\n6086  06/17/2019 12:00:00 AM                  78          0313A  13TH STREET\n6087  06/20/2019 12:00:00 AM                  78          1245A  13TH STREET\n6088  06/20/2019 12:00:00 AM                  78          0119P  13TH STREET\n6089  06/21/2019 12:00:00 AM                  78          0315A  13TH STREET\n...                      ...                 ...            ...          ...\n7751  06/22/2020 12:00:00 AM                  78          1254P  13TH STREET\n7752  06/23/2020 12:00:00 AM                  78          0420P  13TH STREET\n7753  06/24/2020 12:00:00 AM                  78          0308P  13TH STREET\n7754  06/24/2020 12:00:00 AM                  78          0126P  13TH STREET\n7755  06/24/2020 12:00:00 AM                  78          0125P  13TH STREET\n\n[1671 rows x 4 columns]",
      "text/html": "<div>\n<style scoped>\n    .dataframe tbody tr th:only-of-type {\n        vertical-align: middle;\n    }\n\n    .dataframe tbody tr th {\n        vertical-align: top;\n    }\n\n    .dataframe thead th {\n        text-align: right;\n    }\n</style>\n<table border=\"1\" class=\"dataframe\">\n  <thead>\n    <tr style=\"text-align: right;\">\n      <th></th>\n      <th>Issue Date</th>\n      <th>Violation Precinct</th>\n      <th>Violation Time</th>\n      <th>Street Name</th>\n    </tr>\n  </thead>\n  <tbody>\n    <tr>\n      <th>6085</th>\n      <td>06/13/2019 12:00:00 AM</td>\n      <td>78</td>\n      <td>0308A</td>\n      <td>13TH STREET</td>\n    </tr>\n    <tr>\n      <th>6086</th>\n      <td>06/17/2019 12:00:00 AM</td>\n      <td>78</td>\n      <td>0313A</td>\n      <td>13TH STREET</td>\n    </tr>\n    <tr>\n      <th>6087</th>\n      <td>06/20/2019 12:00:00 AM</td>\n      <td>78</td>\n      <td>1245A</td>\n      <td>13TH STREET</td>\n    </tr>\n    <tr>\n      <th>6088</th>\n      <td>06/20/2019 12:00:00 AM</td>\n      <td>78</td>\n      <td>0119P</td>\n      <td>13TH STREET</td>\n    </tr>\n    <tr>\n      <th>6089</th>\n      <td>06/21/2019 12:00:00 AM</td>\n      <td>78</td>\n      <td>0315A</td>\n      <td>13TH STREET</td>\n    </tr>\n    <tr>\n      <th>...</th>\n      <td>...</td>\n      <td>...</td>\n      <td>...</td>\n      <td>...</td>\n    </tr>\n    <tr>\n      <th>7751</th>\n      <td>06/22/2020 12:00:00 AM</td>\n      <td>78</td>\n      <td>1254P</td>\n      <td>13TH STREET</td>\n    </tr>\n    <tr>\n      <th>7752</th>\n      <td>06/23/2020 12:00:00 AM</td>\n      <td>78</td>\n      <td>0420P</td>\n      <td>13TH STREET</td>\n    </tr>\n    <tr>\n      <th>7753</th>\n      <td>06/24/2020 12:00:00 AM</td>\n      <td>78</td>\n      <td>0308P</td>\n      <td>13TH STREET</td>\n    </tr>\n    <tr>\n      <th>7754</th>\n      <td>06/24/2020 12:00:00 AM</td>\n      <td>78</td>\n      <td>0126P</td>\n      <td>13TH STREET</td>\n    </tr>\n    <tr>\n      <th>7755</th>\n      <td>06/24/2020 12:00:00 AM</td>\n      <td>78</td>\n      <td>0125P</td>\n      <td>13TH STREET</td>\n    </tr>\n  </tbody>\n</table>\n<p>1671 rows × 4 columns</p>\n</div>"
     },
     "execution_count": 99,
     "metadata": {},
     "output_type": "execute_result"
    }
   ],
   "source": [
    "df_1[df_1['Issue Date'].str.contains('AM')]"
   ],
   "metadata": {
    "collapsed": false,
    "ExecuteTime": {
     "start_time": "2023-11-27T18:18:05.601732Z",
     "end_time": "2023-11-27T18:18:05.693338Z"
    }
   }
  },
  {
   "cell_type": "code",
   "execution_count": 100,
   "outputs": [],
   "source": [
    "df_1['Issue Date'] = df_1['Issue Date'].str.split(' ').str[0]"
   ],
   "metadata": {
    "collapsed": false,
    "ExecuteTime": {
     "start_time": "2023-11-27T18:18:05.622339Z",
     "end_time": "2023-11-27T18:18:06.288523Z"
    }
   }
  },
  {
   "cell_type": "code",
   "execution_count": 101,
   "outputs": [
    {
     "data": {
      "text/plain": "       Issue Date  Violation Precinct Violation Time  Street Name\n0      06/20/2017                  78          1204P  13TH STREET\n1      03/09/2017                  78          0941A  13TH STREET\n2      04/08/2017                  78          1109A  13TH STREET\n3      09/23/2016                  78          1151A  13TH STREET\n4      10/18/2016                  78          0227P  13TH STREET\n...           ...                 ...            ...          ...\n14806  09/11/2023                  78          0911A  13TH STREET\n14807  09/11/2023                  78          0918A  13TH STREET\n14808  09/11/2023                  78          0918A  13TH STREET\n14809  09/14/2023                  78          0945A  13TH STREET\n14810  09/08/2023                  78          0950A  13TH STREET\n\n[14811 rows x 4 columns]",
      "text/html": "<div>\n<style scoped>\n    .dataframe tbody tr th:only-of-type {\n        vertical-align: middle;\n    }\n\n    .dataframe tbody tr th {\n        vertical-align: top;\n    }\n\n    .dataframe thead th {\n        text-align: right;\n    }\n</style>\n<table border=\"1\" class=\"dataframe\">\n  <thead>\n    <tr style=\"text-align: right;\">\n      <th></th>\n      <th>Issue Date</th>\n      <th>Violation Precinct</th>\n      <th>Violation Time</th>\n      <th>Street Name</th>\n    </tr>\n  </thead>\n  <tbody>\n    <tr>\n      <th>0</th>\n      <td>06/20/2017</td>\n      <td>78</td>\n      <td>1204P</td>\n      <td>13TH STREET</td>\n    </tr>\n    <tr>\n      <th>1</th>\n      <td>03/09/2017</td>\n      <td>78</td>\n      <td>0941A</td>\n      <td>13TH STREET</td>\n    </tr>\n    <tr>\n      <th>2</th>\n      <td>04/08/2017</td>\n      <td>78</td>\n      <td>1109A</td>\n      <td>13TH STREET</td>\n    </tr>\n    <tr>\n      <th>3</th>\n      <td>09/23/2016</td>\n      <td>78</td>\n      <td>1151A</td>\n      <td>13TH STREET</td>\n    </tr>\n    <tr>\n      <th>4</th>\n      <td>10/18/2016</td>\n      <td>78</td>\n      <td>0227P</td>\n      <td>13TH STREET</td>\n    </tr>\n    <tr>\n      <th>...</th>\n      <td>...</td>\n      <td>...</td>\n      <td>...</td>\n      <td>...</td>\n    </tr>\n    <tr>\n      <th>14806</th>\n      <td>09/11/2023</td>\n      <td>78</td>\n      <td>0911A</td>\n      <td>13TH STREET</td>\n    </tr>\n    <tr>\n      <th>14807</th>\n      <td>09/11/2023</td>\n      <td>78</td>\n      <td>0918A</td>\n      <td>13TH STREET</td>\n    </tr>\n    <tr>\n      <th>14808</th>\n      <td>09/11/2023</td>\n      <td>78</td>\n      <td>0918A</td>\n      <td>13TH STREET</td>\n    </tr>\n    <tr>\n      <th>14809</th>\n      <td>09/14/2023</td>\n      <td>78</td>\n      <td>0945A</td>\n      <td>13TH STREET</td>\n    </tr>\n    <tr>\n      <th>14810</th>\n      <td>09/08/2023</td>\n      <td>78</td>\n      <td>0950A</td>\n      <td>13TH STREET</td>\n    </tr>\n  </tbody>\n</table>\n<p>14811 rows × 4 columns</p>\n</div>"
     },
     "execution_count": 101,
     "metadata": {},
     "output_type": "execute_result"
    }
   ],
   "source": [
    "df_1"
   ],
   "metadata": {
    "collapsed": false,
    "ExecuteTime": {
     "start_time": "2023-11-27T18:18:06.289521Z",
     "end_time": "2023-11-27T18:18:06.301673Z"
    }
   }
  },
  {
   "cell_type": "code",
   "execution_count": 102,
   "outputs": [],
   "source": [
    "def convert_to_24hr_format(time_str):\n",
    "    try:\n",
    "        if '.' in time_str:\n",
    "            return None\n",
    "        if time_str[-1] == 'P':\n",
    "            return '{:02d}:{:02d}'.format((int(time_str[:2]) + 12) % 24, int(time_str[2:4]))\n",
    "        elif time_str[-1] == 'A':\n",
    "            return '{:02d}:{:02d}'.format(int(time_str[:2]) % 12, int(time_str[2:4]))\n",
    "        else:\n",
    "            return None\n",
    "    except (ValueError, TypeError):\n",
    "        return None\n",
    "\n",
    "df_1['Violation Time'] = df_1['Violation Time'].astype(str)\n",
    "df_1.loc[:, 'Violation Time'] = df_1['Violation Time'].apply(convert_to_24hr_format)\n",
    "df_1 = df_1.dropna(subset=['Violation Time'])"
   ],
   "metadata": {
    "collapsed": false,
    "ExecuteTime": {
     "start_time": "2023-11-27T18:18:06.305673Z",
     "end_time": "2023-11-27T18:18:06.388577Z"
    }
   }
  },
  {
   "cell_type": "code",
   "execution_count": 103,
   "outputs": [
    {
     "data": {
      "text/plain": "0        00:04\n1        09:41\n2        11:09\n3        11:51\n4        14:27\n         ...  \n14806    09:11\n14807    09:18\n14808    09:18\n14809    09:45\n14810    09:50\nName: Violation Time, Length: 14811, dtype: object"
     },
     "execution_count": 103,
     "metadata": {},
     "output_type": "execute_result"
    }
   ],
   "source": [
    "df_1['Violation Time']"
   ],
   "metadata": {
    "collapsed": false,
    "ExecuteTime": {
     "start_time": "2023-11-27T18:18:06.350412Z",
     "end_time": "2023-11-27T18:18:06.388577Z"
    }
   }
  },
  {
   "cell_type": "code",
   "execution_count": 104,
   "outputs": [],
   "source": [
    "df_1['Violation Datetime'] = pd.to_datetime(df_1['Issue Date'] + ' ' + df_1['Violation Time'], format='%m/%d/%Y %H:%M')"
   ],
   "metadata": {
    "collapsed": false,
    "ExecuteTime": {
     "start_time": "2023-11-27T18:18:06.357581Z",
     "end_time": "2023-11-27T18:18:06.471078Z"
    }
   }
  },
  {
   "cell_type": "code",
   "execution_count": 105,
   "outputs": [
    {
     "data": {
      "text/plain": "0       2017-06-20 00:04:00\n1       2017-03-09 09:41:00\n2       2017-04-08 11:09:00\n3       2016-09-23 11:51:00\n4       2016-10-18 14:27:00\n                ...        \n14806   2023-09-11 09:11:00\n14807   2023-09-11 09:18:00\n14808   2023-09-11 09:18:00\n14809   2023-09-14 09:45:00\n14810   2023-09-08 09:50:00\nName: Violation Datetime, Length: 14811, dtype: datetime64[ns]"
     },
     "execution_count": 105,
     "metadata": {},
     "output_type": "execute_result"
    }
   ],
   "source": [
    "df_1['Violation Datetime']"
   ],
   "metadata": {
    "collapsed": false,
    "ExecuteTime": {
     "start_time": "2023-11-27T18:18:06.435577Z",
     "end_time": "2023-11-27T18:18:06.487848Z"
    }
   }
  },
  {
   "cell_type": "code",
   "execution_count": 106,
   "outputs": [
    {
     "name": "stdout",
     "output_type": "stream",
     "text": [
      "<class 'pandas.core.frame.DataFrame'>\n",
      "RangeIndex: 14811 entries, 0 to 14810\n",
      "Data columns (total 5 columns):\n",
      " #   Column              Non-Null Count  Dtype         \n",
      "---  ------              --------------  -----         \n",
      " 0   Issue Date          14811 non-null  object        \n",
      " 1   Violation Precinct  14811 non-null  int64         \n",
      " 2   Violation Time      14811 non-null  object        \n",
      " 3   Street Name         14811 non-null  object        \n",
      " 4   Violation Datetime  14811 non-null  datetime64[ns]\n",
      "dtypes: datetime64[ns](1), int64(1), object(3)\n",
      "memory usage: 578.7+ KB\n"
     ]
    }
   ],
   "source": [
    "df_1.info()"
   ],
   "metadata": {
    "collapsed": false,
    "ExecuteTime": {
     "start_time": "2023-11-27T18:18:06.449469Z",
     "end_time": "2023-11-27T18:18:06.488846Z"
    }
   }
  },
  {
   "cell_type": "code",
   "execution_count": 107,
   "outputs": [
    {
     "data": {
      "text/plain": "       Issue Date  Violation Precinct Violation Time  Street Name  \\\n1836   06/22/2016                  78          09:34  13TH STREET   \n1844   06/22/2016                  78          09:34  13TH STREET   \n1840   06/22/2016                  78          09:37  13TH STREET   \n1852   06/22/2016                  78          13:03  13TH STREET   \n1849   06/28/2016                  78          03:31  13TH STREET   \n...           ...                 ...            ...          ...   \n14646  09/28/2023                  78          03:09  13TH STREET   \n14647  09/28/2023                  78          03:11  13TH STREET   \n14648  09/28/2023                  78          03:13  13TH STREET   \n14649  09/28/2023                  78          03:15  13TH STREET   \n14650  09/28/2023                  78          03:17  13TH STREET   \n\n       Violation Datetime  \n1836  2016-06-22 09:34:00  \n1844  2016-06-22 09:34:00  \n1840  2016-06-22 09:37:00  \n1852  2016-06-22 13:03:00  \n1849  2016-06-28 03:31:00  \n...                   ...  \n14646 2023-09-28 03:09:00  \n14647 2023-09-28 03:11:00  \n14648 2023-09-28 03:13:00  \n14649 2023-09-28 03:15:00  \n14650 2023-09-28 03:17:00  \n\n[14811 rows x 5 columns]",
      "text/html": "<div>\n<style scoped>\n    .dataframe tbody tr th:only-of-type {\n        vertical-align: middle;\n    }\n\n    .dataframe tbody tr th {\n        vertical-align: top;\n    }\n\n    .dataframe thead th {\n        text-align: right;\n    }\n</style>\n<table border=\"1\" class=\"dataframe\">\n  <thead>\n    <tr style=\"text-align: right;\">\n      <th></th>\n      <th>Issue Date</th>\n      <th>Violation Precinct</th>\n      <th>Violation Time</th>\n      <th>Street Name</th>\n      <th>Violation Datetime</th>\n    </tr>\n  </thead>\n  <tbody>\n    <tr>\n      <th>1836</th>\n      <td>06/22/2016</td>\n      <td>78</td>\n      <td>09:34</td>\n      <td>13TH STREET</td>\n      <td>2016-06-22 09:34:00</td>\n    </tr>\n    <tr>\n      <th>1844</th>\n      <td>06/22/2016</td>\n      <td>78</td>\n      <td>09:34</td>\n      <td>13TH STREET</td>\n      <td>2016-06-22 09:34:00</td>\n    </tr>\n    <tr>\n      <th>1840</th>\n      <td>06/22/2016</td>\n      <td>78</td>\n      <td>09:37</td>\n      <td>13TH STREET</td>\n      <td>2016-06-22 09:37:00</td>\n    </tr>\n    <tr>\n      <th>1852</th>\n      <td>06/22/2016</td>\n      <td>78</td>\n      <td>13:03</td>\n      <td>13TH STREET</td>\n      <td>2016-06-22 13:03:00</td>\n    </tr>\n    <tr>\n      <th>1849</th>\n      <td>06/28/2016</td>\n      <td>78</td>\n      <td>03:31</td>\n      <td>13TH STREET</td>\n      <td>2016-06-28 03:31:00</td>\n    </tr>\n    <tr>\n      <th>...</th>\n      <td>...</td>\n      <td>...</td>\n      <td>...</td>\n      <td>...</td>\n      <td>...</td>\n    </tr>\n    <tr>\n      <th>14646</th>\n      <td>09/28/2023</td>\n      <td>78</td>\n      <td>03:09</td>\n      <td>13TH STREET</td>\n      <td>2023-09-28 03:09:00</td>\n    </tr>\n    <tr>\n      <th>14647</th>\n      <td>09/28/2023</td>\n      <td>78</td>\n      <td>03:11</td>\n      <td>13TH STREET</td>\n      <td>2023-09-28 03:11:00</td>\n    </tr>\n    <tr>\n      <th>14648</th>\n      <td>09/28/2023</td>\n      <td>78</td>\n      <td>03:13</td>\n      <td>13TH STREET</td>\n      <td>2023-09-28 03:13:00</td>\n    </tr>\n    <tr>\n      <th>14649</th>\n      <td>09/28/2023</td>\n      <td>78</td>\n      <td>03:15</td>\n      <td>13TH STREET</td>\n      <td>2023-09-28 03:15:00</td>\n    </tr>\n    <tr>\n      <th>14650</th>\n      <td>09/28/2023</td>\n      <td>78</td>\n      <td>03:17</td>\n      <td>13TH STREET</td>\n      <td>2023-09-28 03:17:00</td>\n    </tr>\n  </tbody>\n</table>\n<p>14811 rows × 5 columns</p>\n</div>"
     },
     "execution_count": 107,
     "metadata": {},
     "output_type": "execute_result"
    }
   ],
   "source": [
    "df_1.sort_values(by=['Violation Datetime'], inplace=True)\n",
    "df_1"
   ],
   "metadata": {
    "collapsed": false,
    "ExecuteTime": {
     "start_time": "2023-11-27T18:18:06.461075Z",
     "end_time": "2023-11-27T18:18:06.517421Z"
    }
   }
  },
  {
   "cell_type": "code",
   "execution_count": 108,
   "outputs": [
    {
     "name": "stdout",
     "output_type": "stream",
     "text": [
      "filtered_df: 7\n",
      "total_records: 31\n",
      "Location Violation Rate for 13TH STREET between 2016-07-11 08:49:00 and 2016-07-11 10:59:00: 22.58%\n"
     ]
    }
   ],
   "source": [
    "def calculate_location_violation_rate(df, location, precinct, start_time, end_time):\n",
    "\n",
    "    one_week_before = start_time - pd.DateOffset(days=5)\n",
    "\n",
    "    filtered_df = len(df[(df['Street Name'] == location) & (df['Violation Precinct'] == precinct) & (df['Violation Datetime'] >= start_time) & (df['Violation Datetime'] <= end_time)])\n",
    "    print(\"filtered_df:\", filtered_df)\n",
    "\n",
    "    total_records = len(df[(df['Violation Datetime'] >= one_week_before) & (df['Violation Datetime'] <= end_time)])\n",
    "    print(\"total_records:\", total_records)\n",
    "\n",
    "    if total_records > 0:\n",
    "        violation_rate = (filtered_df / total_records) * 100\n",
    "    else:\n",
    "        violation_rate = 0.0\n",
    "    return violation_rate\n",
    "\n",
    "location = '13TH STREET'\n",
    "location_precinct = 78\n",
    "violation_datetime = pd.to_datetime('2016-07-11 08:49:00')\n",
    "estimating_time = pd.to_datetime('2016-07-11 10:59:00')\n",
    "\n",
    "rate = calculate_location_violation_rate(df_1, location, location_precinct, violation_datetime, estimating_time)\n",
    "print(f'Location Violation Rate for {location} between {violation_datetime} and {estimating_time}: {rate:.2f}%')"
   ],
   "metadata": {
    "collapsed": false,
    "ExecuteTime": {
     "start_time": "2023-11-27T18:18:06.486842Z",
     "end_time": "2023-11-27T18:18:06.522419Z"
    }
   }
  },
  {
   "cell_type": "code",
   "execution_count": 109,
   "outputs": [],
   "source": [
    "def calculate_location_violation_rate(row, df):\n",
    "    location = row['Street Name']\n",
    "    precinct = row['Violation Precinct']\n",
    "    start_time = row['Violation Datetime'] - pd.DateOffset(minutes=30)  # Assuming 1 hour interval\n",
    "    end_time = row['Violation Datetime'] + pd.DateOffset(minutes=45)  # Assuming 1 hour interval\n",
    "\n",
    "    one_week_before = start_time - pd.DateOffset(weeks=1)\n",
    "\n",
    "    filtered_df = len(df[(df['Street Name'] == location) & (df['Violation Precinct'] == precinct) & (df['Violation Datetime'] >= start_time) & (df['Violation Datetime'] <= end_time)])\n",
    "\n",
    "    total_records = len(df[(df['Violation Datetime'] >= one_week_before) & (df['Violation Datetime'] <= end_time)])\n",
    "\n",
    "    if total_records == 0:\n",
    "        return 0.0\n",
    "\n",
    "    if total_records > 0:\n",
    "        violation_rate = (filtered_df / total_records) * 100\n",
    "    else:\n",
    "        violation_rate = 0.0\n",
    "\n",
    "    return violation_rate\n",
    "\n",
    "df_1['Violation_Rate'] = df_1.apply(calculate_location_violation_rate, df=df_1, axis=1)"
   ],
   "metadata": {
    "collapsed": false,
    "ExecuteTime": {
     "start_time": "2023-11-27T18:18:06.503421Z",
     "end_time": "2023-11-27T18:18:41.957841Z"
    }
   }
  },
  {
   "cell_type": "code",
   "execution_count": 110,
   "outputs": [
    {
     "data": {
      "text/plain": "11.700704008823255"
     },
     "execution_count": 110,
     "metadata": {},
     "output_type": "execute_result"
    }
   ],
   "source": [
    "df_1['Violation_Rate'].mean()"
   ],
   "metadata": {
    "collapsed": false,
    "ExecuteTime": {
     "start_time": "2023-11-27T18:18:41.959842Z",
     "end_time": "2023-11-27T18:18:41.963927Z"
    }
   }
  },
  {
   "cell_type": "code",
   "execution_count": 111,
   "outputs": [
    {
     "data": {
      "text/plain": "       Issue Date  Violation Precinct Violation Time  Street Name  \\\n1837   06/29/2016                  78          16:23  13TH STREET   \n1845   06/29/2016                  78          20:40  13TH STREET   \n1838   06/30/2016                  78          08:52  13TH STREET   \n1856   06/30/2016                  78          08:53  13TH STREET   \n1855   06/30/2016                  78          08:55  13TH STREET   \n...           ...                 ...            ...          ...   \n14646  09/28/2023                  78          03:09  13TH STREET   \n14647  09/28/2023                  78          03:11  13TH STREET   \n14648  09/28/2023                  78          03:13  13TH STREET   \n14649  09/28/2023                  78          03:15  13TH STREET   \n14650  09/28/2023                  78          03:17  13TH STREET   \n\n       Violation Datetime  Violation_Rate  \n1837  2016-06-29 16:23:00       20.000000  \n1845  2016-06-29 20:40:00       16.666667  \n1838  2016-06-30 08:52:00       50.000000  \n1856  2016-06-30 08:53:00       50.000000  \n1855  2016-06-30 08:55:00       50.000000  \n...                   ...             ...  \n14646 2023-09-28 03:09:00        9.803922  \n14647 2023-09-28 03:11:00        9.803922  \n14648 2023-09-28 03:13:00        9.803922  \n14649 2023-09-28 03:15:00        9.803922  \n14650 2023-09-28 03:17:00        9.803922  \n\n[14803 rows x 6 columns]",
      "text/html": "<div>\n<style scoped>\n    .dataframe tbody tr th:only-of-type {\n        vertical-align: middle;\n    }\n\n    .dataframe tbody tr th {\n        vertical-align: top;\n    }\n\n    .dataframe thead th {\n        text-align: right;\n    }\n</style>\n<table border=\"1\" class=\"dataframe\">\n  <thead>\n    <tr style=\"text-align: right;\">\n      <th></th>\n      <th>Issue Date</th>\n      <th>Violation Precinct</th>\n      <th>Violation Time</th>\n      <th>Street Name</th>\n      <th>Violation Datetime</th>\n      <th>Violation_Rate</th>\n    </tr>\n  </thead>\n  <tbody>\n    <tr>\n      <th>1837</th>\n      <td>06/29/2016</td>\n      <td>78</td>\n      <td>16:23</td>\n      <td>13TH STREET</td>\n      <td>2016-06-29 16:23:00</td>\n      <td>20.000000</td>\n    </tr>\n    <tr>\n      <th>1845</th>\n      <td>06/29/2016</td>\n      <td>78</td>\n      <td>20:40</td>\n      <td>13TH STREET</td>\n      <td>2016-06-29 20:40:00</td>\n      <td>16.666667</td>\n    </tr>\n    <tr>\n      <th>1838</th>\n      <td>06/30/2016</td>\n      <td>78</td>\n      <td>08:52</td>\n      <td>13TH STREET</td>\n      <td>2016-06-30 08:52:00</td>\n      <td>50.000000</td>\n    </tr>\n    <tr>\n      <th>1856</th>\n      <td>06/30/2016</td>\n      <td>78</td>\n      <td>08:53</td>\n      <td>13TH STREET</td>\n      <td>2016-06-30 08:53:00</td>\n      <td>50.000000</td>\n    </tr>\n    <tr>\n      <th>1855</th>\n      <td>06/30/2016</td>\n      <td>78</td>\n      <td>08:55</td>\n      <td>13TH STREET</td>\n      <td>2016-06-30 08:55:00</td>\n      <td>50.000000</td>\n    </tr>\n    <tr>\n      <th>...</th>\n      <td>...</td>\n      <td>...</td>\n      <td>...</td>\n      <td>...</td>\n      <td>...</td>\n      <td>...</td>\n    </tr>\n    <tr>\n      <th>14646</th>\n      <td>09/28/2023</td>\n      <td>78</td>\n      <td>03:09</td>\n      <td>13TH STREET</td>\n      <td>2023-09-28 03:09:00</td>\n      <td>9.803922</td>\n    </tr>\n    <tr>\n      <th>14647</th>\n      <td>09/28/2023</td>\n      <td>78</td>\n      <td>03:11</td>\n      <td>13TH STREET</td>\n      <td>2023-09-28 03:11:00</td>\n      <td>9.803922</td>\n    </tr>\n    <tr>\n      <th>14648</th>\n      <td>09/28/2023</td>\n      <td>78</td>\n      <td>03:13</td>\n      <td>13TH STREET</td>\n      <td>2023-09-28 03:13:00</td>\n      <td>9.803922</td>\n    </tr>\n    <tr>\n      <th>14649</th>\n      <td>09/28/2023</td>\n      <td>78</td>\n      <td>03:15</td>\n      <td>13TH STREET</td>\n      <td>2023-09-28 03:15:00</td>\n      <td>9.803922</td>\n    </tr>\n    <tr>\n      <th>14650</th>\n      <td>09/28/2023</td>\n      <td>78</td>\n      <td>03:17</td>\n      <td>13TH STREET</td>\n      <td>2023-09-28 03:17:00</td>\n      <td>9.803922</td>\n    </tr>\n  </tbody>\n</table>\n<p>14803 rows × 6 columns</p>\n</div>"
     },
     "execution_count": 111,
     "metadata": {},
     "output_type": "execute_result"
    }
   ],
   "source": [
    "df_1 = df_1.iloc[8:]\n",
    "df_1"
   ],
   "metadata": {
    "collapsed": false,
    "ExecuteTime": {
     "start_time": "2023-11-27T18:18:41.965929Z",
     "end_time": "2023-11-27T18:18:41.978858Z"
    }
   }
  },
  {
   "cell_type": "code",
   "execution_count": 112,
   "outputs": [
    {
     "data": {
      "text/plain": "100.0"
     },
     "execution_count": 112,
     "metadata": {},
     "output_type": "execute_result"
    }
   ],
   "source": [
    "df_1['Violation_Rate'].max()"
   ],
   "metadata": {
    "collapsed": false,
    "ExecuteTime": {
     "start_time": "2023-11-27T18:18:41.979860Z",
     "end_time": "2023-11-27T18:18:42.017662Z"
    }
   }
  },
  {
   "cell_type": "code",
   "execution_count": 113,
   "outputs": [],
   "source": [
    "# def scale_between_0_and_1(value, min_value, max_value):\n",
    "#     \"\"\"\n",
    "#     Scale a value to be between 0 and 1.\n",
    "#\n",
    "#     :param value: The value to be scaled.\n",
    "#     :param min_value: The minimum value in the range of your data.\n",
    "#     :param max_value: The maximum value in the range of your data.\n",
    "#     :return: Scaled value between 0 and 1.\n",
    "#     \"\"\"\n",
    "#     if max_value == min_value:\n",
    "#         return 0  # Avoid division by zero if all values are the same\n",
    "#\n",
    "#     return (value - min_value) / (max_value - min_value)\n",
    "\n",
    "# df_1['Violation_Rate'] = df_1['Violation Rate'].apply(lambda x: scale_between_0_and_1(x, df_1['Violation Rate'].min(), df_1['Violation Rate'].max()))\n",
    "# df_1['Violation_Rate']"
   ],
   "metadata": {
    "collapsed": false,
    "ExecuteTime": {
     "start_time": "2023-11-27T18:18:41.990319Z",
     "end_time": "2023-11-27T18:18:42.020660Z"
    }
   }
  },
  {
   "cell_type": "code",
   "execution_count": 114,
   "outputs": [
    {
     "data": {
      "text/plain": "       Issue Date  Violation Precinct Violation Time  Street Name  \\\n1837   06/29/2016                  78          16:23  13TH STREET   \n1845   06/29/2016                  78          20:40  13TH STREET   \n1838   06/30/2016                  78          08:52  13TH STREET   \n1856   06/30/2016                  78          08:53  13TH STREET   \n1855   06/30/2016                  78          08:55  13TH STREET   \n...           ...                 ...            ...          ...   \n14646  09/28/2023                  78          03:09  13TH STREET   \n14647  09/28/2023                  78          03:11  13TH STREET   \n14648  09/28/2023                  78          03:13  13TH STREET   \n14649  09/28/2023                  78          03:15  13TH STREET   \n14650  09/28/2023                  78          03:17  13TH STREET   \n\n       Violation Datetime  Violation_Rate  \n1837  2016-06-29 16:23:00       20.000000  \n1845  2016-06-29 20:40:00       16.666667  \n1838  2016-06-30 08:52:00       50.000000  \n1856  2016-06-30 08:53:00       50.000000  \n1855  2016-06-30 08:55:00       50.000000  \n...                   ...             ...  \n14646 2023-09-28 03:09:00        9.803922  \n14647 2023-09-28 03:11:00        9.803922  \n14648 2023-09-28 03:13:00        9.803922  \n14649 2023-09-28 03:15:00        9.803922  \n14650 2023-09-28 03:17:00        9.803922  \n\n[14803 rows x 6 columns]",
      "text/html": "<div>\n<style scoped>\n    .dataframe tbody tr th:only-of-type {\n        vertical-align: middle;\n    }\n\n    .dataframe tbody tr th {\n        vertical-align: top;\n    }\n\n    .dataframe thead th {\n        text-align: right;\n    }\n</style>\n<table border=\"1\" class=\"dataframe\">\n  <thead>\n    <tr style=\"text-align: right;\">\n      <th></th>\n      <th>Issue Date</th>\n      <th>Violation Precinct</th>\n      <th>Violation Time</th>\n      <th>Street Name</th>\n      <th>Violation Datetime</th>\n      <th>Violation_Rate</th>\n    </tr>\n  </thead>\n  <tbody>\n    <tr>\n      <th>1837</th>\n      <td>06/29/2016</td>\n      <td>78</td>\n      <td>16:23</td>\n      <td>13TH STREET</td>\n      <td>2016-06-29 16:23:00</td>\n      <td>20.000000</td>\n    </tr>\n    <tr>\n      <th>1845</th>\n      <td>06/29/2016</td>\n      <td>78</td>\n      <td>20:40</td>\n      <td>13TH STREET</td>\n      <td>2016-06-29 20:40:00</td>\n      <td>16.666667</td>\n    </tr>\n    <tr>\n      <th>1838</th>\n      <td>06/30/2016</td>\n      <td>78</td>\n      <td>08:52</td>\n      <td>13TH STREET</td>\n      <td>2016-06-30 08:52:00</td>\n      <td>50.000000</td>\n    </tr>\n    <tr>\n      <th>1856</th>\n      <td>06/30/2016</td>\n      <td>78</td>\n      <td>08:53</td>\n      <td>13TH STREET</td>\n      <td>2016-06-30 08:53:00</td>\n      <td>50.000000</td>\n    </tr>\n    <tr>\n      <th>1855</th>\n      <td>06/30/2016</td>\n      <td>78</td>\n      <td>08:55</td>\n      <td>13TH STREET</td>\n      <td>2016-06-30 08:55:00</td>\n      <td>50.000000</td>\n    </tr>\n    <tr>\n      <th>...</th>\n      <td>...</td>\n      <td>...</td>\n      <td>...</td>\n      <td>...</td>\n      <td>...</td>\n      <td>...</td>\n    </tr>\n    <tr>\n      <th>14646</th>\n      <td>09/28/2023</td>\n      <td>78</td>\n      <td>03:09</td>\n      <td>13TH STREET</td>\n      <td>2023-09-28 03:09:00</td>\n      <td>9.803922</td>\n    </tr>\n    <tr>\n      <th>14647</th>\n      <td>09/28/2023</td>\n      <td>78</td>\n      <td>03:11</td>\n      <td>13TH STREET</td>\n      <td>2023-09-28 03:11:00</td>\n      <td>9.803922</td>\n    </tr>\n    <tr>\n      <th>14648</th>\n      <td>09/28/2023</td>\n      <td>78</td>\n      <td>03:13</td>\n      <td>13TH STREET</td>\n      <td>2023-09-28 03:13:00</td>\n      <td>9.803922</td>\n    </tr>\n    <tr>\n      <th>14649</th>\n      <td>09/28/2023</td>\n      <td>78</td>\n      <td>03:15</td>\n      <td>13TH STREET</td>\n      <td>2023-09-28 03:15:00</td>\n      <td>9.803922</td>\n    </tr>\n    <tr>\n      <th>14650</th>\n      <td>09/28/2023</td>\n      <td>78</td>\n      <td>03:17</td>\n      <td>13TH STREET</td>\n      <td>2023-09-28 03:17:00</td>\n      <td>9.803922</td>\n    </tr>\n  </tbody>\n</table>\n<p>14803 rows × 6 columns</p>\n</div>"
     },
     "execution_count": 114,
     "metadata": {},
     "output_type": "execute_result"
    }
   ],
   "source": [
    "df_1"
   ],
   "metadata": {
    "collapsed": false,
    "ExecuteTime": {
     "start_time": "2023-11-27T18:18:41.994331Z",
     "end_time": "2023-11-27T18:18:42.060661Z"
    }
   }
  },
  {
   "cell_type": "code",
   "execution_count": 115,
   "outputs": [],
   "source": [
    "# df_1.to_csv('analyzed_data_for_one_street.csv', index=False)"
   ],
   "metadata": {
    "collapsed": false,
    "ExecuteTime": {
     "start_time": "2023-11-27T18:18:42.007195Z",
     "end_time": "2023-11-27T18:18:42.060661Z"
    }
   }
  }
 ],
 "metadata": {
  "kernelspec": {
   "display_name": "Python 3",
   "language": "python",
   "name": "python3"
  },
  "language_info": {
   "codemirror_mode": {
    "name": "ipython",
    "version": 2
   },
   "file_extension": ".py",
   "mimetype": "text/x-python",
   "name": "python",
   "nbconvert_exporter": "python",
   "pygments_lexer": "ipython2",
   "version": "2.7.6"
  }
 },
 "nbformat": 4,
 "nbformat_minor": 0
}
