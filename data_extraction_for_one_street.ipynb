{
 "cells": [
  {
   "cell_type": "code",
   "execution_count": 2,
   "metadata": {
    "collapsed": true,
    "ExecuteTime": {
     "start_time": "2023-11-27T22:26:15.495341Z",
     "end_time": "2023-11-27T22:26:15.508351Z"
    }
   },
   "outputs": [],
   "source": [
    "import pandas as pd"
   ]
  },
  {
   "cell_type": "code",
   "execution_count": 80,
   "outputs": [
    {
     "data": {
      "text/plain": "          Issue Date  Street Code1  Street Code2  Street Code3  \\\n0         06/10/2022         34330           179             0   \n1         06/13/2022         34310         16400         11010   \n2         06/19/2022         30640         13015         28540   \n3         06/19/2022         30640         13015         28540   \n4         06/19/2022         30640         13015         28540   \n...              ...           ...           ...           ...   \n21563497  09/26/2023         30155             0             0   \n21563498  09/22/2023             0             0             0   \n21563499  09/16/2023          9180          5580          5680   \n21563500  09/26/2023         93930         55430         58330   \n21563501  09/25/2023         64290          7990         37290   \n\n          Violation Precinct Violation Time Violation County  \\\n0                         10          1037A               NY   \n1                         10          1045A               NY   \n2                          1          1116A               NY   \n3                          1          1052A               NY   \n4                          1          1107A               NY   \n...                      ...            ...              ...   \n21563497                   7          1207P               NY   \n21563498                  45          0354P               BX   \n21563499                  72          1231P                K   \n21563500                  94          1015A                K   \n21563501                 114          1145A                Q   \n\n                   Street Name  \n0                    W 28TH ST  \n1                      27TH DR  \n2                     SOUTH ST  \n3                     SOUTH ST  \n4                     SOUTH ST  \n...                        ...  \n21563497  Samuel Dickstein Plz  \n21563498            Boller Ave  \n21563499               52nd St  \n21563500            Withers St  \n21563501           Steinway St  \n\n[21563502 rows x 8 columns]",
      "text/html": "<div>\n<style scoped>\n    .dataframe tbody tr th:only-of-type {\n        vertical-align: middle;\n    }\n\n    .dataframe tbody tr th {\n        vertical-align: top;\n    }\n\n    .dataframe thead th {\n        text-align: right;\n    }\n</style>\n<table border=\"1\" class=\"dataframe\">\n  <thead>\n    <tr style=\"text-align: right;\">\n      <th></th>\n      <th>Issue Date</th>\n      <th>Street Code1</th>\n      <th>Street Code2</th>\n      <th>Street Code3</th>\n      <th>Violation Precinct</th>\n      <th>Violation Time</th>\n      <th>Violation County</th>\n      <th>Street Name</th>\n    </tr>\n  </thead>\n  <tbody>\n    <tr>\n      <th>0</th>\n      <td>06/10/2022</td>\n      <td>34330</td>\n      <td>179</td>\n      <td>0</td>\n      <td>10</td>\n      <td>1037A</td>\n      <td>NY</td>\n      <td>W 28TH ST</td>\n    </tr>\n    <tr>\n      <th>1</th>\n      <td>06/13/2022</td>\n      <td>34310</td>\n      <td>16400</td>\n      <td>11010</td>\n      <td>10</td>\n      <td>1045A</td>\n      <td>NY</td>\n      <td>27TH DR</td>\n    </tr>\n    <tr>\n      <th>2</th>\n      <td>06/19/2022</td>\n      <td>30640</td>\n      <td>13015</td>\n      <td>28540</td>\n      <td>1</td>\n      <td>1116A</td>\n      <td>NY</td>\n      <td>SOUTH ST</td>\n    </tr>\n    <tr>\n      <th>3</th>\n      <td>06/19/2022</td>\n      <td>30640</td>\n      <td>13015</td>\n      <td>28540</td>\n      <td>1</td>\n      <td>1052A</td>\n      <td>NY</td>\n      <td>SOUTH ST</td>\n    </tr>\n    <tr>\n      <th>4</th>\n      <td>06/19/2022</td>\n      <td>30640</td>\n      <td>13015</td>\n      <td>28540</td>\n      <td>1</td>\n      <td>1107A</td>\n      <td>NY</td>\n      <td>SOUTH ST</td>\n    </tr>\n    <tr>\n      <th>...</th>\n      <td>...</td>\n      <td>...</td>\n      <td>...</td>\n      <td>...</td>\n      <td>...</td>\n      <td>...</td>\n      <td>...</td>\n      <td>...</td>\n    </tr>\n    <tr>\n      <th>21563497</th>\n      <td>09/26/2023</td>\n      <td>30155</td>\n      <td>0</td>\n      <td>0</td>\n      <td>7</td>\n      <td>1207P</td>\n      <td>NY</td>\n      <td>Samuel Dickstein Plz</td>\n    </tr>\n    <tr>\n      <th>21563498</th>\n      <td>09/22/2023</td>\n      <td>0</td>\n      <td>0</td>\n      <td>0</td>\n      <td>45</td>\n      <td>0354P</td>\n      <td>BX</td>\n      <td>Boller Ave</td>\n    </tr>\n    <tr>\n      <th>21563499</th>\n      <td>09/16/2023</td>\n      <td>9180</td>\n      <td>5580</td>\n      <td>5680</td>\n      <td>72</td>\n      <td>1231P</td>\n      <td>K</td>\n      <td>52nd St</td>\n    </tr>\n    <tr>\n      <th>21563500</th>\n      <td>09/26/2023</td>\n      <td>93930</td>\n      <td>55430</td>\n      <td>58330</td>\n      <td>94</td>\n      <td>1015A</td>\n      <td>K</td>\n      <td>Withers St</td>\n    </tr>\n    <tr>\n      <th>21563501</th>\n      <td>09/25/2023</td>\n      <td>64290</td>\n      <td>7990</td>\n      <td>37290</td>\n      <td>114</td>\n      <td>1145A</td>\n      <td>Q</td>\n      <td>Steinway St</td>\n    </tr>\n  </tbody>\n</table>\n<p>21563502 rows × 8 columns</p>\n</div>"
     },
     "execution_count": 80,
     "metadata": {},
     "output_type": "execute_result"
    }
   ],
   "source": [
    "selected_columns = [\n",
    "    'Street Code1',\n",
    "    'Street Code2',\n",
    "    'Street Code3',\n",
    "    'Street Name',\n",
    "    # 'Violation Location',\n",
    "    # 'Violation Post Code',\n",
    "    # 'Intersecting Street',\n",
    "    'Violation Precinct',\n",
    "    'Violation County',\n",
    "    # 'Vehicle Body Type',\n",
    "    'Issue Date',\n",
    "    # 'Date First Observed',\n",
    "    'Violation Time',\n",
    "    #'Days Parking In Effect',\n",
    "    #'From Hours In Effect',\n",
    "    #'To Hours In Effect',\n",
    "    # 'Violation Code',\n",
    "]\n",
    "\n",
    "file_path = 'Parking_Violations_2023.csv'\n",
    "df = pd.read_csv(file_path, usecols=selected_columns) # nrows=n_rows_to_read\n",
    "df"
   ],
   "metadata": {
    "collapsed": false,
    "ExecuteTime": {
     "start_time": "2023-11-25T14:57:29.870875Z",
     "end_time": "2023-11-25T14:58:17.423372Z"
    }
   }
  },
  {
   "cell_type": "code",
   "execution_count": 81,
   "outputs": [
    {
     "data": {
      "text/plain": "          Issue Date  Street Code1  Street Code2  Street Code3  \\\n12114     07/12/2022          6430          5130          5280   \n12115     07/12/2022          6430          5130          5280   \n12116     07/12/2022          6430          5130          5280   \n12117     07/12/2022          6430          5130          5280   \n16348     07/08/2022          6430          5130          5280   \n...              ...           ...           ...           ...   \n21542162  09/11/2023          6430          5580          5680   \n21542163  09/11/2023          6430          5430          5580   \n21542164  09/11/2023          6430          5430          5580   \n21543812  09/14/2023          6430          5280          5430   \n21545493  09/08/2023          6430          5880         72630   \n\n          Violation Precinct Violation Time Violation County Street Name  \n12114                     78          0321A            Kings   13 STREET  \n12115                     78          0323A            Kings   13 STREET  \n12116                     78          0328A            Kings   13 STREET  \n12117                     78          0330A            Kings   13 STREET  \n16348                     78          0319A            Kings   13 STREET  \n...                      ...            ...              ...         ...  \n21542162                  78          0911A                K     13TH ST  \n21542163                  78          0918A                K     13TH ST  \n21542164                  78          0918A                K     13TH ST  \n21543812                  78          0945A                K     13TH ST  \n21545493                  78          0950A                K     13TH ST  \n\n[2781 rows x 8 columns]",
      "text/html": "<div>\n<style scoped>\n    .dataframe tbody tr th:only-of-type {\n        vertical-align: middle;\n    }\n\n    .dataframe tbody tr th {\n        vertical-align: top;\n    }\n\n    .dataframe thead th {\n        text-align: right;\n    }\n</style>\n<table border=\"1\" class=\"dataframe\">\n  <thead>\n    <tr style=\"text-align: right;\">\n      <th></th>\n      <th>Issue Date</th>\n      <th>Street Code1</th>\n      <th>Street Code2</th>\n      <th>Street Code3</th>\n      <th>Violation Precinct</th>\n      <th>Violation Time</th>\n      <th>Violation County</th>\n      <th>Street Name</th>\n    </tr>\n  </thead>\n  <tbody>\n    <tr>\n      <th>12114</th>\n      <td>07/12/2022</td>\n      <td>6430</td>\n      <td>5130</td>\n      <td>5280</td>\n      <td>78</td>\n      <td>0321A</td>\n      <td>Kings</td>\n      <td>13 STREET</td>\n    </tr>\n    <tr>\n      <th>12115</th>\n      <td>07/12/2022</td>\n      <td>6430</td>\n      <td>5130</td>\n      <td>5280</td>\n      <td>78</td>\n      <td>0323A</td>\n      <td>Kings</td>\n      <td>13 STREET</td>\n    </tr>\n    <tr>\n      <th>12116</th>\n      <td>07/12/2022</td>\n      <td>6430</td>\n      <td>5130</td>\n      <td>5280</td>\n      <td>78</td>\n      <td>0328A</td>\n      <td>Kings</td>\n      <td>13 STREET</td>\n    </tr>\n    <tr>\n      <th>12117</th>\n      <td>07/12/2022</td>\n      <td>6430</td>\n      <td>5130</td>\n      <td>5280</td>\n      <td>78</td>\n      <td>0330A</td>\n      <td>Kings</td>\n      <td>13 STREET</td>\n    </tr>\n    <tr>\n      <th>16348</th>\n      <td>07/08/2022</td>\n      <td>6430</td>\n      <td>5130</td>\n      <td>5280</td>\n      <td>78</td>\n      <td>0319A</td>\n      <td>Kings</td>\n      <td>13 STREET</td>\n    </tr>\n    <tr>\n      <th>...</th>\n      <td>...</td>\n      <td>...</td>\n      <td>...</td>\n      <td>...</td>\n      <td>...</td>\n      <td>...</td>\n      <td>...</td>\n      <td>...</td>\n    </tr>\n    <tr>\n      <th>21542162</th>\n      <td>09/11/2023</td>\n      <td>6430</td>\n      <td>5580</td>\n      <td>5680</td>\n      <td>78</td>\n      <td>0911A</td>\n      <td>K</td>\n      <td>13TH ST</td>\n    </tr>\n    <tr>\n      <th>21542163</th>\n      <td>09/11/2023</td>\n      <td>6430</td>\n      <td>5430</td>\n      <td>5580</td>\n      <td>78</td>\n      <td>0918A</td>\n      <td>K</td>\n      <td>13TH ST</td>\n    </tr>\n    <tr>\n      <th>21542164</th>\n      <td>09/11/2023</td>\n      <td>6430</td>\n      <td>5430</td>\n      <td>5580</td>\n      <td>78</td>\n      <td>0918A</td>\n      <td>K</td>\n      <td>13TH ST</td>\n    </tr>\n    <tr>\n      <th>21543812</th>\n      <td>09/14/2023</td>\n      <td>6430</td>\n      <td>5280</td>\n      <td>5430</td>\n      <td>78</td>\n      <td>0945A</td>\n      <td>K</td>\n      <td>13TH ST</td>\n    </tr>\n    <tr>\n      <th>21545493</th>\n      <td>09/08/2023</td>\n      <td>6430</td>\n      <td>5880</td>\n      <td>72630</td>\n      <td>78</td>\n      <td>0950A</td>\n      <td>K</td>\n      <td>13TH ST</td>\n    </tr>\n  </tbody>\n</table>\n<p>2781 rows × 8 columns</p>\n</div>"
     },
     "execution_count": 81,
     "metadata": {},
     "output_type": "execute_result"
    }
   ],
   "source": [
    "filtered_df = df[(df['Street Name'].str.contains('13')) & (df['Violation Precinct'] == 78)].copy()\n",
    "filtered_df['Street Name'] = filtered_df['Street Name'].str.upper()\n",
    "filtered_df"
   ],
   "metadata": {
    "collapsed": false,
    "ExecuteTime": {
     "start_time": "2023-11-25T14:58:22.611972Z",
     "end_time": "2023-11-25T14:58:36.406644Z"
    }
   }
  },
  {
   "cell_type": "code",
   "execution_count": 82,
   "outputs": [
    {
     "data": {
      "text/plain": "Street Name\n13TH ST                 2477\n13 STREET                205\n13TH AVE                  39\n13 ST                     21\n13TH STREET               16\nE 13TH ST                 14\nI/F 130 3RD AVE            2\nN/S OF 13 STREET 10'       1\nOPPOSITE OF 273 13 S       1\nSIDE OF 413 UNION ST       1\nR/O 130 3RD AVENUE         1\n138 ST                     1\nFRONT OF 409 13 STRE       1\nBAY 13TH ST                1\nName: count, dtype: int64"
     },
     "execution_count": 82,
     "metadata": {},
     "output_type": "execute_result"
    }
   ],
   "source": [
    "filtered_df['Street Name'].value_counts()"
   ],
   "metadata": {
    "collapsed": false,
    "ExecuteTime": {
     "start_time": "2023-11-25T14:58:42.795266Z",
     "end_time": "2023-11-25T14:58:42.858342Z"
    }
   }
  },
  {
   "cell_type": "code",
   "execution_count": 83,
   "outputs": [
    {
     "name": "stderr",
     "output_type": "stream",
     "text": [
      "C:\\Users\\YSK\\AppData\\Local\\Temp\\ipykernel_2152\\1901412582.py:4: SettingWithCopyWarning: \n",
      "A value is trying to be set on a copy of a slice from a DataFrame.\n",
      "Try using .loc[row_indexer,col_indexer] = value instead\n",
      "\n",
      "See the caveats in the documentation: https://pandas.pydata.org/pandas-docs/stable/user_guide/indexing.html#returning-a-view-versus-a-copy\n",
      "  filtered_df['Street Name'] = '13TH STREET'\n"
     ]
    }
   ],
   "source": [
    "to_drop = ['W 13TH ST', '13TH AVE', 'BRIGHTON 13TH ST', 'W 113TH STREET', 'S/S 138 ST', 'BAY 13TH ST', '138 ST', 'E 13TH ST', 'A 13 ST', 'E 13 ST', 'E 13TH ST', 'W 13 ST', 'R/O 1301 8 AVE', 'S/O 1301 8 AVE', 'R/O 1301 8TH AVE', 'FRONT OF 139 7 AVENU', 'FRONT OF 180 13 STRE', 'FRONT OF 313 9 STREE', 'S/S OF 13 STREET 40', 'FRONT OF 139 14 STRE', 'I/F 130 3RD AVE', 'N/S OF 13 STREET 10', 'OPPOSITE OF 273 13 S', 'SIDE OF 413 UNION ST', 'R/O 130 3RD AVENUE', 'FRONT OF 409 13 STRE']\n",
    "filtered_df = filtered_df[~filtered_df['Street Name'].isin(to_drop)]\n",
    "\n",
    "filtered_df['Street Name'] = '13TH STREET'"
   ],
   "metadata": {
    "collapsed": false,
    "ExecuteTime": {
     "start_time": "2023-11-25T14:59:45.793340Z",
     "end_time": "2023-11-25T14:59:45.853494Z"
    }
   }
  },
  {
   "cell_type": "code",
   "execution_count": 84,
   "outputs": [
    {
     "data": {
      "text/plain": "Street Name\n13TH STREET    2720\nName: count, dtype: int64"
     },
     "execution_count": 84,
     "metadata": {},
     "output_type": "execute_result"
    }
   ],
   "source": [
    "filtered_df['Street Name'].value_counts()"
   ],
   "metadata": {
    "collapsed": false,
    "ExecuteTime": {
     "start_time": "2023-11-25T14:59:48.140589Z",
     "end_time": "2023-11-25T14:59:48.165290Z"
    }
   }
  },
  {
   "cell_type": "code",
   "execution_count": 85,
   "outputs": [],
   "source": [
    "filtered_df.to_csv('2023_data_for_one_street.csv', index=False)"
   ],
   "metadata": {
    "collapsed": false,
    "ExecuteTime": {
     "start_time": "2023-11-25T15:00:02.435600Z",
     "end_time": "2023-11-25T15:00:02.462597Z"
    }
   }
  },
  {
   "cell_type": "code",
   "execution_count": 3,
   "outputs": [],
   "source": [
    "file_name = ['2017_data_for_one_street.csv', '2018_data_for_one_street.csv', '2019_data_for_one_street.csv', '2020_data_for_one_street.csv', '2021_data_for_one_street.csv', '2022_data_for_one_street.csv', '2023_data_for_one_street.csv']\n",
    "\n",
    "all_data_for_one_street = pd.concat([pd.read_csv(file) for file in file_name], ignore_index=True)\n",
    "all_data_for_one_street.to_csv('all_data_for_one_street.csv', index=False)"
   ],
   "metadata": {
    "collapsed": false,
    "ExecuteTime": {
     "start_time": "2023-11-27T22:26:20.250311Z",
     "end_time": "2023-11-27T22:26:20.395424Z"
    }
   }
  }
 ],
 "metadata": {
  "kernelspec": {
   "display_name": "Python 3",
   "language": "python",
   "name": "python3"
  },
  "language_info": {
   "codemirror_mode": {
    "name": "ipython",
    "version": 2
   },
   "file_extension": ".py",
   "mimetype": "text/x-python",
   "name": "python",
   "nbconvert_exporter": "python",
   "pygments_lexer": "ipython2",
   "version": "2.7.6"
  }
 },
 "nbformat": 4,
 "nbformat_minor": 0
}
