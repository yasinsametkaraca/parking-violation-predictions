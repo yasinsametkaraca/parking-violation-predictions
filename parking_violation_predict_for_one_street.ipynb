{
 "cells": [
  {
   "cell_type": "markdown",
   "source": [
    "# NYC Parking Tickets: Violation Rate Prediction"
   ],
   "metadata": {
    "collapsed": false
   }
  },
  {
   "cell_type": "code",
   "execution_count": 104,
   "metadata": {
    "collapsed": true,
    "ExecuteTime": {
     "start_time": "2023-11-25T15:36:01.559976Z",
     "end_time": "2023-11-25T15:36:01.583575Z"
    }
   },
   "outputs": [],
   "source": [
    "# This Python 3 environment comes with many helpful analytics libraries installed\n",
    "# It is defined by the kaggle/python docker image: https://github.com/kaggle/docker-python\n",
    "# For example, here's several helpful packages to load in\n",
    "\n",
    "from datetime import datetime, timedelta\n",
    "\n",
    "import numpy as np # linear algebra\n",
    "import pandas as pd # data processing, CSV file I/O (e.g. pd.read_csv)\n",
    "# importing libraries\n",
    "\n",
    "import csv\n",
    "import matplotlib.pyplot as plt\n",
    "import seaborn as sns\n",
    "\n",
    "import warnings\n",
    "warnings.filterwarnings(\"ignore\")\n",
    "\n",
    "# Input data files are available in the \"../input/\" directory.\n",
    "# For example, running this (by clicking run or pressing Shift+Enter) will list the files in the input directory\n",
    "\n",
    "# import os\n",
    "# print(os.listdir(\"../input\"))\n",
    "\n",
    "# Any results you write to the current directory are saved as output."
   ]
  },
  {
   "cell_type": "code",
   "execution_count": 105,
   "outputs": [
    {
     "data": {
      "text/plain": "       Issue Date  Street Code1  Street Code2  Street Code3  \\\n0      06/20/2017          6430          5880         72630   \n1      03/09/2017          6430             0             0   \n2      04/08/2017          6430          5430          5580   \n3      09/23/2016          6430          5880         72630   \n4      10/18/2016          6430         40404         40404   \n...           ...           ...           ...           ...   \n14806  09/11/2023          6430          5580          5680   \n14807  09/11/2023          6430          5430          5580   \n14808  09/11/2023          6430          5430          5580   \n14809  09/14/2023          6430          5280          5430   \n14810  09/08/2023          6430          5880         72630   \n\n       Violation Precinct Violation Time Violation County  Street Name  \n0                      78          1204P                K  13TH STREET  \n1                      78          0941A                K  13TH STREET  \n2                      78          1109A                K  13TH STREET  \n3                      78          1151A                K  13TH STREET  \n4                      78          0227P                K  13TH STREET  \n...                   ...            ...              ...          ...  \n14806                  78          0911A                K  13TH STREET  \n14807                  78          0918A                K  13TH STREET  \n14808                  78          0918A                K  13TH STREET  \n14809                  78          0945A                K  13TH STREET  \n14810                  78          0950A                K  13TH STREET  \n\n[14811 rows x 8 columns]",
      "text/html": "<div>\n<style scoped>\n    .dataframe tbody tr th:only-of-type {\n        vertical-align: middle;\n    }\n\n    .dataframe tbody tr th {\n        vertical-align: top;\n    }\n\n    .dataframe thead th {\n        text-align: right;\n    }\n</style>\n<table border=\"1\" class=\"dataframe\">\n  <thead>\n    <tr style=\"text-align: right;\">\n      <th></th>\n      <th>Issue Date</th>\n      <th>Street Code1</th>\n      <th>Street Code2</th>\n      <th>Street Code3</th>\n      <th>Violation Precinct</th>\n      <th>Violation Time</th>\n      <th>Violation County</th>\n      <th>Street Name</th>\n    </tr>\n  </thead>\n  <tbody>\n    <tr>\n      <th>0</th>\n      <td>06/20/2017</td>\n      <td>6430</td>\n      <td>5880</td>\n      <td>72630</td>\n      <td>78</td>\n      <td>1204P</td>\n      <td>K</td>\n      <td>13TH STREET</td>\n    </tr>\n    <tr>\n      <th>1</th>\n      <td>03/09/2017</td>\n      <td>6430</td>\n      <td>0</td>\n      <td>0</td>\n      <td>78</td>\n      <td>0941A</td>\n      <td>K</td>\n      <td>13TH STREET</td>\n    </tr>\n    <tr>\n      <th>2</th>\n      <td>04/08/2017</td>\n      <td>6430</td>\n      <td>5430</td>\n      <td>5580</td>\n      <td>78</td>\n      <td>1109A</td>\n      <td>K</td>\n      <td>13TH STREET</td>\n    </tr>\n    <tr>\n      <th>3</th>\n      <td>09/23/2016</td>\n      <td>6430</td>\n      <td>5880</td>\n      <td>72630</td>\n      <td>78</td>\n      <td>1151A</td>\n      <td>K</td>\n      <td>13TH STREET</td>\n    </tr>\n    <tr>\n      <th>4</th>\n      <td>10/18/2016</td>\n      <td>6430</td>\n      <td>40404</td>\n      <td>40404</td>\n      <td>78</td>\n      <td>0227P</td>\n      <td>K</td>\n      <td>13TH STREET</td>\n    </tr>\n    <tr>\n      <th>...</th>\n      <td>...</td>\n      <td>...</td>\n      <td>...</td>\n      <td>...</td>\n      <td>...</td>\n      <td>...</td>\n      <td>...</td>\n      <td>...</td>\n    </tr>\n    <tr>\n      <th>14806</th>\n      <td>09/11/2023</td>\n      <td>6430</td>\n      <td>5580</td>\n      <td>5680</td>\n      <td>78</td>\n      <td>0911A</td>\n      <td>K</td>\n      <td>13TH STREET</td>\n    </tr>\n    <tr>\n      <th>14807</th>\n      <td>09/11/2023</td>\n      <td>6430</td>\n      <td>5430</td>\n      <td>5580</td>\n      <td>78</td>\n      <td>0918A</td>\n      <td>K</td>\n      <td>13TH STREET</td>\n    </tr>\n    <tr>\n      <th>14808</th>\n      <td>09/11/2023</td>\n      <td>6430</td>\n      <td>5430</td>\n      <td>5580</td>\n      <td>78</td>\n      <td>0918A</td>\n      <td>K</td>\n      <td>13TH STREET</td>\n    </tr>\n    <tr>\n      <th>14809</th>\n      <td>09/14/2023</td>\n      <td>6430</td>\n      <td>5280</td>\n      <td>5430</td>\n      <td>78</td>\n      <td>0945A</td>\n      <td>K</td>\n      <td>13TH STREET</td>\n    </tr>\n    <tr>\n      <th>14810</th>\n      <td>09/08/2023</td>\n      <td>6430</td>\n      <td>5880</td>\n      <td>72630</td>\n      <td>78</td>\n      <td>0950A</td>\n      <td>K</td>\n      <td>13TH STREET</td>\n    </tr>\n  </tbody>\n</table>\n<p>14811 rows × 8 columns</p>\n</div>"
     },
     "execution_count": 105,
     "metadata": {},
     "output_type": "execute_result"
    }
   ],
   "source": [
    "selected_columns = [\n",
    "    'Street Code1',\n",
    "    'Street Code2',\n",
    "    'Street Code3',\n",
    "    'Street Name',\n",
    "    # 'Violation Location',\n",
    "    # 'Violation Post Code',\n",
    "    # 'Intersecting Street',\n",
    "    'Violation Precinct',\n",
    "    'Violation County',\n",
    "    # 'Vehicle Body Type',\n",
    "    'Issue Date',\n",
    "    # 'Date First Observed',\n",
    "    'Violation Time',\n",
    "    #'Days Parking In Effect',\n",
    "    #'From Hours In Effect',\n",
    "    #'To Hours In Effect',\n",
    "    # 'Violation Code',\n",
    "]\n",
    "\n",
    "'''\n",
    "Genel olarak, \"county\" (ilçe) daha büyük bir alanı temsil eder. Bir \"county\", genellikle belirli bir eyaletin sınırları içinde bulunan büyük bir coğrafi bölgeyi kapsar. Bir eyalette birden çok \"county\" bulunabilir ve her biri kendi yerel yönetimine sahiptir.\n",
    "\n",
    "Öte yandan, \"precinct\" (seçim bölgesi) daha küçük bir coğrafi bölgeyi ifade eder. Bu, genellikle seçmenlerin oy kullandığı belirli bir mahalle veya köyü temsil eder. Seçim bölgesi, seçimlerde kullanılan ve oy verme işlemini düzenleyen bir kavramdır.\n",
    "'''\n",
    "\n",
    "file_path = 'all_data_for_one_street.csv'\n",
    "df = pd.read_csv(file_path, usecols=selected_columns)\n",
    "df"
   ],
   "metadata": {
    "collapsed": false,
    "ExecuteTime": {
     "start_time": "2023-11-25T15:36:02.354361Z",
     "end_time": "2023-11-25T15:36:02.402297Z"
    }
   }
  },
  {
   "cell_type": "code",
   "execution_count": 106,
   "outputs": [
    {
     "data": {
      "text/plain": "0"
     },
     "execution_count": 106,
     "metadata": {},
     "output_type": "execute_result"
    }
   ],
   "source": [
    "df['Violation Precinct'].isna().sum()"
   ],
   "metadata": {
    "collapsed": false,
    "ExecuteTime": {
     "start_time": "2023-11-25T15:36:04.393128Z",
     "end_time": "2023-11-25T15:36:04.423687Z"
    }
   }
  },
  {
   "cell_type": "code",
   "execution_count": 70,
   "outputs": [
    {
     "name": "stdout",
     "output_type": "stream",
     "text": [
      "<class 'pandas.core.frame.DataFrame'>\n",
      "RangeIndex: 14811 entries, 0 to 14810\n",
      "Data columns (total 8 columns):\n",
      " #   Column              Non-Null Count  Dtype \n",
      "---  ------              --------------  ----- \n",
      " 0   Issue Date          14811 non-null  object\n",
      " 1   Street Code1        14811 non-null  int64 \n",
      " 2   Street Code2        14811 non-null  int64 \n",
      " 3   Street Code3        14811 non-null  int64 \n",
      " 4   Violation Precinct  14811 non-null  int64 \n",
      " 5   Violation Time      14811 non-null  object\n",
      " 6   Violation County    14766 non-null  object\n",
      " 7   Street Name         14811 non-null  object\n",
      "dtypes: int64(4), object(4)\n",
      "memory usage: 925.8+ KB\n"
     ]
    }
   ],
   "source": [
    "df.info()"
   ],
   "metadata": {
    "collapsed": false,
    "ExecuteTime": {
     "start_time": "2023-11-25T15:29:41.793725Z",
     "end_time": "2023-11-25T15:29:41.824904Z"
    }
   }
  },
  {
   "cell_type": "code",
   "execution_count": 107,
   "outputs": [
    {
     "data": {
      "text/plain": "0        1204P\n1        0941A\n2        1109A\n3        1151A\n4        0227P\n         ...  \n14806    0911A\n14807    0918A\n14808    0918A\n14809    0945A\n14810    0950A\nName: Violation Time, Length: 14811, dtype: object"
     },
     "execution_count": 107,
     "metadata": {},
     "output_type": "execute_result"
    }
   ],
   "source": [
    "df['Violation Time']"
   ],
   "metadata": {
    "collapsed": false,
    "ExecuteTime": {
     "start_time": "2023-11-25T15:36:05.995730Z",
     "end_time": "2023-11-25T15:36:06.023723Z"
    }
   }
  },
  {
   "cell_type": "code",
   "execution_count": 108,
   "outputs": [],
   "source": [
    "df_1 = df.copy()"
   ],
   "metadata": {
    "collapsed": false,
    "ExecuteTime": {
     "start_time": "2023-11-25T15:36:08.428361Z",
     "end_time": "2023-11-25T15:36:08.457356Z"
    }
   }
  },
  {
   "cell_type": "code",
   "execution_count": 109,
   "outputs": [
    {
     "data": {
      "text/plain": "                  Issue Date  Street Code1  Street Code2  Street Code3  \\\n6085  06/13/2019 12:00:00 AM          6430          5130          5280   \n6086  06/17/2019 12:00:00 AM          6430          5130          5280   \n6087  06/20/2019 12:00:00 AM          6430          5680          5780   \n6088  06/20/2019 12:00:00 AM          6430          5580          5680   \n6089  06/21/2019 12:00:00 AM          6430          5130          5280   \n...                      ...           ...           ...           ...   \n7751  06/22/2020 12:00:00 AM          6430          5680          5780   \n7752  06/23/2020 12:00:00 AM          6430          5430          5580   \n7753  06/24/2020 12:00:00 AM          6430             0             0   \n7754  06/24/2020 12:00:00 AM          6430          5580          5680   \n7755  06/24/2020 12:00:00 AM          6430          5280          5430   \n\n      Violation Precinct Violation Time Violation County  Street Name  \n6085                  78          0308A                K  13TH STREET  \n6086                  78          0313A                K  13TH STREET  \n6087                  78          1245A                K  13TH STREET  \n6088                  78          0119P                K  13TH STREET  \n6089                  78          0315A                K  13TH STREET  \n...                  ...            ...              ...          ...  \n7751                  78          1254P                K  13TH STREET  \n7752                  78          0420P                K  13TH STREET  \n7753                  78          0308P                K  13TH STREET  \n7754                  78          0126P                K  13TH STREET  \n7755                  78          0125P                K  13TH STREET  \n\n[1671 rows x 8 columns]",
      "text/html": "<div>\n<style scoped>\n    .dataframe tbody tr th:only-of-type {\n        vertical-align: middle;\n    }\n\n    .dataframe tbody tr th {\n        vertical-align: top;\n    }\n\n    .dataframe thead th {\n        text-align: right;\n    }\n</style>\n<table border=\"1\" class=\"dataframe\">\n  <thead>\n    <tr style=\"text-align: right;\">\n      <th></th>\n      <th>Issue Date</th>\n      <th>Street Code1</th>\n      <th>Street Code2</th>\n      <th>Street Code3</th>\n      <th>Violation Precinct</th>\n      <th>Violation Time</th>\n      <th>Violation County</th>\n      <th>Street Name</th>\n    </tr>\n  </thead>\n  <tbody>\n    <tr>\n      <th>6085</th>\n      <td>06/13/2019 12:00:00 AM</td>\n      <td>6430</td>\n      <td>5130</td>\n      <td>5280</td>\n      <td>78</td>\n      <td>0308A</td>\n      <td>K</td>\n      <td>13TH STREET</td>\n    </tr>\n    <tr>\n      <th>6086</th>\n      <td>06/17/2019 12:00:00 AM</td>\n      <td>6430</td>\n      <td>5130</td>\n      <td>5280</td>\n      <td>78</td>\n      <td>0313A</td>\n      <td>K</td>\n      <td>13TH STREET</td>\n    </tr>\n    <tr>\n      <th>6087</th>\n      <td>06/20/2019 12:00:00 AM</td>\n      <td>6430</td>\n      <td>5680</td>\n      <td>5780</td>\n      <td>78</td>\n      <td>1245A</td>\n      <td>K</td>\n      <td>13TH STREET</td>\n    </tr>\n    <tr>\n      <th>6088</th>\n      <td>06/20/2019 12:00:00 AM</td>\n      <td>6430</td>\n      <td>5580</td>\n      <td>5680</td>\n      <td>78</td>\n      <td>0119P</td>\n      <td>K</td>\n      <td>13TH STREET</td>\n    </tr>\n    <tr>\n      <th>6089</th>\n      <td>06/21/2019 12:00:00 AM</td>\n      <td>6430</td>\n      <td>5130</td>\n      <td>5280</td>\n      <td>78</td>\n      <td>0315A</td>\n      <td>K</td>\n      <td>13TH STREET</td>\n    </tr>\n    <tr>\n      <th>...</th>\n      <td>...</td>\n      <td>...</td>\n      <td>...</td>\n      <td>...</td>\n      <td>...</td>\n      <td>...</td>\n      <td>...</td>\n      <td>...</td>\n    </tr>\n    <tr>\n      <th>7751</th>\n      <td>06/22/2020 12:00:00 AM</td>\n      <td>6430</td>\n      <td>5680</td>\n      <td>5780</td>\n      <td>78</td>\n      <td>1254P</td>\n      <td>K</td>\n      <td>13TH STREET</td>\n    </tr>\n    <tr>\n      <th>7752</th>\n      <td>06/23/2020 12:00:00 AM</td>\n      <td>6430</td>\n      <td>5430</td>\n      <td>5580</td>\n      <td>78</td>\n      <td>0420P</td>\n      <td>K</td>\n      <td>13TH STREET</td>\n    </tr>\n    <tr>\n      <th>7753</th>\n      <td>06/24/2020 12:00:00 AM</td>\n      <td>6430</td>\n      <td>0</td>\n      <td>0</td>\n      <td>78</td>\n      <td>0308P</td>\n      <td>K</td>\n      <td>13TH STREET</td>\n    </tr>\n    <tr>\n      <th>7754</th>\n      <td>06/24/2020 12:00:00 AM</td>\n      <td>6430</td>\n      <td>5580</td>\n      <td>5680</td>\n      <td>78</td>\n      <td>0126P</td>\n      <td>K</td>\n      <td>13TH STREET</td>\n    </tr>\n    <tr>\n      <th>7755</th>\n      <td>06/24/2020 12:00:00 AM</td>\n      <td>6430</td>\n      <td>5280</td>\n      <td>5430</td>\n      <td>78</td>\n      <td>0125P</td>\n      <td>K</td>\n      <td>13TH STREET</td>\n    </tr>\n  </tbody>\n</table>\n<p>1671 rows × 8 columns</p>\n</div>"
     },
     "execution_count": 109,
     "metadata": {},
     "output_type": "execute_result"
    }
   ],
   "source": [
    "df_1[df_1['Issue Date'].str.contains('AM')]"
   ],
   "metadata": {
    "collapsed": false,
    "ExecuteTime": {
     "start_time": "2023-11-25T15:36:09.223108Z",
     "end_time": "2023-11-25T15:36:09.294714Z"
    }
   }
  },
  {
   "cell_type": "code",
   "execution_count": 110,
   "outputs": [],
   "source": [
    "df_1['Issue Date'] = df_1['Issue Date'].str.split(' ').str[0]"
   ],
   "metadata": {
    "collapsed": false,
    "ExecuteTime": {
     "start_time": "2023-11-25T15:36:10.940988Z",
     "end_time": "2023-11-25T15:36:11.016316Z"
    }
   }
  },
  {
   "cell_type": "code",
   "execution_count": 7,
   "outputs": [],
   "source": [
    "# import sweetviz as sv\n",
    "# analyze_report = sv.analyze(df_1)\n",
    "# analyze_report.show_html('analyze.html', open_browser=False)"
   ],
   "metadata": {
    "collapsed": false,
    "ExecuteTime": {
     "start_time": "2023-11-24T19:53:07.175256Z",
     "end_time": "2023-11-24T19:53:07.283935Z"
    }
   }
  },
  {
   "cell_type": "code",
   "execution_count": 111,
   "outputs": [
    {
     "data": {
      "text/plain": "       Issue Date  Street Code1  Street Code2  Street Code3  \\\n0      06/20/2017          6430          5880         72630   \n1      03/09/2017          6430             0             0   \n2      04/08/2017          6430          5430          5580   \n3      09/23/2016          6430          5880         72630   \n4      10/18/2016          6430         40404         40404   \n...           ...           ...           ...           ...   \n14806  09/11/2023          6430          5580          5680   \n14807  09/11/2023          6430          5430          5580   \n14808  09/11/2023          6430          5430          5580   \n14809  09/14/2023          6430          5280          5430   \n14810  09/08/2023          6430          5880         72630   \n\n       Violation Precinct Violation Time Violation County  Street Name  \n0                      78          1204P                K  13TH STREET  \n1                      78          0941A                K  13TH STREET  \n2                      78          1109A                K  13TH STREET  \n3                      78          1151A                K  13TH STREET  \n4                      78          0227P                K  13TH STREET  \n...                   ...            ...              ...          ...  \n14806                  78          0911A                K  13TH STREET  \n14807                  78          0918A                K  13TH STREET  \n14808                  78          0918A                K  13TH STREET  \n14809                  78          0945A                K  13TH STREET  \n14810                  78          0950A                K  13TH STREET  \n\n[14811 rows x 8 columns]",
      "text/html": "<div>\n<style scoped>\n    .dataframe tbody tr th:only-of-type {\n        vertical-align: middle;\n    }\n\n    .dataframe tbody tr th {\n        vertical-align: top;\n    }\n\n    .dataframe thead th {\n        text-align: right;\n    }\n</style>\n<table border=\"1\" class=\"dataframe\">\n  <thead>\n    <tr style=\"text-align: right;\">\n      <th></th>\n      <th>Issue Date</th>\n      <th>Street Code1</th>\n      <th>Street Code2</th>\n      <th>Street Code3</th>\n      <th>Violation Precinct</th>\n      <th>Violation Time</th>\n      <th>Violation County</th>\n      <th>Street Name</th>\n    </tr>\n  </thead>\n  <tbody>\n    <tr>\n      <th>0</th>\n      <td>06/20/2017</td>\n      <td>6430</td>\n      <td>5880</td>\n      <td>72630</td>\n      <td>78</td>\n      <td>1204P</td>\n      <td>K</td>\n      <td>13TH STREET</td>\n    </tr>\n    <tr>\n      <th>1</th>\n      <td>03/09/2017</td>\n      <td>6430</td>\n      <td>0</td>\n      <td>0</td>\n      <td>78</td>\n      <td>0941A</td>\n      <td>K</td>\n      <td>13TH STREET</td>\n    </tr>\n    <tr>\n      <th>2</th>\n      <td>04/08/2017</td>\n      <td>6430</td>\n      <td>5430</td>\n      <td>5580</td>\n      <td>78</td>\n      <td>1109A</td>\n      <td>K</td>\n      <td>13TH STREET</td>\n    </tr>\n    <tr>\n      <th>3</th>\n      <td>09/23/2016</td>\n      <td>6430</td>\n      <td>5880</td>\n      <td>72630</td>\n      <td>78</td>\n      <td>1151A</td>\n      <td>K</td>\n      <td>13TH STREET</td>\n    </tr>\n    <tr>\n      <th>4</th>\n      <td>10/18/2016</td>\n      <td>6430</td>\n      <td>40404</td>\n      <td>40404</td>\n      <td>78</td>\n      <td>0227P</td>\n      <td>K</td>\n      <td>13TH STREET</td>\n    </tr>\n    <tr>\n      <th>...</th>\n      <td>...</td>\n      <td>...</td>\n      <td>...</td>\n      <td>...</td>\n      <td>...</td>\n      <td>...</td>\n      <td>...</td>\n      <td>...</td>\n    </tr>\n    <tr>\n      <th>14806</th>\n      <td>09/11/2023</td>\n      <td>6430</td>\n      <td>5580</td>\n      <td>5680</td>\n      <td>78</td>\n      <td>0911A</td>\n      <td>K</td>\n      <td>13TH STREET</td>\n    </tr>\n    <tr>\n      <th>14807</th>\n      <td>09/11/2023</td>\n      <td>6430</td>\n      <td>5430</td>\n      <td>5580</td>\n      <td>78</td>\n      <td>0918A</td>\n      <td>K</td>\n      <td>13TH STREET</td>\n    </tr>\n    <tr>\n      <th>14808</th>\n      <td>09/11/2023</td>\n      <td>6430</td>\n      <td>5430</td>\n      <td>5580</td>\n      <td>78</td>\n      <td>0918A</td>\n      <td>K</td>\n      <td>13TH STREET</td>\n    </tr>\n    <tr>\n      <th>14809</th>\n      <td>09/14/2023</td>\n      <td>6430</td>\n      <td>5280</td>\n      <td>5430</td>\n      <td>78</td>\n      <td>0945A</td>\n      <td>K</td>\n      <td>13TH STREET</td>\n    </tr>\n    <tr>\n      <th>14810</th>\n      <td>09/08/2023</td>\n      <td>6430</td>\n      <td>5880</td>\n      <td>72630</td>\n      <td>78</td>\n      <td>0950A</td>\n      <td>K</td>\n      <td>13TH STREET</td>\n    </tr>\n  </tbody>\n</table>\n<p>14811 rows × 8 columns</p>\n</div>"
     },
     "execution_count": 111,
     "metadata": {},
     "output_type": "execute_result"
    }
   ],
   "source": [
    "df_1"
   ],
   "metadata": {
    "collapsed": false,
    "ExecuteTime": {
     "start_time": "2023-11-25T15:36:12.310829Z",
     "end_time": "2023-11-25T15:36:12.351433Z"
    }
   }
  },
  {
   "cell_type": "code",
   "execution_count": 112,
   "outputs": [],
   "source": [
    "def convert_to_24hr_format(time_str):\n",
    "    try:\n",
    "        if '.' in time_str:\n",
    "            return None\n",
    "        if time_str[-1] == 'P':\n",
    "            return '{:02d}:{:02d}'.format((int(time_str[:2]) + 12) % 24, int(time_str[2:4]))\n",
    "        elif time_str[-1] == 'A':\n",
    "            return '{:02d}:{:02d}'.format(int(time_str[:2]) % 12, int(time_str[2:4]))\n",
    "        else:\n",
    "            return None\n",
    "    except (ValueError, TypeError):\n",
    "        return None\n",
    "\n",
    "df_1['Violation Time'] = df_1['Violation Time'].astype(str)\n",
    "df_1.loc[:, 'Violation Time'] = df_1['Violation Time'].apply(convert_to_24hr_format)\n",
    "df_1 = df_1.dropna(subset=['Violation Time'])"
   ],
   "metadata": {
    "collapsed": false,
    "ExecuteTime": {
     "start_time": "2023-11-25T15:36:14.454146Z",
     "end_time": "2023-11-25T15:36:14.509160Z"
    }
   }
  },
  {
   "cell_type": "code",
   "execution_count": 113,
   "outputs": [
    {
     "data": {
      "text/plain": "0        00:04\n1        09:41\n2        11:09\n3        11:51\n4        14:27\n         ...  \n14806    09:11\n14807    09:18\n14808    09:18\n14809    09:45\n14810    09:50\nName: Violation Time, Length: 14811, dtype: object"
     },
     "execution_count": 113,
     "metadata": {},
     "output_type": "execute_result"
    }
   ],
   "source": [
    "df_1['Violation Time']"
   ],
   "metadata": {
    "collapsed": false,
    "ExecuteTime": {
     "start_time": "2023-11-25T15:36:16.628235Z",
     "end_time": "2023-11-25T15:36:16.658276Z"
    }
   }
  },
  {
   "cell_type": "code",
   "execution_count": 114,
   "outputs": [],
   "source": [
    "df_1['Violation Datetime'] = pd.to_datetime(df_1['Issue Date'] + ' ' + df_1['Violation Time'], format='%m/%d/%Y %H:%M')"
   ],
   "metadata": {
    "collapsed": false,
    "ExecuteTime": {
     "start_time": "2023-11-25T15:36:18.264860Z",
     "end_time": "2023-11-25T15:36:18.347073Z"
    }
   }
  },
  {
   "cell_type": "code",
   "execution_count": 115,
   "outputs": [
    {
     "data": {
      "text/plain": "0       2017-06-20 00:04:00\n1       2017-03-09 09:41:00\n2       2017-04-08 11:09:00\n3       2016-09-23 11:51:00\n4       2016-10-18 14:27:00\n                ...        \n14806   2023-09-11 09:11:00\n14807   2023-09-11 09:18:00\n14808   2023-09-11 09:18:00\n14809   2023-09-14 09:45:00\n14810   2023-09-08 09:50:00\nName: Violation Datetime, Length: 14811, dtype: datetime64[ns]"
     },
     "execution_count": 115,
     "metadata": {},
     "output_type": "execute_result"
    }
   ],
   "source": [
    "df_1['Violation Datetime']"
   ],
   "metadata": {
    "collapsed": false,
    "ExecuteTime": {
     "start_time": "2023-11-25T15:36:21.844331Z",
     "end_time": "2023-11-25T15:36:21.870889Z"
    }
   }
  },
  {
   "cell_type": "code",
   "execution_count": 116,
   "outputs": [],
   "source": [
    "df_1['Violation Datetime (Month)'] = df_1['Violation Datetime'].dt.month\n",
    "df_1['Violation Datetime (Day)'] = df_1['Violation Datetime'].dt.day\n",
    "df_1['Violation Datetime (Year)'] = df_1['Violation Datetime'].dt.year\n",
    "df_1['Violation Datetime (Hour)'] = df_1['Violation Datetime'].dt.hour\n",
    "df_1 = df_1.drop(columns=['Issue Date', 'Violation Time'])"
   ],
   "metadata": {
    "collapsed": false,
    "ExecuteTime": {
     "start_time": "2023-11-25T15:36:29.990817Z",
     "end_time": "2023-11-25T15:36:30.024608Z"
    }
   }
  },
  {
   "cell_type": "code",
   "execution_count": 117,
   "outputs": [
    {
     "name": "stdout",
     "output_type": "stream",
     "text": [
      "<class 'pandas.core.frame.DataFrame'>\n",
      "RangeIndex: 14811 entries, 0 to 14810\n",
      "Data columns (total 11 columns):\n",
      " #   Column                      Non-Null Count  Dtype         \n",
      "---  ------                      --------------  -----         \n",
      " 0   Street Code1                14811 non-null  int64         \n",
      " 1   Street Code2                14811 non-null  int64         \n",
      " 2   Street Code3                14811 non-null  int64         \n",
      " 3   Violation Precinct          14811 non-null  int64         \n",
      " 4   Violation County            14766 non-null  object        \n",
      " 5   Street Name                 14811 non-null  object        \n",
      " 6   Violation Datetime          14811 non-null  datetime64[ns]\n",
      " 7   Violation Datetime (Month)  14811 non-null  int32         \n",
      " 8   Violation Datetime (Day)    14811 non-null  int32         \n",
      " 9   Violation Datetime (Year)   14811 non-null  int32         \n",
      " 10  Violation Datetime (Hour)   14811 non-null  int32         \n",
      "dtypes: datetime64[ns](1), int32(4), int64(4), object(2)\n",
      "memory usage: 1.0+ MB\n"
     ]
    }
   ],
   "source": [
    "df_1.info()"
   ],
   "metadata": {
    "collapsed": false,
    "ExecuteTime": {
     "start_time": "2023-11-25T15:36:31.662290Z",
     "end_time": "2023-11-25T15:36:31.692822Z"
    }
   }
  },
  {
   "cell_type": "code",
   "execution_count": 118,
   "outputs": [
    {
     "data": {
      "text/plain": "       Street Code1  Street Code2  Street Code3  Violation Precinct  \\\n0              6430          5880         72630                  78   \n1              6430             0             0                  78   \n2              6430          5430          5580                  78   \n3              6430          5880         72630                  78   \n4              6430         40404         40404                  78   \n...             ...           ...           ...                 ...   \n14806          6430          5580          5680                  78   \n14807          6430          5430          5580                  78   \n14808          6430          5430          5580                  78   \n14809          6430          5280          5430                  78   \n14810          6430          5880         72630                  78   \n\n      Violation County  Street Name  Violation Datetime  \\\n0                    K  13TH STREET 2017-06-20 00:04:00   \n1                    K  13TH STREET 2017-03-09 09:41:00   \n2                    K  13TH STREET 2017-04-08 11:09:00   \n3                    K  13TH STREET 2016-09-23 11:51:00   \n4                    K  13TH STREET 2016-10-18 14:27:00   \n...                ...          ...                 ...   \n14806                K  13TH STREET 2023-09-11 09:11:00   \n14807                K  13TH STREET 2023-09-11 09:18:00   \n14808                K  13TH STREET 2023-09-11 09:18:00   \n14809                K  13TH STREET 2023-09-14 09:45:00   \n14810                K  13TH STREET 2023-09-08 09:50:00   \n\n       Violation Datetime (Month)  Violation Datetime (Day)  \\\n0                               6                        20   \n1                               3                         9   \n2                               4                         8   \n3                               9                        23   \n4                              10                        18   \n...                           ...                       ...   \n14806                           9                        11   \n14807                           9                        11   \n14808                           9                        11   \n14809                           9                        14   \n14810                           9                         8   \n\n       Violation Datetime (Year)  Violation Datetime (Hour)  \n0                           2017                          0  \n1                           2017                          9  \n2                           2017                         11  \n3                           2016                         11  \n4                           2016                         14  \n...                          ...                        ...  \n14806                       2023                          9  \n14807                       2023                          9  \n14808                       2023                          9  \n14809                       2023                          9  \n14810                       2023                          9  \n\n[14811 rows x 11 columns]",
      "text/html": "<div>\n<style scoped>\n    .dataframe tbody tr th:only-of-type {\n        vertical-align: middle;\n    }\n\n    .dataframe tbody tr th {\n        vertical-align: top;\n    }\n\n    .dataframe thead th {\n        text-align: right;\n    }\n</style>\n<table border=\"1\" class=\"dataframe\">\n  <thead>\n    <tr style=\"text-align: right;\">\n      <th></th>\n      <th>Street Code1</th>\n      <th>Street Code2</th>\n      <th>Street Code3</th>\n      <th>Violation Precinct</th>\n      <th>Violation County</th>\n      <th>Street Name</th>\n      <th>Violation Datetime</th>\n      <th>Violation Datetime (Month)</th>\n      <th>Violation Datetime (Day)</th>\n      <th>Violation Datetime (Year)</th>\n      <th>Violation Datetime (Hour)</th>\n    </tr>\n  </thead>\n  <tbody>\n    <tr>\n      <th>0</th>\n      <td>6430</td>\n      <td>5880</td>\n      <td>72630</td>\n      <td>78</td>\n      <td>K</td>\n      <td>13TH STREET</td>\n      <td>2017-06-20 00:04:00</td>\n      <td>6</td>\n      <td>20</td>\n      <td>2017</td>\n      <td>0</td>\n    </tr>\n    <tr>\n      <th>1</th>\n      <td>6430</td>\n      <td>0</td>\n      <td>0</td>\n      <td>78</td>\n      <td>K</td>\n      <td>13TH STREET</td>\n      <td>2017-03-09 09:41:00</td>\n      <td>3</td>\n      <td>9</td>\n      <td>2017</td>\n      <td>9</td>\n    </tr>\n    <tr>\n      <th>2</th>\n      <td>6430</td>\n      <td>5430</td>\n      <td>5580</td>\n      <td>78</td>\n      <td>K</td>\n      <td>13TH STREET</td>\n      <td>2017-04-08 11:09:00</td>\n      <td>4</td>\n      <td>8</td>\n      <td>2017</td>\n      <td>11</td>\n    </tr>\n    <tr>\n      <th>3</th>\n      <td>6430</td>\n      <td>5880</td>\n      <td>72630</td>\n      <td>78</td>\n      <td>K</td>\n      <td>13TH STREET</td>\n      <td>2016-09-23 11:51:00</td>\n      <td>9</td>\n      <td>23</td>\n      <td>2016</td>\n      <td>11</td>\n    </tr>\n    <tr>\n      <th>4</th>\n      <td>6430</td>\n      <td>40404</td>\n      <td>40404</td>\n      <td>78</td>\n      <td>K</td>\n      <td>13TH STREET</td>\n      <td>2016-10-18 14:27:00</td>\n      <td>10</td>\n      <td>18</td>\n      <td>2016</td>\n      <td>14</td>\n    </tr>\n    <tr>\n      <th>...</th>\n      <td>...</td>\n      <td>...</td>\n      <td>...</td>\n      <td>...</td>\n      <td>...</td>\n      <td>...</td>\n      <td>...</td>\n      <td>...</td>\n      <td>...</td>\n      <td>...</td>\n      <td>...</td>\n    </tr>\n    <tr>\n      <th>14806</th>\n      <td>6430</td>\n      <td>5580</td>\n      <td>5680</td>\n      <td>78</td>\n      <td>K</td>\n      <td>13TH STREET</td>\n      <td>2023-09-11 09:11:00</td>\n      <td>9</td>\n      <td>11</td>\n      <td>2023</td>\n      <td>9</td>\n    </tr>\n    <tr>\n      <th>14807</th>\n      <td>6430</td>\n      <td>5430</td>\n      <td>5580</td>\n      <td>78</td>\n      <td>K</td>\n      <td>13TH STREET</td>\n      <td>2023-09-11 09:18:00</td>\n      <td>9</td>\n      <td>11</td>\n      <td>2023</td>\n      <td>9</td>\n    </tr>\n    <tr>\n      <th>14808</th>\n      <td>6430</td>\n      <td>5430</td>\n      <td>5580</td>\n      <td>78</td>\n      <td>K</td>\n      <td>13TH STREET</td>\n      <td>2023-09-11 09:18:00</td>\n      <td>9</td>\n      <td>11</td>\n      <td>2023</td>\n      <td>9</td>\n    </tr>\n    <tr>\n      <th>14809</th>\n      <td>6430</td>\n      <td>5280</td>\n      <td>5430</td>\n      <td>78</td>\n      <td>K</td>\n      <td>13TH STREET</td>\n      <td>2023-09-14 09:45:00</td>\n      <td>9</td>\n      <td>14</td>\n      <td>2023</td>\n      <td>9</td>\n    </tr>\n    <tr>\n      <th>14810</th>\n      <td>6430</td>\n      <td>5880</td>\n      <td>72630</td>\n      <td>78</td>\n      <td>K</td>\n      <td>13TH STREET</td>\n      <td>2023-09-08 09:50:00</td>\n      <td>9</td>\n      <td>8</td>\n      <td>2023</td>\n      <td>9</td>\n    </tr>\n  </tbody>\n</table>\n<p>14811 rows × 11 columns</p>\n</div>"
     },
     "execution_count": 118,
     "metadata": {},
     "output_type": "execute_result"
    }
   ],
   "source": [
    "df_1"
   ],
   "metadata": {
    "collapsed": false,
    "ExecuteTime": {
     "start_time": "2023-11-25T15:36:34.794850Z",
     "end_time": "2023-11-25T15:36:34.835884Z"
    }
   }
  },
  {
   "cell_type": "code",
   "execution_count": 119,
   "outputs": [
    {
     "data": {
      "text/plain": "       Street Code1  Street Code2  Street Code3  Violation Precinct  \\\n1836              0             0             0                  78   \n1844           6430          5280          5430                  78   \n1840              0             0             0                  78   \n1852           6430          5280          5430                  78   \n1849           6430          5130          5280                  78   \n...             ...           ...           ...                 ...   \n14646          6430          5130          5280                  78   \n14647          6430          5130          5280                  78   \n14648          6430          5130          5280                  78   \n14649          6430          5130          5280                  78   \n14650          6430          5130          5280                  78   \n\n      Violation County  Street Name  Violation Datetime  \\\n1836                 K  13TH STREET 2016-06-22 09:34:00   \n1844                 K  13TH STREET 2016-06-22 09:34:00   \n1840                 K  13TH STREET 2016-06-22 09:37:00   \n1852                 K  13TH STREET 2016-06-22 13:03:00   \n1849                 K  13TH STREET 2016-06-28 03:31:00   \n...                ...          ...                 ...   \n14646            Kings  13TH STREET 2023-09-28 03:09:00   \n14647            Kings  13TH STREET 2023-09-28 03:11:00   \n14648            Kings  13TH STREET 2023-09-28 03:13:00   \n14649            Kings  13TH STREET 2023-09-28 03:15:00   \n14650            Kings  13TH STREET 2023-09-28 03:17:00   \n\n       Violation Datetime (Month)  Violation Datetime (Day)  \\\n1836                            6                        22   \n1844                            6                        22   \n1840                            6                        22   \n1852                            6                        22   \n1849                            6                        28   \n...                           ...                       ...   \n14646                           9                        28   \n14647                           9                        28   \n14648                           9                        28   \n14649                           9                        28   \n14650                           9                        28   \n\n       Violation Datetime (Year)  Violation Datetime (Hour)  \n1836                        2016                          9  \n1844                        2016                          9  \n1840                        2016                          9  \n1852                        2016                         13  \n1849                        2016                          3  \n...                          ...                        ...  \n14646                       2023                          3  \n14647                       2023                          3  \n14648                       2023                          3  \n14649                       2023                          3  \n14650                       2023                          3  \n\n[14811 rows x 11 columns]",
      "text/html": "<div>\n<style scoped>\n    .dataframe tbody tr th:only-of-type {\n        vertical-align: middle;\n    }\n\n    .dataframe tbody tr th {\n        vertical-align: top;\n    }\n\n    .dataframe thead th {\n        text-align: right;\n    }\n</style>\n<table border=\"1\" class=\"dataframe\">\n  <thead>\n    <tr style=\"text-align: right;\">\n      <th></th>\n      <th>Street Code1</th>\n      <th>Street Code2</th>\n      <th>Street Code3</th>\n      <th>Violation Precinct</th>\n      <th>Violation County</th>\n      <th>Street Name</th>\n      <th>Violation Datetime</th>\n      <th>Violation Datetime (Month)</th>\n      <th>Violation Datetime (Day)</th>\n      <th>Violation Datetime (Year)</th>\n      <th>Violation Datetime (Hour)</th>\n    </tr>\n  </thead>\n  <tbody>\n    <tr>\n      <th>1836</th>\n      <td>0</td>\n      <td>0</td>\n      <td>0</td>\n      <td>78</td>\n      <td>K</td>\n      <td>13TH STREET</td>\n      <td>2016-06-22 09:34:00</td>\n      <td>6</td>\n      <td>22</td>\n      <td>2016</td>\n      <td>9</td>\n    </tr>\n    <tr>\n      <th>1844</th>\n      <td>6430</td>\n      <td>5280</td>\n      <td>5430</td>\n      <td>78</td>\n      <td>K</td>\n      <td>13TH STREET</td>\n      <td>2016-06-22 09:34:00</td>\n      <td>6</td>\n      <td>22</td>\n      <td>2016</td>\n      <td>9</td>\n    </tr>\n    <tr>\n      <th>1840</th>\n      <td>0</td>\n      <td>0</td>\n      <td>0</td>\n      <td>78</td>\n      <td>K</td>\n      <td>13TH STREET</td>\n      <td>2016-06-22 09:37:00</td>\n      <td>6</td>\n      <td>22</td>\n      <td>2016</td>\n      <td>9</td>\n    </tr>\n    <tr>\n      <th>1852</th>\n      <td>6430</td>\n      <td>5280</td>\n      <td>5430</td>\n      <td>78</td>\n      <td>K</td>\n      <td>13TH STREET</td>\n      <td>2016-06-22 13:03:00</td>\n      <td>6</td>\n      <td>22</td>\n      <td>2016</td>\n      <td>13</td>\n    </tr>\n    <tr>\n      <th>1849</th>\n      <td>6430</td>\n      <td>5130</td>\n      <td>5280</td>\n      <td>78</td>\n      <td>K</td>\n      <td>13TH STREET</td>\n      <td>2016-06-28 03:31:00</td>\n      <td>6</td>\n      <td>28</td>\n      <td>2016</td>\n      <td>3</td>\n    </tr>\n    <tr>\n      <th>...</th>\n      <td>...</td>\n      <td>...</td>\n      <td>...</td>\n      <td>...</td>\n      <td>...</td>\n      <td>...</td>\n      <td>...</td>\n      <td>...</td>\n      <td>...</td>\n      <td>...</td>\n      <td>...</td>\n    </tr>\n    <tr>\n      <th>14646</th>\n      <td>6430</td>\n      <td>5130</td>\n      <td>5280</td>\n      <td>78</td>\n      <td>Kings</td>\n      <td>13TH STREET</td>\n      <td>2023-09-28 03:09:00</td>\n      <td>9</td>\n      <td>28</td>\n      <td>2023</td>\n      <td>3</td>\n    </tr>\n    <tr>\n      <th>14647</th>\n      <td>6430</td>\n      <td>5130</td>\n      <td>5280</td>\n      <td>78</td>\n      <td>Kings</td>\n      <td>13TH STREET</td>\n      <td>2023-09-28 03:11:00</td>\n      <td>9</td>\n      <td>28</td>\n      <td>2023</td>\n      <td>3</td>\n    </tr>\n    <tr>\n      <th>14648</th>\n      <td>6430</td>\n      <td>5130</td>\n      <td>5280</td>\n      <td>78</td>\n      <td>Kings</td>\n      <td>13TH STREET</td>\n      <td>2023-09-28 03:13:00</td>\n      <td>9</td>\n      <td>28</td>\n      <td>2023</td>\n      <td>3</td>\n    </tr>\n    <tr>\n      <th>14649</th>\n      <td>6430</td>\n      <td>5130</td>\n      <td>5280</td>\n      <td>78</td>\n      <td>Kings</td>\n      <td>13TH STREET</td>\n      <td>2023-09-28 03:15:00</td>\n      <td>9</td>\n      <td>28</td>\n      <td>2023</td>\n      <td>3</td>\n    </tr>\n    <tr>\n      <th>14650</th>\n      <td>6430</td>\n      <td>5130</td>\n      <td>5280</td>\n      <td>78</td>\n      <td>Kings</td>\n      <td>13TH STREET</td>\n      <td>2023-09-28 03:17:00</td>\n      <td>9</td>\n      <td>28</td>\n      <td>2023</td>\n      <td>3</td>\n    </tr>\n  </tbody>\n</table>\n<p>14811 rows × 11 columns</p>\n</div>"
     },
     "execution_count": 119,
     "metadata": {},
     "output_type": "execute_result"
    }
   ],
   "source": [
    "df_1.sort_values(by=['Violation Datetime'], inplace=True)\n",
    "df_1"
   ],
   "metadata": {
    "collapsed": false,
    "ExecuteTime": {
     "start_time": "2023-11-25T15:37:04.259968Z",
     "end_time": "2023-11-25T15:37:04.357464Z"
    }
   }
  },
  {
   "cell_type": "code",
   "execution_count": 162,
   "outputs": [
    {
     "name": "stdout",
     "output_type": "stream",
     "text": [
      "filtered_df: 7\n",
      "total_records: 36\n",
      "Location Violation Rate for 13TH STREET between 2016-07-11 08:49:00 and 2016-07-11 09:59:00: 19.44%\n"
     ]
    }
   ],
   "source": [
    "import pandas as pd\n",
    "\n",
    "def calculate_location_violation_rate(df, location, precinct, start_time, end_time):\n",
    "\n",
    "    one_week_before = start_time - pd.DateOffset(weeks=1)\n",
    "\n",
    "    filtered_df = len(df[(df['Street Name'] == location) & (df['Violation Precinct'] == precinct) & (df['Violation Datetime'] >= start_time) & (df['Violation Datetime'] <= end_time)])\n",
    "    print(\"filtered_df:\", filtered_df)\n",
    "\n",
    "    total_records = len(df[(df['Violation Datetime'] >= one_week_before) & (df['Violation Datetime'] <= end_time)])\n",
    "    print(\"total_records:\", total_records)\n",
    "\n",
    "    if total_records > 0:\n",
    "        violation_rate = (filtered_df / total_records) * 100\n",
    "    else:\n",
    "        violation_rate = 0.0\n",
    "    return violation_rate\n",
    "\n",
    "location = '13TH STREET'\n",
    "location_precinct = 78\n",
    "violation_datetime = pd.to_datetime('2016-07-11 08:49:00')\n",
    "estimating_time = pd.to_datetime('2016-07-11 09:59:00')\n",
    "\n",
    "rate = calculate_location_violation_rate(df_1, location, location_precinct, violation_datetime, estimating_time)\n",
    "print(f'Location Violation Rate for {location} between {violation_datetime} and {estimating_time}: {rate:.2f}%')"
   ],
   "metadata": {
    "collapsed": false,
    "ExecuteTime": {
     "start_time": "2023-11-25T16:17:03.244342Z",
     "end_time": "2023-11-25T16:17:03.253067Z"
    }
   }
  },
  {
   "cell_type": "code",
   "execution_count": 163,
   "outputs": [],
   "source": [
    "def calculate_location_violation_rate(row, df):\n",
    "    location = row['Street Name']\n",
    "    precinct = row['Violation Precinct']\n",
    "    start_time = row['Violation Datetime']\n",
    "    end_time = row['Violation Datetime'] + pd.DateOffset(hours=1)  # Assuming 1 hour interval\n",
    "\n",
    "    one_week_before = start_time - pd.DateOffset(weeks=1)\n",
    "\n",
    "    filtered_df = len(df[(df['Street Name'] == location) & (df['Violation Precinct'] == precinct) & (df['Violation Datetime'] >= start_time) & (df['Violation Datetime'] <= end_time)])\n",
    "\n",
    "    total_records = len(df[(df['Violation Datetime'] >= one_week_before) & (df['Violation Datetime'] <= end_time)])\n",
    "\n",
    "    if total_records == 0:\n",
    "        return 0.0\n",
    "\n",
    "    if total_records > 0:\n",
    "        violation_rate = (filtered_df / total_records) * 100\n",
    "    else:\n",
    "        violation_rate = 0.0\n",
    "\n",
    "    return violation_rate\n",
    "\n",
    "df_1['Violation Rate'] = df_1.apply(calculate_location_violation_rate, df=df_1, axis=1)"
   ],
   "metadata": {
    "collapsed": false,
    "ExecuteTime": {
     "start_time": "2023-11-25T16:24:07.471789Z",
     "end_time": "2023-11-25T16:24:46.244594Z"
    }
   }
  },
  {
   "cell_type": "code",
   "execution_count": 164,
   "outputs": [
    {
     "data": {
      "text/plain": "1836     100.000000\n1844     100.000000\n1840      33.333333\n1852      25.000000\n1849      20.000000\n            ...    \n14646      9.803922\n14647      7.843137\n14648      5.882353\n14649      3.921569\n14650      1.960784\nName: Violation Rate, Length: 14811, dtype: float64"
     },
     "execution_count": 164,
     "metadata": {},
     "output_type": "execute_result"
    }
   ],
   "source": [
    "df_1['Violation Rate']"
   ],
   "metadata": {
    "collapsed": false,
    "ExecuteTime": {
     "start_time": "2023-11-25T16:24:53.666466Z",
     "end_time": "2023-11-25T16:24:53.705285Z"
    }
   }
  },
  {
   "cell_type": "code",
   "execution_count": 165,
   "outputs": [
    {
     "data": {
      "text/plain": "       Street Code1  Street Code2  Street Code3  Violation Precinct  \\\n1836              0             0             0                  78   \n1844           6430          5280          5430                  78   \n1840              0             0             0                  78   \n1852           6430          5280          5430                  78   \n1849           6430          5130          5280                  78   \n...             ...           ...           ...                 ...   \n14646          6430          5130          5280                  78   \n14647          6430          5130          5280                  78   \n14648          6430          5130          5280                  78   \n14649          6430          5130          5280                  78   \n14650          6430          5130          5280                  78   \n\n      Violation County  Street Name  Violation Datetime  \\\n1836                 K  13TH STREET 2016-06-22 09:34:00   \n1844                 K  13TH STREET 2016-06-22 09:34:00   \n1840                 K  13TH STREET 2016-06-22 09:37:00   \n1852                 K  13TH STREET 2016-06-22 13:03:00   \n1849                 K  13TH STREET 2016-06-28 03:31:00   \n...                ...          ...                 ...   \n14646            Kings  13TH STREET 2023-09-28 03:09:00   \n14647            Kings  13TH STREET 2023-09-28 03:11:00   \n14648            Kings  13TH STREET 2023-09-28 03:13:00   \n14649            Kings  13TH STREET 2023-09-28 03:15:00   \n14650            Kings  13TH STREET 2023-09-28 03:17:00   \n\n       Violation Datetime (Month)  Violation Datetime (Day)  \\\n1836                            6                        22   \n1844                            6                        22   \n1840                            6                        22   \n1852                            6                        22   \n1849                            6                        28   \n...                           ...                       ...   \n14646                           9                        28   \n14647                           9                        28   \n14648                           9                        28   \n14649                           9                        28   \n14650                           9                        28   \n\n       Violation Datetime (Year)  Violation Datetime (Hour)  Violation Rate  \n1836                        2016                          9      100.000000  \n1844                        2016                          9      100.000000  \n1840                        2016                          9       33.333333  \n1852                        2016                         13       25.000000  \n1849                        2016                          3       20.000000  \n...                          ...                        ...             ...  \n14646                       2023                          3        9.803922  \n14647                       2023                          3        7.843137  \n14648                       2023                          3        5.882353  \n14649                       2023                          3        3.921569  \n14650                       2023                          3        1.960784  \n\n[14811 rows x 12 columns]",
      "text/html": "<div>\n<style scoped>\n    .dataframe tbody tr th:only-of-type {\n        vertical-align: middle;\n    }\n\n    .dataframe tbody tr th {\n        vertical-align: top;\n    }\n\n    .dataframe thead th {\n        text-align: right;\n    }\n</style>\n<table border=\"1\" class=\"dataframe\">\n  <thead>\n    <tr style=\"text-align: right;\">\n      <th></th>\n      <th>Street Code1</th>\n      <th>Street Code2</th>\n      <th>Street Code3</th>\n      <th>Violation Precinct</th>\n      <th>Violation County</th>\n      <th>Street Name</th>\n      <th>Violation Datetime</th>\n      <th>Violation Datetime (Month)</th>\n      <th>Violation Datetime (Day)</th>\n      <th>Violation Datetime (Year)</th>\n      <th>Violation Datetime (Hour)</th>\n      <th>Violation Rate</th>\n    </tr>\n  </thead>\n  <tbody>\n    <tr>\n      <th>1836</th>\n      <td>0</td>\n      <td>0</td>\n      <td>0</td>\n      <td>78</td>\n      <td>K</td>\n      <td>13TH STREET</td>\n      <td>2016-06-22 09:34:00</td>\n      <td>6</td>\n      <td>22</td>\n      <td>2016</td>\n      <td>9</td>\n      <td>100.000000</td>\n    </tr>\n    <tr>\n      <th>1844</th>\n      <td>6430</td>\n      <td>5280</td>\n      <td>5430</td>\n      <td>78</td>\n      <td>K</td>\n      <td>13TH STREET</td>\n      <td>2016-06-22 09:34:00</td>\n      <td>6</td>\n      <td>22</td>\n      <td>2016</td>\n      <td>9</td>\n      <td>100.000000</td>\n    </tr>\n    <tr>\n      <th>1840</th>\n      <td>0</td>\n      <td>0</td>\n      <td>0</td>\n      <td>78</td>\n      <td>K</td>\n      <td>13TH STREET</td>\n      <td>2016-06-22 09:37:00</td>\n      <td>6</td>\n      <td>22</td>\n      <td>2016</td>\n      <td>9</td>\n      <td>33.333333</td>\n    </tr>\n    <tr>\n      <th>1852</th>\n      <td>6430</td>\n      <td>5280</td>\n      <td>5430</td>\n      <td>78</td>\n      <td>K</td>\n      <td>13TH STREET</td>\n      <td>2016-06-22 13:03:00</td>\n      <td>6</td>\n      <td>22</td>\n      <td>2016</td>\n      <td>13</td>\n      <td>25.000000</td>\n    </tr>\n    <tr>\n      <th>1849</th>\n      <td>6430</td>\n      <td>5130</td>\n      <td>5280</td>\n      <td>78</td>\n      <td>K</td>\n      <td>13TH STREET</td>\n      <td>2016-06-28 03:31:00</td>\n      <td>6</td>\n      <td>28</td>\n      <td>2016</td>\n      <td>3</td>\n      <td>20.000000</td>\n    </tr>\n    <tr>\n      <th>...</th>\n      <td>...</td>\n      <td>...</td>\n      <td>...</td>\n      <td>...</td>\n      <td>...</td>\n      <td>...</td>\n      <td>...</td>\n      <td>...</td>\n      <td>...</td>\n      <td>...</td>\n      <td>...</td>\n      <td>...</td>\n    </tr>\n    <tr>\n      <th>14646</th>\n      <td>6430</td>\n      <td>5130</td>\n      <td>5280</td>\n      <td>78</td>\n      <td>Kings</td>\n      <td>13TH STREET</td>\n      <td>2023-09-28 03:09:00</td>\n      <td>9</td>\n      <td>28</td>\n      <td>2023</td>\n      <td>3</td>\n      <td>9.803922</td>\n    </tr>\n    <tr>\n      <th>14647</th>\n      <td>6430</td>\n      <td>5130</td>\n      <td>5280</td>\n      <td>78</td>\n      <td>Kings</td>\n      <td>13TH STREET</td>\n      <td>2023-09-28 03:11:00</td>\n      <td>9</td>\n      <td>28</td>\n      <td>2023</td>\n      <td>3</td>\n      <td>7.843137</td>\n    </tr>\n    <tr>\n      <th>14648</th>\n      <td>6430</td>\n      <td>5130</td>\n      <td>5280</td>\n      <td>78</td>\n      <td>Kings</td>\n      <td>13TH STREET</td>\n      <td>2023-09-28 03:13:00</td>\n      <td>9</td>\n      <td>28</td>\n      <td>2023</td>\n      <td>3</td>\n      <td>5.882353</td>\n    </tr>\n    <tr>\n      <th>14649</th>\n      <td>6430</td>\n      <td>5130</td>\n      <td>5280</td>\n      <td>78</td>\n      <td>Kings</td>\n      <td>13TH STREET</td>\n      <td>2023-09-28 03:15:00</td>\n      <td>9</td>\n      <td>28</td>\n      <td>2023</td>\n      <td>3</td>\n      <td>3.921569</td>\n    </tr>\n    <tr>\n      <th>14650</th>\n      <td>6430</td>\n      <td>5130</td>\n      <td>5280</td>\n      <td>78</td>\n      <td>Kings</td>\n      <td>13TH STREET</td>\n      <td>2023-09-28 03:17:00</td>\n      <td>9</td>\n      <td>28</td>\n      <td>2023</td>\n      <td>3</td>\n      <td>1.960784</td>\n    </tr>\n  </tbody>\n</table>\n<p>14811 rows × 12 columns</p>\n</div>"
     },
     "execution_count": 165,
     "metadata": {},
     "output_type": "execute_result"
    }
   ],
   "source": [
    "df_1"
   ],
   "metadata": {
    "collapsed": false,
    "ExecuteTime": {
     "start_time": "2023-11-25T16:25:03.009936Z",
     "end_time": "2023-11-25T16:25:03.036267Z"
    }
   }
  },
  {
   "cell_type": "code",
   "execution_count": 169,
   "outputs": [
    {
     "data": {
      "text/plain": "100.0"
     },
     "execution_count": 169,
     "metadata": {},
     "output_type": "execute_result"
    }
   ],
   "source": [
    "df_1['Violation Rate'].max()"
   ],
   "metadata": {
    "collapsed": false,
    "ExecuteTime": {
     "start_time": "2023-11-25T16:25:23.752490Z",
     "end_time": "2023-11-25T16:25:23.777791Z"
    }
   }
  },
  {
   "cell_type": "code",
   "execution_count": 166,
   "outputs": [],
   "source": [
    "def scale_between_0_and_1(value, min_value, max_value):\n",
    "    \"\"\"\n",
    "    Scale a value to be between 0 and 1.\n",
    "\n",
    "    :param value: The value to be scaled.\n",
    "    :param min_value: The minimum value in the range of your data.\n",
    "    :param max_value: The maximum value in the range of your data.\n",
    "    :return: Scaled value between 0 and 1.\n",
    "    \"\"\"\n",
    "    if max_value == min_value:\n",
    "        return 0  # Avoid division by zero if all values are the same\n",
    "\n",
    "    return (value - min_value) / (max_value - min_value)"
   ],
   "metadata": {
    "collapsed": false,
    "ExecuteTime": {
     "start_time": "2023-11-25T16:25:05.182426Z",
     "end_time": "2023-11-25T16:25:05.213423Z"
    }
   }
  },
  {
   "cell_type": "code",
   "execution_count": 167,
   "outputs": [
    {
     "data": {
      "text/plain": "1836     1.000000\n1844     1.000000\n1840     0.327869\n1852     0.243852\n1849     0.193443\n           ...   \n14646    0.090646\n14647    0.070878\n14648    0.051109\n14649    0.031340\n14650    0.011572\nName: Violation Rate (Scaled), Length: 14811, dtype: float64"
     },
     "execution_count": 167,
     "metadata": {},
     "output_type": "execute_result"
    }
   ],
   "source": [
    "df_1['Violation Rate (Scaled)'] = df_1['Violation Rate'].apply(lambda x: scale_between_0_and_1(x, df_1['Violation Rate'].min(), df_1['Violation Rate'].max()))\n",
    "df_1['Violation Rate (Scaled)']"
   ],
   "metadata": {
    "collapsed": false,
    "ExecuteTime": {
     "start_time": "2023-11-25T16:25:06.383822Z",
     "end_time": "2023-11-25T16:25:07.499573Z"
    }
   }
  },
  {
   "cell_type": "code",
   "execution_count": 170,
   "outputs": [
    {
     "data": {
      "text/plain": "       Street Code1  Street Code2  Street Code3  Violation Precinct  \\\n1836              0             0             0                  78   \n1844           6430          5280          5430                  78   \n1840              0             0             0                  78   \n1852           6430          5280          5430                  78   \n1849           6430          5130          5280                  78   \n...             ...           ...           ...                 ...   \n14646          6430          5130          5280                  78   \n14647          6430          5130          5280                  78   \n14648          6430          5130          5280                  78   \n14649          6430          5130          5280                  78   \n14650          6430          5130          5280                  78   \n\n      Violation County  Street Name  Violation Datetime  \\\n1836                 K  13TH STREET 2016-06-22 09:34:00   \n1844                 K  13TH STREET 2016-06-22 09:34:00   \n1840                 K  13TH STREET 2016-06-22 09:37:00   \n1852                 K  13TH STREET 2016-06-22 13:03:00   \n1849                 K  13TH STREET 2016-06-28 03:31:00   \n...                ...          ...                 ...   \n14646            Kings  13TH STREET 2023-09-28 03:09:00   \n14647            Kings  13TH STREET 2023-09-28 03:11:00   \n14648            Kings  13TH STREET 2023-09-28 03:13:00   \n14649            Kings  13TH STREET 2023-09-28 03:15:00   \n14650            Kings  13TH STREET 2023-09-28 03:17:00   \n\n       Violation Datetime (Month)  Violation Datetime (Day)  \\\n1836                            6                        22   \n1844                            6                        22   \n1840                            6                        22   \n1852                            6                        22   \n1849                            6                        28   \n...                           ...                       ...   \n14646                           9                        28   \n14647                           9                        28   \n14648                           9                        28   \n14649                           9                        28   \n14650                           9                        28   \n\n       Violation Datetime (Year)  Violation Datetime (Hour)  Violation Rate  \\\n1836                        2016                          9      100.000000   \n1844                        2016                          9      100.000000   \n1840                        2016                          9       33.333333   \n1852                        2016                         13       25.000000   \n1849                        2016                          3       20.000000   \n...                          ...                        ...             ...   \n14646                       2023                          3        9.803922   \n14647                       2023                          3        7.843137   \n14648                       2023                          3        5.882353   \n14649                       2023                          3        3.921569   \n14650                       2023                          3        1.960784   \n\n       Violation Rate (Scaled)  \n1836                  1.000000  \n1844                  1.000000  \n1840                  0.327869  \n1852                  0.243852  \n1849                  0.193443  \n...                        ...  \n14646                 0.090646  \n14647                 0.070878  \n14648                 0.051109  \n14649                 0.031340  \n14650                 0.011572  \n\n[14811 rows x 13 columns]",
      "text/html": "<div>\n<style scoped>\n    .dataframe tbody tr th:only-of-type {\n        vertical-align: middle;\n    }\n\n    .dataframe tbody tr th {\n        vertical-align: top;\n    }\n\n    .dataframe thead th {\n        text-align: right;\n    }\n</style>\n<table border=\"1\" class=\"dataframe\">\n  <thead>\n    <tr style=\"text-align: right;\">\n      <th></th>\n      <th>Street Code1</th>\n      <th>Street Code2</th>\n      <th>Street Code3</th>\n      <th>Violation Precinct</th>\n      <th>Violation County</th>\n      <th>Street Name</th>\n      <th>Violation Datetime</th>\n      <th>Violation Datetime (Month)</th>\n      <th>Violation Datetime (Day)</th>\n      <th>Violation Datetime (Year)</th>\n      <th>Violation Datetime (Hour)</th>\n      <th>Violation Rate</th>\n      <th>Violation Rate (Scaled)</th>\n    </tr>\n  </thead>\n  <tbody>\n    <tr>\n      <th>1836</th>\n      <td>0</td>\n      <td>0</td>\n      <td>0</td>\n      <td>78</td>\n      <td>K</td>\n      <td>13TH STREET</td>\n      <td>2016-06-22 09:34:00</td>\n      <td>6</td>\n      <td>22</td>\n      <td>2016</td>\n      <td>9</td>\n      <td>100.000000</td>\n      <td>1.000000</td>\n    </tr>\n    <tr>\n      <th>1844</th>\n      <td>6430</td>\n      <td>5280</td>\n      <td>5430</td>\n      <td>78</td>\n      <td>K</td>\n      <td>13TH STREET</td>\n      <td>2016-06-22 09:34:00</td>\n      <td>6</td>\n      <td>22</td>\n      <td>2016</td>\n      <td>9</td>\n      <td>100.000000</td>\n      <td>1.000000</td>\n    </tr>\n    <tr>\n      <th>1840</th>\n      <td>0</td>\n      <td>0</td>\n      <td>0</td>\n      <td>78</td>\n      <td>K</td>\n      <td>13TH STREET</td>\n      <td>2016-06-22 09:37:00</td>\n      <td>6</td>\n      <td>22</td>\n      <td>2016</td>\n      <td>9</td>\n      <td>33.333333</td>\n      <td>0.327869</td>\n    </tr>\n    <tr>\n      <th>1852</th>\n      <td>6430</td>\n      <td>5280</td>\n      <td>5430</td>\n      <td>78</td>\n      <td>K</td>\n      <td>13TH STREET</td>\n      <td>2016-06-22 13:03:00</td>\n      <td>6</td>\n      <td>22</td>\n      <td>2016</td>\n      <td>13</td>\n      <td>25.000000</td>\n      <td>0.243852</td>\n    </tr>\n    <tr>\n      <th>1849</th>\n      <td>6430</td>\n      <td>5130</td>\n      <td>5280</td>\n      <td>78</td>\n      <td>K</td>\n      <td>13TH STREET</td>\n      <td>2016-06-28 03:31:00</td>\n      <td>6</td>\n      <td>28</td>\n      <td>2016</td>\n      <td>3</td>\n      <td>20.000000</td>\n      <td>0.193443</td>\n    </tr>\n    <tr>\n      <th>...</th>\n      <td>...</td>\n      <td>...</td>\n      <td>...</td>\n      <td>...</td>\n      <td>...</td>\n      <td>...</td>\n      <td>...</td>\n      <td>...</td>\n      <td>...</td>\n      <td>...</td>\n      <td>...</td>\n      <td>...</td>\n      <td>...</td>\n    </tr>\n    <tr>\n      <th>14646</th>\n      <td>6430</td>\n      <td>5130</td>\n      <td>5280</td>\n      <td>78</td>\n      <td>Kings</td>\n      <td>13TH STREET</td>\n      <td>2023-09-28 03:09:00</td>\n      <td>9</td>\n      <td>28</td>\n      <td>2023</td>\n      <td>3</td>\n      <td>9.803922</td>\n      <td>0.090646</td>\n    </tr>\n    <tr>\n      <th>14647</th>\n      <td>6430</td>\n      <td>5130</td>\n      <td>5280</td>\n      <td>78</td>\n      <td>Kings</td>\n      <td>13TH STREET</td>\n      <td>2023-09-28 03:11:00</td>\n      <td>9</td>\n      <td>28</td>\n      <td>2023</td>\n      <td>3</td>\n      <td>7.843137</td>\n      <td>0.070878</td>\n    </tr>\n    <tr>\n      <th>14648</th>\n      <td>6430</td>\n      <td>5130</td>\n      <td>5280</td>\n      <td>78</td>\n      <td>Kings</td>\n      <td>13TH STREET</td>\n      <td>2023-09-28 03:13:00</td>\n      <td>9</td>\n      <td>28</td>\n      <td>2023</td>\n      <td>3</td>\n      <td>5.882353</td>\n      <td>0.051109</td>\n    </tr>\n    <tr>\n      <th>14649</th>\n      <td>6430</td>\n      <td>5130</td>\n      <td>5280</td>\n      <td>78</td>\n      <td>Kings</td>\n      <td>13TH STREET</td>\n      <td>2023-09-28 03:15:00</td>\n      <td>9</td>\n      <td>28</td>\n      <td>2023</td>\n      <td>3</td>\n      <td>3.921569</td>\n      <td>0.031340</td>\n    </tr>\n    <tr>\n      <th>14650</th>\n      <td>6430</td>\n      <td>5130</td>\n      <td>5280</td>\n      <td>78</td>\n      <td>Kings</td>\n      <td>13TH STREET</td>\n      <td>2023-09-28 03:17:00</td>\n      <td>9</td>\n      <td>28</td>\n      <td>2023</td>\n      <td>3</td>\n      <td>1.960784</td>\n      <td>0.011572</td>\n    </tr>\n  </tbody>\n</table>\n<p>14811 rows × 13 columns</p>\n</div>"
     },
     "execution_count": 170,
     "metadata": {},
     "output_type": "execute_result"
    }
   ],
   "source": [
    "df_1"
   ],
   "metadata": {
    "collapsed": false,
    "ExecuteTime": {
     "start_time": "2023-11-25T16:25:31.193964Z",
     "end_time": "2023-11-25T16:25:31.209909Z"
    }
   }
  },
  {
   "cell_type": "code",
   "execution_count": null,
   "outputs": [],
   "source": [],
   "metadata": {
    "collapsed": false
   }
  }
 ],
 "metadata": {
  "kernelspec": {
   "display_name": "Python 3",
   "language": "python",
   "name": "python3"
  },
  "language_info": {
   "codemirror_mode": {
    "name": "ipython",
    "version": 2
   },
   "file_extension": ".py",
   "mimetype": "text/x-python",
   "name": "python",
   "nbconvert_exporter": "python",
   "pygments_lexer": "ipython2",
   "version": "2.7.6"
  }
 },
 "nbformat": 4,
 "nbformat_minor": 0
}
