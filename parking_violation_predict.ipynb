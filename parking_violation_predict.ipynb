{
 "cells": [
  {
   "cell_type": "code",
   "execution_count": 1,
   "metadata": {
    "collapsed": true,
    "ExecuteTime": {
     "start_time": "2023-11-22T20:09:58.803033Z",
     "end_time": "2023-11-22T20:09:59.944031Z"
    }
   },
   "outputs": [],
   "source": [
    "import pandas as pd\n",
    "import numpy as np\n",
    "import matplotlib.pyplot as plt"
   ]
  },
  {
   "cell_type": "code",
   "execution_count": 2,
   "outputs": [
    {
     "data": {
      "text/plain": "      Issue Date  Violation Code Vehicle Body Type  Street Code1  \\\n0     06/25/2021              40               VAN         63430   \n1     06/25/2021              20              SUBN         13490   \n2     06/17/2021              98               SDN         79430   \n3     06/16/2021              98               SDN         53130   \n4     07/04/2021              40              TAXI         81030   \n...          ...             ...               ...           ...   \n9995  07/16/2021              82              DELV         18150   \n9996  07/16/2021              84              DELV         18150   \n9997  07/16/2021              47               VAN         18150   \n9998  07/16/2021              40               VAN             0   \n9999  07/16/2021              19              DELV         18130   \n\n      Street Code2  Street Code3  Violation Precinct Violation Time  \\\n0            69230         13490                  88          0130A   \n1            40404         40404                  88          0225A   \n2            47130         11750                  88          0809P   \n3            23230         23930                  83          0605P   \n4            23930         40030                  83          1058P   \n...            ...           ...                 ...            ...   \n9995         10210         10110                  17          0901A   \n9996         10210         10110                  17          0955A   \n9997         10010         32080                  17          1008A   \n9998             0             0                  17          1015A   \n9999         10210         10110                  17          1205P   \n\n     Violation County         Street Name Intersecting Street  \\\n0                   K  NORTH PORTLAND AVE                 NaN   \n1                   K        AUBURN PLACE                 NaN   \n2                   K  SOUTH PORTLAND AVE                 NaN   \n3                   K        JEFFERSON ST                 NaN   \n4                   K         STANHOPE ST                 NaN   \n...               ...                 ...                 ...   \n9995               NY           E 58TH ST                 NaN   \n9996               NY           E 58TH ST                 NaN   \n9997               NY           E 58TH ST                 NaN   \n9998               NY       S/O E 58TH ST       W/O SUTTON PL   \n9999               NY           E 57TH ST                 NaN   \n\n     Days Parking In Effect From Hours In Effect To Hours In Effect  \\\n0                   BBBBBBB                  ALL                ALL   \n1                   BBBBBBB                  ALL                ALL   \n2                   BBBBBBB                  ALL                ALL   \n3                   BBBBBBB                  ALL                ALL   \n4                   BBBBBBB                  ALL                ALL   \n...                     ...                  ...                ...   \n9995                BBBBBBB                  ALL                ALL   \n9996                BBBBBBB                  ALL                ALL   \n9997                BBBBBBB                  ALL                ALL   \n9998                BBBBBBB                  ALL                ALL   \n9999                BBBBBBB                  ALL                ALL   \n\n      Violation Post Code  \n0                     NaN  \n1                     NaN  \n2                     NaN  \n3                     NaN  \n4                     NaN  \n...                   ...  \n9995                  NaN  \n9996                  NaN  \n9997                  NaN  \n9998                  NaN  \n9999                  NaN  \n\n[10000 rows x 15 columns]",
      "text/html": "<div>\n<style scoped>\n    .dataframe tbody tr th:only-of-type {\n        vertical-align: middle;\n    }\n\n    .dataframe tbody tr th {\n        vertical-align: top;\n    }\n\n    .dataframe thead th {\n        text-align: right;\n    }\n</style>\n<table border=\"1\" class=\"dataframe\">\n  <thead>\n    <tr style=\"text-align: right;\">\n      <th></th>\n      <th>Issue Date</th>\n      <th>Violation Code</th>\n      <th>Vehicle Body Type</th>\n      <th>Street Code1</th>\n      <th>Street Code2</th>\n      <th>Street Code3</th>\n      <th>Violation Precinct</th>\n      <th>Violation Time</th>\n      <th>Violation County</th>\n      <th>Street Name</th>\n      <th>Intersecting Street</th>\n      <th>Days Parking In Effect</th>\n      <th>From Hours In Effect</th>\n      <th>To Hours In Effect</th>\n      <th>Violation Post Code</th>\n    </tr>\n  </thead>\n  <tbody>\n    <tr>\n      <th>0</th>\n      <td>06/25/2021</td>\n      <td>40</td>\n      <td>VAN</td>\n      <td>63430</td>\n      <td>69230</td>\n      <td>13490</td>\n      <td>88</td>\n      <td>0130A</td>\n      <td>K</td>\n      <td>NORTH PORTLAND AVE</td>\n      <td>NaN</td>\n      <td>BBBBBBB</td>\n      <td>ALL</td>\n      <td>ALL</td>\n      <td>NaN</td>\n    </tr>\n    <tr>\n      <th>1</th>\n      <td>06/25/2021</td>\n      <td>20</td>\n      <td>SUBN</td>\n      <td>13490</td>\n      <td>40404</td>\n      <td>40404</td>\n      <td>88</td>\n      <td>0225A</td>\n      <td>K</td>\n      <td>AUBURN PLACE</td>\n      <td>NaN</td>\n      <td>BBBBBBB</td>\n      <td>ALL</td>\n      <td>ALL</td>\n      <td>NaN</td>\n    </tr>\n    <tr>\n      <th>2</th>\n      <td>06/17/2021</td>\n      <td>98</td>\n      <td>SDN</td>\n      <td>79430</td>\n      <td>47130</td>\n      <td>11750</td>\n      <td>88</td>\n      <td>0809P</td>\n      <td>K</td>\n      <td>SOUTH PORTLAND AVE</td>\n      <td>NaN</td>\n      <td>BBBBBBB</td>\n      <td>ALL</td>\n      <td>ALL</td>\n      <td>NaN</td>\n    </tr>\n    <tr>\n      <th>3</th>\n      <td>06/16/2021</td>\n      <td>98</td>\n      <td>SDN</td>\n      <td>53130</td>\n      <td>23230</td>\n      <td>23930</td>\n      <td>83</td>\n      <td>0605P</td>\n      <td>K</td>\n      <td>JEFFERSON ST</td>\n      <td>NaN</td>\n      <td>BBBBBBB</td>\n      <td>ALL</td>\n      <td>ALL</td>\n      <td>NaN</td>\n    </tr>\n    <tr>\n      <th>4</th>\n      <td>07/04/2021</td>\n      <td>40</td>\n      <td>TAXI</td>\n      <td>81030</td>\n      <td>23930</td>\n      <td>40030</td>\n      <td>83</td>\n      <td>1058P</td>\n      <td>K</td>\n      <td>STANHOPE ST</td>\n      <td>NaN</td>\n      <td>BBBBBBB</td>\n      <td>ALL</td>\n      <td>ALL</td>\n      <td>NaN</td>\n    </tr>\n    <tr>\n      <th>...</th>\n      <td>...</td>\n      <td>...</td>\n      <td>...</td>\n      <td>...</td>\n      <td>...</td>\n      <td>...</td>\n      <td>...</td>\n      <td>...</td>\n      <td>...</td>\n      <td>...</td>\n      <td>...</td>\n      <td>...</td>\n      <td>...</td>\n      <td>...</td>\n      <td>...</td>\n    </tr>\n    <tr>\n      <th>9995</th>\n      <td>07/16/2021</td>\n      <td>82</td>\n      <td>DELV</td>\n      <td>18150</td>\n      <td>10210</td>\n      <td>10110</td>\n      <td>17</td>\n      <td>0901A</td>\n      <td>NY</td>\n      <td>E 58TH ST</td>\n      <td>NaN</td>\n      <td>BBBBBBB</td>\n      <td>ALL</td>\n      <td>ALL</td>\n      <td>NaN</td>\n    </tr>\n    <tr>\n      <th>9996</th>\n      <td>07/16/2021</td>\n      <td>84</td>\n      <td>DELV</td>\n      <td>18150</td>\n      <td>10210</td>\n      <td>10110</td>\n      <td>17</td>\n      <td>0955A</td>\n      <td>NY</td>\n      <td>E 58TH ST</td>\n      <td>NaN</td>\n      <td>BBBBBBB</td>\n      <td>ALL</td>\n      <td>ALL</td>\n      <td>NaN</td>\n    </tr>\n    <tr>\n      <th>9997</th>\n      <td>07/16/2021</td>\n      <td>47</td>\n      <td>VAN</td>\n      <td>18150</td>\n      <td>10010</td>\n      <td>32080</td>\n      <td>17</td>\n      <td>1008A</td>\n      <td>NY</td>\n      <td>E 58TH ST</td>\n      <td>NaN</td>\n      <td>BBBBBBB</td>\n      <td>ALL</td>\n      <td>ALL</td>\n      <td>NaN</td>\n    </tr>\n    <tr>\n      <th>9998</th>\n      <td>07/16/2021</td>\n      <td>40</td>\n      <td>VAN</td>\n      <td>0</td>\n      <td>0</td>\n      <td>0</td>\n      <td>17</td>\n      <td>1015A</td>\n      <td>NY</td>\n      <td>S/O E 58TH ST</td>\n      <td>W/O SUTTON PL</td>\n      <td>BBBBBBB</td>\n      <td>ALL</td>\n      <td>ALL</td>\n      <td>NaN</td>\n    </tr>\n    <tr>\n      <th>9999</th>\n      <td>07/16/2021</td>\n      <td>19</td>\n      <td>DELV</td>\n      <td>18130</td>\n      <td>10210</td>\n      <td>10110</td>\n      <td>17</td>\n      <td>1205P</td>\n      <td>NY</td>\n      <td>E 57TH ST</td>\n      <td>NaN</td>\n      <td>BBBBBBB</td>\n      <td>ALL</td>\n      <td>ALL</td>\n      <td>NaN</td>\n    </tr>\n  </tbody>\n</table>\n<p>10000 rows × 15 columns</p>\n</div>"
     },
     "execution_count": 2,
     "metadata": {},
     "output_type": "execute_result"
    }
   ],
   "source": [
    "selected_columns = [\n",
    "    'Street Code1',\n",
    "    'Street Code2',\n",
    "    'Street Code3',\n",
    "    'Street Name',\n",
    "    # 'Violation Location',\n",
    "    'Violation Post Code',\n",
    "    'Intersecting Street',\n",
    "    'Violation Precinct',\n",
    "    'Violation County',\n",
    "    'Vehicle Body Type',\n",
    "    'Issue Date',\n",
    "    # 'Date First Observed',\n",
    "    'Violation Time',\n",
    "    'Days Parking In Effect',\n",
    "    'From Hours In Effect',\n",
    "    'To Hours In Effect',\n",
    "    'Violation Code',\n",
    "]\n",
    "\n",
    "'''\n",
    "Genel olarak, \"county\" (ilçe) daha büyük bir alanı temsil eder. Bir \"county\", genellikle belirli bir eyaletin sınırları içinde bulunan büyük bir coğrafi bölgeyi kapsar. Bir eyalette birden çok \"county\" bulunabilir ve her biri kendi yerel yönetimine sahiptir.\n",
    "\n",
    "Öte yandan, \"precinct\" (seçim bölgesi) daha küçük bir coğrafi bölgeyi ifade eder. Bu, genellikle seçmenlerin oy kullandığı belirli bir mahalle veya köyü temsil eder. Seçim bölgesi, seçimlerde kullanılan ve oy verme işlemini düzenleyen bir kavramdır.\n",
    "'''\n",
    "\n",
    "n_rows_to_read = 5000\n",
    "file_path = 'Parking_Violations_2022.csv'\n",
    "df = pd.read_csv(file_path, usecols=selected_columns, nrows=n_rows_to_read) # nrows=n_rows_to_read\n",
    "df"
   ],
   "metadata": {
    "collapsed": false,
    "ExecuteTime": {
     "start_time": "2023-11-22T20:09:59.947034Z",
     "end_time": "2023-11-22T20:10:00.021033Z"
    }
   }
  },
  {
   "cell_type": "code",
   "execution_count": 3,
   "outputs": [
    {
     "data": {
      "text/plain": "0"
     },
     "execution_count": 3,
     "metadata": {},
     "output_type": "execute_result"
    }
   ],
   "source": [
    "df['Violation Precinct'].isna().sum()"
   ],
   "metadata": {
    "collapsed": false,
    "ExecuteTime": {
     "start_time": "2023-11-22T20:10:00.021033Z",
     "end_time": "2023-11-22T20:10:00.116034Z"
    }
   }
  },
  {
   "cell_type": "code",
   "execution_count": 4,
   "outputs": [
    {
     "name": "stdout",
     "output_type": "stream",
     "text": [
      "<class 'pandas.core.frame.DataFrame'>\n",
      "RangeIndex: 10000 entries, 0 to 9999\n",
      "Data columns (total 15 columns):\n",
      " #   Column                  Non-Null Count  Dtype  \n",
      "---  ------                  --------------  -----  \n",
      " 0   Issue Date              10000 non-null  object \n",
      " 1   Violation Code          10000 non-null  int64  \n",
      " 2   Vehicle Body Type       9487 non-null   object \n",
      " 3   Street Code1            10000 non-null  int64  \n",
      " 4   Street Code2            10000 non-null  int64  \n",
      " 5   Street Code3            10000 non-null  int64  \n",
      " 6   Violation Precinct      10000 non-null  int64  \n",
      " 7   Violation Time          9994 non-null   object \n",
      " 8   Violation County        8843 non-null   object \n",
      " 9   Street Name             9980 non-null   object \n",
      " 10  Intersecting Street     1592 non-null   object \n",
      " 11  Days Parking In Effect  9969 non-null   object \n",
      " 12  From Hours In Effect    9969 non-null   object \n",
      " 13  To Hours In Effect      9969 non-null   object \n",
      " 14  Violation Post Code     0 non-null      float64\n",
      "dtypes: float64(1), int64(5), object(9)\n",
      "memory usage: 1.1+ MB\n"
     ]
    }
   ],
   "source": [
    "df.info()"
   ],
   "metadata": {
    "collapsed": false,
    "ExecuteTime": {
     "start_time": "2023-11-22T20:10:00.037033Z",
     "end_time": "2023-11-22T20:10:00.118033Z"
    }
   }
  },
  {
   "cell_type": "code",
   "execution_count": 5,
   "outputs": [
    {
     "data": {
      "text/plain": "0       0130A\n1       0225A\n2       0809P\n3       0605P\n4       1058P\n        ...  \n9995    0901A\n9996    0955A\n9997    1008A\n9998    1015A\n9999    1205P\nName: Violation Time, Length: 10000, dtype: object"
     },
     "execution_count": 5,
     "metadata": {},
     "output_type": "execute_result"
    }
   ],
   "source": [
    "df['Violation Time']"
   ],
   "metadata": {
    "collapsed": false,
    "ExecuteTime": {
     "start_time": "2023-11-22T20:10:00.072042Z",
     "end_time": "2023-11-22T20:10:00.121036Z"
    }
   }
  },
  {
   "cell_type": "code",
   "execution_count": 6,
   "outputs": [],
   "source": [
    "df_1 = df.copy()"
   ],
   "metadata": {
    "collapsed": false,
    "ExecuteTime": {
     "start_time": "2023-11-22T20:10:00.085034Z",
     "end_time": "2023-11-22T20:10:00.153032Z"
    }
   }
  },
  {
   "cell_type": "code",
   "execution_count": 7,
   "outputs": [],
   "source": [
    "# import sweetviz as sv\n",
    "# analyze_report = sv.analyze(df_1)\n",
    "# analyze_report.show_html('analyze.html', open_browser=False)"
   ],
   "metadata": {
    "collapsed": false,
    "ExecuteTime": {
     "start_time": "2023-11-22T20:10:00.100035Z",
     "end_time": "2023-11-22T20:10:00.154036Z"
    }
   }
  },
  {
   "cell_type": "code",
   "execution_count": 8,
   "outputs": [],
   "source": [
    "df_1['Violation Date'] = pd.to_datetime(df_1['Issue Date'])\n",
    "df_1['Violation Date (Month)'] = df_1['Violation Date'].dt.month\n",
    "df_1['Violation Date (Day)'] = df_1['Violation Date'].dt.day\n",
    "df_1['Violation Date (Year)'] = df_1['Violation Date'].dt.year\n",
    "df_1 = df_1.drop(columns=['Issue Date'])"
   ],
   "metadata": {
    "collapsed": false,
    "ExecuteTime": {
     "start_time": "2023-11-22T20:10:00.119032Z",
     "end_time": "2023-11-22T20:10:00.238030Z"
    }
   }
  },
  {
   "cell_type": "code",
   "execution_count": 9,
   "outputs": [
    {
     "data": {
      "text/plain": "      Violation Code Vehicle Body Type  Street Code1  Street Code2  \\\n0                 40               VAN         63430         69230   \n1                 20              SUBN         13490         40404   \n2                 98               SDN         79430         47130   \n3                 98               SDN         53130         23230   \n4                 40              TAXI         81030         23930   \n...              ...               ...           ...           ...   \n9995              82              DELV         18150         10210   \n9996              84              DELV         18150         10210   \n9997              47               VAN         18150         10010   \n9998              40               VAN             0             0   \n9999              19              DELV         18130         10210   \n\n      Street Code3  Violation Precinct Violation Time Violation County  \\\n0            13490                  88          0130A                K   \n1            40404                  88          0225A                K   \n2            11750                  88          0809P                K   \n3            23930                  83          0605P                K   \n4            40030                  83          1058P                K   \n...            ...                 ...            ...              ...   \n9995         10110                  17          0901A               NY   \n9996         10110                  17          0955A               NY   \n9997         32080                  17          1008A               NY   \n9998             0                  17          1015A               NY   \n9999         10110                  17          1205P               NY   \n\n             Street Name Intersecting Street Days Parking In Effect  \\\n0     NORTH PORTLAND AVE                 NaN                BBBBBBB   \n1           AUBURN PLACE                 NaN                BBBBBBB   \n2     SOUTH PORTLAND AVE                 NaN                BBBBBBB   \n3           JEFFERSON ST                 NaN                BBBBBBB   \n4            STANHOPE ST                 NaN                BBBBBBB   \n...                  ...                 ...                    ...   \n9995           E 58TH ST                 NaN                BBBBBBB   \n9996           E 58TH ST                 NaN                BBBBBBB   \n9997           E 58TH ST                 NaN                BBBBBBB   \n9998       S/O E 58TH ST       W/O SUTTON PL                BBBBBBB   \n9999           E 57TH ST                 NaN                BBBBBBB   \n\n     From Hours In Effect To Hours In Effect  Violation Post Code  \\\n0                     ALL                ALL                  NaN   \n1                     ALL                ALL                  NaN   \n2                     ALL                ALL                  NaN   \n3                     ALL                ALL                  NaN   \n4                     ALL                ALL                  NaN   \n...                   ...                ...                  ...   \n9995                  ALL                ALL                  NaN   \n9996                  ALL                ALL                  NaN   \n9997                  ALL                ALL                  NaN   \n9998                  ALL                ALL                  NaN   \n9999                  ALL                ALL                  NaN   \n\n     Violation Date  Violation Date (Month)  Violation Date (Day)  \\\n0        2021-06-25                       6                    25   \n1        2021-06-25                       6                    25   \n2        2021-06-17                       6                    17   \n3        2021-06-16                       6                    16   \n4        2021-07-04                       7                     4   \n...             ...                     ...                   ...   \n9995     2021-07-16                       7                    16   \n9996     2021-07-16                       7                    16   \n9997     2021-07-16                       7                    16   \n9998     2021-07-16                       7                    16   \n9999     2021-07-16                       7                    16   \n\n      Violation Date (Year)  \n0                      2021  \n1                      2021  \n2                      2021  \n3                      2021  \n4                      2021  \n...                     ...  \n9995                   2021  \n9996                   2021  \n9997                   2021  \n9998                   2021  \n9999                   2021  \n\n[10000 rows x 18 columns]",
      "text/html": "<div>\n<style scoped>\n    .dataframe tbody tr th:only-of-type {\n        vertical-align: middle;\n    }\n\n    .dataframe tbody tr th {\n        vertical-align: top;\n    }\n\n    .dataframe thead th {\n        text-align: right;\n    }\n</style>\n<table border=\"1\" class=\"dataframe\">\n  <thead>\n    <tr style=\"text-align: right;\">\n      <th></th>\n      <th>Violation Code</th>\n      <th>Vehicle Body Type</th>\n      <th>Street Code1</th>\n      <th>Street Code2</th>\n      <th>Street Code3</th>\n      <th>Violation Precinct</th>\n      <th>Violation Time</th>\n      <th>Violation County</th>\n      <th>Street Name</th>\n      <th>Intersecting Street</th>\n      <th>Days Parking In Effect</th>\n      <th>From Hours In Effect</th>\n      <th>To Hours In Effect</th>\n      <th>Violation Post Code</th>\n      <th>Violation Date</th>\n      <th>Violation Date (Month)</th>\n      <th>Violation Date (Day)</th>\n      <th>Violation Date (Year)</th>\n    </tr>\n  </thead>\n  <tbody>\n    <tr>\n      <th>0</th>\n      <td>40</td>\n      <td>VAN</td>\n      <td>63430</td>\n      <td>69230</td>\n      <td>13490</td>\n      <td>88</td>\n      <td>0130A</td>\n      <td>K</td>\n      <td>NORTH PORTLAND AVE</td>\n      <td>NaN</td>\n      <td>BBBBBBB</td>\n      <td>ALL</td>\n      <td>ALL</td>\n      <td>NaN</td>\n      <td>2021-06-25</td>\n      <td>6</td>\n      <td>25</td>\n      <td>2021</td>\n    </tr>\n    <tr>\n      <th>1</th>\n      <td>20</td>\n      <td>SUBN</td>\n      <td>13490</td>\n      <td>40404</td>\n      <td>40404</td>\n      <td>88</td>\n      <td>0225A</td>\n      <td>K</td>\n      <td>AUBURN PLACE</td>\n      <td>NaN</td>\n      <td>BBBBBBB</td>\n      <td>ALL</td>\n      <td>ALL</td>\n      <td>NaN</td>\n      <td>2021-06-25</td>\n      <td>6</td>\n      <td>25</td>\n      <td>2021</td>\n    </tr>\n    <tr>\n      <th>2</th>\n      <td>98</td>\n      <td>SDN</td>\n      <td>79430</td>\n      <td>47130</td>\n      <td>11750</td>\n      <td>88</td>\n      <td>0809P</td>\n      <td>K</td>\n      <td>SOUTH PORTLAND AVE</td>\n      <td>NaN</td>\n      <td>BBBBBBB</td>\n      <td>ALL</td>\n      <td>ALL</td>\n      <td>NaN</td>\n      <td>2021-06-17</td>\n      <td>6</td>\n      <td>17</td>\n      <td>2021</td>\n    </tr>\n    <tr>\n      <th>3</th>\n      <td>98</td>\n      <td>SDN</td>\n      <td>53130</td>\n      <td>23230</td>\n      <td>23930</td>\n      <td>83</td>\n      <td>0605P</td>\n      <td>K</td>\n      <td>JEFFERSON ST</td>\n      <td>NaN</td>\n      <td>BBBBBBB</td>\n      <td>ALL</td>\n      <td>ALL</td>\n      <td>NaN</td>\n      <td>2021-06-16</td>\n      <td>6</td>\n      <td>16</td>\n      <td>2021</td>\n    </tr>\n    <tr>\n      <th>4</th>\n      <td>40</td>\n      <td>TAXI</td>\n      <td>81030</td>\n      <td>23930</td>\n      <td>40030</td>\n      <td>83</td>\n      <td>1058P</td>\n      <td>K</td>\n      <td>STANHOPE ST</td>\n      <td>NaN</td>\n      <td>BBBBBBB</td>\n      <td>ALL</td>\n      <td>ALL</td>\n      <td>NaN</td>\n      <td>2021-07-04</td>\n      <td>7</td>\n      <td>4</td>\n      <td>2021</td>\n    </tr>\n    <tr>\n      <th>...</th>\n      <td>...</td>\n      <td>...</td>\n      <td>...</td>\n      <td>...</td>\n      <td>...</td>\n      <td>...</td>\n      <td>...</td>\n      <td>...</td>\n      <td>...</td>\n      <td>...</td>\n      <td>...</td>\n      <td>...</td>\n      <td>...</td>\n      <td>...</td>\n      <td>...</td>\n      <td>...</td>\n      <td>...</td>\n      <td>...</td>\n    </tr>\n    <tr>\n      <th>9995</th>\n      <td>82</td>\n      <td>DELV</td>\n      <td>18150</td>\n      <td>10210</td>\n      <td>10110</td>\n      <td>17</td>\n      <td>0901A</td>\n      <td>NY</td>\n      <td>E 58TH ST</td>\n      <td>NaN</td>\n      <td>BBBBBBB</td>\n      <td>ALL</td>\n      <td>ALL</td>\n      <td>NaN</td>\n      <td>2021-07-16</td>\n      <td>7</td>\n      <td>16</td>\n      <td>2021</td>\n    </tr>\n    <tr>\n      <th>9996</th>\n      <td>84</td>\n      <td>DELV</td>\n      <td>18150</td>\n      <td>10210</td>\n      <td>10110</td>\n      <td>17</td>\n      <td>0955A</td>\n      <td>NY</td>\n      <td>E 58TH ST</td>\n      <td>NaN</td>\n      <td>BBBBBBB</td>\n      <td>ALL</td>\n      <td>ALL</td>\n      <td>NaN</td>\n      <td>2021-07-16</td>\n      <td>7</td>\n      <td>16</td>\n      <td>2021</td>\n    </tr>\n    <tr>\n      <th>9997</th>\n      <td>47</td>\n      <td>VAN</td>\n      <td>18150</td>\n      <td>10010</td>\n      <td>32080</td>\n      <td>17</td>\n      <td>1008A</td>\n      <td>NY</td>\n      <td>E 58TH ST</td>\n      <td>NaN</td>\n      <td>BBBBBBB</td>\n      <td>ALL</td>\n      <td>ALL</td>\n      <td>NaN</td>\n      <td>2021-07-16</td>\n      <td>7</td>\n      <td>16</td>\n      <td>2021</td>\n    </tr>\n    <tr>\n      <th>9998</th>\n      <td>40</td>\n      <td>VAN</td>\n      <td>0</td>\n      <td>0</td>\n      <td>0</td>\n      <td>17</td>\n      <td>1015A</td>\n      <td>NY</td>\n      <td>S/O E 58TH ST</td>\n      <td>W/O SUTTON PL</td>\n      <td>BBBBBBB</td>\n      <td>ALL</td>\n      <td>ALL</td>\n      <td>NaN</td>\n      <td>2021-07-16</td>\n      <td>7</td>\n      <td>16</td>\n      <td>2021</td>\n    </tr>\n    <tr>\n      <th>9999</th>\n      <td>19</td>\n      <td>DELV</td>\n      <td>18130</td>\n      <td>10210</td>\n      <td>10110</td>\n      <td>17</td>\n      <td>1205P</td>\n      <td>NY</td>\n      <td>E 57TH ST</td>\n      <td>NaN</td>\n      <td>BBBBBBB</td>\n      <td>ALL</td>\n      <td>ALL</td>\n      <td>NaN</td>\n      <td>2021-07-16</td>\n      <td>7</td>\n      <td>16</td>\n      <td>2021</td>\n    </tr>\n  </tbody>\n</table>\n<p>10000 rows × 18 columns</p>\n</div>"
     },
     "execution_count": 9,
     "metadata": {},
     "output_type": "execute_result"
    }
   ],
   "source": [
    "df_1"
   ],
   "metadata": {
    "collapsed": false,
    "ExecuteTime": {
     "start_time": "2023-11-22T20:10:00.144038Z",
     "end_time": "2023-11-22T20:10:00.390032Z"
    }
   }
  },
  {
   "cell_type": "code",
   "execution_count": 10,
   "outputs": [],
   "source": [
    "def convert_to_24hr_format(time_str):\n",
    "    if '.' in time_str:\n",
    "        return None\n",
    "    if time_str[-1] == 'P':\n",
    "        return '{:02d}:{:02d}'.format((int(time_str[:2]) + 12) % 24, int(time_str[2:4]))\n",
    "    elif time_str[-1] == 'A':\n",
    "        return '{:02d}:{:02d}'.format(int(time_str[:2]) % 12, int(time_str[2:4]))\n",
    "    else:\n",
    "        return None\n",
    "\n",
    "df_1['Violation Time'] = df_1['Violation Time'].astype(str)\n",
    "df_1.loc[:, 'Violation Time'] = df_1['Violation Time'].apply(convert_to_24hr_format)\n",
    "df_1 = df_1.dropna(subset=['Violation Time'])"
   ],
   "metadata": {
    "collapsed": false,
    "ExecuteTime": {
     "start_time": "2023-11-22T20:10:00.180037Z",
     "end_time": "2023-11-22T20:10:00.394033Z"
    }
   }
  },
  {
   "cell_type": "code",
   "execution_count": 11,
   "outputs": [
    {
     "name": "stderr",
     "output_type": "stream",
     "text": [
      "C:\\Users\\YSK\\AppData\\Local\\Temp\\ipykernel_14388\\163225079.py:1: SettingWithCopyWarning: \n",
      "A value is trying to be set on a copy of a slice from a DataFrame.\n",
      "Try using .loc[row_indexer,col_indexer] = value instead\n",
      "\n",
      "See the caveats in the documentation: https://pandas.pydata.org/pandas-docs/stable/user_guide/indexing.html#returning-a-view-versus-a-copy\n",
      "  df_1.loc[:, 'Violation Time'] = pd.to_datetime(df_1['Violation Time'], format='%H:%M', errors='coerce').dt.time\n"
     ]
    }
   ],
   "source": [
    "df_1.loc[:, 'Violation Time'] = pd.to_datetime(df_1['Violation Time'], format='%H:%M', errors='coerce').dt.time"
   ],
   "metadata": {
    "collapsed": false,
    "ExecuteTime": {
     "start_time": "2023-11-22T20:10:00.224036Z",
     "end_time": "2023-11-22T20:10:00.500038Z"
    }
   }
  },
  {
   "cell_type": "code",
   "execution_count": 12,
   "outputs": [
    {
     "data": {
      "text/plain": "0       01:30:00\n1       02:25:00\n2       20:09:00\n3       18:05:00\n4       22:58:00\n          ...   \n9995    09:01:00\n9996    09:55:00\n9997    10:08:00\n9998    10:15:00\n9999    00:05:00\nName: Violation Time, Length: 9991, dtype: object"
     },
     "execution_count": 12,
     "metadata": {},
     "output_type": "execute_result"
    }
   ],
   "source": [
    "df_1['Violation Time']"
   ],
   "metadata": {
    "collapsed": false,
    "ExecuteTime": {
     "start_time": "2023-11-22T20:10:00.269046Z",
     "end_time": "2023-11-22T20:10:00.501035Z"
    }
   }
  },
  {
   "cell_type": "code",
   "execution_count": 13,
   "outputs": [
    {
     "data": {
      "text/plain": "      Violation Code Vehicle Body Type  Street Code1  Street Code2  \\\n0                 40               VAN         63430         69230   \n1                 20              SUBN         13490         40404   \n2                 98               SDN         79430         47130   \n3                 98               SDN         53130         23230   \n4                 40              TAXI         81030         23930   \n...              ...               ...           ...           ...   \n9995              82              DELV         18150         10210   \n9996              84              DELV         18150         10210   \n9997              47               VAN         18150         10010   \n9998              40               VAN             0             0   \n9999              19              DELV         18130         10210   \n\n      Street Code3  Violation Precinct Violation Time Violation County  \\\n0            13490                  88       01:30:00                K   \n1            40404                  88       02:25:00                K   \n2            11750                  88       20:09:00                K   \n3            23930                  83       18:05:00                K   \n4            40030                  83       22:58:00                K   \n...            ...                 ...            ...              ...   \n9995         10110                  17       09:01:00               NY   \n9996         10110                  17       09:55:00               NY   \n9997         32080                  17       10:08:00               NY   \n9998             0                  17       10:15:00               NY   \n9999         10110                  17       00:05:00               NY   \n\n             Street Name Intersecting Street Days Parking In Effect  \\\n0     NORTH PORTLAND AVE                 NaN                BBBBBBB   \n1           AUBURN PLACE                 NaN                BBBBBBB   \n2     SOUTH PORTLAND AVE                 NaN                BBBBBBB   \n3           JEFFERSON ST                 NaN                BBBBBBB   \n4            STANHOPE ST                 NaN                BBBBBBB   \n...                  ...                 ...                    ...   \n9995           E 58TH ST                 NaN                BBBBBBB   \n9996           E 58TH ST                 NaN                BBBBBBB   \n9997           E 58TH ST                 NaN                BBBBBBB   \n9998       S/O E 58TH ST       W/O SUTTON PL                BBBBBBB   \n9999           E 57TH ST                 NaN                BBBBBBB   \n\n     From Hours In Effect To Hours In Effect  Violation Post Code  \\\n0                     ALL                ALL                  NaN   \n1                     ALL                ALL                  NaN   \n2                     ALL                ALL                  NaN   \n3                     ALL                ALL                  NaN   \n4                     ALL                ALL                  NaN   \n...                   ...                ...                  ...   \n9995                  ALL                ALL                  NaN   \n9996                  ALL                ALL                  NaN   \n9997                  ALL                ALL                  NaN   \n9998                  ALL                ALL                  NaN   \n9999                  ALL                ALL                  NaN   \n\n     Violation Date  Violation Date (Month)  Violation Date (Day)  \\\n0        2021-06-25                       6                    25   \n1        2021-06-25                       6                    25   \n2        2021-06-17                       6                    17   \n3        2021-06-16                       6                    16   \n4        2021-07-04                       7                     4   \n...             ...                     ...                   ...   \n9995     2021-07-16                       7                    16   \n9996     2021-07-16                       7                    16   \n9997     2021-07-16                       7                    16   \n9998     2021-07-16                       7                    16   \n9999     2021-07-16                       7                    16   \n\n      Violation Date (Year)  \n0                      2021  \n1                      2021  \n2                      2021  \n3                      2021  \n4                      2021  \n...                     ...  \n9995                   2021  \n9996                   2021  \n9997                   2021  \n9998                   2021  \n9999                   2021  \n\n[9991 rows x 18 columns]",
      "text/html": "<div>\n<style scoped>\n    .dataframe tbody tr th:only-of-type {\n        vertical-align: middle;\n    }\n\n    .dataframe tbody tr th {\n        vertical-align: top;\n    }\n\n    .dataframe thead th {\n        text-align: right;\n    }\n</style>\n<table border=\"1\" class=\"dataframe\">\n  <thead>\n    <tr style=\"text-align: right;\">\n      <th></th>\n      <th>Violation Code</th>\n      <th>Vehicle Body Type</th>\n      <th>Street Code1</th>\n      <th>Street Code2</th>\n      <th>Street Code3</th>\n      <th>Violation Precinct</th>\n      <th>Violation Time</th>\n      <th>Violation County</th>\n      <th>Street Name</th>\n      <th>Intersecting Street</th>\n      <th>Days Parking In Effect</th>\n      <th>From Hours In Effect</th>\n      <th>To Hours In Effect</th>\n      <th>Violation Post Code</th>\n      <th>Violation Date</th>\n      <th>Violation Date (Month)</th>\n      <th>Violation Date (Day)</th>\n      <th>Violation Date (Year)</th>\n    </tr>\n  </thead>\n  <tbody>\n    <tr>\n      <th>0</th>\n      <td>40</td>\n      <td>VAN</td>\n      <td>63430</td>\n      <td>69230</td>\n      <td>13490</td>\n      <td>88</td>\n      <td>01:30:00</td>\n      <td>K</td>\n      <td>NORTH PORTLAND AVE</td>\n      <td>NaN</td>\n      <td>BBBBBBB</td>\n      <td>ALL</td>\n      <td>ALL</td>\n      <td>NaN</td>\n      <td>2021-06-25</td>\n      <td>6</td>\n      <td>25</td>\n      <td>2021</td>\n    </tr>\n    <tr>\n      <th>1</th>\n      <td>20</td>\n      <td>SUBN</td>\n      <td>13490</td>\n      <td>40404</td>\n      <td>40404</td>\n      <td>88</td>\n      <td>02:25:00</td>\n      <td>K</td>\n      <td>AUBURN PLACE</td>\n      <td>NaN</td>\n      <td>BBBBBBB</td>\n      <td>ALL</td>\n      <td>ALL</td>\n      <td>NaN</td>\n      <td>2021-06-25</td>\n      <td>6</td>\n      <td>25</td>\n      <td>2021</td>\n    </tr>\n    <tr>\n      <th>2</th>\n      <td>98</td>\n      <td>SDN</td>\n      <td>79430</td>\n      <td>47130</td>\n      <td>11750</td>\n      <td>88</td>\n      <td>20:09:00</td>\n      <td>K</td>\n      <td>SOUTH PORTLAND AVE</td>\n      <td>NaN</td>\n      <td>BBBBBBB</td>\n      <td>ALL</td>\n      <td>ALL</td>\n      <td>NaN</td>\n      <td>2021-06-17</td>\n      <td>6</td>\n      <td>17</td>\n      <td>2021</td>\n    </tr>\n    <tr>\n      <th>3</th>\n      <td>98</td>\n      <td>SDN</td>\n      <td>53130</td>\n      <td>23230</td>\n      <td>23930</td>\n      <td>83</td>\n      <td>18:05:00</td>\n      <td>K</td>\n      <td>JEFFERSON ST</td>\n      <td>NaN</td>\n      <td>BBBBBBB</td>\n      <td>ALL</td>\n      <td>ALL</td>\n      <td>NaN</td>\n      <td>2021-06-16</td>\n      <td>6</td>\n      <td>16</td>\n      <td>2021</td>\n    </tr>\n    <tr>\n      <th>4</th>\n      <td>40</td>\n      <td>TAXI</td>\n      <td>81030</td>\n      <td>23930</td>\n      <td>40030</td>\n      <td>83</td>\n      <td>22:58:00</td>\n      <td>K</td>\n      <td>STANHOPE ST</td>\n      <td>NaN</td>\n      <td>BBBBBBB</td>\n      <td>ALL</td>\n      <td>ALL</td>\n      <td>NaN</td>\n      <td>2021-07-04</td>\n      <td>7</td>\n      <td>4</td>\n      <td>2021</td>\n    </tr>\n    <tr>\n      <th>...</th>\n      <td>...</td>\n      <td>...</td>\n      <td>...</td>\n      <td>...</td>\n      <td>...</td>\n      <td>...</td>\n      <td>...</td>\n      <td>...</td>\n      <td>...</td>\n      <td>...</td>\n      <td>...</td>\n      <td>...</td>\n      <td>...</td>\n      <td>...</td>\n      <td>...</td>\n      <td>...</td>\n      <td>...</td>\n      <td>...</td>\n    </tr>\n    <tr>\n      <th>9995</th>\n      <td>82</td>\n      <td>DELV</td>\n      <td>18150</td>\n      <td>10210</td>\n      <td>10110</td>\n      <td>17</td>\n      <td>09:01:00</td>\n      <td>NY</td>\n      <td>E 58TH ST</td>\n      <td>NaN</td>\n      <td>BBBBBBB</td>\n      <td>ALL</td>\n      <td>ALL</td>\n      <td>NaN</td>\n      <td>2021-07-16</td>\n      <td>7</td>\n      <td>16</td>\n      <td>2021</td>\n    </tr>\n    <tr>\n      <th>9996</th>\n      <td>84</td>\n      <td>DELV</td>\n      <td>18150</td>\n      <td>10210</td>\n      <td>10110</td>\n      <td>17</td>\n      <td>09:55:00</td>\n      <td>NY</td>\n      <td>E 58TH ST</td>\n      <td>NaN</td>\n      <td>BBBBBBB</td>\n      <td>ALL</td>\n      <td>ALL</td>\n      <td>NaN</td>\n      <td>2021-07-16</td>\n      <td>7</td>\n      <td>16</td>\n      <td>2021</td>\n    </tr>\n    <tr>\n      <th>9997</th>\n      <td>47</td>\n      <td>VAN</td>\n      <td>18150</td>\n      <td>10010</td>\n      <td>32080</td>\n      <td>17</td>\n      <td>10:08:00</td>\n      <td>NY</td>\n      <td>E 58TH ST</td>\n      <td>NaN</td>\n      <td>BBBBBBB</td>\n      <td>ALL</td>\n      <td>ALL</td>\n      <td>NaN</td>\n      <td>2021-07-16</td>\n      <td>7</td>\n      <td>16</td>\n      <td>2021</td>\n    </tr>\n    <tr>\n      <th>9998</th>\n      <td>40</td>\n      <td>VAN</td>\n      <td>0</td>\n      <td>0</td>\n      <td>0</td>\n      <td>17</td>\n      <td>10:15:00</td>\n      <td>NY</td>\n      <td>S/O E 58TH ST</td>\n      <td>W/O SUTTON PL</td>\n      <td>BBBBBBB</td>\n      <td>ALL</td>\n      <td>ALL</td>\n      <td>NaN</td>\n      <td>2021-07-16</td>\n      <td>7</td>\n      <td>16</td>\n      <td>2021</td>\n    </tr>\n    <tr>\n      <th>9999</th>\n      <td>19</td>\n      <td>DELV</td>\n      <td>18130</td>\n      <td>10210</td>\n      <td>10110</td>\n      <td>17</td>\n      <td>00:05:00</td>\n      <td>NY</td>\n      <td>E 57TH ST</td>\n      <td>NaN</td>\n      <td>BBBBBBB</td>\n      <td>ALL</td>\n      <td>ALL</td>\n      <td>NaN</td>\n      <td>2021-07-16</td>\n      <td>7</td>\n      <td>16</td>\n      <td>2021</td>\n    </tr>\n  </tbody>\n</table>\n<p>9991 rows × 18 columns</p>\n</div>"
     },
     "execution_count": 13,
     "metadata": {},
     "output_type": "execute_result"
    }
   ],
   "source": [
    "df_1"
   ],
   "metadata": {
    "collapsed": false,
    "ExecuteTime": {
     "start_time": "2023-11-22T20:10:00.283031Z",
     "end_time": "2023-11-22T20:10:00.501035Z"
    }
   }
  },
  {
   "cell_type": "code",
   "execution_count": 14,
   "outputs": [
    {
     "name": "stderr",
     "output_type": "stream",
     "text": [
      "C:\\Users\\YSK\\AppData\\Local\\Temp\\ipykernel_14388\\735695388.py:1: SettingWithCopyWarning: \n",
      "A value is trying to be set on a copy of a slice from a DataFrame\n",
      "\n",
      "See the caveats in the documentation: https://pandas.pydata.org/pandas-docs/stable/user_guide/indexing.html#returning-a-view-versus-a-copy\n",
      "  df_1.sort_values(by=['Violation Date', 'Violation Time'], inplace=True)\n"
     ]
    },
    {
     "data": {
      "text/plain": "      Violation Code Vehicle Body Type  Street Code1  Street Code2  \\\n6647              20              SUBN         72720         27180   \n3082              78               NaN             0         40404   \n5337              35               VAN         10610         40404   \n1635              98               VAN         19990         17540   \n4787              16              SUBN         34610         10510   \n...              ...               ...           ...           ...   \n7140              14              SUBN         62200         33490   \n3717              74              MOPE         31250         27950   \n3730              74              MOPE         31250         27950   \n9132              67               SDN             0             0   \n593               40               SDN         18090          7790   \n\n      Street Code3  Violation Precinct Violation Time Violation County  \\\n6647         29220                  46       00:04:00               BX   \n3082         40404                 105       22:00:00                Q   \n5337         40404                  14       00:52:00               NY   \n1635         17740                 106       01:05:00                Q   \n4787         13610                  14       00:40:00              NaN   \n...            ...                 ...            ...              ...   \n7140             0                 100       15:31:00                Q   \n3717         47530                 121       04:30:00                R   \n3730         47530                 121       04:30:00                R   \n9132             0                  71       08:51:00                K   \n593           7990                 115       23:09:00              NaN   \n\n           Street Name Intersecting Street Days Parking In Effect  \\\n6647        WALTON AVE                 NaN                BBBBBBB   \n3082         BROOKVILL                 NaN                BBBBBBB   \n5337             7 AVE                 NaN                BBBBBBB   \n1635           107 AVE                 NaN                BBBBBBB   \n4787           W 42 ST                 NaN                BBBBBBB   \n...                ...                 ...                    ...   \n7140  SHORE FRONT PKWY        BEACH 100 ST                BBBBBBB   \n3717         GROVE AVE                 NaN                BBBBBBB   \n3730         GROVE AVE                 NaN                BBBBBBB   \n9132  W/S BROOKLYN AVE     S/O STERLING ST                BBBBBBB   \n593        89TH STREET                 NaN                BBBBBBB   \n\n     From Hours In Effect To Hours In Effect  Violation Post Code  \\\n6647                  ALL                ALL                  NaN   \n3082                  ALL                ALL                  NaN   \n5337                  ALL                ALL                  NaN   \n1635                  ALL                ALL                  NaN   \n4787                  ALL                ALL                  NaN   \n...                   ...                ...                  ...   \n7140                  ALL                ALL                  NaN   \n3717                  ALL                ALL                  NaN   \n3730                  ALL                ALL                  NaN   \n9132                  ALL                ALL                  NaN   \n593                   ALL                ALL                  NaN   \n\n     Violation Date  Violation Date (Month)  Violation Date (Day)  \\\n6647     2000-06-27                       6                    27   \n3082     2000-06-28                       6                    28   \n5337     2000-07-15                       7                    15   \n1635     2010-07-21                       7                    21   \n4787     2019-06-22                       6                    22   \n...             ...                     ...                   ...   \n7140     2022-07-20                       7                    20   \n3717     2024-07-24                       7                    24   \n3730     2024-07-24                       7                    24   \n9132     2029-06-29                       6                    29   \n593      2031-07-01                       7                     1   \n\n      Violation Date (Year)  \n6647                   2000  \n3082                   2000  \n5337                   2000  \n1635                   2010  \n4787                   2019  \n...                     ...  \n7140                   2022  \n3717                   2024  \n3730                   2024  \n9132                   2029  \n593                    2031  \n\n[9991 rows x 18 columns]",
      "text/html": "<div>\n<style scoped>\n    .dataframe tbody tr th:only-of-type {\n        vertical-align: middle;\n    }\n\n    .dataframe tbody tr th {\n        vertical-align: top;\n    }\n\n    .dataframe thead th {\n        text-align: right;\n    }\n</style>\n<table border=\"1\" class=\"dataframe\">\n  <thead>\n    <tr style=\"text-align: right;\">\n      <th></th>\n      <th>Violation Code</th>\n      <th>Vehicle Body Type</th>\n      <th>Street Code1</th>\n      <th>Street Code2</th>\n      <th>Street Code3</th>\n      <th>Violation Precinct</th>\n      <th>Violation Time</th>\n      <th>Violation County</th>\n      <th>Street Name</th>\n      <th>Intersecting Street</th>\n      <th>Days Parking In Effect</th>\n      <th>From Hours In Effect</th>\n      <th>To Hours In Effect</th>\n      <th>Violation Post Code</th>\n      <th>Violation Date</th>\n      <th>Violation Date (Month)</th>\n      <th>Violation Date (Day)</th>\n      <th>Violation Date (Year)</th>\n    </tr>\n  </thead>\n  <tbody>\n    <tr>\n      <th>6647</th>\n      <td>20</td>\n      <td>SUBN</td>\n      <td>72720</td>\n      <td>27180</td>\n      <td>29220</td>\n      <td>46</td>\n      <td>00:04:00</td>\n      <td>BX</td>\n      <td>WALTON AVE</td>\n      <td>NaN</td>\n      <td>BBBBBBB</td>\n      <td>ALL</td>\n      <td>ALL</td>\n      <td>NaN</td>\n      <td>2000-06-27</td>\n      <td>6</td>\n      <td>27</td>\n      <td>2000</td>\n    </tr>\n    <tr>\n      <th>3082</th>\n      <td>78</td>\n      <td>NaN</td>\n      <td>0</td>\n      <td>40404</td>\n      <td>40404</td>\n      <td>105</td>\n      <td>22:00:00</td>\n      <td>Q</td>\n      <td>BROOKVILL</td>\n      <td>NaN</td>\n      <td>BBBBBBB</td>\n      <td>ALL</td>\n      <td>ALL</td>\n      <td>NaN</td>\n      <td>2000-06-28</td>\n      <td>6</td>\n      <td>28</td>\n      <td>2000</td>\n    </tr>\n    <tr>\n      <th>5337</th>\n      <td>35</td>\n      <td>VAN</td>\n      <td>10610</td>\n      <td>40404</td>\n      <td>40404</td>\n      <td>14</td>\n      <td>00:52:00</td>\n      <td>NY</td>\n      <td>7 AVE</td>\n      <td>NaN</td>\n      <td>BBBBBBB</td>\n      <td>ALL</td>\n      <td>ALL</td>\n      <td>NaN</td>\n      <td>2000-07-15</td>\n      <td>7</td>\n      <td>15</td>\n      <td>2000</td>\n    </tr>\n    <tr>\n      <th>1635</th>\n      <td>98</td>\n      <td>VAN</td>\n      <td>19990</td>\n      <td>17540</td>\n      <td>17740</td>\n      <td>106</td>\n      <td>01:05:00</td>\n      <td>Q</td>\n      <td>107 AVE</td>\n      <td>NaN</td>\n      <td>BBBBBBB</td>\n      <td>ALL</td>\n      <td>ALL</td>\n      <td>NaN</td>\n      <td>2010-07-21</td>\n      <td>7</td>\n      <td>21</td>\n      <td>2010</td>\n    </tr>\n    <tr>\n      <th>4787</th>\n      <td>16</td>\n      <td>SUBN</td>\n      <td>34610</td>\n      <td>10510</td>\n      <td>13610</td>\n      <td>14</td>\n      <td>00:40:00</td>\n      <td>NaN</td>\n      <td>W 42 ST</td>\n      <td>NaN</td>\n      <td>BBBBBBB</td>\n      <td>ALL</td>\n      <td>ALL</td>\n      <td>NaN</td>\n      <td>2019-06-22</td>\n      <td>6</td>\n      <td>22</td>\n      <td>2019</td>\n    </tr>\n    <tr>\n      <th>...</th>\n      <td>...</td>\n      <td>...</td>\n      <td>...</td>\n      <td>...</td>\n      <td>...</td>\n      <td>...</td>\n      <td>...</td>\n      <td>...</td>\n      <td>...</td>\n      <td>...</td>\n      <td>...</td>\n      <td>...</td>\n      <td>...</td>\n      <td>...</td>\n      <td>...</td>\n      <td>...</td>\n      <td>...</td>\n      <td>...</td>\n    </tr>\n    <tr>\n      <th>7140</th>\n      <td>14</td>\n      <td>SUBN</td>\n      <td>62200</td>\n      <td>33490</td>\n      <td>0</td>\n      <td>100</td>\n      <td>15:31:00</td>\n      <td>Q</td>\n      <td>SHORE FRONT PKWY</td>\n      <td>BEACH 100 ST</td>\n      <td>BBBBBBB</td>\n      <td>ALL</td>\n      <td>ALL</td>\n      <td>NaN</td>\n      <td>2022-07-20</td>\n      <td>7</td>\n      <td>20</td>\n      <td>2022</td>\n    </tr>\n    <tr>\n      <th>3717</th>\n      <td>74</td>\n      <td>MOPE</td>\n      <td>31250</td>\n      <td>27950</td>\n      <td>47530</td>\n      <td>121</td>\n      <td>04:30:00</td>\n      <td>R</td>\n      <td>GROVE AVE</td>\n      <td>NaN</td>\n      <td>BBBBBBB</td>\n      <td>ALL</td>\n      <td>ALL</td>\n      <td>NaN</td>\n      <td>2024-07-24</td>\n      <td>7</td>\n      <td>24</td>\n      <td>2024</td>\n    </tr>\n    <tr>\n      <th>3730</th>\n      <td>74</td>\n      <td>MOPE</td>\n      <td>31250</td>\n      <td>27950</td>\n      <td>47530</td>\n      <td>121</td>\n      <td>04:30:00</td>\n      <td>R</td>\n      <td>GROVE AVE</td>\n      <td>NaN</td>\n      <td>BBBBBBB</td>\n      <td>ALL</td>\n      <td>ALL</td>\n      <td>NaN</td>\n      <td>2024-07-24</td>\n      <td>7</td>\n      <td>24</td>\n      <td>2024</td>\n    </tr>\n    <tr>\n      <th>9132</th>\n      <td>67</td>\n      <td>SDN</td>\n      <td>0</td>\n      <td>0</td>\n      <td>0</td>\n      <td>71</td>\n      <td>08:51:00</td>\n      <td>K</td>\n      <td>W/S BROOKLYN AVE</td>\n      <td>S/O STERLING ST</td>\n      <td>BBBBBBB</td>\n      <td>ALL</td>\n      <td>ALL</td>\n      <td>NaN</td>\n      <td>2029-06-29</td>\n      <td>6</td>\n      <td>29</td>\n      <td>2029</td>\n    </tr>\n    <tr>\n      <th>593</th>\n      <td>40</td>\n      <td>SDN</td>\n      <td>18090</td>\n      <td>7790</td>\n      <td>7990</td>\n      <td>115</td>\n      <td>23:09:00</td>\n      <td>NaN</td>\n      <td>89TH STREET</td>\n      <td>NaN</td>\n      <td>BBBBBBB</td>\n      <td>ALL</td>\n      <td>ALL</td>\n      <td>NaN</td>\n      <td>2031-07-01</td>\n      <td>7</td>\n      <td>1</td>\n      <td>2031</td>\n    </tr>\n  </tbody>\n</table>\n<p>9991 rows × 18 columns</p>\n</div>"
     },
     "execution_count": 14,
     "metadata": {},
     "output_type": "execute_result"
    }
   ],
   "source": [
    "df_1.sort_values(by=['Violation Date', 'Violation Time'], inplace=True)\n",
    "df_1"
   ],
   "metadata": {
    "collapsed": false,
    "ExecuteTime": {
     "start_time": "2023-11-22T20:10:00.317041Z",
     "end_time": "2023-11-22T20:10:00.621032Z"
    }
   }
  },
  {
   "cell_type": "code",
   "execution_count": 15,
   "outputs": [],
   "source": [
    "start_date = pd.to_datetime('2021-07-01')\n",
    "end_date = pd.to_datetime('2022-06-30')"
   ],
   "metadata": {
    "collapsed": false,
    "ExecuteTime": {
     "start_time": "2023-11-22T20:10:00.347037Z",
     "end_time": "2023-11-22T20:10:00.622032Z"
    }
   }
  },
  {
   "cell_type": "code",
   "execution_count": 16,
   "outputs": [
    {
     "data": {
      "text/plain": "      Violation Code Vehicle Body Type  Street Code1  Street Code2  \\\n802               14              DELV         36390         35780   \n2553              14               SDN         40930         75530   \n3262              91               SDN         67490         68090   \n3927              66               TLR         35560         25285   \n2550              14               SDN         34230         28730   \n...              ...               ...           ...           ...   \n1369              74              MOTO         45800         36950   \n4522              46               SDN         36270         11710   \n6629              98              SUBN         31820         12550   \n3293              78               P-U         27540         49920   \n2341              74               SDN         19930         93530   \n\n      Street Code3  Violation Precinct Violation Time Violation County  \\\n802          43490                 112       00:05:00                Q   \n2553         81330                  84       00:05:00               NY   \n3262         43490                 112       00:05:00                Q   \n3927         44750                 121       00:05:00                R   \n2550         85630                  84       00:09:00               BX   \n...            ...                 ...            ...              ...   \n1369         30200                 121       17:40:00                R   \n4522         27390                  26       20:50:00              NaN   \n6629          8020                   0       07:00:00               BX   \n3293         21120                  48       01:32:00               BX   \n2341         54100                  83       08:50:00                K   \n\n           Street Name Intersecting Street Days Parking In Effect  \\\n802       BOOTH STREET                 NaN                BBBBBBB   \n2553      FLATBUSH AVE                 NaN                BBBBBBB   \n3262      WETHEROLE ST                 NaN                BBBBBBB   \n3927  CHRISTOPHER LANE                 NaN                BBBBBBB   \n2550          DUFFIELD                 NaN                BBBBBBB   \n...                ...                 ...                    ...   \n1369        ROXBURY ST                 NaN                BBBBBBB   \n4522        W 125TH ST                 NaN                BBBBBBB   \n6629          FAILE ST                 NaN                BBBBBBB   \n3293    E 196TH STREET                 NaN                BBBBBBB   \n2341       BLEECKER ST                 NaN                BBBBBBB   \n\n     From Hours In Effect To Hours In Effect  Violation Post Code  \\\n802                   ALL                ALL                  NaN   \n2553                  ALL                ALL                  NaN   \n3262                  ALL                ALL                  NaN   \n3927                  ALL                ALL                  NaN   \n2550                  ALL                ALL                  NaN   \n...                   ...                ...                  ...   \n1369                  ALL                ALL                  NaN   \n4522                  ALL                ALL                  NaN   \n6629                  ALL                ALL                  NaN   \n3293                  ALL                ALL                  NaN   \n2341                  ALL                ALL                  NaN   \n\n     Violation Date  Violation Date (Month)  Violation Date (Day)  \\\n802      2021-07-01                       7                     1   \n2553     2021-07-01                       7                     1   \n3262     2021-07-01                       7                     1   \n3927     2021-07-01                       7                     1   \n2550     2021-07-01                       7                     1   \n...             ...                     ...                   ...   \n1369     2021-07-27                       7                    27   \n4522     2021-07-27                       7                    27   \n6629     2021-07-29                       7                    29   \n3293     2021-08-09                       8                     9   \n2341     2021-08-10                       8                    10   \n\n      Violation Date (Year)  \n802                    2021  \n2553                   2021  \n3262                   2021  \n3927                   2021  \n2550                   2021  \n...                     ...  \n1369                   2021  \n4522                   2021  \n6629                   2021  \n3293                   2021  \n2341                   2021  \n\n[6438 rows x 18 columns]",
      "text/html": "<div>\n<style scoped>\n    .dataframe tbody tr th:only-of-type {\n        vertical-align: middle;\n    }\n\n    .dataframe tbody tr th {\n        vertical-align: top;\n    }\n\n    .dataframe thead th {\n        text-align: right;\n    }\n</style>\n<table border=\"1\" class=\"dataframe\">\n  <thead>\n    <tr style=\"text-align: right;\">\n      <th></th>\n      <th>Violation Code</th>\n      <th>Vehicle Body Type</th>\n      <th>Street Code1</th>\n      <th>Street Code2</th>\n      <th>Street Code3</th>\n      <th>Violation Precinct</th>\n      <th>Violation Time</th>\n      <th>Violation County</th>\n      <th>Street Name</th>\n      <th>Intersecting Street</th>\n      <th>Days Parking In Effect</th>\n      <th>From Hours In Effect</th>\n      <th>To Hours In Effect</th>\n      <th>Violation Post Code</th>\n      <th>Violation Date</th>\n      <th>Violation Date (Month)</th>\n      <th>Violation Date (Day)</th>\n      <th>Violation Date (Year)</th>\n    </tr>\n  </thead>\n  <tbody>\n    <tr>\n      <th>802</th>\n      <td>14</td>\n      <td>DELV</td>\n      <td>36390</td>\n      <td>35780</td>\n      <td>43490</td>\n      <td>112</td>\n      <td>00:05:00</td>\n      <td>Q</td>\n      <td>BOOTH STREET</td>\n      <td>NaN</td>\n      <td>BBBBBBB</td>\n      <td>ALL</td>\n      <td>ALL</td>\n      <td>NaN</td>\n      <td>2021-07-01</td>\n      <td>7</td>\n      <td>1</td>\n      <td>2021</td>\n    </tr>\n    <tr>\n      <th>2553</th>\n      <td>14</td>\n      <td>SDN</td>\n      <td>40930</td>\n      <td>75530</td>\n      <td>81330</td>\n      <td>84</td>\n      <td>00:05:00</td>\n      <td>NY</td>\n      <td>FLATBUSH AVE</td>\n      <td>NaN</td>\n      <td>BBBBBBB</td>\n      <td>ALL</td>\n      <td>ALL</td>\n      <td>NaN</td>\n      <td>2021-07-01</td>\n      <td>7</td>\n      <td>1</td>\n      <td>2021</td>\n    </tr>\n    <tr>\n      <th>3262</th>\n      <td>91</td>\n      <td>SDN</td>\n      <td>67490</td>\n      <td>68090</td>\n      <td>43490</td>\n      <td>112</td>\n      <td>00:05:00</td>\n      <td>Q</td>\n      <td>WETHEROLE ST</td>\n      <td>NaN</td>\n      <td>BBBBBBB</td>\n      <td>ALL</td>\n      <td>ALL</td>\n      <td>NaN</td>\n      <td>2021-07-01</td>\n      <td>7</td>\n      <td>1</td>\n      <td>2021</td>\n    </tr>\n    <tr>\n      <th>3927</th>\n      <td>66</td>\n      <td>TLR</td>\n      <td>35560</td>\n      <td>25285</td>\n      <td>44750</td>\n      <td>121</td>\n      <td>00:05:00</td>\n      <td>R</td>\n      <td>CHRISTOPHER LANE</td>\n      <td>NaN</td>\n      <td>BBBBBBB</td>\n      <td>ALL</td>\n      <td>ALL</td>\n      <td>NaN</td>\n      <td>2021-07-01</td>\n      <td>7</td>\n      <td>1</td>\n      <td>2021</td>\n    </tr>\n    <tr>\n      <th>2550</th>\n      <td>14</td>\n      <td>SDN</td>\n      <td>34230</td>\n      <td>28730</td>\n      <td>85630</td>\n      <td>84</td>\n      <td>00:09:00</td>\n      <td>BX</td>\n      <td>DUFFIELD</td>\n      <td>NaN</td>\n      <td>BBBBBBB</td>\n      <td>ALL</td>\n      <td>ALL</td>\n      <td>NaN</td>\n      <td>2021-07-01</td>\n      <td>7</td>\n      <td>1</td>\n      <td>2021</td>\n    </tr>\n    <tr>\n      <th>...</th>\n      <td>...</td>\n      <td>...</td>\n      <td>...</td>\n      <td>...</td>\n      <td>...</td>\n      <td>...</td>\n      <td>...</td>\n      <td>...</td>\n      <td>...</td>\n      <td>...</td>\n      <td>...</td>\n      <td>...</td>\n      <td>...</td>\n      <td>...</td>\n      <td>...</td>\n      <td>...</td>\n      <td>...</td>\n      <td>...</td>\n    </tr>\n    <tr>\n      <th>1369</th>\n      <td>74</td>\n      <td>MOTO</td>\n      <td>45800</td>\n      <td>36950</td>\n      <td>30200</td>\n      <td>121</td>\n      <td>17:40:00</td>\n      <td>R</td>\n      <td>ROXBURY ST</td>\n      <td>NaN</td>\n      <td>BBBBBBB</td>\n      <td>ALL</td>\n      <td>ALL</td>\n      <td>NaN</td>\n      <td>2021-07-27</td>\n      <td>7</td>\n      <td>27</td>\n      <td>2021</td>\n    </tr>\n    <tr>\n      <th>4522</th>\n      <td>46</td>\n      <td>SDN</td>\n      <td>36270</td>\n      <td>11710</td>\n      <td>27390</td>\n      <td>26</td>\n      <td>20:50:00</td>\n      <td>NaN</td>\n      <td>W 125TH ST</td>\n      <td>NaN</td>\n      <td>BBBBBBB</td>\n      <td>ALL</td>\n      <td>ALL</td>\n      <td>NaN</td>\n      <td>2021-07-27</td>\n      <td>7</td>\n      <td>27</td>\n      <td>2021</td>\n    </tr>\n    <tr>\n      <th>6629</th>\n      <td>98</td>\n      <td>SUBN</td>\n      <td>31820</td>\n      <td>12550</td>\n      <td>8020</td>\n      <td>0</td>\n      <td>07:00:00</td>\n      <td>BX</td>\n      <td>FAILE ST</td>\n      <td>NaN</td>\n      <td>BBBBBBB</td>\n      <td>ALL</td>\n      <td>ALL</td>\n      <td>NaN</td>\n      <td>2021-07-29</td>\n      <td>7</td>\n      <td>29</td>\n      <td>2021</td>\n    </tr>\n    <tr>\n      <th>3293</th>\n      <td>78</td>\n      <td>P-U</td>\n      <td>27540</td>\n      <td>49920</td>\n      <td>21120</td>\n      <td>48</td>\n      <td>01:32:00</td>\n      <td>BX</td>\n      <td>E 196TH STREET</td>\n      <td>NaN</td>\n      <td>BBBBBBB</td>\n      <td>ALL</td>\n      <td>ALL</td>\n      <td>NaN</td>\n      <td>2021-08-09</td>\n      <td>8</td>\n      <td>9</td>\n      <td>2021</td>\n    </tr>\n    <tr>\n      <th>2341</th>\n      <td>74</td>\n      <td>SDN</td>\n      <td>19930</td>\n      <td>93530</td>\n      <td>54100</td>\n      <td>83</td>\n      <td>08:50:00</td>\n      <td>K</td>\n      <td>BLEECKER ST</td>\n      <td>NaN</td>\n      <td>BBBBBBB</td>\n      <td>ALL</td>\n      <td>ALL</td>\n      <td>NaN</td>\n      <td>2021-08-10</td>\n      <td>8</td>\n      <td>10</td>\n      <td>2021</td>\n    </tr>\n  </tbody>\n</table>\n<p>6438 rows × 18 columns</p>\n</div>"
     },
     "execution_count": 16,
     "metadata": {},
     "output_type": "execute_result"
    }
   ],
   "source": [
    "df_1 = df_1[(df_1['Violation Date'] >= start_date) & (df_1['Violation Date'] <= end_date)]\n",
    "df_1"
   ],
   "metadata": {
    "collapsed": false,
    "ExecuteTime": {
     "start_time": "2023-11-22T20:10:00.363038Z",
     "end_time": "2023-11-22T20:10:00.622032Z"
    }
   }
  },
  {
   "cell_type": "code",
   "execution_count": 17,
   "outputs": [
    {
     "name": "stderr",
     "output_type": "stream",
     "text": [
      "C:\\Users\\YSK\\AppData\\Local\\Temp\\ipykernel_14388\\1034078261.py:1: SettingWithCopyWarning: \n",
      "A value is trying to be set on a copy of a slice from a DataFrame.\n",
      "Try using .loc[row_indexer,col_indexer] = value instead\n",
      "\n",
      "See the caveats in the documentation: https://pandas.pydata.org/pandas-docs/stable/user_guide/indexing.html#returning-a-view-versus-a-copy\n",
      "  df_1['Violation Hour'] = df_1['Violation Time'].apply(lambda x: (x.hour % 24)).astype(int)\n"
     ]
    },
    {
     "data": {
      "text/plain": "802      0\n2553     0\n3262     0\n3927     0\n2550     0\n        ..\n1369    17\n4522    20\n6629     7\n3293     1\n2341     8\nName: Violation Hour, Length: 6438, dtype: int32"
     },
     "execution_count": 17,
     "metadata": {},
     "output_type": "execute_result"
    }
   ],
   "source": [
    "df_1['Violation Hour'] = df_1['Violation Time'].apply(lambda x: (x.hour % 24)).astype(int)\n",
    "df_1['Violation Hour']"
   ],
   "metadata": {
    "collapsed": false,
    "ExecuteTime": {
     "start_time": "2023-11-22T20:10:00.395034Z",
     "end_time": "2023-11-22T20:10:00.624033Z"
    }
   }
  },
  {
   "cell_type": "code",
   "execution_count": 55,
   "outputs": [
    {
     "name": "stdout",
     "output_type": "stream",
     "text": [
      "802     False\n",
      "2553    False\n",
      "3262    False\n",
      "3927    False\n",
      "2550    False\n",
      "        ...  \n",
      "1369    False\n",
      "4522    False\n",
      "6629    False\n",
      "3293    False\n",
      "2341    False\n",
      "Name: Violation Date, Length: 6438, dtype: bool\n",
      "filtered data: 0\n",
      "total_location_violations: 6438\n",
      "Location Violation Rate for LEXINGTON AVE between 00:00 and 02:00: 0.00%\n"
     ]
    }
   ],
   "source": [
    "from datetime import datetime\n",
    "\n",
    "def calculate_location_violation_rate(df, location, time_range, precinct, violation_date):\n",
    "    start_time = datetime.strptime(time_range[0], \"%H:%M\").time()\n",
    "    end_time = datetime.strptime(time_range[1], \"%H:%M\").time()\n",
    "\n",
    "    filtered_data = df[(df['Street Name'] == location) & (df['Violation Date'] == violation_date) & (~df['Violation Time'].isna()) &\n",
    "                       (df['Violation Time'].apply(lambda x: not pd.isna(x) and x == x and start_time <= x <= end_time))]\n",
    "\n",
    "    print(\"filtered data:\", len(filtered_data))\n",
    "\n",
    "    total_location_violations = len((df['Violation Time'].between(start_time, end_time)) & (df['Violation Precinct'] == precinct) & (df['Violation Date'] == violation_date))\n",
    "    print(\"total_location_violations:\", total_location_violations)\n",
    "    if total_location_violations == 0:\n",
    "        return 0\n",
    "\n",
    "    location_violations = len(filtered_data)\n",
    "\n",
    "    location_violation_rate = (location_violations / total_location_violations) * 100\n",
    "\n",
    "    return location_violation_rate\n",
    "\n",
    "location = 'LEXINGTON AVE'\n",
    "location_precinct = 25\n",
    "time_range = ('00:00', '23:00')\n",
    "\n",
    "violation_date = datetime.strptime('2021-07-17', '%Y-%m-%d').date()\n",
    "rate = calculate_location_violation_rate(df_1, location, time_range, location_precinct, violation_date)\n",
    "print(f'Location Violation Rate for {location} between {time_range[0]} and {time_range[1]}: {rate:.2f}%')"
   ],
   "metadata": {
    "collapsed": false,
    "ExecuteTime": {
     "start_time": "2023-11-22T20:36:57.218928Z",
     "end_time": "2023-11-22T20:36:57.290928Z"
    }
   }
  },
  {
   "cell_type": "code",
   "execution_count": 57,
   "outputs": [
    {
     "name": "stdout",
     "output_type": "stream",
     "text": [
      "filtered data: 10\n",
      "total_location_violations: 6438\n",
      "Location Violation Rate for FLATBUSH AVE between 08:00 and 23:00: 0.16%\n"
     ]
    }
   ],
   "source": [
    "from datetime import datetime\n",
    "\n",
    "def calculate_location_violation_rate(df, location, time_range):\n",
    "    start_time = datetime.strptime(time_range[0], \"%H:%M\").time()\n",
    "    end_time = datetime.strptime(time_range[1], \"%H:%M\").time()\n",
    "\n",
    "    # 'NaT' değerleri kontrol et\n",
    "    filtered_data = df[(df['Street Name'] == location) & (~df['Violation Time'].isna()) &\n",
    "                       (df['Violation Time'].apply(lambda x: not pd.isna(x) and x == x and start_time <= x <= end_time))]\n",
    "\n",
    "    print(\"filtered data:\", len(filtered_data))\n",
    "    # Belirli bir konumun toplam ihlal sayısı\n",
    "    total_location_violations = len((df['Violation Code'] > 0) & (df['Violation Time'].between(start_time, end_time)))\n",
    "\n",
    "    if total_location_violations == 0:\n",
    "        return 0\n",
    "\n",
    "    print(\"total_location_violations:\", total_location_violations)\n",
    "\n",
    "\n",
    "    # Belirli bir konum ve saat aralığındaki ihlal sayısı\n",
    "    location_violations = len(filtered_data[filtered_data['Violation Code'] > 0])\n",
    "\n",
    "    # Location Violation Rate hesapla\n",
    "    location_violation_rate = (location_violations / total_location_violations) * 100\n",
    "\n",
    "    return location_violation_rate\n",
    "\n",
    "location = 'FLATBUSH AVE'\n",
    "time_range = ('08:00', '23:00')\n",
    "rate = calculate_location_violation_rate(df_1, location, time_range)\n",
    "print(f'Location Violation Rate for {location} between {time_range[0]} and {time_range[1]}: {rate:.2f}%')"
   ],
   "metadata": {
    "collapsed": false,
    "ExecuteTime": {
     "start_time": "2023-11-22T20:38:26.603472Z",
     "end_time": "2023-11-22T20:38:26.628464Z"
    }
   }
  },
  {
   "cell_type": "code",
   "execution_count": 19,
   "outputs": [
    {
     "name": "stderr",
     "output_type": "stream",
     "text": [
      "C:\\Users\\YSK\\AppData\\Local\\Temp\\ipykernel_14388\\1606983720.py:29: SettingWithCopyWarning: \n",
      "A value is trying to be set on a copy of a slice from a DataFrame.\n",
      "Try using .loc[row_indexer,col_indexer] = value instead\n",
      "\n",
      "See the caveats in the documentation: https://pandas.pydata.org/pandas-docs/stable/user_guide/indexing.html#returning-a-view-versus-a-copy\n",
      "  df_1['Violation Rate'] = df_1.apply(lambda row: calculate_violation_rate(row, df_1), axis=1)\n"
     ]
    }
   ],
   "source": [
    "from datetime import datetime, timedelta\n",
    "\n",
    "def calculate_violation_rate(row, df):\n",
    "    location = row['Street Name']\n",
    "    hour = row['Violation Hour']\n",
    "\n",
    "    # Handle the case where hour is 24\n",
    "    if hour == 23:\n",
    "        start_time = datetime.strptime('23:00', '%H:%M').time()\n",
    "        end_time = datetime.strptime('23:59', '%H:%M').time()\n",
    "    else:\n",
    "        start_time = datetime.strptime(f'{hour:02d}:00', '%H:%M').time()\n",
    "        end_time = (datetime.strptime(f'{hour+1:02d}:00', '%H:%M') + timedelta(minutes=59, seconds=59)).time()\n",
    "\n",
    "    filtered_data = df[(df['Street Name'] == location) & (df['Violation Time'].between(start_time, end_time))]\n",
    "\n",
    "    # total_location_violations = len(df[(df['Street Name'] == location) & (df['Violation Code'] > 0) & (df['Violation Time'].between(start_time, end_time))])\n",
    "    total_location_violations = len((df['Violation Code'] > 0) & (df['Violation Time'].between(start_time, end_time)))\n",
    "\n",
    "\n",
    "    location_violations = len(filtered_data[filtered_data['Violation Code'] > 0])\n",
    "\n",
    "    if total_location_violations == 0:\n",
    "        return 0\n",
    "\n",
    "    location_violation_rate = (location_violations / total_location_violations) * 100\n",
    "\n",
    "    return location_violation_rate\n",
    "\n",
    "df_1['Violation Rate'] = df_1.apply(lambda row: calculate_violation_rate(row, df_1), axis=1)"
   ],
   "metadata": {
    "collapsed": false,
    "ExecuteTime": {
     "start_time": "2023-11-22T20:10:00.444031Z",
     "end_time": "2023-11-22T20:10:22.700030Z"
    }
   }
  },
  {
   "cell_type": "code",
   "execution_count": 20,
   "outputs": [
    {
     "data": {
      "text/plain": "802     0.015533\n2553    0.093197\n3262    0.015533\n3927    0.015533\n2550    0.015533\n          ...   \n1369    0.015533\n4522    0.046598\n6629    0.015533\n3293    0.015533\n2341    0.015533\nName: Violation Rate, Length: 6438, dtype: float64"
     },
     "execution_count": 20,
     "metadata": {},
     "output_type": "execute_result"
    }
   ],
   "source": [
    "df_1['Violation Rate']"
   ],
   "metadata": {
    "collapsed": false,
    "ExecuteTime": {
     "start_time": "2023-11-22T20:10:22.701032Z",
     "end_time": "2023-11-22T20:10:22.793027Z"
    }
   }
  },
  {
   "cell_type": "code",
   "execution_count": 21,
   "outputs": [
    {
     "data": {
      "text/plain": "      Violation Code Vehicle Body Type  Street Code1  Street Code2  \\\n802               14              DELV         36390         35780   \n2553              14               SDN         40930         75530   \n3262              91               SDN         67490         68090   \n3927              66               TLR         35560         25285   \n2550              14               SDN         34230         28730   \n...              ...               ...           ...           ...   \n1369              74              MOTO         45800         36950   \n4522              46               SDN         36270         11710   \n6629              98              SUBN         31820         12550   \n3293              78               P-U         27540         49920   \n2341              74               SDN         19930         93530   \n\n      Street Code3  Violation Precinct Violation Time Violation County  \\\n802          43490                 112       00:05:00                Q   \n2553         81330                  84       00:05:00               NY   \n3262         43490                 112       00:05:00                Q   \n3927         44750                 121       00:05:00                R   \n2550         85630                  84       00:09:00               BX   \n...            ...                 ...            ...              ...   \n1369         30200                 121       17:40:00                R   \n4522         27390                  26       20:50:00              NaN   \n6629          8020                   0       07:00:00               BX   \n3293         21120                  48       01:32:00               BX   \n2341         54100                  83       08:50:00                K   \n\n           Street Name Intersecting Street Days Parking In Effect  \\\n802       BOOTH STREET                 NaN                BBBBBBB   \n2553      FLATBUSH AVE                 NaN                BBBBBBB   \n3262      WETHEROLE ST                 NaN                BBBBBBB   \n3927  CHRISTOPHER LANE                 NaN                BBBBBBB   \n2550          DUFFIELD                 NaN                BBBBBBB   \n...                ...                 ...                    ...   \n1369        ROXBURY ST                 NaN                BBBBBBB   \n4522        W 125TH ST                 NaN                BBBBBBB   \n6629          FAILE ST                 NaN                BBBBBBB   \n3293    E 196TH STREET                 NaN                BBBBBBB   \n2341       BLEECKER ST                 NaN                BBBBBBB   \n\n     From Hours In Effect To Hours In Effect  Violation Post Code  \\\n802                   ALL                ALL                  NaN   \n2553                  ALL                ALL                  NaN   \n3262                  ALL                ALL                  NaN   \n3927                  ALL                ALL                  NaN   \n2550                  ALL                ALL                  NaN   \n...                   ...                ...                  ...   \n1369                  ALL                ALL                  NaN   \n4522                  ALL                ALL                  NaN   \n6629                  ALL                ALL                  NaN   \n3293                  ALL                ALL                  NaN   \n2341                  ALL                ALL                  NaN   \n\n     Violation Date  Violation Date (Month)  Violation Date (Day)  \\\n802      2021-07-01                       7                     1   \n2553     2021-07-01                       7                     1   \n3262     2021-07-01                       7                     1   \n3927     2021-07-01                       7                     1   \n2550     2021-07-01                       7                     1   \n...             ...                     ...                   ...   \n1369     2021-07-27                       7                    27   \n4522     2021-07-27                       7                    27   \n6629     2021-07-29                       7                    29   \n3293     2021-08-09                       8                     9   \n2341     2021-08-10                       8                    10   \n\n      Violation Date (Year)  Violation Hour  Violation Rate  \n802                    2021               0        0.015533  \n2553                   2021               0        0.093197  \n3262                   2021               0        0.015533  \n3927                   2021               0        0.015533  \n2550                   2021               0        0.015533  \n...                     ...             ...             ...  \n1369                   2021              17        0.015533  \n4522                   2021              20        0.046598  \n6629                   2021               7        0.015533  \n3293                   2021               1        0.015533  \n2341                   2021               8        0.015533  \n\n[6438 rows x 20 columns]",
      "text/html": "<div>\n<style scoped>\n    .dataframe tbody tr th:only-of-type {\n        vertical-align: middle;\n    }\n\n    .dataframe tbody tr th {\n        vertical-align: top;\n    }\n\n    .dataframe thead th {\n        text-align: right;\n    }\n</style>\n<table border=\"1\" class=\"dataframe\">\n  <thead>\n    <tr style=\"text-align: right;\">\n      <th></th>\n      <th>Violation Code</th>\n      <th>Vehicle Body Type</th>\n      <th>Street Code1</th>\n      <th>Street Code2</th>\n      <th>Street Code3</th>\n      <th>Violation Precinct</th>\n      <th>Violation Time</th>\n      <th>Violation County</th>\n      <th>Street Name</th>\n      <th>Intersecting Street</th>\n      <th>Days Parking In Effect</th>\n      <th>From Hours In Effect</th>\n      <th>To Hours In Effect</th>\n      <th>Violation Post Code</th>\n      <th>Violation Date</th>\n      <th>Violation Date (Month)</th>\n      <th>Violation Date (Day)</th>\n      <th>Violation Date (Year)</th>\n      <th>Violation Hour</th>\n      <th>Violation Rate</th>\n    </tr>\n  </thead>\n  <tbody>\n    <tr>\n      <th>802</th>\n      <td>14</td>\n      <td>DELV</td>\n      <td>36390</td>\n      <td>35780</td>\n      <td>43490</td>\n      <td>112</td>\n      <td>00:05:00</td>\n      <td>Q</td>\n      <td>BOOTH STREET</td>\n      <td>NaN</td>\n      <td>BBBBBBB</td>\n      <td>ALL</td>\n      <td>ALL</td>\n      <td>NaN</td>\n      <td>2021-07-01</td>\n      <td>7</td>\n      <td>1</td>\n      <td>2021</td>\n      <td>0</td>\n      <td>0.015533</td>\n    </tr>\n    <tr>\n      <th>2553</th>\n      <td>14</td>\n      <td>SDN</td>\n      <td>40930</td>\n      <td>75530</td>\n      <td>81330</td>\n      <td>84</td>\n      <td>00:05:00</td>\n      <td>NY</td>\n      <td>FLATBUSH AVE</td>\n      <td>NaN</td>\n      <td>BBBBBBB</td>\n      <td>ALL</td>\n      <td>ALL</td>\n      <td>NaN</td>\n      <td>2021-07-01</td>\n      <td>7</td>\n      <td>1</td>\n      <td>2021</td>\n      <td>0</td>\n      <td>0.093197</td>\n    </tr>\n    <tr>\n      <th>3262</th>\n      <td>91</td>\n      <td>SDN</td>\n      <td>67490</td>\n      <td>68090</td>\n      <td>43490</td>\n      <td>112</td>\n      <td>00:05:00</td>\n      <td>Q</td>\n      <td>WETHEROLE ST</td>\n      <td>NaN</td>\n      <td>BBBBBBB</td>\n      <td>ALL</td>\n      <td>ALL</td>\n      <td>NaN</td>\n      <td>2021-07-01</td>\n      <td>7</td>\n      <td>1</td>\n      <td>2021</td>\n      <td>0</td>\n      <td>0.015533</td>\n    </tr>\n    <tr>\n      <th>3927</th>\n      <td>66</td>\n      <td>TLR</td>\n      <td>35560</td>\n      <td>25285</td>\n      <td>44750</td>\n      <td>121</td>\n      <td>00:05:00</td>\n      <td>R</td>\n      <td>CHRISTOPHER LANE</td>\n      <td>NaN</td>\n      <td>BBBBBBB</td>\n      <td>ALL</td>\n      <td>ALL</td>\n      <td>NaN</td>\n      <td>2021-07-01</td>\n      <td>7</td>\n      <td>1</td>\n      <td>2021</td>\n      <td>0</td>\n      <td>0.015533</td>\n    </tr>\n    <tr>\n      <th>2550</th>\n      <td>14</td>\n      <td>SDN</td>\n      <td>34230</td>\n      <td>28730</td>\n      <td>85630</td>\n      <td>84</td>\n      <td>00:09:00</td>\n      <td>BX</td>\n      <td>DUFFIELD</td>\n      <td>NaN</td>\n      <td>BBBBBBB</td>\n      <td>ALL</td>\n      <td>ALL</td>\n      <td>NaN</td>\n      <td>2021-07-01</td>\n      <td>7</td>\n      <td>1</td>\n      <td>2021</td>\n      <td>0</td>\n      <td>0.015533</td>\n    </tr>\n    <tr>\n      <th>...</th>\n      <td>...</td>\n      <td>...</td>\n      <td>...</td>\n      <td>...</td>\n      <td>...</td>\n      <td>...</td>\n      <td>...</td>\n      <td>...</td>\n      <td>...</td>\n      <td>...</td>\n      <td>...</td>\n      <td>...</td>\n      <td>...</td>\n      <td>...</td>\n      <td>...</td>\n      <td>...</td>\n      <td>...</td>\n      <td>...</td>\n      <td>...</td>\n      <td>...</td>\n    </tr>\n    <tr>\n      <th>1369</th>\n      <td>74</td>\n      <td>MOTO</td>\n      <td>45800</td>\n      <td>36950</td>\n      <td>30200</td>\n      <td>121</td>\n      <td>17:40:00</td>\n      <td>R</td>\n      <td>ROXBURY ST</td>\n      <td>NaN</td>\n      <td>BBBBBBB</td>\n      <td>ALL</td>\n      <td>ALL</td>\n      <td>NaN</td>\n      <td>2021-07-27</td>\n      <td>7</td>\n      <td>27</td>\n      <td>2021</td>\n      <td>17</td>\n      <td>0.015533</td>\n    </tr>\n    <tr>\n      <th>4522</th>\n      <td>46</td>\n      <td>SDN</td>\n      <td>36270</td>\n      <td>11710</td>\n      <td>27390</td>\n      <td>26</td>\n      <td>20:50:00</td>\n      <td>NaN</td>\n      <td>W 125TH ST</td>\n      <td>NaN</td>\n      <td>BBBBBBB</td>\n      <td>ALL</td>\n      <td>ALL</td>\n      <td>NaN</td>\n      <td>2021-07-27</td>\n      <td>7</td>\n      <td>27</td>\n      <td>2021</td>\n      <td>20</td>\n      <td>0.046598</td>\n    </tr>\n    <tr>\n      <th>6629</th>\n      <td>98</td>\n      <td>SUBN</td>\n      <td>31820</td>\n      <td>12550</td>\n      <td>8020</td>\n      <td>0</td>\n      <td>07:00:00</td>\n      <td>BX</td>\n      <td>FAILE ST</td>\n      <td>NaN</td>\n      <td>BBBBBBB</td>\n      <td>ALL</td>\n      <td>ALL</td>\n      <td>NaN</td>\n      <td>2021-07-29</td>\n      <td>7</td>\n      <td>29</td>\n      <td>2021</td>\n      <td>7</td>\n      <td>0.015533</td>\n    </tr>\n    <tr>\n      <th>3293</th>\n      <td>78</td>\n      <td>P-U</td>\n      <td>27540</td>\n      <td>49920</td>\n      <td>21120</td>\n      <td>48</td>\n      <td>01:32:00</td>\n      <td>BX</td>\n      <td>E 196TH STREET</td>\n      <td>NaN</td>\n      <td>BBBBBBB</td>\n      <td>ALL</td>\n      <td>ALL</td>\n      <td>NaN</td>\n      <td>2021-08-09</td>\n      <td>8</td>\n      <td>9</td>\n      <td>2021</td>\n      <td>1</td>\n      <td>0.015533</td>\n    </tr>\n    <tr>\n      <th>2341</th>\n      <td>74</td>\n      <td>SDN</td>\n      <td>19930</td>\n      <td>93530</td>\n      <td>54100</td>\n      <td>83</td>\n      <td>08:50:00</td>\n      <td>K</td>\n      <td>BLEECKER ST</td>\n      <td>NaN</td>\n      <td>BBBBBBB</td>\n      <td>ALL</td>\n      <td>ALL</td>\n      <td>NaN</td>\n      <td>2021-08-10</td>\n      <td>8</td>\n      <td>10</td>\n      <td>2021</td>\n      <td>8</td>\n      <td>0.015533</td>\n    </tr>\n  </tbody>\n</table>\n<p>6438 rows × 20 columns</p>\n</div>"
     },
     "execution_count": 21,
     "metadata": {},
     "output_type": "execute_result"
    }
   ],
   "source": [
    "df_1"
   ],
   "metadata": {
    "collapsed": false,
    "ExecuteTime": {
     "start_time": "2023-11-22T20:10:22.719033Z",
     "end_time": "2023-11-22T20:10:22.810028Z"
    }
   }
  },
  {
   "cell_type": "code",
   "execution_count": 22,
   "outputs": [],
   "source": [
    "def scale_between_0_and_1(value, min_value, max_value):\n",
    "    \"\"\"\n",
    "    Scale a value to be between 0 and 1.\n",
    "\n",
    "    :param value: The value to be scaled.\n",
    "    :param min_value: The minimum value in the range of your data.\n",
    "    :param max_value: The maximum value in the range of your data.\n",
    "    :return: Scaled value between 0 and 1.\n",
    "    \"\"\"\n",
    "    if max_value == min_value:\n",
    "        return 0  # Avoid division by zero if all values are the same\n",
    "\n",
    "    return (value - min_value) / (max_value - min_value)"
   ],
   "metadata": {
    "collapsed": false,
    "ExecuteTime": {
     "start_time": "2023-11-22T20:10:22.751029Z",
     "end_time": "2023-11-22T20:10:22.811026Z"
    }
   }
  },
  {
   "cell_type": "code",
   "execution_count": 23,
   "outputs": [
    {
     "name": "stderr",
     "output_type": "stream",
     "text": [
      "C:\\Users\\YSK\\AppData\\Local\\Temp\\ipykernel_14388\\3550620744.py:1: SettingWithCopyWarning: \n",
      "A value is trying to be set on a copy of a slice from a DataFrame.\n",
      "Try using .loc[row_indexer,col_indexer] = value instead\n",
      "\n",
      "See the caveats in the documentation: https://pandas.pydata.org/pandas-docs/stable/user_guide/indexing.html#returning-a-view-versus-a-copy\n",
      "  df_1['Violation Rate (Scaled)'] = df_1['Violation Rate'].apply(lambda x: scale_between_0_and_1(x, df_1['Violation Rate'].min(), df_1['Violation Rate'].max()))\n"
     ]
    },
    {
     "data": {
      "text/plain": "802     0.034483\n2553    0.206897\n3262    0.034483\n3927    0.034483\n2550    0.034483\n          ...   \n1369    0.034483\n4522    0.103448\n6629    0.034483\n3293    0.034483\n2341    0.034483\nName: Violation Rate (Scaled), Length: 6438, dtype: float64"
     },
     "execution_count": 23,
     "metadata": {},
     "output_type": "execute_result"
    }
   ],
   "source": [
    "df_1['Violation Rate (Scaled)'] = df_1['Violation Rate'].apply(lambda x: scale_between_0_and_1(x, df_1['Violation Rate'].min(), df_1['Violation Rate'].max()))\n",
    "df_1['Violation Rate (Scaled)']"
   ],
   "metadata": {
    "collapsed": false,
    "ExecuteTime": {
     "start_time": "2023-11-22T20:10:22.766033Z",
     "end_time": "2023-11-22T20:10:23.276037Z"
    }
   }
  },
  {
   "cell_type": "code",
   "execution_count": 38,
   "outputs": [
    {
     "data": {
      "text/plain": "0.45045045045045046"
     },
     "execution_count": 38,
     "metadata": {},
     "output_type": "execute_result"
    }
   ],
   "source": [
    "df_1['Violation Rate'].max()"
   ],
   "metadata": {
    "collapsed": false,
    "ExecuteTime": {
     "start_time": "2023-11-22T20:20:51.420126Z",
     "end_time": "2023-11-22T20:20:51.426120Z"
    }
   }
  }
 ],
 "metadata": {
  "kernelspec": {
   "display_name": "Python 3",
   "language": "python",
   "name": "python3"
  },
  "language_info": {
   "codemirror_mode": {
    "name": "ipython",
    "version": 2
   },
   "file_extension": ".py",
   "mimetype": "text/x-python",
   "name": "python",
   "nbconvert_exporter": "python",
   "pygments_lexer": "ipython2",
   "version": "2.7.6"
  }
 },
 "nbformat": 4,
 "nbformat_minor": 0
}
