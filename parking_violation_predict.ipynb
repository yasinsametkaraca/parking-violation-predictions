{
 "cells": [
  {
   "cell_type": "markdown",
   "source": [
    "# NYC Parking Tickets: Violation Rate Prediction"
   ],
   "metadata": {
    "collapsed": false
   }
  },
  {
   "cell_type": "code",
   "execution_count": 111,
   "metadata": {
    "collapsed": true,
    "ExecuteTime": {
     "start_time": "2023-11-23T11:35:12.368179Z",
     "end_time": "2023-11-23T11:35:12.413174Z"
    }
   },
   "outputs": [],
   "source": [
    "# This Python 3 environment comes with many helpful analytics libraries installed\n",
    "# It is defined by the kaggle/python docker image: https://github.com/kaggle/docker-python\n",
    "# For example, here's several helpful packages to load in\n",
    "\n",
    "from datetime import datetime, timedelta\n",
    "\n",
    "import numpy as np # linear algebra\n",
    "import pandas as pd # data processing, CSV file I/O (e.g. pd.read_csv)\n",
    "# importing libraries\n",
    "\n",
    "import csv\n",
    "import matplotlib.pyplot as plt\n",
    "import seaborn as sns\n",
    "\n",
    "import warnings\n",
    "warnings.filterwarnings(\"ignore\")\n",
    "\n",
    "# Input data files are available in the \"../input/\" directory.\n",
    "# For example, running this (by clicking run or pressing Shift+Enter) will list the files in the input directory\n",
    "\n",
    "# import os\n",
    "# print(os.listdir(\"../input\"))\n",
    "\n",
    "# Any results you write to the current directory are saved as output."
   ]
  },
  {
   "cell_type": "code",
   "execution_count": 112,
   "outputs": [
    {
     "data": {
      "text/plain": "         Issue Date  Violation Code Vehicle Body Type  Street Code1  \\\n0        06/25/2021              40               VAN         63430   \n1        06/25/2021              20              SUBN         13490   \n2        06/17/2021              98               SDN         79430   \n3        06/16/2021              98               SDN         53130   \n4        07/04/2021              40              TAXI         81030   \n...             ...             ...               ...           ...   \n2999995  09/16/2021              36              4DSD             0   \n2999996  09/16/2021              36              SUBN             0   \n2999997  09/16/2021              36              SUBN             0   \n2999998  09/16/2021              36              SUBN             0   \n2999999  09/16/2021              36              SUBN             0   \n\n         Street Code2  Street Code3  Violation Precinct Violation Time  \\\n0               69230         13490                  88          0130A   \n1               40404         40404                  88          0225A   \n2               47130         11750                  88          0809P   \n3               23230         23930                  83          0605P   \n4               23930         40030                  83          1058P   \n...               ...           ...                 ...            ...   \n2999995             0             0                   0          0231P   \n2999996             0             0                   0          0231P   \n2999997             0             0                   0          0231P   \n2999998             0             0                   0          0231P   \n2999999             0             0                   0          0231P   \n\n        Violation County           Street Name Intersecting Street  \\\n0                      K    NORTH PORTLAND AVE                 NaN   \n1                      K          AUBURN PLACE                 NaN   \n2                      K    SOUTH PORTLAND AVE                 NaN   \n3                      K          JEFFERSON ST                 NaN   \n4                      K           STANHOPE ST                 NaN   \n...                  ...                   ...                 ...   \n2999995               QN  WB LINDEN BLVD @ AMB               ER ST   \n2999996               QN  SB QUEENS BLVD @ 87T               H AVE   \n2999997               BK  WB MEEKER AVE @ LORI              MER ST   \n2999998               BX  NB BRONX RIVER AVE @          E 174TH ST   \n2999999               BK  EB ATLANTIC AVE @ ES              SEX ST   \n\n        Violation Post Code  \n0                       NaN  \n1                       NaN  \n2                       NaN  \n3                       NaN  \n4                       NaN  \n...                     ...  \n2999995                 NaN  \n2999996                 NaN  \n2999997                 NaN  \n2999998                 NaN  \n2999999                 NaN  \n\n[3000000 rows x 12 columns]",
      "text/html": "<div>\n<style scoped>\n    .dataframe tbody tr th:only-of-type {\n        vertical-align: middle;\n    }\n\n    .dataframe tbody tr th {\n        vertical-align: top;\n    }\n\n    .dataframe thead th {\n        text-align: right;\n    }\n</style>\n<table border=\"1\" class=\"dataframe\">\n  <thead>\n    <tr style=\"text-align: right;\">\n      <th></th>\n      <th>Issue Date</th>\n      <th>Violation Code</th>\n      <th>Vehicle Body Type</th>\n      <th>Street Code1</th>\n      <th>Street Code2</th>\n      <th>Street Code3</th>\n      <th>Violation Precinct</th>\n      <th>Violation Time</th>\n      <th>Violation County</th>\n      <th>Street Name</th>\n      <th>Intersecting Street</th>\n      <th>Violation Post Code</th>\n    </tr>\n  </thead>\n  <tbody>\n    <tr>\n      <th>0</th>\n      <td>06/25/2021</td>\n      <td>40</td>\n      <td>VAN</td>\n      <td>63430</td>\n      <td>69230</td>\n      <td>13490</td>\n      <td>88</td>\n      <td>0130A</td>\n      <td>K</td>\n      <td>NORTH PORTLAND AVE</td>\n      <td>NaN</td>\n      <td>NaN</td>\n    </tr>\n    <tr>\n      <th>1</th>\n      <td>06/25/2021</td>\n      <td>20</td>\n      <td>SUBN</td>\n      <td>13490</td>\n      <td>40404</td>\n      <td>40404</td>\n      <td>88</td>\n      <td>0225A</td>\n      <td>K</td>\n      <td>AUBURN PLACE</td>\n      <td>NaN</td>\n      <td>NaN</td>\n    </tr>\n    <tr>\n      <th>2</th>\n      <td>06/17/2021</td>\n      <td>98</td>\n      <td>SDN</td>\n      <td>79430</td>\n      <td>47130</td>\n      <td>11750</td>\n      <td>88</td>\n      <td>0809P</td>\n      <td>K</td>\n      <td>SOUTH PORTLAND AVE</td>\n      <td>NaN</td>\n      <td>NaN</td>\n    </tr>\n    <tr>\n      <th>3</th>\n      <td>06/16/2021</td>\n      <td>98</td>\n      <td>SDN</td>\n      <td>53130</td>\n      <td>23230</td>\n      <td>23930</td>\n      <td>83</td>\n      <td>0605P</td>\n      <td>K</td>\n      <td>JEFFERSON ST</td>\n      <td>NaN</td>\n      <td>NaN</td>\n    </tr>\n    <tr>\n      <th>4</th>\n      <td>07/04/2021</td>\n      <td>40</td>\n      <td>TAXI</td>\n      <td>81030</td>\n      <td>23930</td>\n      <td>40030</td>\n      <td>83</td>\n      <td>1058P</td>\n      <td>K</td>\n      <td>STANHOPE ST</td>\n      <td>NaN</td>\n      <td>NaN</td>\n    </tr>\n    <tr>\n      <th>...</th>\n      <td>...</td>\n      <td>...</td>\n      <td>...</td>\n      <td>...</td>\n      <td>...</td>\n      <td>...</td>\n      <td>...</td>\n      <td>...</td>\n      <td>...</td>\n      <td>...</td>\n      <td>...</td>\n      <td>...</td>\n    </tr>\n    <tr>\n      <th>2999995</th>\n      <td>09/16/2021</td>\n      <td>36</td>\n      <td>4DSD</td>\n      <td>0</td>\n      <td>0</td>\n      <td>0</td>\n      <td>0</td>\n      <td>0231P</td>\n      <td>QN</td>\n      <td>WB LINDEN BLVD @ AMB</td>\n      <td>ER ST</td>\n      <td>NaN</td>\n    </tr>\n    <tr>\n      <th>2999996</th>\n      <td>09/16/2021</td>\n      <td>36</td>\n      <td>SUBN</td>\n      <td>0</td>\n      <td>0</td>\n      <td>0</td>\n      <td>0</td>\n      <td>0231P</td>\n      <td>QN</td>\n      <td>SB QUEENS BLVD @ 87T</td>\n      <td>H AVE</td>\n      <td>NaN</td>\n    </tr>\n    <tr>\n      <th>2999997</th>\n      <td>09/16/2021</td>\n      <td>36</td>\n      <td>SUBN</td>\n      <td>0</td>\n      <td>0</td>\n      <td>0</td>\n      <td>0</td>\n      <td>0231P</td>\n      <td>BK</td>\n      <td>WB MEEKER AVE @ LORI</td>\n      <td>MER ST</td>\n      <td>NaN</td>\n    </tr>\n    <tr>\n      <th>2999998</th>\n      <td>09/16/2021</td>\n      <td>36</td>\n      <td>SUBN</td>\n      <td>0</td>\n      <td>0</td>\n      <td>0</td>\n      <td>0</td>\n      <td>0231P</td>\n      <td>BX</td>\n      <td>NB BRONX RIVER AVE @</td>\n      <td>E 174TH ST</td>\n      <td>NaN</td>\n    </tr>\n    <tr>\n      <th>2999999</th>\n      <td>09/16/2021</td>\n      <td>36</td>\n      <td>SUBN</td>\n      <td>0</td>\n      <td>0</td>\n      <td>0</td>\n      <td>0</td>\n      <td>0231P</td>\n      <td>BK</td>\n      <td>EB ATLANTIC AVE @ ES</td>\n      <td>SEX ST</td>\n      <td>NaN</td>\n    </tr>\n  </tbody>\n</table>\n<p>3000000 rows × 12 columns</p>\n</div>"
     },
     "execution_count": 112,
     "metadata": {},
     "output_type": "execute_result"
    }
   ],
   "source": [
    "selected_columns = [\n",
    "    'Street Code1',\n",
    "    'Street Code2',\n",
    "    'Street Code3',\n",
    "    'Street Name',\n",
    "    # 'Violation Location',\n",
    "    'Violation Post Code',\n",
    "    'Intersecting Street',\n",
    "    'Violation Precinct',\n",
    "    'Violation County',\n",
    "    'Vehicle Body Type',\n",
    "    'Issue Date',\n",
    "    # 'Date First Observed',\n",
    "    'Violation Time',\n",
    "    #'Days Parking In Effect',\n",
    "    #'From Hours In Effect',\n",
    "    #'To Hours In Effect',\n",
    "    'Violation Code',\n",
    "]\n",
    "\n",
    "'''\n",
    "Genel olarak, \"county\" (ilçe) daha büyük bir alanı temsil eder. Bir \"county\", genellikle belirli bir eyaletin sınırları içinde bulunan büyük bir coğrafi bölgeyi kapsar. Bir eyalette birden çok \"county\" bulunabilir ve her biri kendi yerel yönetimine sahiptir.\n",
    "\n",
    "Öte yandan, \"precinct\" (seçim bölgesi) daha küçük bir coğrafi bölgeyi ifade eder. Bu, genellikle seçmenlerin oy kullandığı belirli bir mahalle veya köyü temsil eder. Seçim bölgesi, seçimlerde kullanılan ve oy verme işlemini düzenleyen bir kavramdır.\n",
    "'''\n",
    "\n",
    "n_rows_to_read = 3000000\n",
    "file_path = 'Parking_Violations_2022.csv'\n",
    "df = pd.read_csv(file_path, usecols=selected_columns, nrows=n_rows_to_read) # nrows=n_rows_to_read\n",
    "df"
   ],
   "metadata": {
    "collapsed": false,
    "ExecuteTime": {
     "start_time": "2023-11-23T11:35:12.377176Z",
     "end_time": "2023-11-23T11:35:18.962175Z"
    }
   }
  },
  {
   "cell_type": "code",
   "execution_count": 113,
   "outputs": [
    {
     "data": {
      "text/plain": "0"
     },
     "execution_count": 113,
     "metadata": {},
     "output_type": "execute_result"
    }
   ],
   "source": [
    "df['Violation Precinct'].isna().sum()"
   ],
   "metadata": {
    "collapsed": false,
    "ExecuteTime": {
     "start_time": "2023-11-23T11:35:18.964176Z",
     "end_time": "2023-11-23T11:35:19.009175Z"
    }
   }
  },
  {
   "cell_type": "code",
   "execution_count": 114,
   "outputs": [
    {
     "name": "stdout",
     "output_type": "stream",
     "text": [
      "<class 'pandas.core.frame.DataFrame'>\n",
      "RangeIndex: 3000000 entries, 0 to 2999999\n",
      "Data columns (total 12 columns):\n",
      " #   Column               Dtype \n",
      "---  ------               ----- \n",
      " 0   Issue Date           object\n",
      " 1   Violation Code       int64 \n",
      " 2   Vehicle Body Type    object\n",
      " 3   Street Code1         int64 \n",
      " 4   Street Code2         int64 \n",
      " 5   Street Code3         int64 \n",
      " 6   Violation Precinct   int64 \n",
      " 7   Violation Time       object\n",
      " 8   Violation County     object\n",
      " 9   Street Name          object\n",
      " 10  Intersecting Street  object\n",
      " 11  Violation Post Code  object\n",
      "dtypes: int64(5), object(7)\n",
      "memory usage: 274.7+ MB\n"
     ]
    }
   ],
   "source": [
    "df.info()"
   ],
   "metadata": {
    "collapsed": false,
    "ExecuteTime": {
     "start_time": "2023-11-23T11:35:18.980176Z",
     "end_time": "2023-11-23T11:35:19.043174Z"
    }
   }
  },
  {
   "cell_type": "code",
   "execution_count": 115,
   "outputs": [
    {
     "data": {
      "text/plain": "0          0130A\n1          0225A\n2          0809P\n3          0605P\n4          1058P\n           ...  \n2999995    0231P\n2999996    0231P\n2999997    0231P\n2999998    0231P\n2999999    0231P\nName: Violation Time, Length: 3000000, dtype: object"
     },
     "execution_count": 115,
     "metadata": {},
     "output_type": "execute_result"
    }
   ],
   "source": [
    "df['Violation Time']"
   ],
   "metadata": {
    "collapsed": false,
    "ExecuteTime": {
     "start_time": "2023-11-23T11:35:18.994175Z",
     "end_time": "2023-11-23T11:35:19.078176Z"
    }
   }
  },
  {
   "cell_type": "code",
   "execution_count": 116,
   "outputs": [],
   "source": [
    "df_1 = df.copy()"
   ],
   "metadata": {
    "collapsed": false,
    "ExecuteTime": {
     "start_time": "2023-11-23T11:35:19.009175Z",
     "end_time": "2023-11-23T11:35:19.166175Z"
    }
   }
  },
  {
   "cell_type": "code",
   "execution_count": 117,
   "outputs": [],
   "source": [
    "# import sweetviz as sv\n",
    "# analyze_report = sv.analyze(df_1)\n",
    "# analyze_report.show_html('analyze.html', open_browser=False)"
   ],
   "metadata": {
    "collapsed": false,
    "ExecuteTime": {
     "start_time": "2023-11-23T11:35:19.151180Z",
     "end_time": "2023-11-23T11:35:19.166175Z"
    }
   }
  },
  {
   "cell_type": "code",
   "execution_count": 118,
   "outputs": [],
   "source": [
    "df_1['Violation Date'] = pd.to_datetime(df_1['Issue Date'])\n",
    "df_1['Violation Date (Month)'] = df_1['Violation Date'].dt.month\n",
    "df_1['Violation Date (Day)'] = df_1['Violation Date'].dt.day\n",
    "df_1['Violation Date (Year)'] = df_1['Violation Date'].dt.year\n",
    "df_1 = df_1.drop(columns=['Issue Date'])"
   ],
   "metadata": {
    "collapsed": false,
    "ExecuteTime": {
     "start_time": "2023-11-23T11:35:19.169176Z",
     "end_time": "2023-11-23T11:35:20.202176Z"
    }
   }
  },
  {
   "cell_type": "code",
   "execution_count": 119,
   "outputs": [
    {
     "data": {
      "text/plain": "         Violation Code Vehicle Body Type  Street Code1  Street Code2  \\\n0                    40               VAN         63430         69230   \n1                    20              SUBN         13490         40404   \n2                    98               SDN         79430         47130   \n3                    98               SDN         53130         23230   \n4                    40              TAXI         81030         23930   \n...                 ...               ...           ...           ...   \n2999995              36              4DSD             0             0   \n2999996              36              SUBN             0             0   \n2999997              36              SUBN             0             0   \n2999998              36              SUBN             0             0   \n2999999              36              SUBN             0             0   \n\n         Street Code3  Violation Precinct Violation Time Violation County  \\\n0               13490                  88          0130A                K   \n1               40404                  88          0225A                K   \n2               11750                  88          0809P                K   \n3               23930                  83          0605P                K   \n4               40030                  83          1058P                K   \n...               ...                 ...            ...              ...   \n2999995             0                   0          0231P               QN   \n2999996             0                   0          0231P               QN   \n2999997             0                   0          0231P               BK   \n2999998             0                   0          0231P               BX   \n2999999             0                   0          0231P               BK   \n\n                  Street Name Intersecting Street Violation Post Code  \\\n0          NORTH PORTLAND AVE                 NaN                 NaN   \n1                AUBURN PLACE                 NaN                 NaN   \n2          SOUTH PORTLAND AVE                 NaN                 NaN   \n3                JEFFERSON ST                 NaN                 NaN   \n4                 STANHOPE ST                 NaN                 NaN   \n...                       ...                 ...                 ...   \n2999995  WB LINDEN BLVD @ AMB               ER ST                 NaN   \n2999996  SB QUEENS BLVD @ 87T               H AVE                 NaN   \n2999997  WB MEEKER AVE @ LORI              MER ST                 NaN   \n2999998  NB BRONX RIVER AVE @          E 174TH ST                 NaN   \n2999999  EB ATLANTIC AVE @ ES              SEX ST                 NaN   \n\n        Violation Date  Violation Date (Month)  Violation Date (Day)  \\\n0           2021-06-25                       6                    25   \n1           2021-06-25                       6                    25   \n2           2021-06-17                       6                    17   \n3           2021-06-16                       6                    16   \n4           2021-07-04                       7                     4   \n...                ...                     ...                   ...   \n2999995     2021-09-16                       9                    16   \n2999996     2021-09-16                       9                    16   \n2999997     2021-09-16                       9                    16   \n2999998     2021-09-16                       9                    16   \n2999999     2021-09-16                       9                    16   \n\n         Violation Date (Year)  \n0                         2021  \n1                         2021  \n2                         2021  \n3                         2021  \n4                         2021  \n...                        ...  \n2999995                   2021  \n2999996                   2021  \n2999997                   2021  \n2999998                   2021  \n2999999                   2021  \n\n[3000000 rows x 15 columns]",
      "text/html": "<div>\n<style scoped>\n    .dataframe tbody tr th:only-of-type {\n        vertical-align: middle;\n    }\n\n    .dataframe tbody tr th {\n        vertical-align: top;\n    }\n\n    .dataframe thead th {\n        text-align: right;\n    }\n</style>\n<table border=\"1\" class=\"dataframe\">\n  <thead>\n    <tr style=\"text-align: right;\">\n      <th></th>\n      <th>Violation Code</th>\n      <th>Vehicle Body Type</th>\n      <th>Street Code1</th>\n      <th>Street Code2</th>\n      <th>Street Code3</th>\n      <th>Violation Precinct</th>\n      <th>Violation Time</th>\n      <th>Violation County</th>\n      <th>Street Name</th>\n      <th>Intersecting Street</th>\n      <th>Violation Post Code</th>\n      <th>Violation Date</th>\n      <th>Violation Date (Month)</th>\n      <th>Violation Date (Day)</th>\n      <th>Violation Date (Year)</th>\n    </tr>\n  </thead>\n  <tbody>\n    <tr>\n      <th>0</th>\n      <td>40</td>\n      <td>VAN</td>\n      <td>63430</td>\n      <td>69230</td>\n      <td>13490</td>\n      <td>88</td>\n      <td>0130A</td>\n      <td>K</td>\n      <td>NORTH PORTLAND AVE</td>\n      <td>NaN</td>\n      <td>NaN</td>\n      <td>2021-06-25</td>\n      <td>6</td>\n      <td>25</td>\n      <td>2021</td>\n    </tr>\n    <tr>\n      <th>1</th>\n      <td>20</td>\n      <td>SUBN</td>\n      <td>13490</td>\n      <td>40404</td>\n      <td>40404</td>\n      <td>88</td>\n      <td>0225A</td>\n      <td>K</td>\n      <td>AUBURN PLACE</td>\n      <td>NaN</td>\n      <td>NaN</td>\n      <td>2021-06-25</td>\n      <td>6</td>\n      <td>25</td>\n      <td>2021</td>\n    </tr>\n    <tr>\n      <th>2</th>\n      <td>98</td>\n      <td>SDN</td>\n      <td>79430</td>\n      <td>47130</td>\n      <td>11750</td>\n      <td>88</td>\n      <td>0809P</td>\n      <td>K</td>\n      <td>SOUTH PORTLAND AVE</td>\n      <td>NaN</td>\n      <td>NaN</td>\n      <td>2021-06-17</td>\n      <td>6</td>\n      <td>17</td>\n      <td>2021</td>\n    </tr>\n    <tr>\n      <th>3</th>\n      <td>98</td>\n      <td>SDN</td>\n      <td>53130</td>\n      <td>23230</td>\n      <td>23930</td>\n      <td>83</td>\n      <td>0605P</td>\n      <td>K</td>\n      <td>JEFFERSON ST</td>\n      <td>NaN</td>\n      <td>NaN</td>\n      <td>2021-06-16</td>\n      <td>6</td>\n      <td>16</td>\n      <td>2021</td>\n    </tr>\n    <tr>\n      <th>4</th>\n      <td>40</td>\n      <td>TAXI</td>\n      <td>81030</td>\n      <td>23930</td>\n      <td>40030</td>\n      <td>83</td>\n      <td>1058P</td>\n      <td>K</td>\n      <td>STANHOPE ST</td>\n      <td>NaN</td>\n      <td>NaN</td>\n      <td>2021-07-04</td>\n      <td>7</td>\n      <td>4</td>\n      <td>2021</td>\n    </tr>\n    <tr>\n      <th>...</th>\n      <td>...</td>\n      <td>...</td>\n      <td>...</td>\n      <td>...</td>\n      <td>...</td>\n      <td>...</td>\n      <td>...</td>\n      <td>...</td>\n      <td>...</td>\n      <td>...</td>\n      <td>...</td>\n      <td>...</td>\n      <td>...</td>\n      <td>...</td>\n      <td>...</td>\n    </tr>\n    <tr>\n      <th>2999995</th>\n      <td>36</td>\n      <td>4DSD</td>\n      <td>0</td>\n      <td>0</td>\n      <td>0</td>\n      <td>0</td>\n      <td>0231P</td>\n      <td>QN</td>\n      <td>WB LINDEN BLVD @ AMB</td>\n      <td>ER ST</td>\n      <td>NaN</td>\n      <td>2021-09-16</td>\n      <td>9</td>\n      <td>16</td>\n      <td>2021</td>\n    </tr>\n    <tr>\n      <th>2999996</th>\n      <td>36</td>\n      <td>SUBN</td>\n      <td>0</td>\n      <td>0</td>\n      <td>0</td>\n      <td>0</td>\n      <td>0231P</td>\n      <td>QN</td>\n      <td>SB QUEENS BLVD @ 87T</td>\n      <td>H AVE</td>\n      <td>NaN</td>\n      <td>2021-09-16</td>\n      <td>9</td>\n      <td>16</td>\n      <td>2021</td>\n    </tr>\n    <tr>\n      <th>2999997</th>\n      <td>36</td>\n      <td>SUBN</td>\n      <td>0</td>\n      <td>0</td>\n      <td>0</td>\n      <td>0</td>\n      <td>0231P</td>\n      <td>BK</td>\n      <td>WB MEEKER AVE @ LORI</td>\n      <td>MER ST</td>\n      <td>NaN</td>\n      <td>2021-09-16</td>\n      <td>9</td>\n      <td>16</td>\n      <td>2021</td>\n    </tr>\n    <tr>\n      <th>2999998</th>\n      <td>36</td>\n      <td>SUBN</td>\n      <td>0</td>\n      <td>0</td>\n      <td>0</td>\n      <td>0</td>\n      <td>0231P</td>\n      <td>BX</td>\n      <td>NB BRONX RIVER AVE @</td>\n      <td>E 174TH ST</td>\n      <td>NaN</td>\n      <td>2021-09-16</td>\n      <td>9</td>\n      <td>16</td>\n      <td>2021</td>\n    </tr>\n    <tr>\n      <th>2999999</th>\n      <td>36</td>\n      <td>SUBN</td>\n      <td>0</td>\n      <td>0</td>\n      <td>0</td>\n      <td>0</td>\n      <td>0231P</td>\n      <td>BK</td>\n      <td>EB ATLANTIC AVE @ ES</td>\n      <td>SEX ST</td>\n      <td>NaN</td>\n      <td>2021-09-16</td>\n      <td>9</td>\n      <td>16</td>\n      <td>2021</td>\n    </tr>\n  </tbody>\n</table>\n<p>3000000 rows × 15 columns</p>\n</div>"
     },
     "execution_count": 119,
     "metadata": {},
     "output_type": "execute_result"
    }
   ],
   "source": [
    "df_1"
   ],
   "metadata": {
    "collapsed": false,
    "ExecuteTime": {
     "start_time": "2023-11-23T11:35:20.210176Z",
     "end_time": "2023-11-23T11:35:20.246174Z"
    }
   }
  },
  {
   "cell_type": "code",
   "execution_count": 120,
   "outputs": [],
   "source": [
    "def convert_to_24hr_format(time_str):\n",
    "    try:\n",
    "        if '.' in time_str:\n",
    "            return None\n",
    "        if time_str[-1] == 'P':\n",
    "            return '{:02d}:{:02d}'.format((int(time_str[:2]) + 12) % 24, int(time_str[2:4]))\n",
    "        elif time_str[-1] == 'A':\n",
    "            return '{:02d}:{:02d}'.format(int(time_str[:2]) % 12, int(time_str[2:4]))\n",
    "        else:\n",
    "            return None\n",
    "    except (ValueError, TypeError):\n",
    "        return None\n",
    "\n",
    "df_1['Violation Time'] = df_1['Violation Time'].astype(str)\n",
    "df_1.loc[:, 'Violation Time'] = df_1['Violation Time'].apply(convert_to_24hr_format)\n",
    "df_1 = df_1.dropna(subset=['Violation Time'])"
   ],
   "metadata": {
    "collapsed": false,
    "ExecuteTime": {
     "start_time": "2023-11-23T11:35:20.242178Z",
     "end_time": "2023-11-23T11:35:25.462174Z"
    }
   }
  },
  {
   "cell_type": "code",
   "execution_count": 121,
   "outputs": [],
   "source": [
    "df_1.loc[:, 'Violation Time'] = pd.to_datetime(df_1['Violation Time'], format='%H:%M', errors='coerce').dt.time"
   ],
   "metadata": {
    "collapsed": false,
    "ExecuteTime": {
     "start_time": "2023-11-23T11:35:25.462174Z",
     "end_time": "2023-11-23T11:35:33.027176Z"
    }
   }
  },
  {
   "cell_type": "code",
   "execution_count": 122,
   "outputs": [
    {
     "data": {
      "text/plain": "0          01:30:00\n1          02:25:00\n2          20:09:00\n3          18:05:00\n4          22:58:00\n             ...   \n2999995    14:31:00\n2999996    14:31:00\n2999997    14:31:00\n2999998    14:31:00\n2999999    14:31:00\nName: Violation Time, Length: 2999953, dtype: object"
     },
     "execution_count": 122,
     "metadata": {},
     "output_type": "execute_result"
    }
   ],
   "source": [
    "df_1['Violation Time']"
   ],
   "metadata": {
    "collapsed": false,
    "ExecuteTime": {
     "start_time": "2023-11-23T11:35:33.028175Z",
     "end_time": "2023-11-23T11:35:33.043176Z"
    }
   }
  },
  {
   "cell_type": "code",
   "execution_count": 123,
   "outputs": [
    {
     "data": {
      "text/plain": "         Violation Code Vehicle Body Type  Street Code1  Street Code2  \\\n0                    40               VAN         63430         69230   \n1                    20              SUBN         13490         40404   \n2                    98               SDN         79430         47130   \n3                    98               SDN         53130         23230   \n4                    40              TAXI         81030         23930   \n...                 ...               ...           ...           ...   \n2999995              36              4DSD             0             0   \n2999996              36              SUBN             0             0   \n2999997              36              SUBN             0             0   \n2999998              36              SUBN             0             0   \n2999999              36              SUBN             0             0   \n\n         Street Code3  Violation Precinct Violation Time Violation County  \\\n0               13490                  88       01:30:00                K   \n1               40404                  88       02:25:00                K   \n2               11750                  88       20:09:00                K   \n3               23930                  83       18:05:00                K   \n4               40030                  83       22:58:00                K   \n...               ...                 ...            ...              ...   \n2999995             0                   0       14:31:00               QN   \n2999996             0                   0       14:31:00               QN   \n2999997             0                   0       14:31:00               BK   \n2999998             0                   0       14:31:00               BX   \n2999999             0                   0       14:31:00               BK   \n\n                  Street Name Intersecting Street Violation Post Code  \\\n0          NORTH PORTLAND AVE                 NaN                 NaN   \n1                AUBURN PLACE                 NaN                 NaN   \n2          SOUTH PORTLAND AVE                 NaN                 NaN   \n3                JEFFERSON ST                 NaN                 NaN   \n4                 STANHOPE ST                 NaN                 NaN   \n...                       ...                 ...                 ...   \n2999995  WB LINDEN BLVD @ AMB               ER ST                 NaN   \n2999996  SB QUEENS BLVD @ 87T               H AVE                 NaN   \n2999997  WB MEEKER AVE @ LORI              MER ST                 NaN   \n2999998  NB BRONX RIVER AVE @          E 174TH ST                 NaN   \n2999999  EB ATLANTIC AVE @ ES              SEX ST                 NaN   \n\n        Violation Date  Violation Date (Month)  Violation Date (Day)  \\\n0           2021-06-25                       6                    25   \n1           2021-06-25                       6                    25   \n2           2021-06-17                       6                    17   \n3           2021-06-16                       6                    16   \n4           2021-07-04                       7                     4   \n...                ...                     ...                   ...   \n2999995     2021-09-16                       9                    16   \n2999996     2021-09-16                       9                    16   \n2999997     2021-09-16                       9                    16   \n2999998     2021-09-16                       9                    16   \n2999999     2021-09-16                       9                    16   \n\n         Violation Date (Year)  \n0                         2021  \n1                         2021  \n2                         2021  \n3                         2021  \n4                         2021  \n...                        ...  \n2999995                   2021  \n2999996                   2021  \n2999997                   2021  \n2999998                   2021  \n2999999                   2021  \n\n[2999953 rows x 15 columns]",
      "text/html": "<div>\n<style scoped>\n    .dataframe tbody tr th:only-of-type {\n        vertical-align: middle;\n    }\n\n    .dataframe tbody tr th {\n        vertical-align: top;\n    }\n\n    .dataframe thead th {\n        text-align: right;\n    }\n</style>\n<table border=\"1\" class=\"dataframe\">\n  <thead>\n    <tr style=\"text-align: right;\">\n      <th></th>\n      <th>Violation Code</th>\n      <th>Vehicle Body Type</th>\n      <th>Street Code1</th>\n      <th>Street Code2</th>\n      <th>Street Code3</th>\n      <th>Violation Precinct</th>\n      <th>Violation Time</th>\n      <th>Violation County</th>\n      <th>Street Name</th>\n      <th>Intersecting Street</th>\n      <th>Violation Post Code</th>\n      <th>Violation Date</th>\n      <th>Violation Date (Month)</th>\n      <th>Violation Date (Day)</th>\n      <th>Violation Date (Year)</th>\n    </tr>\n  </thead>\n  <tbody>\n    <tr>\n      <th>0</th>\n      <td>40</td>\n      <td>VAN</td>\n      <td>63430</td>\n      <td>69230</td>\n      <td>13490</td>\n      <td>88</td>\n      <td>01:30:00</td>\n      <td>K</td>\n      <td>NORTH PORTLAND AVE</td>\n      <td>NaN</td>\n      <td>NaN</td>\n      <td>2021-06-25</td>\n      <td>6</td>\n      <td>25</td>\n      <td>2021</td>\n    </tr>\n    <tr>\n      <th>1</th>\n      <td>20</td>\n      <td>SUBN</td>\n      <td>13490</td>\n      <td>40404</td>\n      <td>40404</td>\n      <td>88</td>\n      <td>02:25:00</td>\n      <td>K</td>\n      <td>AUBURN PLACE</td>\n      <td>NaN</td>\n      <td>NaN</td>\n      <td>2021-06-25</td>\n      <td>6</td>\n      <td>25</td>\n      <td>2021</td>\n    </tr>\n    <tr>\n      <th>2</th>\n      <td>98</td>\n      <td>SDN</td>\n      <td>79430</td>\n      <td>47130</td>\n      <td>11750</td>\n      <td>88</td>\n      <td>20:09:00</td>\n      <td>K</td>\n      <td>SOUTH PORTLAND AVE</td>\n      <td>NaN</td>\n      <td>NaN</td>\n      <td>2021-06-17</td>\n      <td>6</td>\n      <td>17</td>\n      <td>2021</td>\n    </tr>\n    <tr>\n      <th>3</th>\n      <td>98</td>\n      <td>SDN</td>\n      <td>53130</td>\n      <td>23230</td>\n      <td>23930</td>\n      <td>83</td>\n      <td>18:05:00</td>\n      <td>K</td>\n      <td>JEFFERSON ST</td>\n      <td>NaN</td>\n      <td>NaN</td>\n      <td>2021-06-16</td>\n      <td>6</td>\n      <td>16</td>\n      <td>2021</td>\n    </tr>\n    <tr>\n      <th>4</th>\n      <td>40</td>\n      <td>TAXI</td>\n      <td>81030</td>\n      <td>23930</td>\n      <td>40030</td>\n      <td>83</td>\n      <td>22:58:00</td>\n      <td>K</td>\n      <td>STANHOPE ST</td>\n      <td>NaN</td>\n      <td>NaN</td>\n      <td>2021-07-04</td>\n      <td>7</td>\n      <td>4</td>\n      <td>2021</td>\n    </tr>\n    <tr>\n      <th>...</th>\n      <td>...</td>\n      <td>...</td>\n      <td>...</td>\n      <td>...</td>\n      <td>...</td>\n      <td>...</td>\n      <td>...</td>\n      <td>...</td>\n      <td>...</td>\n      <td>...</td>\n      <td>...</td>\n      <td>...</td>\n      <td>...</td>\n      <td>...</td>\n      <td>...</td>\n    </tr>\n    <tr>\n      <th>2999995</th>\n      <td>36</td>\n      <td>4DSD</td>\n      <td>0</td>\n      <td>0</td>\n      <td>0</td>\n      <td>0</td>\n      <td>14:31:00</td>\n      <td>QN</td>\n      <td>WB LINDEN BLVD @ AMB</td>\n      <td>ER ST</td>\n      <td>NaN</td>\n      <td>2021-09-16</td>\n      <td>9</td>\n      <td>16</td>\n      <td>2021</td>\n    </tr>\n    <tr>\n      <th>2999996</th>\n      <td>36</td>\n      <td>SUBN</td>\n      <td>0</td>\n      <td>0</td>\n      <td>0</td>\n      <td>0</td>\n      <td>14:31:00</td>\n      <td>QN</td>\n      <td>SB QUEENS BLVD @ 87T</td>\n      <td>H AVE</td>\n      <td>NaN</td>\n      <td>2021-09-16</td>\n      <td>9</td>\n      <td>16</td>\n      <td>2021</td>\n    </tr>\n    <tr>\n      <th>2999997</th>\n      <td>36</td>\n      <td>SUBN</td>\n      <td>0</td>\n      <td>0</td>\n      <td>0</td>\n      <td>0</td>\n      <td>14:31:00</td>\n      <td>BK</td>\n      <td>WB MEEKER AVE @ LORI</td>\n      <td>MER ST</td>\n      <td>NaN</td>\n      <td>2021-09-16</td>\n      <td>9</td>\n      <td>16</td>\n      <td>2021</td>\n    </tr>\n    <tr>\n      <th>2999998</th>\n      <td>36</td>\n      <td>SUBN</td>\n      <td>0</td>\n      <td>0</td>\n      <td>0</td>\n      <td>0</td>\n      <td>14:31:00</td>\n      <td>BX</td>\n      <td>NB BRONX RIVER AVE @</td>\n      <td>E 174TH ST</td>\n      <td>NaN</td>\n      <td>2021-09-16</td>\n      <td>9</td>\n      <td>16</td>\n      <td>2021</td>\n    </tr>\n    <tr>\n      <th>2999999</th>\n      <td>36</td>\n      <td>SUBN</td>\n      <td>0</td>\n      <td>0</td>\n      <td>0</td>\n      <td>0</td>\n      <td>14:31:00</td>\n      <td>BK</td>\n      <td>EB ATLANTIC AVE @ ES</td>\n      <td>SEX ST</td>\n      <td>NaN</td>\n      <td>2021-09-16</td>\n      <td>9</td>\n      <td>16</td>\n      <td>2021</td>\n    </tr>\n  </tbody>\n</table>\n<p>2999953 rows × 15 columns</p>\n</div>"
     },
     "execution_count": 123,
     "metadata": {},
     "output_type": "execute_result"
    }
   ],
   "source": [
    "df_1"
   ],
   "metadata": {
    "collapsed": false,
    "ExecuteTime": {
     "start_time": "2023-11-23T11:35:33.044176Z",
     "end_time": "2023-11-23T11:35:33.076176Z"
    }
   }
  },
  {
   "cell_type": "code",
   "execution_count": 124,
   "outputs": [
    {
     "data": {
      "text/plain": "         Violation Code Vehicle Body Type  Street Code1  Street Code2  \\\n6647                 20              SUBN         72720         27180   \n977151               20               SDN             0         40404   \n3082                 78               NaN             0         40404   \n5337                 35               VAN         10610         40404   \n1370970              51               VAN         13610         24490   \n...                 ...               ...           ...           ...   \n1372288              98               SDN         20090         17390   \n2827701              98               SDN         36620         26730   \n1786231              21              SUBN         28890         16290   \n2819824              14               SDN         38470         31250   \n2827906              98               SDN         28830         14580   \n\n         Street Code3  Violation Precinct Violation Time Violation County  \\\n6647            29220                  46       00:04:00               BX   \n977151          40404                  71       19:40:00                K   \n3082            40404                 105       22:00:00                Q   \n5337            40404                  14       00:52:00               NY   \n1370970         32595                  26       20:43:00               NY   \n...               ...                 ...            ...              ...   \n1372288         51090                 102       20:43:00                Q   \n2827701         26760                  44       17:31:00               BX   \n1786231         16590                 102       08:32:00                Q   \n2819824         15575                  61       08:43:00                K   \n2827906         14630                  61       10:15:00                K   \n\n              Street Name Intersecting Street Violation Post Code  \\\n6647           WALTON AVE                 NaN                 NaN   \n977151           WINTHROP                 NaN                 NaN   \n3082            BROOKVILL                 NaN                 NaN   \n5337                7 AVE                 NaN                 NaN   \n1370970          BROADWAY                 NaN                 NaN   \n...                   ...                 ...                 ...   \n1372288            107 ST                 NaN                 NaN   \n2827701      GRANT AVENUE                 NaN                 NaN   \n1786231      ATLANTIC AVE                 NaN                 NaN   \n2819824       EATON COURT                 NaN                 NaN   \n2827906  CONEY ISLAND AVE                 NaN                 NaN   \n\n        Violation Date  Violation Date (Month)  Violation Date (Day)  \\\n6647        2000-06-27                       6                    27   \n977151      2000-06-27                       6                    27   \n3082        2000-06-28                       6                    28   \n5337        2000-07-15                       7                    15   \n1370970     2000-07-22                       7                    22   \n...                ...                     ...                   ...   \n1372288     2031-07-29                       7                    29   \n2827701     2031-08-24                       8                    24   \n1786231     2032-08-06                       8                     6   \n2819824     2061-08-27                       8                    27   \n2827906     2061-08-31                       8                    31   \n\n         Violation Date (Year)  \n6647                      2000  \n977151                    2000  \n3082                      2000  \n5337                      2000  \n1370970                   2000  \n...                        ...  \n1372288                   2031  \n2827701                   2031  \n1786231                   2032  \n2819824                   2061  \n2827906                   2061  \n\n[2999953 rows x 15 columns]",
      "text/html": "<div>\n<style scoped>\n    .dataframe tbody tr th:only-of-type {\n        vertical-align: middle;\n    }\n\n    .dataframe tbody tr th {\n        vertical-align: top;\n    }\n\n    .dataframe thead th {\n        text-align: right;\n    }\n</style>\n<table border=\"1\" class=\"dataframe\">\n  <thead>\n    <tr style=\"text-align: right;\">\n      <th></th>\n      <th>Violation Code</th>\n      <th>Vehicle Body Type</th>\n      <th>Street Code1</th>\n      <th>Street Code2</th>\n      <th>Street Code3</th>\n      <th>Violation Precinct</th>\n      <th>Violation Time</th>\n      <th>Violation County</th>\n      <th>Street Name</th>\n      <th>Intersecting Street</th>\n      <th>Violation Post Code</th>\n      <th>Violation Date</th>\n      <th>Violation Date (Month)</th>\n      <th>Violation Date (Day)</th>\n      <th>Violation Date (Year)</th>\n    </tr>\n  </thead>\n  <tbody>\n    <tr>\n      <th>6647</th>\n      <td>20</td>\n      <td>SUBN</td>\n      <td>72720</td>\n      <td>27180</td>\n      <td>29220</td>\n      <td>46</td>\n      <td>00:04:00</td>\n      <td>BX</td>\n      <td>WALTON AVE</td>\n      <td>NaN</td>\n      <td>NaN</td>\n      <td>2000-06-27</td>\n      <td>6</td>\n      <td>27</td>\n      <td>2000</td>\n    </tr>\n    <tr>\n      <th>977151</th>\n      <td>20</td>\n      <td>SDN</td>\n      <td>0</td>\n      <td>40404</td>\n      <td>40404</td>\n      <td>71</td>\n      <td>19:40:00</td>\n      <td>K</td>\n      <td>WINTHROP</td>\n      <td>NaN</td>\n      <td>NaN</td>\n      <td>2000-06-27</td>\n      <td>6</td>\n      <td>27</td>\n      <td>2000</td>\n    </tr>\n    <tr>\n      <th>3082</th>\n      <td>78</td>\n      <td>NaN</td>\n      <td>0</td>\n      <td>40404</td>\n      <td>40404</td>\n      <td>105</td>\n      <td>22:00:00</td>\n      <td>Q</td>\n      <td>BROOKVILL</td>\n      <td>NaN</td>\n      <td>NaN</td>\n      <td>2000-06-28</td>\n      <td>6</td>\n      <td>28</td>\n      <td>2000</td>\n    </tr>\n    <tr>\n      <th>5337</th>\n      <td>35</td>\n      <td>VAN</td>\n      <td>10610</td>\n      <td>40404</td>\n      <td>40404</td>\n      <td>14</td>\n      <td>00:52:00</td>\n      <td>NY</td>\n      <td>7 AVE</td>\n      <td>NaN</td>\n      <td>NaN</td>\n      <td>2000-07-15</td>\n      <td>7</td>\n      <td>15</td>\n      <td>2000</td>\n    </tr>\n    <tr>\n      <th>1370970</th>\n      <td>51</td>\n      <td>VAN</td>\n      <td>13610</td>\n      <td>24490</td>\n      <td>32595</td>\n      <td>26</td>\n      <td>20:43:00</td>\n      <td>NY</td>\n      <td>BROADWAY</td>\n      <td>NaN</td>\n      <td>NaN</td>\n      <td>2000-07-22</td>\n      <td>7</td>\n      <td>22</td>\n      <td>2000</td>\n    </tr>\n    <tr>\n      <th>...</th>\n      <td>...</td>\n      <td>...</td>\n      <td>...</td>\n      <td>...</td>\n      <td>...</td>\n      <td>...</td>\n      <td>...</td>\n      <td>...</td>\n      <td>...</td>\n      <td>...</td>\n      <td>...</td>\n      <td>...</td>\n      <td>...</td>\n      <td>...</td>\n      <td>...</td>\n    </tr>\n    <tr>\n      <th>1372288</th>\n      <td>98</td>\n      <td>SDN</td>\n      <td>20090</td>\n      <td>17390</td>\n      <td>51090</td>\n      <td>102</td>\n      <td>20:43:00</td>\n      <td>Q</td>\n      <td>107 ST</td>\n      <td>NaN</td>\n      <td>NaN</td>\n      <td>2031-07-29</td>\n      <td>7</td>\n      <td>29</td>\n      <td>2031</td>\n    </tr>\n    <tr>\n      <th>2827701</th>\n      <td>98</td>\n      <td>SDN</td>\n      <td>36620</td>\n      <td>26730</td>\n      <td>26760</td>\n      <td>44</td>\n      <td>17:31:00</td>\n      <td>BX</td>\n      <td>GRANT AVENUE</td>\n      <td>NaN</td>\n      <td>NaN</td>\n      <td>2031-08-24</td>\n      <td>8</td>\n      <td>24</td>\n      <td>2031</td>\n    </tr>\n    <tr>\n      <th>1786231</th>\n      <td>21</td>\n      <td>SUBN</td>\n      <td>28890</td>\n      <td>16290</td>\n      <td>16590</td>\n      <td>102</td>\n      <td>08:32:00</td>\n      <td>Q</td>\n      <td>ATLANTIC AVE</td>\n      <td>NaN</td>\n      <td>NaN</td>\n      <td>2032-08-06</td>\n      <td>8</td>\n      <td>6</td>\n      <td>2032</td>\n    </tr>\n    <tr>\n      <th>2819824</th>\n      <td>14</td>\n      <td>SDN</td>\n      <td>38470</td>\n      <td>31250</td>\n      <td>15575</td>\n      <td>61</td>\n      <td>08:43:00</td>\n      <td>K</td>\n      <td>EATON COURT</td>\n      <td>NaN</td>\n      <td>NaN</td>\n      <td>2061-08-27</td>\n      <td>8</td>\n      <td>27</td>\n      <td>2061</td>\n    </tr>\n    <tr>\n      <th>2827906</th>\n      <td>98</td>\n      <td>SDN</td>\n      <td>28830</td>\n      <td>14580</td>\n      <td>14630</td>\n      <td>61</td>\n      <td>10:15:00</td>\n      <td>K</td>\n      <td>CONEY ISLAND AVE</td>\n      <td>NaN</td>\n      <td>NaN</td>\n      <td>2061-08-31</td>\n      <td>8</td>\n      <td>31</td>\n      <td>2061</td>\n    </tr>\n  </tbody>\n</table>\n<p>2999953 rows × 15 columns</p>\n</div>"
     },
     "execution_count": 124,
     "metadata": {},
     "output_type": "execute_result"
    }
   ],
   "source": [
    "df_1.sort_values(by=['Violation Date', 'Violation Time'], inplace=True)\n",
    "df_1"
   ],
   "metadata": {
    "collapsed": false,
    "ExecuteTime": {
     "start_time": "2023-11-23T11:35:33.077177Z",
     "end_time": "2023-11-23T11:35:34.371175Z"
    }
   }
  },
  {
   "cell_type": "code",
   "execution_count": 125,
   "outputs": [],
   "source": [
    "start_date = pd.to_datetime('2021-07-01')\n",
    "end_date = pd.to_datetime('2022-06-30')"
   ],
   "metadata": {
    "collapsed": false,
    "ExecuteTime": {
     "start_time": "2023-11-23T11:35:34.372175Z",
     "end_time": "2023-11-23T11:35:34.405176Z"
    }
   }
  },
  {
   "cell_type": "code",
   "execution_count": 126,
   "outputs": [
    {
     "data": {
      "text/plain": "        Violation Code Vehicle Body Type  Street Code1  Street Code2  \\\n19777               21              4DSD             0             0   \n22002                0               VAN             0             0   \n23604                0              SUBN             0             0   \n26384               21              4DSD          8120         25860   \n28018               21              SUBN             0             0   \n...                ...               ...           ...           ...   \n964965              40               SDN         49820         52220   \n975313              21              SUBN         42730         27530   \n963609              98               SDN         38920         74830   \n990848              17               P-U         11115         12670   \n971803              98               SDN         19740         18040   \n\n        Street Code3  Violation Precinct Violation Time Violation County  \\\n19777              0                 107       00:00:00              Qns   \n22002              0                   0       00:00:00              NaN   \n23604              0                   0       00:00:00              NaN   \n26384          25890                  40       00:00:00            Bronx   \n28018              0                  78       00:00:00            Kings   \n...              ...                 ...            ...              ...   \n964965         61220                  49       02:25:00               BX   \n975313         53630                  79       08:22:00                K   \n963609         76550                  52       04:13:00               BX   \n990848         26630                   1       11:34:00               NY   \n971803         18140                 102       04:30:00                Q   \n\n                 Street Name Intersecting Street Violation Post Code  \\\n19777   Opposite of 70-87 PA       RK DRIVE EAST                 NaN   \n22002                    NaN                 NaN                 NaN   \n23604                    NaN                 NaN                 NaN   \n26384       ALEXANDER AVENUE                 NaN                 NaN   \n28018   Front Of 190 12 STRE                  ET                 NaN   \n...                      ...                 ...                 ...   \n964965          MATTHEWS AVE                 NaN                 NaN   \n975313             FULTON ST                 NaN                 NaN   \n963609             HEATH AVE                 NaN                 NaN   \n990848           WEST STREET                 NaN                 NaN   \n971803            104 STREET                 NaN                 NaN   \n\n       Violation Date  Violation Date (Month)  Violation Date (Day)  \\\n19777      2021-07-01                       7                     1   \n22002      2021-07-01                       7                     1   \n23604      2021-07-01                       7                     1   \n26384      2021-07-01                       7                     1   \n28018      2021-07-01                       7                     1   \n...               ...                     ...                   ...   \n964965     2022-06-10                       6                    10   \n975313     2022-06-21                       6                    21   \n963609     2022-06-23                       6                    23   \n990848     2022-06-23                       6                    23   \n971803     2022-06-27                       6                    27   \n\n        Violation Date (Year)  \n19777                    2021  \n22002                    2021  \n23604                    2021  \n26384                    2021  \n28018                    2021  \n...                       ...  \n964965                   2022  \n975313                   2022  \n963609                   2022  \n990848                   2022  \n971803                   2022  \n\n[2748287 rows x 15 columns]",
      "text/html": "<div>\n<style scoped>\n    .dataframe tbody tr th:only-of-type {\n        vertical-align: middle;\n    }\n\n    .dataframe tbody tr th {\n        vertical-align: top;\n    }\n\n    .dataframe thead th {\n        text-align: right;\n    }\n</style>\n<table border=\"1\" class=\"dataframe\">\n  <thead>\n    <tr style=\"text-align: right;\">\n      <th></th>\n      <th>Violation Code</th>\n      <th>Vehicle Body Type</th>\n      <th>Street Code1</th>\n      <th>Street Code2</th>\n      <th>Street Code3</th>\n      <th>Violation Precinct</th>\n      <th>Violation Time</th>\n      <th>Violation County</th>\n      <th>Street Name</th>\n      <th>Intersecting Street</th>\n      <th>Violation Post Code</th>\n      <th>Violation Date</th>\n      <th>Violation Date (Month)</th>\n      <th>Violation Date (Day)</th>\n      <th>Violation Date (Year)</th>\n    </tr>\n  </thead>\n  <tbody>\n    <tr>\n      <th>19777</th>\n      <td>21</td>\n      <td>4DSD</td>\n      <td>0</td>\n      <td>0</td>\n      <td>0</td>\n      <td>107</td>\n      <td>00:00:00</td>\n      <td>Qns</td>\n      <td>Opposite of 70-87 PA</td>\n      <td>RK DRIVE EAST</td>\n      <td>NaN</td>\n      <td>2021-07-01</td>\n      <td>7</td>\n      <td>1</td>\n      <td>2021</td>\n    </tr>\n    <tr>\n      <th>22002</th>\n      <td>0</td>\n      <td>VAN</td>\n      <td>0</td>\n      <td>0</td>\n      <td>0</td>\n      <td>0</td>\n      <td>00:00:00</td>\n      <td>NaN</td>\n      <td>NaN</td>\n      <td>NaN</td>\n      <td>NaN</td>\n      <td>2021-07-01</td>\n      <td>7</td>\n      <td>1</td>\n      <td>2021</td>\n    </tr>\n    <tr>\n      <th>23604</th>\n      <td>0</td>\n      <td>SUBN</td>\n      <td>0</td>\n      <td>0</td>\n      <td>0</td>\n      <td>0</td>\n      <td>00:00:00</td>\n      <td>NaN</td>\n      <td>NaN</td>\n      <td>NaN</td>\n      <td>NaN</td>\n      <td>2021-07-01</td>\n      <td>7</td>\n      <td>1</td>\n      <td>2021</td>\n    </tr>\n    <tr>\n      <th>26384</th>\n      <td>21</td>\n      <td>4DSD</td>\n      <td>8120</td>\n      <td>25860</td>\n      <td>25890</td>\n      <td>40</td>\n      <td>00:00:00</td>\n      <td>Bronx</td>\n      <td>ALEXANDER AVENUE</td>\n      <td>NaN</td>\n      <td>NaN</td>\n      <td>2021-07-01</td>\n      <td>7</td>\n      <td>1</td>\n      <td>2021</td>\n    </tr>\n    <tr>\n      <th>28018</th>\n      <td>21</td>\n      <td>SUBN</td>\n      <td>0</td>\n      <td>0</td>\n      <td>0</td>\n      <td>78</td>\n      <td>00:00:00</td>\n      <td>Kings</td>\n      <td>Front Of 190 12 STRE</td>\n      <td>ET</td>\n      <td>NaN</td>\n      <td>2021-07-01</td>\n      <td>7</td>\n      <td>1</td>\n      <td>2021</td>\n    </tr>\n    <tr>\n      <th>...</th>\n      <td>...</td>\n      <td>...</td>\n      <td>...</td>\n      <td>...</td>\n      <td>...</td>\n      <td>...</td>\n      <td>...</td>\n      <td>...</td>\n      <td>...</td>\n      <td>...</td>\n      <td>...</td>\n      <td>...</td>\n      <td>...</td>\n      <td>...</td>\n      <td>...</td>\n    </tr>\n    <tr>\n      <th>964965</th>\n      <td>40</td>\n      <td>SDN</td>\n      <td>49820</td>\n      <td>52220</td>\n      <td>61220</td>\n      <td>49</td>\n      <td>02:25:00</td>\n      <td>BX</td>\n      <td>MATTHEWS AVE</td>\n      <td>NaN</td>\n      <td>NaN</td>\n      <td>2022-06-10</td>\n      <td>6</td>\n      <td>10</td>\n      <td>2022</td>\n    </tr>\n    <tr>\n      <th>975313</th>\n      <td>21</td>\n      <td>SUBN</td>\n      <td>42730</td>\n      <td>27530</td>\n      <td>53630</td>\n      <td>79</td>\n      <td>08:22:00</td>\n      <td>K</td>\n      <td>FULTON ST</td>\n      <td>NaN</td>\n      <td>NaN</td>\n      <td>2022-06-21</td>\n      <td>6</td>\n      <td>21</td>\n      <td>2022</td>\n    </tr>\n    <tr>\n      <th>963609</th>\n      <td>98</td>\n      <td>SDN</td>\n      <td>38920</td>\n      <td>74830</td>\n      <td>76550</td>\n      <td>52</td>\n      <td>04:13:00</td>\n      <td>BX</td>\n      <td>HEATH AVE</td>\n      <td>NaN</td>\n      <td>NaN</td>\n      <td>2022-06-23</td>\n      <td>6</td>\n      <td>23</td>\n      <td>2022</td>\n    </tr>\n    <tr>\n      <th>990848</th>\n      <td>17</td>\n      <td>P-U</td>\n      <td>11115</td>\n      <td>12670</td>\n      <td>26630</td>\n      <td>1</td>\n      <td>11:34:00</td>\n      <td>NY</td>\n      <td>WEST STREET</td>\n      <td>NaN</td>\n      <td>NaN</td>\n      <td>2022-06-23</td>\n      <td>6</td>\n      <td>23</td>\n      <td>2022</td>\n    </tr>\n    <tr>\n      <th>971803</th>\n      <td>98</td>\n      <td>SDN</td>\n      <td>19740</td>\n      <td>18040</td>\n      <td>18140</td>\n      <td>102</td>\n      <td>04:30:00</td>\n      <td>Q</td>\n      <td>104 STREET</td>\n      <td>NaN</td>\n      <td>NaN</td>\n      <td>2022-06-27</td>\n      <td>6</td>\n      <td>27</td>\n      <td>2022</td>\n    </tr>\n  </tbody>\n</table>\n<p>2748287 rows × 15 columns</p>\n</div>"
     },
     "execution_count": 126,
     "metadata": {},
     "output_type": "execute_result"
    }
   ],
   "source": [
    "df_1 = df_1[(df_1['Violation Date'] >= start_date) & (df_1['Violation Date'] <= end_date)]\n",
    "df_1"
   ],
   "metadata": {
    "collapsed": false,
    "ExecuteTime": {
     "start_time": "2023-11-23T11:35:34.389175Z",
     "end_time": "2023-11-23T11:35:34.831184Z"
    }
   }
  },
  {
   "cell_type": "code",
   "execution_count": 127,
   "outputs": [
    {
     "data": {
      "text/plain": "19777      0\n22002      0\n23604      0\n26384      0\n28018      0\n          ..\n964965     2\n975313     8\n963609     4\n990848    11\n971803     4\nName: Violation Hour, Length: 2748287, dtype: int32"
     },
     "execution_count": 127,
     "metadata": {},
     "output_type": "execute_result"
    }
   ],
   "source": [
    "df_1['Violation Hour'] = df_1['Violation Time'].apply(lambda x: (x.hour % 24)).astype(int)\n",
    "df_1['Violation Hour']"
   ],
   "metadata": {
    "collapsed": false,
    "ExecuteTime": {
     "start_time": "2023-11-23T11:35:34.833185Z",
     "end_time": "2023-11-23T11:35:35.891197Z"
    }
   }
  },
  {
   "cell_type": "code",
   "execution_count": 129,
   "outputs": [
    {
     "name": "stdout",
     "output_type": "stream",
     "text": [
      "filtered data: 7\n",
      "total_location_violations: 18\n",
      "Location Violation Rate for GRANDVIEW AVE between 00:00 and 23:00: 38.89%\n"
     ]
    }
   ],
   "source": [
    "def calculate_location_violation_rate(df, location, time_range, precinct, violation_date):\n",
    "    start_time = datetime.strptime(time_range[0], \"%H:%M\").time()\n",
    "    end_time = datetime.strptime(time_range[1], \"%H:%M\").time()\n",
    "\n",
    "    # filtered_data = df[(df['Street Name'] == location) & (df['Violation Date'] == violation_date) & (~df['Violation Time'].isna()) &\n",
    "    #                    (df['Violation Time'].apply(lambda x: not pd.isna(x) and x == x and start_time <= x <= end_time))]\n",
    "\n",
    "    filtered_data = df[(df['Street Name'] == location) &\n",
    "                   (df['Violation Date'] == violation_date) &\n",
    "                   (~df['Violation Time'].isna()) &\n",
    "                   (df['Violation Time'].apply(lambda x: start_time <= x <= end_time if pd.notna(x) else False))]\n",
    "\n",
    "    print(\"filtered data:\", len(filtered_data))\n",
    "\n",
    "    total_location_violations = len(df_1[(df_1['Violation Time'].between(start_time, end_time)) &\n",
    "                                      (df_1['Violation Precinct'] == precinct) &\n",
    "                                      (df_1['Violation Date'] == violation_date)])\n",
    "\n",
    "    print(\"total_location_violations:\", total_location_violations)\n",
    "\n",
    "    if total_location_violations == 0:\n",
    "        return 0\n",
    "\n",
    "    location_violations = len(filtered_data)\n",
    "\n",
    "    location_violation_rate = (location_violations / total_location_violations) * 100\n",
    "\n",
    "    return location_violation_rate\n",
    "\n",
    "location = 'GRANDVIEW AVE'\n",
    "location_precinct = 121\n",
    "time_range = ('00:00', '23:00')\n",
    "violation_date = pd.to_datetime('2021-07-25')\n",
    "\n",
    "rate = calculate_location_violation_rate(df_1, location, time_range, location_precinct, violation_date)\n",
    "print(f'Location Violation Rate for {location} between {time_range[0]} and {time_range[1]}: {rate:.2f}%')"
   ],
   "metadata": {
    "collapsed": false,
    "ExecuteTime": {
     "start_time": "2023-11-23T11:35:36.199184Z",
     "end_time": "2023-11-23T11:35:41.441184Z"
    }
   }
  },
  {
   "cell_type": "code",
   "execution_count": null,
   "outputs": [],
   "source": [
    "import dask.dataframe as dd\n",
    "from dask.distributed import Client\n",
    "from datetime import datetime, timedelta\n",
    "\n",
    "ddf = dd.from_pandas(df_1, npartitions=10)\n",
    "\n",
    "client = Client()\n",
    "\n",
    "def calculate_violation_rate(row):\n",
    "    location = row['Street Name']\n",
    "    hour = row['Violation Hour']\n",
    "    violation_date = row['Violation Date']\n",
    "    precinct = row['Violation Precinct']\n",
    "\n",
    "    if hour == 23:\n",
    "        start_time = datetime.strptime('23:00', '%H:%M').time()\n",
    "        end_time = datetime.strptime('23:59', '%H:%M').time()\n",
    "    else:\n",
    "        start_time = datetime.strptime(f'{hour:02d}:00', '%H:%M').time()\n",
    "        end_time = (datetime.strptime(f'{hour+1:02d}:00', '%H:%M') + timedelta(minutes=59, seconds=59)).time()\n",
    "\n",
    "    total_location_violations = len(ddf[(ddf['Violation Time'].between(start_time, end_time)) &\n",
    "                                        (ddf['Violation Precinct'] == precinct) &\n",
    "                                        (ddf['Violation Date'] == violation_date)])\n",
    "\n",
    "    location_violations = len(ddf[(ddf['Street Name'] == location) &\n",
    "                                   (ddf['Violation Time'].between(start_time, end_time)) &\n",
    "                                   (ddf['Violation Date'] == violation_date)])\n",
    "\n",
    "    if total_location_violations == 0:\n",
    "        return 0\n",
    "\n",
    "    location_violation_rate = (location_violations / total_location_violations) * 100\n",
    "\n",
    "    return location_violation_rate\n",
    "\n",
    "ddf['Violation Rate'] = ddf.apply(calculate_violation_rate, axis=1, meta=('x', 'f8'))\n",
    "\n",
    "result_with_violation_rate = ddf.compute()\n",
    "\n",
    "client.close()\n",
    "result_with_violation_rate"
   ],
   "metadata": {
    "collapsed": false
   }
  },
  {
   "cell_type": "code",
   "execution_count": 130,
   "outputs": [
    {
     "ename": "KeyboardInterrupt",
     "evalue": "",
     "output_type": "error",
     "traceback": [
      "\u001B[1;31m---------------------------------------------------------------------------\u001B[0m",
      "\u001B[1;31mKeyboardInterrupt\u001B[0m                         Traceback (most recent call last)",
      "Cell \u001B[1;32mIn[130], line 34\u001B[0m\n\u001B[0;32m     30\u001B[0m     location_violation_rate \u001B[38;5;241m=\u001B[39m (location_violations \u001B[38;5;241m/\u001B[39m total_location_violations) \u001B[38;5;241m*\u001B[39m \u001B[38;5;241m100\u001B[39m\n\u001B[0;32m     32\u001B[0m     \u001B[38;5;28;01mreturn\u001B[39;00m location_violation_rate\n\u001B[1;32m---> 34\u001B[0m df_1[\u001B[38;5;124m'\u001B[39m\u001B[38;5;124mViolation Rate\u001B[39m\u001B[38;5;124m'\u001B[39m] \u001B[38;5;241m=\u001B[39m \u001B[43mdf_1\u001B[49m\u001B[38;5;241;43m.\u001B[39;49m\u001B[43mapply\u001B[49m\u001B[43m(\u001B[49m\u001B[38;5;28;43;01mlambda\u001B[39;49;00m\u001B[43m \u001B[49m\u001B[43mrow\u001B[49m\u001B[43m:\u001B[49m\u001B[43m \u001B[49m\u001B[43mcalculate_violation_rate\u001B[49m\u001B[43m(\u001B[49m\u001B[43mrow\u001B[49m\u001B[43m,\u001B[49m\u001B[43m \u001B[49m\u001B[43mdf_1\u001B[49m\u001B[43m)\u001B[49m\u001B[43m,\u001B[49m\u001B[43m \u001B[49m\u001B[43maxis\u001B[49m\u001B[38;5;241;43m=\u001B[39;49m\u001B[38;5;241;43m1\u001B[39;49m\u001B[43m)\u001B[49m\n",
      "File \u001B[1;32m~\\anaconda3\\lib\\site-packages\\pandas\\core\\frame.py:8848\u001B[0m, in \u001B[0;36mDataFrame.apply\u001B[1;34m(self, func, axis, raw, result_type, args, **kwargs)\u001B[0m\n\u001B[0;32m   8837\u001B[0m \u001B[38;5;28;01mfrom\u001B[39;00m \u001B[38;5;21;01mpandas\u001B[39;00m\u001B[38;5;21;01m.\u001B[39;00m\u001B[38;5;21;01mcore\u001B[39;00m\u001B[38;5;21;01m.\u001B[39;00m\u001B[38;5;21;01mapply\u001B[39;00m \u001B[38;5;28;01mimport\u001B[39;00m frame_apply\n\u001B[0;32m   8839\u001B[0m op \u001B[38;5;241m=\u001B[39m frame_apply(\n\u001B[0;32m   8840\u001B[0m     \u001B[38;5;28mself\u001B[39m,\n\u001B[0;32m   8841\u001B[0m     func\u001B[38;5;241m=\u001B[39mfunc,\n\u001B[1;32m   (...)\u001B[0m\n\u001B[0;32m   8846\u001B[0m     kwargs\u001B[38;5;241m=\u001B[39mkwargs,\n\u001B[0;32m   8847\u001B[0m )\n\u001B[1;32m-> 8848\u001B[0m \u001B[38;5;28;01mreturn\u001B[39;00m \u001B[43mop\u001B[49m\u001B[38;5;241;43m.\u001B[39;49m\u001B[43mapply\u001B[49m\u001B[43m(\u001B[49m\u001B[43m)\u001B[49m\u001B[38;5;241m.\u001B[39m__finalize__(\u001B[38;5;28mself\u001B[39m, method\u001B[38;5;241m=\u001B[39m\u001B[38;5;124m\"\u001B[39m\u001B[38;5;124mapply\u001B[39m\u001B[38;5;124m\"\u001B[39m)\n",
      "File \u001B[1;32m~\\anaconda3\\lib\\site-packages\\pandas\\core\\apply.py:733\u001B[0m, in \u001B[0;36mFrameApply.apply\u001B[1;34m(self)\u001B[0m\n\u001B[0;32m    730\u001B[0m \u001B[38;5;28;01melif\u001B[39;00m \u001B[38;5;28mself\u001B[39m\u001B[38;5;241m.\u001B[39mraw:\n\u001B[0;32m    731\u001B[0m     \u001B[38;5;28;01mreturn\u001B[39;00m \u001B[38;5;28mself\u001B[39m\u001B[38;5;241m.\u001B[39mapply_raw()\n\u001B[1;32m--> 733\u001B[0m \u001B[38;5;28;01mreturn\u001B[39;00m \u001B[38;5;28;43mself\u001B[39;49m\u001B[38;5;241;43m.\u001B[39;49m\u001B[43mapply_standard\u001B[49m\u001B[43m(\u001B[49m\u001B[43m)\u001B[49m\n",
      "File \u001B[1;32m~\\anaconda3\\lib\\site-packages\\pandas\\core\\apply.py:857\u001B[0m, in \u001B[0;36mFrameApply.apply_standard\u001B[1;34m(self)\u001B[0m\n\u001B[0;32m    856\u001B[0m \u001B[38;5;28;01mdef\u001B[39;00m \u001B[38;5;21mapply_standard\u001B[39m(\u001B[38;5;28mself\u001B[39m):\n\u001B[1;32m--> 857\u001B[0m     results, res_index \u001B[38;5;241m=\u001B[39m \u001B[38;5;28;43mself\u001B[39;49m\u001B[38;5;241;43m.\u001B[39;49m\u001B[43mapply_series_generator\u001B[49m\u001B[43m(\u001B[49m\u001B[43m)\u001B[49m\n\u001B[0;32m    859\u001B[0m     \u001B[38;5;66;03m# wrap results\u001B[39;00m\n\u001B[0;32m    860\u001B[0m     \u001B[38;5;28;01mreturn\u001B[39;00m \u001B[38;5;28mself\u001B[39m\u001B[38;5;241m.\u001B[39mwrap_results(results, res_index)\n",
      "File \u001B[1;32m~\\anaconda3\\lib\\site-packages\\pandas\\core\\apply.py:873\u001B[0m, in \u001B[0;36mFrameApply.apply_series_generator\u001B[1;34m(self)\u001B[0m\n\u001B[0;32m    870\u001B[0m \u001B[38;5;28;01mwith\u001B[39;00m option_context(\u001B[38;5;124m\"\u001B[39m\u001B[38;5;124mmode.chained_assignment\u001B[39m\u001B[38;5;124m\"\u001B[39m, \u001B[38;5;28;01mNone\u001B[39;00m):\n\u001B[0;32m    871\u001B[0m     \u001B[38;5;28;01mfor\u001B[39;00m i, v \u001B[38;5;129;01min\u001B[39;00m \u001B[38;5;28menumerate\u001B[39m(series_gen):\n\u001B[0;32m    872\u001B[0m         \u001B[38;5;66;03m# ignore SettingWithCopy here in case the user mutates\u001B[39;00m\n\u001B[1;32m--> 873\u001B[0m         results[i] \u001B[38;5;241m=\u001B[39m \u001B[38;5;28;43mself\u001B[39;49m\u001B[38;5;241;43m.\u001B[39;49m\u001B[43mf\u001B[49m\u001B[43m(\u001B[49m\u001B[43mv\u001B[49m\u001B[43m)\u001B[49m\n\u001B[0;32m    874\u001B[0m         \u001B[38;5;28;01mif\u001B[39;00m \u001B[38;5;28misinstance\u001B[39m(results[i], ABCSeries):\n\u001B[0;32m    875\u001B[0m             \u001B[38;5;66;03m# If we have a view on v, we need to make a copy because\u001B[39;00m\n\u001B[0;32m    876\u001B[0m             \u001B[38;5;66;03m#  series_generator will swap out the underlying data\u001B[39;00m\n\u001B[0;32m    877\u001B[0m             results[i] \u001B[38;5;241m=\u001B[39m results[i]\u001B[38;5;241m.\u001B[39mcopy(deep\u001B[38;5;241m=\u001B[39m\u001B[38;5;28;01mFalse\u001B[39;00m)\n",
      "Cell \u001B[1;32mIn[130], line 34\u001B[0m, in \u001B[0;36m<lambda>\u001B[1;34m(row)\u001B[0m\n\u001B[0;32m     30\u001B[0m     location_violation_rate \u001B[38;5;241m=\u001B[39m (location_violations \u001B[38;5;241m/\u001B[39m total_location_violations) \u001B[38;5;241m*\u001B[39m \u001B[38;5;241m100\u001B[39m\n\u001B[0;32m     32\u001B[0m     \u001B[38;5;28;01mreturn\u001B[39;00m location_violation_rate\n\u001B[1;32m---> 34\u001B[0m df_1[\u001B[38;5;124m'\u001B[39m\u001B[38;5;124mViolation Rate\u001B[39m\u001B[38;5;124m'\u001B[39m] \u001B[38;5;241m=\u001B[39m df_1\u001B[38;5;241m.\u001B[39mapply(\u001B[38;5;28;01mlambda\u001B[39;00m row: \u001B[43mcalculate_violation_rate\u001B[49m\u001B[43m(\u001B[49m\u001B[43mrow\u001B[49m\u001B[43m,\u001B[49m\u001B[43m \u001B[49m\u001B[43mdf_1\u001B[49m\u001B[43m)\u001B[49m, axis\u001B[38;5;241m=\u001B[39m\u001B[38;5;241m1\u001B[39m)\n",
      "Cell \u001B[1;32mIn[130], line 21\u001B[0m, in \u001B[0;36mcalculate_violation_rate\u001B[1;34m(row, df)\u001B[0m\n\u001B[0;32m     15\u001B[0m     end_time \u001B[38;5;241m=\u001B[39m (datetime\u001B[38;5;241m.\u001B[39mstrptime(\u001B[38;5;124mf\u001B[39m\u001B[38;5;124m'\u001B[39m\u001B[38;5;132;01m{\u001B[39;00mhour\u001B[38;5;241m+\u001B[39m\u001B[38;5;241m1\u001B[39m\u001B[38;5;132;01m:\u001B[39;00m\u001B[38;5;124m02d\u001B[39m\u001B[38;5;132;01m}\u001B[39;00m\u001B[38;5;124m:00\u001B[39m\u001B[38;5;124m'\u001B[39m, \u001B[38;5;124m'\u001B[39m\u001B[38;5;124m%\u001B[39m\u001B[38;5;124mH:\u001B[39m\u001B[38;5;124m%\u001B[39m\u001B[38;5;124mM\u001B[39m\u001B[38;5;124m'\u001B[39m) \u001B[38;5;241m+\u001B[39m timedelta(minutes\u001B[38;5;241m=\u001B[39m\u001B[38;5;241m59\u001B[39m, seconds\u001B[38;5;241m=\u001B[39m\u001B[38;5;241m59\u001B[39m))\u001B[38;5;241m.\u001B[39mtime()\n\u001B[0;32m     17\u001B[0m filtered_data \u001B[38;5;241m=\u001B[39m df[(df[\u001B[38;5;124m'\u001B[39m\u001B[38;5;124mStreet Name\u001B[39m\u001B[38;5;124m'\u001B[39m] \u001B[38;5;241m==\u001B[39m location) \u001B[38;5;241m&\u001B[39m\n\u001B[0;32m     18\u001B[0m                  (df[\u001B[38;5;124m'\u001B[39m\u001B[38;5;124mViolation Time\u001B[39m\u001B[38;5;124m'\u001B[39m]\u001B[38;5;241m.\u001B[39mbetween(start_time, end_time)) \u001B[38;5;241m&\u001B[39m\n\u001B[0;32m     19\u001B[0m                  (df[\u001B[38;5;124m'\u001B[39m\u001B[38;5;124mViolation Date\u001B[39m\u001B[38;5;124m'\u001B[39m] \u001B[38;5;241m==\u001B[39m violation_date)]\n\u001B[1;32m---> 21\u001B[0m total_location_violations \u001B[38;5;241m=\u001B[39m \u001B[38;5;28mlen\u001B[39m(df[(\u001B[43mdf\u001B[49m\u001B[43m[\u001B[49m\u001B[38;5;124;43m'\u001B[39;49m\u001B[38;5;124;43mViolation Time\u001B[39;49m\u001B[38;5;124;43m'\u001B[39;49m\u001B[43m]\u001B[49m\u001B[38;5;241;43m.\u001B[39;49m\u001B[43mbetween\u001B[49m\u001B[43m(\u001B[49m\u001B[43mstart_time\u001B[49m\u001B[43m,\u001B[49m\u001B[43m \u001B[49m\u001B[43mend_time\u001B[49m\u001B[43m)\u001B[49m) \u001B[38;5;241m&\u001B[39m\n\u001B[0;32m     22\u001B[0m                                   (df[\u001B[38;5;124m'\u001B[39m\u001B[38;5;124mViolation Precinct\u001B[39m\u001B[38;5;124m'\u001B[39m] \u001B[38;5;241m==\u001B[39m precinct) \u001B[38;5;241m&\u001B[39m\n\u001B[0;32m     23\u001B[0m                                   (df[\u001B[38;5;124m'\u001B[39m\u001B[38;5;124mViolation Date\u001B[39m\u001B[38;5;124m'\u001B[39m] \u001B[38;5;241m==\u001B[39m violation_date)])\n\u001B[0;32m     25\u001B[0m location_violations \u001B[38;5;241m=\u001B[39m \u001B[38;5;28mlen\u001B[39m(filtered_data[filtered_data[\u001B[38;5;124m'\u001B[39m\u001B[38;5;124mViolation Code\u001B[39m\u001B[38;5;124m'\u001B[39m] \u001B[38;5;241m>\u001B[39m \u001B[38;5;241m0\u001B[39m])\n\u001B[0;32m     27\u001B[0m \u001B[38;5;28;01mif\u001B[39;00m total_location_violations \u001B[38;5;241m==\u001B[39m \u001B[38;5;241m0\u001B[39m:\n",
      "File \u001B[1;32m~\\anaconda3\\lib\\site-packages\\pandas\\core\\series.py:5226\u001B[0m, in \u001B[0;36mSeries.between\u001B[1;34m(self, left, right, inclusive)\u001B[0m\n\u001B[0;32m   5224\u001B[0m         inclusive \u001B[38;5;241m=\u001B[39m \u001B[38;5;124m\"\u001B[39m\u001B[38;5;124mneither\u001B[39m\u001B[38;5;124m\"\u001B[39m\n\u001B[0;32m   5225\u001B[0m \u001B[38;5;28;01mif\u001B[39;00m inclusive \u001B[38;5;241m==\u001B[39m \u001B[38;5;124m\"\u001B[39m\u001B[38;5;124mboth\u001B[39m\u001B[38;5;124m\"\u001B[39m:\n\u001B[1;32m-> 5226\u001B[0m     lmask \u001B[38;5;241m=\u001B[39m \u001B[38;5;28;43mself\u001B[39;49m\u001B[43m \u001B[49m\u001B[38;5;241;43m>\u001B[39;49m\u001B[38;5;241;43m=\u001B[39;49m\u001B[43m \u001B[49m\u001B[43mleft\u001B[49m\n\u001B[0;32m   5227\u001B[0m     rmask \u001B[38;5;241m=\u001B[39m \u001B[38;5;28mself\u001B[39m \u001B[38;5;241m<\u001B[39m\u001B[38;5;241m=\u001B[39m right\n\u001B[0;32m   5228\u001B[0m \u001B[38;5;28;01melif\u001B[39;00m inclusive \u001B[38;5;241m==\u001B[39m \u001B[38;5;124m\"\u001B[39m\u001B[38;5;124mleft\u001B[39m\u001B[38;5;124m\"\u001B[39m:\n",
      "File \u001B[1;32m~\\anaconda3\\lib\\site-packages\\pandas\\core\\ops\\common.py:70\u001B[0m, in \u001B[0;36m_unpack_zerodim_and_defer.<locals>.new_method\u001B[1;34m(self, other)\u001B[0m\n\u001B[0;32m     66\u001B[0m             \u001B[38;5;28;01mreturn\u001B[39;00m \u001B[38;5;28mNotImplemented\u001B[39m\n\u001B[0;32m     68\u001B[0m other \u001B[38;5;241m=\u001B[39m item_from_zerodim(other)\n\u001B[1;32m---> 70\u001B[0m \u001B[38;5;28;01mreturn\u001B[39;00m \u001B[43mmethod\u001B[49m\u001B[43m(\u001B[49m\u001B[38;5;28;43mself\u001B[39;49m\u001B[43m,\u001B[49m\u001B[43m \u001B[49m\u001B[43mother\u001B[49m\u001B[43m)\u001B[49m\n",
      "File \u001B[1;32m~\\anaconda3\\lib\\site-packages\\pandas\\core\\arraylike.py:60\u001B[0m, in \u001B[0;36mOpsMixin.__ge__\u001B[1;34m(self, other)\u001B[0m\n\u001B[0;32m     58\u001B[0m \u001B[38;5;129m@unpack_zerodim_and_defer\u001B[39m(\u001B[38;5;124m\"\u001B[39m\u001B[38;5;124m__ge__\u001B[39m\u001B[38;5;124m\"\u001B[39m)\n\u001B[0;32m     59\u001B[0m \u001B[38;5;28;01mdef\u001B[39;00m \u001B[38;5;21m__ge__\u001B[39m(\u001B[38;5;28mself\u001B[39m, other):\n\u001B[1;32m---> 60\u001B[0m     \u001B[38;5;28;01mreturn\u001B[39;00m \u001B[38;5;28;43mself\u001B[39;49m\u001B[38;5;241;43m.\u001B[39;49m\u001B[43m_cmp_method\u001B[49m\u001B[43m(\u001B[49m\u001B[43mother\u001B[49m\u001B[43m,\u001B[49m\u001B[43m \u001B[49m\u001B[43moperator\u001B[49m\u001B[38;5;241;43m.\u001B[39;49m\u001B[43mge\u001B[49m\u001B[43m)\u001B[49m\n",
      "File \u001B[1;32m~\\anaconda3\\lib\\site-packages\\pandas\\core\\series.py:5623\u001B[0m, in \u001B[0;36mSeries._cmp_method\u001B[1;34m(self, other, op)\u001B[0m\n\u001B[0;32m   5620\u001B[0m rvalues \u001B[38;5;241m=\u001B[39m extract_array(other, extract_numpy\u001B[38;5;241m=\u001B[39m\u001B[38;5;28;01mTrue\u001B[39;00m, extract_range\u001B[38;5;241m=\u001B[39m\u001B[38;5;28;01mTrue\u001B[39;00m)\n\u001B[0;32m   5622\u001B[0m \u001B[38;5;28;01mwith\u001B[39;00m np\u001B[38;5;241m.\u001B[39merrstate(\u001B[38;5;28mall\u001B[39m\u001B[38;5;241m=\u001B[39m\u001B[38;5;124m\"\u001B[39m\u001B[38;5;124mignore\u001B[39m\u001B[38;5;124m\"\u001B[39m):\n\u001B[1;32m-> 5623\u001B[0m     res_values \u001B[38;5;241m=\u001B[39m \u001B[43mops\u001B[49m\u001B[38;5;241;43m.\u001B[39;49m\u001B[43mcomparison_op\u001B[49m\u001B[43m(\u001B[49m\u001B[43mlvalues\u001B[49m\u001B[43m,\u001B[49m\u001B[43m \u001B[49m\u001B[43mrvalues\u001B[49m\u001B[43m,\u001B[49m\u001B[43m \u001B[49m\u001B[43mop\u001B[49m\u001B[43m)\u001B[49m\n\u001B[0;32m   5625\u001B[0m \u001B[38;5;28;01mreturn\u001B[39;00m \u001B[38;5;28mself\u001B[39m\u001B[38;5;241m.\u001B[39m_construct_result(res_values, name\u001B[38;5;241m=\u001B[39mres_name)\n",
      "File \u001B[1;32m~\\anaconda3\\lib\\site-packages\\pandas\\core\\ops\\array_ops.py:283\u001B[0m, in \u001B[0;36mcomparison_op\u001B[1;34m(left, right, op)\u001B[0m\n\u001B[0;32m    280\u001B[0m     \u001B[38;5;28;01mreturn\u001B[39;00m invalid_comparison(lvalues, rvalues, op)\n\u001B[0;32m    282\u001B[0m \u001B[38;5;28;01melif\u001B[39;00m is_object_dtype(lvalues\u001B[38;5;241m.\u001B[39mdtype) \u001B[38;5;129;01mor\u001B[39;00m \u001B[38;5;28misinstance\u001B[39m(rvalues, \u001B[38;5;28mstr\u001B[39m):\n\u001B[1;32m--> 283\u001B[0m     res_values \u001B[38;5;241m=\u001B[39m \u001B[43mcomp_method_OBJECT_ARRAY\u001B[49m\u001B[43m(\u001B[49m\u001B[43mop\u001B[49m\u001B[43m,\u001B[49m\u001B[43m \u001B[49m\u001B[43mlvalues\u001B[49m\u001B[43m,\u001B[49m\u001B[43m \u001B[49m\u001B[43mrvalues\u001B[49m\u001B[43m)\u001B[49m\n\u001B[0;32m    285\u001B[0m \u001B[38;5;28;01melse\u001B[39;00m:\n\u001B[0;32m    286\u001B[0m     res_values \u001B[38;5;241m=\u001B[39m _na_arithmetic_op(lvalues, rvalues, op, is_cmp\u001B[38;5;241m=\u001B[39m\u001B[38;5;28;01mTrue\u001B[39;00m)\n",
      "File \u001B[1;32m~\\anaconda3\\lib\\site-packages\\pandas\\core\\ops\\array_ops.py:74\u001B[0m, in \u001B[0;36mcomp_method_OBJECT_ARRAY\u001B[1;34m(op, x, y)\u001B[0m\n\u001B[0;32m     72\u001B[0m \u001B[38;5;28;01melse\u001B[39;00m:\n\u001B[0;32m     73\u001B[0m     result \u001B[38;5;241m=\u001B[39m libops\u001B[38;5;241m.\u001B[39mscalar_compare(x\u001B[38;5;241m.\u001B[39mravel(), y, op)\n\u001B[1;32m---> 74\u001B[0m \u001B[38;5;28;01mreturn\u001B[39;00m \u001B[43mresult\u001B[49m\u001B[38;5;241;43m.\u001B[39;49m\u001B[43mreshape\u001B[49m(x\u001B[38;5;241m.\u001B[39mshape)\n",
      "\u001B[1;31mKeyboardInterrupt\u001B[0m: "
     ]
    }
   ],
   "source": [
    "def calculate_violation_rate(row):\n",
    "    location = row['Street Name']\n",
    "    hour = row['Violation Hour']\n",
    "    violation_date = row['Violation Date']\n",
    "    precinct = row['Violation Precinct']\n",
    "\n",
    "    # Handle the case where hour is 24\n",
    "    if hour == 23:\n",
    "        start_time = datetime.strptime('23:00', '%H:%M').time()\n",
    "        end_time = datetime.strptime('23:59', '%H:%M').time()\n",
    "    else:\n",
    "        start_time = datetime.strptime(f'{hour:02d}:00', '%H:%M').time()\n",
    "        end_time = (datetime.strptime(f'{hour+1:02d}:00', '%H:%M') + timedelta(minutes=59, seconds=59)).time()\n",
    "\n",
    "\n",
    "    total_location_violations = len(df_1[(df_1['Violation Time'].between(start_time, end_time)) &\n",
    "                                      (df_1['Violation Precinct'] == precinct) &\n",
    "                                      (df_1['Violation Date'] == violation_date)])\n",
    "\n",
    "    location_violations = len(df_1[(df_1['Street Name'] == location) &\n",
    "                                 (df_1['Violation Time'].between(start_time, end_time)) &\n",
    "                                 (df_1['Violation Date'] == violation_date)])\n",
    "\n",
    "    if total_location_violations == 0:\n",
    "        return 0\n",
    "\n",
    "    location_violation_rate = (location_violations / total_location_violations) * 100\n",
    "\n",
    "    return location_violation_rate\n",
    "\n",
    "if 'Violation Rate' in df_1:\n",
    "    df_1.drop('Violation Rate', axis=1, inplace=True)\n",
    "\n",
    "df_1['Violation Rate'] = df_1.apply(lambda row: calculate_violation_rate(row), axis=1)"
   ],
   "metadata": {
    "collapsed": false,
    "ExecuteTime": {
     "start_time": "2023-11-23T11:34:35.113197Z",
     "end_time": "2023-11-23T11:34:35.852207Z"
    }
   }
  },
  {
   "cell_type": "code",
   "execution_count": null,
   "outputs": [],
   "source": [
    "df_1['Violation Rate']"
   ],
   "metadata": {
    "collapsed": false,
    "ExecuteTime": {
     "start_time": "2023-11-23T11:34:35.854204Z",
     "end_time": "2023-11-23T11:34:35.873199Z"
    }
   }
  },
  {
   "cell_type": "code",
   "execution_count": null,
   "outputs": [],
   "source": [
    "df_1"
   ],
   "metadata": {
    "collapsed": false,
    "ExecuteTime": {
     "start_time": "2023-11-23T11:34:35.869197Z",
     "end_time": "2023-11-23T11:34:35.923197Z"
    }
   }
  },
  {
   "cell_type": "code",
   "execution_count": null,
   "outputs": [],
   "source": [
    "def scale_between_0_and_1(value, min_value, max_value):\n",
    "    \"\"\"\n",
    "    Scale a value to be between 0 and 1.\n",
    "\n",
    "    :param value: The value to be scaled.\n",
    "    :param min_value: The minimum value in the range of your data.\n",
    "    :param max_value: The maximum value in the range of your data.\n",
    "    :return: Scaled value between 0 and 1.\n",
    "    \"\"\"\n",
    "    if max_value == min_value:\n",
    "        return 0  # Avoid division by zero if all values are the same\n",
    "\n",
    "    return (value - min_value) / (max_value - min_value)"
   ],
   "metadata": {
    "collapsed": false,
    "ExecuteTime": {
     "start_time": "2023-11-23T11:34:35.902197Z",
     "end_time": "2023-11-23T11:34:35.923197Z"
    }
   }
  },
  {
   "cell_type": "code",
   "execution_count": null,
   "outputs": [],
   "source": [
    "df_1['Violation Rate (Scaled)'] = df_1['Violation Rate'].apply(lambda x: scale_between_0_and_1(x, df_1['Violation Rate'].min(), df_1['Violation Rate'].max()))\n",
    "df_1['Violation Rate (Scaled)']"
   ],
   "metadata": {
    "collapsed": false,
    "ExecuteTime": {
     "start_time": "2023-11-23T11:34:35.917200Z",
     "end_time": "2023-11-23T11:34:35.973196Z"
    }
   }
  },
  {
   "cell_type": "code",
   "execution_count": null,
   "outputs": [],
   "source": [
    "df_1['Violation Rate'].max()"
   ],
   "metadata": {
    "collapsed": false,
    "ExecuteTime": {
     "start_time": "2023-11-23T11:34:35.947199Z",
     "end_time": "2023-11-23T11:34:36.005196Z"
    }
   }
  }
 ],
 "metadata": {
  "kernelspec": {
   "display_name": "Python 3",
   "language": "python",
   "name": "python3"
  },
  "language_info": {
   "codemirror_mode": {
    "name": "ipython",
    "version": 2
   },
   "file_extension": ".py",
   "mimetype": "text/x-python",
   "name": "python",
   "nbconvert_exporter": "python",
   "pygments_lexer": "ipython2",
   "version": "2.7.6"
  }
 },
 "nbformat": 4,
 "nbformat_minor": 0
}
