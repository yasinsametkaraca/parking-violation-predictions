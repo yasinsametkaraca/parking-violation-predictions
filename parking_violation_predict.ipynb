{
 "cells": [
  {
   "cell_type": "markdown",
   "source": [
    "# NYC Parking Tickets: Violation Rate Prediction"
   ],
   "metadata": {
    "collapsed": false
   }
  },
  {
   "cell_type": "code",
   "execution_count": 2,
   "metadata": {
    "collapsed": true,
    "ExecuteTime": {
     "start_time": "2023-11-23T23:07:45.144658Z",
     "end_time": "2023-11-23T23:07:45.244194Z"
    }
   },
   "outputs": [],
   "source": [
    "# This Python 3 environment comes with many helpful analytics libraries installed\n",
    "# It is defined by the kaggle/python docker image: https://github.com/kaggle/docker-python\n",
    "# For example, here's several helpful packages to load in\n",
    "\n",
    "from datetime import datetime, timedelta\n",
    "\n",
    "import numpy as np # linear algebra\n",
    "import pandas as pd # data processing, CSV file I/O (e.g. pd.read_csv)\n",
    "# importing libraries\n",
    "\n",
    "import csv\n",
    "import matplotlib.pyplot as plt\n",
    "import seaborn as sns\n",
    "\n",
    "import warnings\n",
    "warnings.filterwarnings(\"ignore\")\n",
    "\n",
    "# Input data files are available in the \"../input/\" directory.\n",
    "# For example, running this (by clicking run or pressing Shift+Enter) will list the files in the input directory\n",
    "\n",
    "# import os\n",
    "# print(os.listdir(\"../input\"))\n",
    "\n",
    "# Any results you write to the current directory are saved as output."
   ]
  },
  {
   "cell_type": "code",
   "execution_count": 3,
   "outputs": [
    {
     "data": {
      "text/plain": "       Issue Date  Violation Code Vehicle Body Type  Street Code1  \\\n0      06/25/2021              40               VAN         63430   \n1      06/25/2021              20              SUBN         13490   \n2      06/17/2021              98               SDN         79430   \n3      06/16/2021              98               SDN         53130   \n4      07/04/2021              40              TAXI         81030   \n...           ...             ...               ...           ...   \n99995  07/02/2021              36               VAN             0   \n99996  07/02/2021              36              SUBN             0   \n99997  07/02/2021              36              SUBN             0   \n99998  07/02/2021              36              SUBN             0   \n99999  07/02/2021              36                PK             0   \n\n       Street Code2  Street Code3  Violation Precinct Violation Time  \\\n0             69230         13490                  88          0130A   \n1             40404         40404                  88          0225A   \n2             47130         11750                  88          0809P   \n3             23230         23930                  83          0605P   \n4             23930         40030                  83          1058P   \n...             ...           ...                 ...            ...   \n99995         35710             0                   0          0140P   \n99996             0             0                   0          0141P   \n99997             0             0                   0          0141P   \n99998             0             0                   0          0141P   \n99999             0             0                   0          0141P   \n\n      Violation County           Street Name Intersecting Street  \\\n0                    K    NORTH PORTLAND AVE                 NaN   \n1                    K          AUBURN PLACE                 NaN   \n2                    K    SOUTH PORTLAND AVE                 NaN   \n3                    K          JEFFERSON ST                 NaN   \n4                    K           STANHOPE ST                 NaN   \n...                ...                   ...                 ...   \n99995               MN  NB CENTRAL PARK WEST         @ W 97TH ST   \n99996               BK  NB NOSTRAND AVE @ AV                 E L   \n99997               BK  EB 37TH ST @ FT HAMI           LTON PKWY   \n99998               QN  SB QUEENS BLVD @ 87T               H AVE   \n99999               MN  NB WEST ST @ LEROY S                   T   \n\n       Violation Post Code  \n0                      NaN  \n1                      NaN  \n2                      NaN  \n3                      NaN  \n4                      NaN  \n...                    ...  \n99995                  NaN  \n99996                  NaN  \n99997                  NaN  \n99998                  NaN  \n99999                  NaN  \n\n[100000 rows x 12 columns]",
      "text/html": "<div>\n<style scoped>\n    .dataframe tbody tr th:only-of-type {\n        vertical-align: middle;\n    }\n\n    .dataframe tbody tr th {\n        vertical-align: top;\n    }\n\n    .dataframe thead th {\n        text-align: right;\n    }\n</style>\n<table border=\"1\" class=\"dataframe\">\n  <thead>\n    <tr style=\"text-align: right;\">\n      <th></th>\n      <th>Issue Date</th>\n      <th>Violation Code</th>\n      <th>Vehicle Body Type</th>\n      <th>Street Code1</th>\n      <th>Street Code2</th>\n      <th>Street Code3</th>\n      <th>Violation Precinct</th>\n      <th>Violation Time</th>\n      <th>Violation County</th>\n      <th>Street Name</th>\n      <th>Intersecting Street</th>\n      <th>Violation Post Code</th>\n    </tr>\n  </thead>\n  <tbody>\n    <tr>\n      <th>0</th>\n      <td>06/25/2021</td>\n      <td>40</td>\n      <td>VAN</td>\n      <td>63430</td>\n      <td>69230</td>\n      <td>13490</td>\n      <td>88</td>\n      <td>0130A</td>\n      <td>K</td>\n      <td>NORTH PORTLAND AVE</td>\n      <td>NaN</td>\n      <td>NaN</td>\n    </tr>\n    <tr>\n      <th>1</th>\n      <td>06/25/2021</td>\n      <td>20</td>\n      <td>SUBN</td>\n      <td>13490</td>\n      <td>40404</td>\n      <td>40404</td>\n      <td>88</td>\n      <td>0225A</td>\n      <td>K</td>\n      <td>AUBURN PLACE</td>\n      <td>NaN</td>\n      <td>NaN</td>\n    </tr>\n    <tr>\n      <th>2</th>\n      <td>06/17/2021</td>\n      <td>98</td>\n      <td>SDN</td>\n      <td>79430</td>\n      <td>47130</td>\n      <td>11750</td>\n      <td>88</td>\n      <td>0809P</td>\n      <td>K</td>\n      <td>SOUTH PORTLAND AVE</td>\n      <td>NaN</td>\n      <td>NaN</td>\n    </tr>\n    <tr>\n      <th>3</th>\n      <td>06/16/2021</td>\n      <td>98</td>\n      <td>SDN</td>\n      <td>53130</td>\n      <td>23230</td>\n      <td>23930</td>\n      <td>83</td>\n      <td>0605P</td>\n      <td>K</td>\n      <td>JEFFERSON ST</td>\n      <td>NaN</td>\n      <td>NaN</td>\n    </tr>\n    <tr>\n      <th>4</th>\n      <td>07/04/2021</td>\n      <td>40</td>\n      <td>TAXI</td>\n      <td>81030</td>\n      <td>23930</td>\n      <td>40030</td>\n      <td>83</td>\n      <td>1058P</td>\n      <td>K</td>\n      <td>STANHOPE ST</td>\n      <td>NaN</td>\n      <td>NaN</td>\n    </tr>\n    <tr>\n      <th>...</th>\n      <td>...</td>\n      <td>...</td>\n      <td>...</td>\n      <td>...</td>\n      <td>...</td>\n      <td>...</td>\n      <td>...</td>\n      <td>...</td>\n      <td>...</td>\n      <td>...</td>\n      <td>...</td>\n      <td>...</td>\n    </tr>\n    <tr>\n      <th>99995</th>\n      <td>07/02/2021</td>\n      <td>36</td>\n      <td>VAN</td>\n      <td>0</td>\n      <td>35710</td>\n      <td>0</td>\n      <td>0</td>\n      <td>0140P</td>\n      <td>MN</td>\n      <td>NB CENTRAL PARK WEST</td>\n      <td>@ W 97TH ST</td>\n      <td>NaN</td>\n    </tr>\n    <tr>\n      <th>99996</th>\n      <td>07/02/2021</td>\n      <td>36</td>\n      <td>SUBN</td>\n      <td>0</td>\n      <td>0</td>\n      <td>0</td>\n      <td>0</td>\n      <td>0141P</td>\n      <td>BK</td>\n      <td>NB NOSTRAND AVE @ AV</td>\n      <td>E L</td>\n      <td>NaN</td>\n    </tr>\n    <tr>\n      <th>99997</th>\n      <td>07/02/2021</td>\n      <td>36</td>\n      <td>SUBN</td>\n      <td>0</td>\n      <td>0</td>\n      <td>0</td>\n      <td>0</td>\n      <td>0141P</td>\n      <td>BK</td>\n      <td>EB 37TH ST @ FT HAMI</td>\n      <td>LTON PKWY</td>\n      <td>NaN</td>\n    </tr>\n    <tr>\n      <th>99998</th>\n      <td>07/02/2021</td>\n      <td>36</td>\n      <td>SUBN</td>\n      <td>0</td>\n      <td>0</td>\n      <td>0</td>\n      <td>0</td>\n      <td>0141P</td>\n      <td>QN</td>\n      <td>SB QUEENS BLVD @ 87T</td>\n      <td>H AVE</td>\n      <td>NaN</td>\n    </tr>\n    <tr>\n      <th>99999</th>\n      <td>07/02/2021</td>\n      <td>36</td>\n      <td>PK</td>\n      <td>0</td>\n      <td>0</td>\n      <td>0</td>\n      <td>0</td>\n      <td>0141P</td>\n      <td>MN</td>\n      <td>NB WEST ST @ LEROY S</td>\n      <td>T</td>\n      <td>NaN</td>\n    </tr>\n  </tbody>\n</table>\n<p>100000 rows × 12 columns</p>\n</div>"
     },
     "execution_count": 3,
     "metadata": {},
     "output_type": "execute_result"
    }
   ],
   "source": [
    "selected_columns = [\n",
    "    'Street Code1',\n",
    "    'Street Code2',\n",
    "    'Street Code3',\n",
    "    'Street Name',\n",
    "    # 'Violation Location',\n",
    "    'Violation Post Code',\n",
    "    'Intersecting Street',\n",
    "    'Violation Precinct',\n",
    "    'Violation County',\n",
    "    'Vehicle Body Type',\n",
    "    'Issue Date',\n",
    "    # 'Date First Observed',\n",
    "    'Violation Time',\n",
    "    #'Days Parking In Effect',\n",
    "    #'From Hours In Effect',\n",
    "    #'To Hours In Effect',\n",
    "    'Violation Code',\n",
    "]\n",
    "\n",
    "'''\n",
    "Genel olarak, \"county\" (ilçe) daha büyük bir alanı temsil eder. Bir \"county\", genellikle belirli bir eyaletin sınırları içinde bulunan büyük bir coğrafi bölgeyi kapsar. Bir eyalette birden çok \"county\" bulunabilir ve her biri kendi yerel yönetimine sahiptir.\n",
    "\n",
    "Öte yandan, \"precinct\" (seçim bölgesi) daha küçük bir coğrafi bölgeyi ifade eder. Bu, genellikle seçmenlerin oy kullandığı belirli bir mahalle veya köyü temsil eder. Seçim bölgesi, seçimlerde kullanılan ve oy verme işlemini düzenleyen bir kavramdır.\n",
    "'''\n",
    "\n",
    "n_rows_to_read = 100000\n",
    "file_path = 'Parking_Violations_2022.csv'\n",
    "df = pd.read_csv(file_path, usecols=selected_columns, nrows=n_rows_to_read) # nrows=n_rows_to_read\n",
    "df"
   ],
   "metadata": {
    "collapsed": false,
    "ExecuteTime": {
     "start_time": "2023-11-23T23:07:45.153199Z",
     "end_time": "2023-11-23T23:07:45.441901Z"
    }
   }
  },
  {
   "cell_type": "code",
   "execution_count": 4,
   "outputs": [
    {
     "data": {
      "text/plain": "0"
     },
     "execution_count": 4,
     "metadata": {},
     "output_type": "execute_result"
    }
   ],
   "source": [
    "df['Violation Precinct'].isna().sum()"
   ],
   "metadata": {
    "collapsed": false,
    "ExecuteTime": {
     "start_time": "2023-11-23T23:07:45.440901Z",
     "end_time": "2023-11-23T23:07:45.451846Z"
    }
   }
  },
  {
   "cell_type": "code",
   "execution_count": 5,
   "outputs": [
    {
     "name": "stdout",
     "output_type": "stream",
     "text": [
      "<class 'pandas.core.frame.DataFrame'>\n",
      "RangeIndex: 100000 entries, 0 to 99999\n",
      "Data columns (total 12 columns):\n",
      " #   Column               Non-Null Count   Dtype  \n",
      "---  ------               --------------   -----  \n",
      " 0   Issue Date           100000 non-null  object \n",
      " 1   Violation Code       100000 non-null  int64  \n",
      " 2   Vehicle Body Type    98749 non-null   object \n",
      " 3   Street Code1         100000 non-null  int64  \n",
      " 4   Street Code2         100000 non-null  int64  \n",
      " 5   Street Code3         100000 non-null  int64  \n",
      " 6   Violation Precinct   100000 non-null  int64  \n",
      " 7   Violation Time       99991 non-null   object \n",
      " 8   Violation County     98269 non-null   object \n",
      " 9   Street Name          99952 non-null   object \n",
      " 10  Intersecting Street  61237 non-null   object \n",
      " 11  Violation Post Code  0 non-null       float64\n",
      "dtypes: float64(1), int64(5), object(6)\n",
      "memory usage: 9.2+ MB\n"
     ]
    }
   ],
   "source": [
    "df.info()"
   ],
   "metadata": {
    "collapsed": false,
    "ExecuteTime": {
     "start_time": "2023-11-23T23:07:45.449844Z",
     "end_time": "2023-11-23T23:07:45.585786Z"
    }
   }
  },
  {
   "cell_type": "code",
   "execution_count": 6,
   "outputs": [
    {
     "data": {
      "text/plain": "0        0130A\n1        0225A\n2        0809P\n3        0605P\n4        1058P\n         ...  \n99995    0140P\n99996    0141P\n99997    0141P\n99998    0141P\n99999    0141P\nName: Violation Time, Length: 100000, dtype: object"
     },
     "execution_count": 6,
     "metadata": {},
     "output_type": "execute_result"
    }
   ],
   "source": [
    "df['Violation Time']"
   ],
   "metadata": {
    "collapsed": false,
    "ExecuteTime": {
     "start_time": "2023-11-23T23:07:45.488978Z",
     "end_time": "2023-11-23T23:07:45.585786Z"
    }
   }
  },
  {
   "cell_type": "code",
   "execution_count": 7,
   "outputs": [],
   "source": [
    "df_1 = df.copy()"
   ],
   "metadata": {
    "collapsed": false,
    "ExecuteTime": {
     "start_time": "2023-11-23T23:07:45.497830Z",
     "end_time": "2023-11-23T23:07:45.586788Z"
    }
   }
  },
  {
   "cell_type": "code",
   "execution_count": 8,
   "outputs": [],
   "source": [
    "# import sweetviz as sv\n",
    "# analyze_report = sv.analyze(df_1)\n",
    "# analyze_report.show_html('analyze.html', open_browser=False)"
   ],
   "metadata": {
    "collapsed": false,
    "ExecuteTime": {
     "start_time": "2023-11-23T23:07:45.507331Z",
     "end_time": "2023-11-23T23:07:45.603787Z"
    }
   }
  },
  {
   "cell_type": "code",
   "execution_count": 9,
   "outputs": [],
   "source": [
    "df_1['Violation Date'] = pd.to_datetime(df_1['Issue Date'])\n",
    "df_1['Violation Date (Month)'] = df_1['Violation Date'].dt.month\n",
    "df_1['Violation Date (Day)'] = df_1['Violation Date'].dt.day\n",
    "df_1['Violation Date (Year)'] = df_1['Violation Date'].dt.year\n",
    "df_1 = df_1.drop(columns=['Issue Date'])"
   ],
   "metadata": {
    "collapsed": false,
    "ExecuteTime": {
     "start_time": "2023-11-23T23:07:45.514577Z",
     "end_time": "2023-11-23T23:07:45.631783Z"
    }
   }
  },
  {
   "cell_type": "code",
   "execution_count": 10,
   "outputs": [
    {
     "data": {
      "text/plain": "       Violation Code Vehicle Body Type  Street Code1  Street Code2  \\\n0                  40               VAN         63430         69230   \n1                  20              SUBN         13490         40404   \n2                  98               SDN         79430         47130   \n3                  98               SDN         53130         23230   \n4                  40              TAXI         81030         23930   \n...               ...               ...           ...           ...   \n99995              36               VAN             0         35710   \n99996              36              SUBN             0             0   \n99997              36              SUBN             0             0   \n99998              36              SUBN             0             0   \n99999              36                PK             0             0   \n\n       Street Code3  Violation Precinct Violation Time Violation County  \\\n0             13490                  88          0130A                K   \n1             40404                  88          0225A                K   \n2             11750                  88          0809P                K   \n3             23930                  83          0605P                K   \n4             40030                  83          1058P                K   \n...             ...                 ...            ...              ...   \n99995             0                   0          0140P               MN   \n99996             0                   0          0141P               BK   \n99997             0                   0          0141P               BK   \n99998             0                   0          0141P               QN   \n99999             0                   0          0141P               MN   \n\n                Street Name Intersecting Street  Violation Post Code  \\\n0        NORTH PORTLAND AVE                 NaN                  NaN   \n1              AUBURN PLACE                 NaN                  NaN   \n2        SOUTH PORTLAND AVE                 NaN                  NaN   \n3              JEFFERSON ST                 NaN                  NaN   \n4               STANHOPE ST                 NaN                  NaN   \n...                     ...                 ...                  ...   \n99995  NB CENTRAL PARK WEST         @ W 97TH ST                  NaN   \n99996  NB NOSTRAND AVE @ AV                 E L                  NaN   \n99997  EB 37TH ST @ FT HAMI           LTON PKWY                  NaN   \n99998  SB QUEENS BLVD @ 87T               H AVE                  NaN   \n99999  NB WEST ST @ LEROY S                   T                  NaN   \n\n      Violation Date  Violation Date (Month)  Violation Date (Day)  \\\n0         2021-06-25                       6                    25   \n1         2021-06-25                       6                    25   \n2         2021-06-17                       6                    17   \n3         2021-06-16                       6                    16   \n4         2021-07-04                       7                     4   \n...              ...                     ...                   ...   \n99995     2021-07-02                       7                     2   \n99996     2021-07-02                       7                     2   \n99997     2021-07-02                       7                     2   \n99998     2021-07-02                       7                     2   \n99999     2021-07-02                       7                     2   \n\n       Violation Date (Year)  \n0                       2021  \n1                       2021  \n2                       2021  \n3                       2021  \n4                       2021  \n...                      ...  \n99995                   2021  \n99996                   2021  \n99997                   2021  \n99998                   2021  \n99999                   2021  \n\n[100000 rows x 15 columns]",
      "text/html": "<div>\n<style scoped>\n    .dataframe tbody tr th:only-of-type {\n        vertical-align: middle;\n    }\n\n    .dataframe tbody tr th {\n        vertical-align: top;\n    }\n\n    .dataframe thead th {\n        text-align: right;\n    }\n</style>\n<table border=\"1\" class=\"dataframe\">\n  <thead>\n    <tr style=\"text-align: right;\">\n      <th></th>\n      <th>Violation Code</th>\n      <th>Vehicle Body Type</th>\n      <th>Street Code1</th>\n      <th>Street Code2</th>\n      <th>Street Code3</th>\n      <th>Violation Precinct</th>\n      <th>Violation Time</th>\n      <th>Violation County</th>\n      <th>Street Name</th>\n      <th>Intersecting Street</th>\n      <th>Violation Post Code</th>\n      <th>Violation Date</th>\n      <th>Violation Date (Month)</th>\n      <th>Violation Date (Day)</th>\n      <th>Violation Date (Year)</th>\n    </tr>\n  </thead>\n  <tbody>\n    <tr>\n      <th>0</th>\n      <td>40</td>\n      <td>VAN</td>\n      <td>63430</td>\n      <td>69230</td>\n      <td>13490</td>\n      <td>88</td>\n      <td>0130A</td>\n      <td>K</td>\n      <td>NORTH PORTLAND AVE</td>\n      <td>NaN</td>\n      <td>NaN</td>\n      <td>2021-06-25</td>\n      <td>6</td>\n      <td>25</td>\n      <td>2021</td>\n    </tr>\n    <tr>\n      <th>1</th>\n      <td>20</td>\n      <td>SUBN</td>\n      <td>13490</td>\n      <td>40404</td>\n      <td>40404</td>\n      <td>88</td>\n      <td>0225A</td>\n      <td>K</td>\n      <td>AUBURN PLACE</td>\n      <td>NaN</td>\n      <td>NaN</td>\n      <td>2021-06-25</td>\n      <td>6</td>\n      <td>25</td>\n      <td>2021</td>\n    </tr>\n    <tr>\n      <th>2</th>\n      <td>98</td>\n      <td>SDN</td>\n      <td>79430</td>\n      <td>47130</td>\n      <td>11750</td>\n      <td>88</td>\n      <td>0809P</td>\n      <td>K</td>\n      <td>SOUTH PORTLAND AVE</td>\n      <td>NaN</td>\n      <td>NaN</td>\n      <td>2021-06-17</td>\n      <td>6</td>\n      <td>17</td>\n      <td>2021</td>\n    </tr>\n    <tr>\n      <th>3</th>\n      <td>98</td>\n      <td>SDN</td>\n      <td>53130</td>\n      <td>23230</td>\n      <td>23930</td>\n      <td>83</td>\n      <td>0605P</td>\n      <td>K</td>\n      <td>JEFFERSON ST</td>\n      <td>NaN</td>\n      <td>NaN</td>\n      <td>2021-06-16</td>\n      <td>6</td>\n      <td>16</td>\n      <td>2021</td>\n    </tr>\n    <tr>\n      <th>4</th>\n      <td>40</td>\n      <td>TAXI</td>\n      <td>81030</td>\n      <td>23930</td>\n      <td>40030</td>\n      <td>83</td>\n      <td>1058P</td>\n      <td>K</td>\n      <td>STANHOPE ST</td>\n      <td>NaN</td>\n      <td>NaN</td>\n      <td>2021-07-04</td>\n      <td>7</td>\n      <td>4</td>\n      <td>2021</td>\n    </tr>\n    <tr>\n      <th>...</th>\n      <td>...</td>\n      <td>...</td>\n      <td>...</td>\n      <td>...</td>\n      <td>...</td>\n      <td>...</td>\n      <td>...</td>\n      <td>...</td>\n      <td>...</td>\n      <td>...</td>\n      <td>...</td>\n      <td>...</td>\n      <td>...</td>\n      <td>...</td>\n      <td>...</td>\n    </tr>\n    <tr>\n      <th>99995</th>\n      <td>36</td>\n      <td>VAN</td>\n      <td>0</td>\n      <td>35710</td>\n      <td>0</td>\n      <td>0</td>\n      <td>0140P</td>\n      <td>MN</td>\n      <td>NB CENTRAL PARK WEST</td>\n      <td>@ W 97TH ST</td>\n      <td>NaN</td>\n      <td>2021-07-02</td>\n      <td>7</td>\n      <td>2</td>\n      <td>2021</td>\n    </tr>\n    <tr>\n      <th>99996</th>\n      <td>36</td>\n      <td>SUBN</td>\n      <td>0</td>\n      <td>0</td>\n      <td>0</td>\n      <td>0</td>\n      <td>0141P</td>\n      <td>BK</td>\n      <td>NB NOSTRAND AVE @ AV</td>\n      <td>E L</td>\n      <td>NaN</td>\n      <td>2021-07-02</td>\n      <td>7</td>\n      <td>2</td>\n      <td>2021</td>\n    </tr>\n    <tr>\n      <th>99997</th>\n      <td>36</td>\n      <td>SUBN</td>\n      <td>0</td>\n      <td>0</td>\n      <td>0</td>\n      <td>0</td>\n      <td>0141P</td>\n      <td>BK</td>\n      <td>EB 37TH ST @ FT HAMI</td>\n      <td>LTON PKWY</td>\n      <td>NaN</td>\n      <td>2021-07-02</td>\n      <td>7</td>\n      <td>2</td>\n      <td>2021</td>\n    </tr>\n    <tr>\n      <th>99998</th>\n      <td>36</td>\n      <td>SUBN</td>\n      <td>0</td>\n      <td>0</td>\n      <td>0</td>\n      <td>0</td>\n      <td>0141P</td>\n      <td>QN</td>\n      <td>SB QUEENS BLVD @ 87T</td>\n      <td>H AVE</td>\n      <td>NaN</td>\n      <td>2021-07-02</td>\n      <td>7</td>\n      <td>2</td>\n      <td>2021</td>\n    </tr>\n    <tr>\n      <th>99999</th>\n      <td>36</td>\n      <td>PK</td>\n      <td>0</td>\n      <td>0</td>\n      <td>0</td>\n      <td>0</td>\n      <td>0141P</td>\n      <td>MN</td>\n      <td>NB WEST ST @ LEROY S</td>\n      <td>T</td>\n      <td>NaN</td>\n      <td>2021-07-02</td>\n      <td>7</td>\n      <td>2</td>\n      <td>2021</td>\n    </tr>\n  </tbody>\n</table>\n<p>100000 rows × 15 columns</p>\n</div>"
     },
     "execution_count": 10,
     "metadata": {},
     "output_type": "execute_result"
    }
   ],
   "source": [
    "df_1"
   ],
   "metadata": {
    "collapsed": false,
    "ExecuteTime": {
     "start_time": "2023-11-23T23:07:45.563573Z",
     "end_time": "2023-11-23T23:07:45.635783Z"
    }
   }
  },
  {
   "cell_type": "code",
   "execution_count": 11,
   "outputs": [],
   "source": [
    "def convert_to_24hr_format(time_str):\n",
    "    try:\n",
    "        if '.' in time_str:\n",
    "            return None\n",
    "        if time_str[-1] == 'P':\n",
    "            return '{:02d}:{:02d}'.format((int(time_str[:2]) + 12) % 24, int(time_str[2:4]))\n",
    "        elif time_str[-1] == 'A':\n",
    "            return '{:02d}:{:02d}'.format(int(time_str[:2]) % 12, int(time_str[2:4]))\n",
    "        else:\n",
    "            return None\n",
    "    except (ValueError, TypeError):\n",
    "        return None\n",
    "\n",
    "df_1['Violation Time'] = df_1['Violation Time'].astype(str)\n",
    "df_1.loc[:, 'Violation Time'] = df_1['Violation Time'].apply(convert_to_24hr_format)\n",
    "df_1 = df_1.dropna(subset=['Violation Time'])"
   ],
   "metadata": {
    "collapsed": false,
    "ExecuteTime": {
     "start_time": "2023-11-23T23:07:45.588790Z",
     "end_time": "2023-11-23T23:07:45.836176Z"
    }
   }
  },
  {
   "cell_type": "code",
   "execution_count": 12,
   "outputs": [],
   "source": [
    "df_1.loc[:, 'Violation Time'] = pd.to_datetime(df_1['Violation Time'], format='%H:%M', errors='coerce').dt.time"
   ],
   "metadata": {
    "collapsed": false,
    "ExecuteTime": {
     "start_time": "2023-11-23T23:07:45.836176Z",
     "end_time": "2023-11-23T23:07:46.262505Z"
    }
   }
  },
  {
   "cell_type": "code",
   "execution_count": 13,
   "outputs": [
    {
     "data": {
      "text/plain": "0        01:30:00\n1        02:25:00\n2        20:09:00\n3        18:05:00\n4        22:58:00\n           ...   \n99995    13:40:00\n99996    13:41:00\n99997    13:41:00\n99998    13:41:00\n99999    13:41:00\nName: Violation Time, Length: 99983, dtype: object"
     },
     "execution_count": 13,
     "metadata": {},
     "output_type": "execute_result"
    }
   ],
   "source": [
    "df_1['Violation Time']"
   ],
   "metadata": {
    "collapsed": false,
    "ExecuteTime": {
     "start_time": "2023-11-23T23:07:46.262505Z",
     "end_time": "2023-11-23T23:07:46.271183Z"
    }
   }
  },
  {
   "cell_type": "code",
   "execution_count": 14,
   "outputs": [
    {
     "data": {
      "text/plain": "       Violation Code Vehicle Body Type  Street Code1  Street Code2  \\\n0                  40               VAN         63430         69230   \n1                  20              SUBN         13490         40404   \n2                  98               SDN         79430         47130   \n3                  98               SDN         53130         23230   \n4                  40              TAXI         81030         23930   \n...               ...               ...           ...           ...   \n99995              36               VAN             0         35710   \n99996              36              SUBN             0             0   \n99997              36              SUBN             0             0   \n99998              36              SUBN             0             0   \n99999              36                PK             0             0   \n\n       Street Code3  Violation Precinct Violation Time Violation County  \\\n0             13490                  88       01:30:00                K   \n1             40404                  88       02:25:00                K   \n2             11750                  88       20:09:00                K   \n3             23930                  83       18:05:00                K   \n4             40030                  83       22:58:00                K   \n...             ...                 ...            ...              ...   \n99995             0                   0       13:40:00               MN   \n99996             0                   0       13:41:00               BK   \n99997             0                   0       13:41:00               BK   \n99998             0                   0       13:41:00               QN   \n99999             0                   0       13:41:00               MN   \n\n                Street Name Intersecting Street  Violation Post Code  \\\n0        NORTH PORTLAND AVE                 NaN                  NaN   \n1              AUBURN PLACE                 NaN                  NaN   \n2        SOUTH PORTLAND AVE                 NaN                  NaN   \n3              JEFFERSON ST                 NaN                  NaN   \n4               STANHOPE ST                 NaN                  NaN   \n...                     ...                 ...                  ...   \n99995  NB CENTRAL PARK WEST         @ W 97TH ST                  NaN   \n99996  NB NOSTRAND AVE @ AV                 E L                  NaN   \n99997  EB 37TH ST @ FT HAMI           LTON PKWY                  NaN   \n99998  SB QUEENS BLVD @ 87T               H AVE                  NaN   \n99999  NB WEST ST @ LEROY S                   T                  NaN   \n\n      Violation Date  Violation Date (Month)  Violation Date (Day)  \\\n0         2021-06-25                       6                    25   \n1         2021-06-25                       6                    25   \n2         2021-06-17                       6                    17   \n3         2021-06-16                       6                    16   \n4         2021-07-04                       7                     4   \n...              ...                     ...                   ...   \n99995     2021-07-02                       7                     2   \n99996     2021-07-02                       7                     2   \n99997     2021-07-02                       7                     2   \n99998     2021-07-02                       7                     2   \n99999     2021-07-02                       7                     2   \n\n       Violation Date (Year)  \n0                       2021  \n1                       2021  \n2                       2021  \n3                       2021  \n4                       2021  \n...                      ...  \n99995                   2021  \n99996                   2021  \n99997                   2021  \n99998                   2021  \n99999                   2021  \n\n[99983 rows x 15 columns]",
      "text/html": "<div>\n<style scoped>\n    .dataframe tbody tr th:only-of-type {\n        vertical-align: middle;\n    }\n\n    .dataframe tbody tr th {\n        vertical-align: top;\n    }\n\n    .dataframe thead th {\n        text-align: right;\n    }\n</style>\n<table border=\"1\" class=\"dataframe\">\n  <thead>\n    <tr style=\"text-align: right;\">\n      <th></th>\n      <th>Violation Code</th>\n      <th>Vehicle Body Type</th>\n      <th>Street Code1</th>\n      <th>Street Code2</th>\n      <th>Street Code3</th>\n      <th>Violation Precinct</th>\n      <th>Violation Time</th>\n      <th>Violation County</th>\n      <th>Street Name</th>\n      <th>Intersecting Street</th>\n      <th>Violation Post Code</th>\n      <th>Violation Date</th>\n      <th>Violation Date (Month)</th>\n      <th>Violation Date (Day)</th>\n      <th>Violation Date (Year)</th>\n    </tr>\n  </thead>\n  <tbody>\n    <tr>\n      <th>0</th>\n      <td>40</td>\n      <td>VAN</td>\n      <td>63430</td>\n      <td>69230</td>\n      <td>13490</td>\n      <td>88</td>\n      <td>01:30:00</td>\n      <td>K</td>\n      <td>NORTH PORTLAND AVE</td>\n      <td>NaN</td>\n      <td>NaN</td>\n      <td>2021-06-25</td>\n      <td>6</td>\n      <td>25</td>\n      <td>2021</td>\n    </tr>\n    <tr>\n      <th>1</th>\n      <td>20</td>\n      <td>SUBN</td>\n      <td>13490</td>\n      <td>40404</td>\n      <td>40404</td>\n      <td>88</td>\n      <td>02:25:00</td>\n      <td>K</td>\n      <td>AUBURN PLACE</td>\n      <td>NaN</td>\n      <td>NaN</td>\n      <td>2021-06-25</td>\n      <td>6</td>\n      <td>25</td>\n      <td>2021</td>\n    </tr>\n    <tr>\n      <th>2</th>\n      <td>98</td>\n      <td>SDN</td>\n      <td>79430</td>\n      <td>47130</td>\n      <td>11750</td>\n      <td>88</td>\n      <td>20:09:00</td>\n      <td>K</td>\n      <td>SOUTH PORTLAND AVE</td>\n      <td>NaN</td>\n      <td>NaN</td>\n      <td>2021-06-17</td>\n      <td>6</td>\n      <td>17</td>\n      <td>2021</td>\n    </tr>\n    <tr>\n      <th>3</th>\n      <td>98</td>\n      <td>SDN</td>\n      <td>53130</td>\n      <td>23230</td>\n      <td>23930</td>\n      <td>83</td>\n      <td>18:05:00</td>\n      <td>K</td>\n      <td>JEFFERSON ST</td>\n      <td>NaN</td>\n      <td>NaN</td>\n      <td>2021-06-16</td>\n      <td>6</td>\n      <td>16</td>\n      <td>2021</td>\n    </tr>\n    <tr>\n      <th>4</th>\n      <td>40</td>\n      <td>TAXI</td>\n      <td>81030</td>\n      <td>23930</td>\n      <td>40030</td>\n      <td>83</td>\n      <td>22:58:00</td>\n      <td>K</td>\n      <td>STANHOPE ST</td>\n      <td>NaN</td>\n      <td>NaN</td>\n      <td>2021-07-04</td>\n      <td>7</td>\n      <td>4</td>\n      <td>2021</td>\n    </tr>\n    <tr>\n      <th>...</th>\n      <td>...</td>\n      <td>...</td>\n      <td>...</td>\n      <td>...</td>\n      <td>...</td>\n      <td>...</td>\n      <td>...</td>\n      <td>...</td>\n      <td>...</td>\n      <td>...</td>\n      <td>...</td>\n      <td>...</td>\n      <td>...</td>\n      <td>...</td>\n      <td>...</td>\n    </tr>\n    <tr>\n      <th>99995</th>\n      <td>36</td>\n      <td>VAN</td>\n      <td>0</td>\n      <td>35710</td>\n      <td>0</td>\n      <td>0</td>\n      <td>13:40:00</td>\n      <td>MN</td>\n      <td>NB CENTRAL PARK WEST</td>\n      <td>@ W 97TH ST</td>\n      <td>NaN</td>\n      <td>2021-07-02</td>\n      <td>7</td>\n      <td>2</td>\n      <td>2021</td>\n    </tr>\n    <tr>\n      <th>99996</th>\n      <td>36</td>\n      <td>SUBN</td>\n      <td>0</td>\n      <td>0</td>\n      <td>0</td>\n      <td>0</td>\n      <td>13:41:00</td>\n      <td>BK</td>\n      <td>NB NOSTRAND AVE @ AV</td>\n      <td>E L</td>\n      <td>NaN</td>\n      <td>2021-07-02</td>\n      <td>7</td>\n      <td>2</td>\n      <td>2021</td>\n    </tr>\n    <tr>\n      <th>99997</th>\n      <td>36</td>\n      <td>SUBN</td>\n      <td>0</td>\n      <td>0</td>\n      <td>0</td>\n      <td>0</td>\n      <td>13:41:00</td>\n      <td>BK</td>\n      <td>EB 37TH ST @ FT HAMI</td>\n      <td>LTON PKWY</td>\n      <td>NaN</td>\n      <td>2021-07-02</td>\n      <td>7</td>\n      <td>2</td>\n      <td>2021</td>\n    </tr>\n    <tr>\n      <th>99998</th>\n      <td>36</td>\n      <td>SUBN</td>\n      <td>0</td>\n      <td>0</td>\n      <td>0</td>\n      <td>0</td>\n      <td>13:41:00</td>\n      <td>QN</td>\n      <td>SB QUEENS BLVD @ 87T</td>\n      <td>H AVE</td>\n      <td>NaN</td>\n      <td>2021-07-02</td>\n      <td>7</td>\n      <td>2</td>\n      <td>2021</td>\n    </tr>\n    <tr>\n      <th>99999</th>\n      <td>36</td>\n      <td>PK</td>\n      <td>0</td>\n      <td>0</td>\n      <td>0</td>\n      <td>0</td>\n      <td>13:41:00</td>\n      <td>MN</td>\n      <td>NB WEST ST @ LEROY S</td>\n      <td>T</td>\n      <td>NaN</td>\n      <td>2021-07-02</td>\n      <td>7</td>\n      <td>2</td>\n      <td>2021</td>\n    </tr>\n  </tbody>\n</table>\n<p>99983 rows × 15 columns</p>\n</div>"
     },
     "execution_count": 14,
     "metadata": {},
     "output_type": "execute_result"
    }
   ],
   "source": [
    "df_1"
   ],
   "metadata": {
    "collapsed": false,
    "ExecuteTime": {
     "start_time": "2023-11-23T23:07:46.272183Z",
     "end_time": "2023-11-23T23:07:46.305864Z"
    }
   }
  },
  {
   "cell_type": "code",
   "execution_count": 15,
   "outputs": [
    {
     "data": {
      "text/plain": "       Violation Code Vehicle Body Type  Street Code1  Street Code2  \\\n6647               20              SUBN         72720         27180   \n3082               78               NaN             0         40404   \n5337               35               VAN         10610         40404   \n15310              67               SDN         68390         48290   \n1635               98               VAN         19990         17540   \n...               ...               ...           ...           ...   \n7140               14              SUBN         62200         33490   \n3717               74              MOPE         31250         27950   \n3730               74              MOPE         31250         27950   \n9132               67               SDN             0             0   \n593                40               SDN         18090          7790   \n\n       Street Code3  Violation Precinct Violation Time Violation County  \\\n6647          29220                  46       00:04:00               BX   \n3082          40404                 105       22:00:00                Q   \n5337          40404                  14       00:52:00               NY   \n15310         54090                 104       09:10:00              NaN   \n1635          17740                 106       01:05:00                Q   \n...             ...                 ...            ...              ...   \n7140              0                 100       15:31:00                Q   \n3717          47530                 121       04:30:00                R   \n3730          47530                 121       04:30:00                R   \n9132              0                  71       08:51:00                K   \n593            7990                 115       23:09:00              NaN   \n\n            Street Name Intersecting Street  Violation Post Code  \\\n6647         WALTON AVE                 NaN                  NaN   \n3082          BROOKVILL                 NaN                  NaN   \n5337              7 AVE                 NaN                  NaN   \n15310      WOODWARD AVE                 NaN                  NaN   \n1635            107 AVE                 NaN                  NaN   \n...                 ...                 ...                  ...   \n7140   SHORE FRONT PKWY        BEACH 100 ST                  NaN   \n3717          GROVE AVE                 NaN                  NaN   \n3730          GROVE AVE                 NaN                  NaN   \n9132   W/S BROOKLYN AVE     S/O STERLING ST                  NaN   \n593         89TH STREET                 NaN                  NaN   \n\n      Violation Date  Violation Date (Month)  Violation Date (Day)  \\\n6647      2000-06-27                       6                    27   \n3082      2000-06-28                       6                    28   \n5337      2000-07-15                       7                    15   \n15310     2010-07-10                       7                    10   \n1635      2010-07-21                       7                    21   \n...              ...                     ...                   ...   \n7140      2022-07-20                       7                    20   \n3717      2024-07-24                       7                    24   \n3730      2024-07-24                       7                    24   \n9132      2029-06-29                       6                    29   \n593       2031-07-01                       7                     1   \n\n       Violation Date (Year)  \n6647                    2000  \n3082                    2000  \n5337                    2000  \n15310                   2010  \n1635                    2010  \n...                      ...  \n7140                    2022  \n3717                    2024  \n3730                    2024  \n9132                    2029  \n593                     2031  \n\n[99983 rows x 15 columns]",
      "text/html": "<div>\n<style scoped>\n    .dataframe tbody tr th:only-of-type {\n        vertical-align: middle;\n    }\n\n    .dataframe tbody tr th {\n        vertical-align: top;\n    }\n\n    .dataframe thead th {\n        text-align: right;\n    }\n</style>\n<table border=\"1\" class=\"dataframe\">\n  <thead>\n    <tr style=\"text-align: right;\">\n      <th></th>\n      <th>Violation Code</th>\n      <th>Vehicle Body Type</th>\n      <th>Street Code1</th>\n      <th>Street Code2</th>\n      <th>Street Code3</th>\n      <th>Violation Precinct</th>\n      <th>Violation Time</th>\n      <th>Violation County</th>\n      <th>Street Name</th>\n      <th>Intersecting Street</th>\n      <th>Violation Post Code</th>\n      <th>Violation Date</th>\n      <th>Violation Date (Month)</th>\n      <th>Violation Date (Day)</th>\n      <th>Violation Date (Year)</th>\n    </tr>\n  </thead>\n  <tbody>\n    <tr>\n      <th>6647</th>\n      <td>20</td>\n      <td>SUBN</td>\n      <td>72720</td>\n      <td>27180</td>\n      <td>29220</td>\n      <td>46</td>\n      <td>00:04:00</td>\n      <td>BX</td>\n      <td>WALTON AVE</td>\n      <td>NaN</td>\n      <td>NaN</td>\n      <td>2000-06-27</td>\n      <td>6</td>\n      <td>27</td>\n      <td>2000</td>\n    </tr>\n    <tr>\n      <th>3082</th>\n      <td>78</td>\n      <td>NaN</td>\n      <td>0</td>\n      <td>40404</td>\n      <td>40404</td>\n      <td>105</td>\n      <td>22:00:00</td>\n      <td>Q</td>\n      <td>BROOKVILL</td>\n      <td>NaN</td>\n      <td>NaN</td>\n      <td>2000-06-28</td>\n      <td>6</td>\n      <td>28</td>\n      <td>2000</td>\n    </tr>\n    <tr>\n      <th>5337</th>\n      <td>35</td>\n      <td>VAN</td>\n      <td>10610</td>\n      <td>40404</td>\n      <td>40404</td>\n      <td>14</td>\n      <td>00:52:00</td>\n      <td>NY</td>\n      <td>7 AVE</td>\n      <td>NaN</td>\n      <td>NaN</td>\n      <td>2000-07-15</td>\n      <td>7</td>\n      <td>15</td>\n      <td>2000</td>\n    </tr>\n    <tr>\n      <th>15310</th>\n      <td>67</td>\n      <td>SDN</td>\n      <td>68390</td>\n      <td>48290</td>\n      <td>54090</td>\n      <td>104</td>\n      <td>09:10:00</td>\n      <td>NaN</td>\n      <td>WOODWARD AVE</td>\n      <td>NaN</td>\n      <td>NaN</td>\n      <td>2010-07-10</td>\n      <td>7</td>\n      <td>10</td>\n      <td>2010</td>\n    </tr>\n    <tr>\n      <th>1635</th>\n      <td>98</td>\n      <td>VAN</td>\n      <td>19990</td>\n      <td>17540</td>\n      <td>17740</td>\n      <td>106</td>\n      <td>01:05:00</td>\n      <td>Q</td>\n      <td>107 AVE</td>\n      <td>NaN</td>\n      <td>NaN</td>\n      <td>2010-07-21</td>\n      <td>7</td>\n      <td>21</td>\n      <td>2010</td>\n    </tr>\n    <tr>\n      <th>...</th>\n      <td>...</td>\n      <td>...</td>\n      <td>...</td>\n      <td>...</td>\n      <td>...</td>\n      <td>...</td>\n      <td>...</td>\n      <td>...</td>\n      <td>...</td>\n      <td>...</td>\n      <td>...</td>\n      <td>...</td>\n      <td>...</td>\n      <td>...</td>\n      <td>...</td>\n    </tr>\n    <tr>\n      <th>7140</th>\n      <td>14</td>\n      <td>SUBN</td>\n      <td>62200</td>\n      <td>33490</td>\n      <td>0</td>\n      <td>100</td>\n      <td>15:31:00</td>\n      <td>Q</td>\n      <td>SHORE FRONT PKWY</td>\n      <td>BEACH 100 ST</td>\n      <td>NaN</td>\n      <td>2022-07-20</td>\n      <td>7</td>\n      <td>20</td>\n      <td>2022</td>\n    </tr>\n    <tr>\n      <th>3717</th>\n      <td>74</td>\n      <td>MOPE</td>\n      <td>31250</td>\n      <td>27950</td>\n      <td>47530</td>\n      <td>121</td>\n      <td>04:30:00</td>\n      <td>R</td>\n      <td>GROVE AVE</td>\n      <td>NaN</td>\n      <td>NaN</td>\n      <td>2024-07-24</td>\n      <td>7</td>\n      <td>24</td>\n      <td>2024</td>\n    </tr>\n    <tr>\n      <th>3730</th>\n      <td>74</td>\n      <td>MOPE</td>\n      <td>31250</td>\n      <td>27950</td>\n      <td>47530</td>\n      <td>121</td>\n      <td>04:30:00</td>\n      <td>R</td>\n      <td>GROVE AVE</td>\n      <td>NaN</td>\n      <td>NaN</td>\n      <td>2024-07-24</td>\n      <td>7</td>\n      <td>24</td>\n      <td>2024</td>\n    </tr>\n    <tr>\n      <th>9132</th>\n      <td>67</td>\n      <td>SDN</td>\n      <td>0</td>\n      <td>0</td>\n      <td>0</td>\n      <td>71</td>\n      <td>08:51:00</td>\n      <td>K</td>\n      <td>W/S BROOKLYN AVE</td>\n      <td>S/O STERLING ST</td>\n      <td>NaN</td>\n      <td>2029-06-29</td>\n      <td>6</td>\n      <td>29</td>\n      <td>2029</td>\n    </tr>\n    <tr>\n      <th>593</th>\n      <td>40</td>\n      <td>SDN</td>\n      <td>18090</td>\n      <td>7790</td>\n      <td>7990</td>\n      <td>115</td>\n      <td>23:09:00</td>\n      <td>NaN</td>\n      <td>89TH STREET</td>\n      <td>NaN</td>\n      <td>NaN</td>\n      <td>2031-07-01</td>\n      <td>7</td>\n      <td>1</td>\n      <td>2031</td>\n    </tr>\n  </tbody>\n</table>\n<p>99983 rows × 15 columns</p>\n</div>"
     },
     "execution_count": 15,
     "metadata": {},
     "output_type": "execute_result"
    }
   ],
   "source": [
    "df_1.sort_values(by=['Violation Date', 'Violation Time'], inplace=True)\n",
    "df_1"
   ],
   "metadata": {
    "collapsed": false,
    "ExecuteTime": {
     "start_time": "2023-11-23T23:07:46.297868Z",
     "end_time": "2023-11-23T23:07:46.429390Z"
    }
   }
  },
  {
   "cell_type": "code",
   "execution_count": 16,
   "outputs": [],
   "source": [
    "start_date = pd.to_datetime('2021-07-01')\n",
    "end_date = pd.to_datetime('2022-06-30')"
   ],
   "metadata": {
    "collapsed": false,
    "ExecuteTime": {
     "start_time": "2023-11-23T23:07:46.363408Z",
     "end_time": "2023-11-23T23:07:46.432395Z"
    }
   }
  },
  {
   "cell_type": "code",
   "execution_count": 17,
   "outputs": [
    {
     "data": {
      "text/plain": "       Violation Code Vehicle Body Type  Street Code1  Street Code2  \\\n19777              21              4DSD             0             0   \n22002               0               VAN             0             0   \n23604               0              SUBN             0             0   \n26384              21              4DSD          8120         25860   \n28018              21              SUBN             0             0   \n...               ...               ...           ...           ...   \n14316              20               SDN         13820             0   \n10511              41              SUBN         32560         49130   \n10081              20              SUBN             0         30140   \n10496              41              SUBN             0             0   \n14226              14               SDN         16910         11720   \n\n       Street Code3  Violation Precinct Violation Time Violation County  \\\n19777             0                 107       00:00:00              Qns   \n22002             0                   0       00:00:00              NaN   \n23604             0                   0       00:00:00              NaN   \n26384         25890                  40       00:00:00            Bronx   \n28018             0                  78       00:00:00            Kings   \n...             ...                 ...            ...              ...   \n14316             0                  84       20:12:00                K   \n10511         13430                  81       08:45:00                K   \n10081             0                 101       17:08:00                Q   \n10496             0                  81       08:55:00                K   \n14226         16400                  34       18:37:00               NY   \n\n                Street Name Intersecting Street  Violation Post Code  \\\n19777  Opposite of 70-87 PA       RK DRIVE EAST                  NaN   \n22002                   NaN                 NaN                  NaN   \n23604                   NaN                 NaN                  NaN   \n26384      ALEXANDER AVENUE                 NaN                  NaN   \n28018  Front Of 190 12 STRE                  ET                  NaN   \n...                     ...                 ...                  ...   \n14316  BROOKLYN BRIDGE PARK         PIER 5 LOOP                  NaN   \n10511           DEWEY PLACE                 NaN                  NaN   \n10081            SEAGIRT ST             B 17 ST                  NaN   \n10496          C/O DEWEY PL            HERKIMER                  NaN   \n14226        DYCKMAN STREET                 NaN                  NaN   \n\n      Violation Date  Violation Date (Month)  Violation Date (Day)  \\\n19777     2021-07-01                       7                     1   \n22002     2021-07-01                       7                     1   \n23604     2021-07-01                       7                     1   \n26384     2021-07-01                       7                     1   \n28018     2021-07-01                       7                     1   \n...              ...                     ...                   ...   \n14316     2021-08-16                       8                    16   \n10511     2021-08-17                       8                    17   \n10081     2021-08-31                       8                    31   \n10496     2021-09-24                       9                    24   \n14226     2022-02-04                       2                     4   \n\n       Violation Date (Year)  \n19777                   2021  \n22002                   2021  \n23604                   2021  \n26384                   2021  \n28018                   2021  \n...                      ...  \n14316                   2021  \n10511                   2021  \n10081                   2021  \n10496                   2021  \n14226                   2022  \n\n[50776 rows x 15 columns]",
      "text/html": "<div>\n<style scoped>\n    .dataframe tbody tr th:only-of-type {\n        vertical-align: middle;\n    }\n\n    .dataframe tbody tr th {\n        vertical-align: top;\n    }\n\n    .dataframe thead th {\n        text-align: right;\n    }\n</style>\n<table border=\"1\" class=\"dataframe\">\n  <thead>\n    <tr style=\"text-align: right;\">\n      <th></th>\n      <th>Violation Code</th>\n      <th>Vehicle Body Type</th>\n      <th>Street Code1</th>\n      <th>Street Code2</th>\n      <th>Street Code3</th>\n      <th>Violation Precinct</th>\n      <th>Violation Time</th>\n      <th>Violation County</th>\n      <th>Street Name</th>\n      <th>Intersecting Street</th>\n      <th>Violation Post Code</th>\n      <th>Violation Date</th>\n      <th>Violation Date (Month)</th>\n      <th>Violation Date (Day)</th>\n      <th>Violation Date (Year)</th>\n    </tr>\n  </thead>\n  <tbody>\n    <tr>\n      <th>19777</th>\n      <td>21</td>\n      <td>4DSD</td>\n      <td>0</td>\n      <td>0</td>\n      <td>0</td>\n      <td>107</td>\n      <td>00:00:00</td>\n      <td>Qns</td>\n      <td>Opposite of 70-87 PA</td>\n      <td>RK DRIVE EAST</td>\n      <td>NaN</td>\n      <td>2021-07-01</td>\n      <td>7</td>\n      <td>1</td>\n      <td>2021</td>\n    </tr>\n    <tr>\n      <th>22002</th>\n      <td>0</td>\n      <td>VAN</td>\n      <td>0</td>\n      <td>0</td>\n      <td>0</td>\n      <td>0</td>\n      <td>00:00:00</td>\n      <td>NaN</td>\n      <td>NaN</td>\n      <td>NaN</td>\n      <td>NaN</td>\n      <td>2021-07-01</td>\n      <td>7</td>\n      <td>1</td>\n      <td>2021</td>\n    </tr>\n    <tr>\n      <th>23604</th>\n      <td>0</td>\n      <td>SUBN</td>\n      <td>0</td>\n      <td>0</td>\n      <td>0</td>\n      <td>0</td>\n      <td>00:00:00</td>\n      <td>NaN</td>\n      <td>NaN</td>\n      <td>NaN</td>\n      <td>NaN</td>\n      <td>2021-07-01</td>\n      <td>7</td>\n      <td>1</td>\n      <td>2021</td>\n    </tr>\n    <tr>\n      <th>26384</th>\n      <td>21</td>\n      <td>4DSD</td>\n      <td>8120</td>\n      <td>25860</td>\n      <td>25890</td>\n      <td>40</td>\n      <td>00:00:00</td>\n      <td>Bronx</td>\n      <td>ALEXANDER AVENUE</td>\n      <td>NaN</td>\n      <td>NaN</td>\n      <td>2021-07-01</td>\n      <td>7</td>\n      <td>1</td>\n      <td>2021</td>\n    </tr>\n    <tr>\n      <th>28018</th>\n      <td>21</td>\n      <td>SUBN</td>\n      <td>0</td>\n      <td>0</td>\n      <td>0</td>\n      <td>78</td>\n      <td>00:00:00</td>\n      <td>Kings</td>\n      <td>Front Of 190 12 STRE</td>\n      <td>ET</td>\n      <td>NaN</td>\n      <td>2021-07-01</td>\n      <td>7</td>\n      <td>1</td>\n      <td>2021</td>\n    </tr>\n    <tr>\n      <th>...</th>\n      <td>...</td>\n      <td>...</td>\n      <td>...</td>\n      <td>...</td>\n      <td>...</td>\n      <td>...</td>\n      <td>...</td>\n      <td>...</td>\n      <td>...</td>\n      <td>...</td>\n      <td>...</td>\n      <td>...</td>\n      <td>...</td>\n      <td>...</td>\n      <td>...</td>\n    </tr>\n    <tr>\n      <th>14316</th>\n      <td>20</td>\n      <td>SDN</td>\n      <td>13820</td>\n      <td>0</td>\n      <td>0</td>\n      <td>84</td>\n      <td>20:12:00</td>\n      <td>K</td>\n      <td>BROOKLYN BRIDGE PARK</td>\n      <td>PIER 5 LOOP</td>\n      <td>NaN</td>\n      <td>2021-08-16</td>\n      <td>8</td>\n      <td>16</td>\n      <td>2021</td>\n    </tr>\n    <tr>\n      <th>10511</th>\n      <td>41</td>\n      <td>SUBN</td>\n      <td>32560</td>\n      <td>49130</td>\n      <td>13430</td>\n      <td>81</td>\n      <td>08:45:00</td>\n      <td>K</td>\n      <td>DEWEY PLACE</td>\n      <td>NaN</td>\n      <td>NaN</td>\n      <td>2021-08-17</td>\n      <td>8</td>\n      <td>17</td>\n      <td>2021</td>\n    </tr>\n    <tr>\n      <th>10081</th>\n      <td>20</td>\n      <td>SUBN</td>\n      <td>0</td>\n      <td>30140</td>\n      <td>0</td>\n      <td>101</td>\n      <td>17:08:00</td>\n      <td>Q</td>\n      <td>SEAGIRT ST</td>\n      <td>B 17 ST</td>\n      <td>NaN</td>\n      <td>2021-08-31</td>\n      <td>8</td>\n      <td>31</td>\n      <td>2021</td>\n    </tr>\n    <tr>\n      <th>10496</th>\n      <td>41</td>\n      <td>SUBN</td>\n      <td>0</td>\n      <td>0</td>\n      <td>0</td>\n      <td>81</td>\n      <td>08:55:00</td>\n      <td>K</td>\n      <td>C/O DEWEY PL</td>\n      <td>HERKIMER</td>\n      <td>NaN</td>\n      <td>2021-09-24</td>\n      <td>9</td>\n      <td>24</td>\n      <td>2021</td>\n    </tr>\n    <tr>\n      <th>14226</th>\n      <td>14</td>\n      <td>SDN</td>\n      <td>16910</td>\n      <td>11720</td>\n      <td>16400</td>\n      <td>34</td>\n      <td>18:37:00</td>\n      <td>NY</td>\n      <td>DYCKMAN STREET</td>\n      <td>NaN</td>\n      <td>NaN</td>\n      <td>2022-02-04</td>\n      <td>2</td>\n      <td>4</td>\n      <td>2022</td>\n    </tr>\n  </tbody>\n</table>\n<p>50776 rows × 15 columns</p>\n</div>"
     },
     "execution_count": 17,
     "metadata": {},
     "output_type": "execute_result"
    }
   ],
   "source": [
    "df_1 = df_1[(df_1['Violation Date'] >= start_date) & (df_1['Violation Date'] <= end_date)]\n",
    "df_1"
   ],
   "metadata": {
    "collapsed": false,
    "ExecuteTime": {
     "start_time": "2023-11-23T23:07:46.367407Z",
     "end_time": "2023-11-23T23:07:46.451391Z"
    }
   }
  },
  {
   "cell_type": "code",
   "execution_count": 18,
   "outputs": [
    {
     "data": {
      "text/plain": "19777     0\n22002     0\n23604     0\n26384     0\n28018     0\n         ..\n14316    20\n10511     8\n10081    17\n10496     8\n14226    18\nName: Violation Hour, Length: 50776, dtype: int32"
     },
     "execution_count": 18,
     "metadata": {},
     "output_type": "execute_result"
    }
   ],
   "source": [
    "df_1['Violation Hour'] = df_1['Violation Time'].apply(lambda x: (x.hour % 24)).astype(int)\n",
    "df_1['Violation Hour']"
   ],
   "metadata": {
    "collapsed": false,
    "ExecuteTime": {
     "start_time": "2023-11-23T23:07:46.393992Z",
     "end_time": "2023-11-23T23:07:46.487389Z"
    }
   }
  },
  {
   "cell_type": "code",
   "execution_count": 28,
   "outputs": [
    {
     "name": "stdout",
     "output_type": "stream",
     "text": [
      "<class 'pandas.core.frame.DataFrame'>\n",
      "Index: 50776 entries, 19777 to 14226\n",
      "Data columns (total 18 columns):\n",
      " #   Column                   Non-Null Count  Dtype         \n",
      "---  ------                   --------------  -----         \n",
      " 0   Violation Code           50776 non-null  int64         \n",
      " 1   Vehicle Body Type        50189 non-null  object        \n",
      " 2   Street Code1             50776 non-null  int64         \n",
      " 3   Street Code2             50776 non-null  int64         \n",
      " 4   Street Code3             50776 non-null  int64         \n",
      " 5   Violation Precinct       50776 non-null  int64         \n",
      " 6   Violation Time           50776 non-null  object        \n",
      " 7   Violation County         49652 non-null  object        \n",
      " 8   Street Name              50732 non-null  object        \n",
      " 9   Intersecting Street      19159 non-null  object        \n",
      " 10  Violation Post Code      0 non-null      float64       \n",
      " 11  Violation Date           50776 non-null  datetime64[ns]\n",
      " 12  Violation Date (Month)   50776 non-null  int32         \n",
      " 13  Violation Date (Day)     50776 non-null  int32         \n",
      " 14  Violation Date (Year)    50776 non-null  int32         \n",
      " 15  Violation Hour           50776 non-null  int32         \n",
      " 16  Violation Rate           50776 non-null  float64       \n",
      " 17  Violation Rate (Scaled)  50776 non-null  float64       \n",
      "dtypes: datetime64[ns](1), float64(3), int32(4), int64(5), object(5)\n",
      "memory usage: 6.6+ MB\n"
     ]
    }
   ],
   "source": [
    "df_1.info()"
   ],
   "metadata": {
    "collapsed": false,
    "ExecuteTime": {
     "start_time": "2023-11-24T00:03:17.891798Z",
     "end_time": "2023-11-24T00:03:17.939835Z"
    }
   }
  },
  {
   "cell_type": "code",
   "execution_count": 19,
   "outputs": [
    {
     "name": "stdout",
     "output_type": "stream",
     "text": [
      "filtered data: 4\n",
      "total_location_violations: 5\n",
      "Location Violation Rate for GRANDVIEW AVE between 00:00 and 13:00: 80.00%\n"
     ]
    }
   ],
   "source": [
    "def calculate_location_violation_rate(df, location, time_range, precinct, violation_date):\n",
    "    start_time = datetime.strptime(time_range[0], \"%H:%M\").time()\n",
    "    end_time = datetime.strptime(time_range[1], \"%H:%M\").time()\n",
    "\n",
    "    # filtered_data = df[(df['Street Name'] == location) & (df['Violation Date'] == violation_date) & (~df['Violation Time'].isna()) &\n",
    "    #                    (df['Violation Time'].apply(lambda x: not pd.isna(x) and x == x and start_time <= x <= end_time))]\n",
    "\n",
    "    filtered_data = df[(df['Street Name'] == location) &\n",
    "                   (df['Violation Date'] == violation_date) &\n",
    "                   (~df['Violation Time'].isna()) &\n",
    "                   (df['Violation Time'].apply(lambda x: start_time <= x <= end_time if pd.notna(x) else False))]\n",
    "\n",
    "    print(\"filtered data:\", len(filtered_data))\n",
    "\n",
    "    total_location_violations = len(df_1[(df_1['Violation Time'].between(start_time, end_time)) &\n",
    "                                      (df_1['Violation Precinct'] == precinct) &\n",
    "                                      (df_1['Violation Date'] == violation_date)])\n",
    "\n",
    "    print(\"total_location_violations:\", total_location_violations)\n",
    "\n",
    "    if total_location_violations == 0:\n",
    "        return 0\n",
    "\n",
    "    location_violations = len(filtered_data)\n",
    "\n",
    "    location_violation_rate = (location_violations / total_location_violations) * 100\n",
    "\n",
    "    return location_violation_rate\n",
    "\n",
    "location = 'GRANDVIEW AVE'\n",
    "location_precinct = 121\n",
    "time_range = ('00:00', '13:00')\n",
    "violation_date = pd.to_datetime('2021-07-25')\n",
    "\n",
    "rate = calculate_location_violation_rate(df_1, location, time_range, location_precinct, violation_date)\n",
    "print(f'Location Violation Rate for {location} between {time_range[0]} and {time_range[1]}: {rate:.2f}%')"
   ],
   "metadata": {
    "collapsed": false,
    "ExecuteTime": {
     "start_time": "2023-11-23T23:07:46.432395Z",
     "end_time": "2023-11-23T23:07:46.617375Z"
    }
   }
  },
  {
   "cell_type": "code",
   "execution_count": 20,
   "outputs": [],
   "source": [
    "# import dask.dataframe as dd\n",
    "# from dask.distributed import Client\n",
    "# from datetime import datetime, timedelta\n",
    "#\n",
    "# ddf = dd.from_pandas(df_1, npartitions=10)\n",
    "#\n",
    "# client = Client()\n",
    "#\n",
    "# def calculate_violation_rate(row):\n",
    "#     location = row['Street Name']\n",
    "#     hour = row['Violation Hour']\n",
    "#     violation_date = row['Violation Date']\n",
    "#     precinct = row['Violation Precinct']\n",
    "#\n",
    "#     if hour == 23:\n",
    "#         start_time = datetime.strptime('23:00', '%H:%M').time()\n",
    "#         end_time = datetime.strptime('23:59', '%H:%M').time()\n",
    "#     else:\n",
    "#         start_time = datetime.strptime(f'{hour:02d}:00', '%H:%M').time()\n",
    "#         end_time = (datetime.strptime(f'{hour+1:02d}:00', '%H:%M') + timedelta(minutes=59, seconds=59)).time()\n",
    "#\n",
    "#     total_location_violations = len(ddf[(ddf['Violation Time'].between(start_time, end_time)) &\n",
    "#                                         (ddf['Violation Precinct'] == precinct) &\n",
    "#                                         (ddf['Violation Date'] == violation_date)])\n",
    "#\n",
    "#     location_violations = len(ddf[(ddf['Street Name'] == location) &\n",
    "#                                    (ddf['Violation Time'].between(start_time, end_time)) &\n",
    "#                                    (ddf['Violation Date'] == violation_date)])\n",
    "#\n",
    "#     if total_location_violations == 0:\n",
    "#         return 0\n",
    "#\n",
    "#     location_violation_rate = (location_violations / total_location_violations) * 100\n",
    "#\n",
    "#     return location_violation_rate\n",
    "#\n",
    "# ddf['Violation Rate'] = ddf.apply(calculate_violation_rate, axis=1, meta=('x', 'f8'))\n",
    "#\n",
    "# result_with_violation_rate = ddf.compute()\n",
    "#\n",
    "# client.close()\n",
    "# result_with_violation_rate"
   ],
   "metadata": {
    "collapsed": false,
    "ExecuteTime": {
     "start_time": "2023-11-23T23:07:46.512382Z",
     "end_time": "2023-11-23T23:07:46.618376Z"
    }
   }
  },
  {
   "cell_type": "code",
   "execution_count": 21,
   "outputs": [],
   "source": [
    "def calculate_violation_rate(row):\n",
    "    location = row['Street Name']\n",
    "    hour = row['Violation Hour']\n",
    "    violation_date = row['Violation Date']\n",
    "    precinct = row['Violation Precinct']\n",
    "\n",
    "    # Handle the case where hour is 24\n",
    "    if hour == 23:\n",
    "        start_time = datetime.strptime('23:00', '%H:%M').time()\n",
    "        end_time = datetime.strptime('23:59', '%H:%M').time()\n",
    "    else:\n",
    "        start_time = datetime.strptime(f'{hour:02d}:00', '%H:%M').time()\n",
    "        end_time = (datetime.strptime(f'{hour+1:02d}:00', '%H:%M') + timedelta(minutes=59, seconds=59)).time()\n",
    "\n",
    "\n",
    "    total_location_violations = len(df_1[(df_1['Violation Time'].between(start_time, end_time)) &\n",
    "                                      (df_1['Violation Precinct'] == precinct) &\n",
    "                                      (df_1['Violation Date'] == violation_date)])\n",
    "\n",
    "    location_violations = len(df_1[(df_1['Street Name'] == location) &\n",
    "                                 (df_1['Violation Time'].between(start_time, end_time)) &\n",
    "                                 (df_1['Violation Date'] == violation_date)])\n",
    "\n",
    "    if total_location_violations == 0:\n",
    "        return 0\n",
    "\n",
    "    location_violation_rate = (location_violations / total_location_violations) * 100\n",
    "\n",
    "    return location_violation_rate\n",
    "\n",
    "if 'Violation Rate' in df_1:\n",
    "    df_1.drop('Violation Rate', axis=1, inplace=True)\n",
    "\n",
    "df_1['Violation Rate'] = df_1.apply(lambda row: calculate_violation_rate(row), axis=1)"
   ],
   "metadata": {
    "collapsed": false,
    "ExecuteTime": {
     "start_time": "2023-11-23T23:07:46.523375Z",
     "end_time": "2023-11-23T23:22:27.999805Z"
    }
   }
  },
  {
   "cell_type": "code",
   "execution_count": 22,
   "outputs": [
    {
     "data": {
      "text/plain": "19777     50.000000\n22002      0.000000\n23604      0.000000\n26384     20.833333\n28018    100.000000\n            ...    \n14316    100.000000\n10511    100.000000\n10081    100.000000\n10496    100.000000\n14226    100.000000\nName: Violation Rate, Length: 50776, dtype: float64"
     },
     "execution_count": 22,
     "metadata": {},
     "output_type": "execute_result"
    }
   ],
   "source": [
    "df_1['Violation Rate']"
   ],
   "metadata": {
    "collapsed": false,
    "ExecuteTime": {
     "start_time": "2023-11-23T23:22:28.000807Z",
     "end_time": "2023-11-23T23:22:28.006898Z"
    }
   }
  },
  {
   "cell_type": "code",
   "execution_count": 23,
   "outputs": [
    {
     "data": {
      "text/plain": "       Violation Code Vehicle Body Type  Street Code1  Street Code2  \\\n19777              21              4DSD             0             0   \n22002               0               VAN             0             0   \n23604               0              SUBN             0             0   \n26384              21              4DSD          8120         25860   \n28018              21              SUBN             0             0   \n...               ...               ...           ...           ...   \n14316              20               SDN         13820             0   \n10511              41              SUBN         32560         49130   \n10081              20              SUBN             0         30140   \n10496              41              SUBN             0             0   \n14226              14               SDN         16910         11720   \n\n       Street Code3  Violation Precinct Violation Time Violation County  \\\n19777             0                 107       00:00:00              Qns   \n22002             0                   0       00:00:00              NaN   \n23604             0                   0       00:00:00              NaN   \n26384         25890                  40       00:00:00            Bronx   \n28018             0                  78       00:00:00            Kings   \n...             ...                 ...            ...              ...   \n14316             0                  84       20:12:00                K   \n10511         13430                  81       08:45:00                K   \n10081             0                 101       17:08:00                Q   \n10496             0                  81       08:55:00                K   \n14226         16400                  34       18:37:00               NY   \n\n                Street Name Intersecting Street  Violation Post Code  \\\n19777  Opposite of 70-87 PA       RK DRIVE EAST                  NaN   \n22002                   NaN                 NaN                  NaN   \n23604                   NaN                 NaN                  NaN   \n26384      ALEXANDER AVENUE                 NaN                  NaN   \n28018  Front Of 190 12 STRE                  ET                  NaN   \n...                     ...                 ...                  ...   \n14316  BROOKLYN BRIDGE PARK         PIER 5 LOOP                  NaN   \n10511           DEWEY PLACE                 NaN                  NaN   \n10081            SEAGIRT ST             B 17 ST                  NaN   \n10496          C/O DEWEY PL            HERKIMER                  NaN   \n14226        DYCKMAN STREET                 NaN                  NaN   \n\n      Violation Date  Violation Date (Month)  Violation Date (Day)  \\\n19777     2021-07-01                       7                     1   \n22002     2021-07-01                       7                     1   \n23604     2021-07-01                       7                     1   \n26384     2021-07-01                       7                     1   \n28018     2021-07-01                       7                     1   \n...              ...                     ...                   ...   \n14316     2021-08-16                       8                    16   \n10511     2021-08-17                       8                    17   \n10081     2021-08-31                       8                    31   \n10496     2021-09-24                       9                    24   \n14226     2022-02-04                       2                     4   \n\n       Violation Date (Year)  Violation Hour  Violation Rate  \n19777                   2021               0       50.000000  \n22002                   2021               0        0.000000  \n23604                   2021               0        0.000000  \n26384                   2021               0       20.833333  \n28018                   2021               0      100.000000  \n...                      ...             ...             ...  \n14316                   2021              20      100.000000  \n10511                   2021               8      100.000000  \n10081                   2021              17      100.000000  \n10496                   2021               8      100.000000  \n14226                   2022              18      100.000000  \n\n[50776 rows x 17 columns]",
      "text/html": "<div>\n<style scoped>\n    .dataframe tbody tr th:only-of-type {\n        vertical-align: middle;\n    }\n\n    .dataframe tbody tr th {\n        vertical-align: top;\n    }\n\n    .dataframe thead th {\n        text-align: right;\n    }\n</style>\n<table border=\"1\" class=\"dataframe\">\n  <thead>\n    <tr style=\"text-align: right;\">\n      <th></th>\n      <th>Violation Code</th>\n      <th>Vehicle Body Type</th>\n      <th>Street Code1</th>\n      <th>Street Code2</th>\n      <th>Street Code3</th>\n      <th>Violation Precinct</th>\n      <th>Violation Time</th>\n      <th>Violation County</th>\n      <th>Street Name</th>\n      <th>Intersecting Street</th>\n      <th>Violation Post Code</th>\n      <th>Violation Date</th>\n      <th>Violation Date (Month)</th>\n      <th>Violation Date (Day)</th>\n      <th>Violation Date (Year)</th>\n      <th>Violation Hour</th>\n      <th>Violation Rate</th>\n    </tr>\n  </thead>\n  <tbody>\n    <tr>\n      <th>19777</th>\n      <td>21</td>\n      <td>4DSD</td>\n      <td>0</td>\n      <td>0</td>\n      <td>0</td>\n      <td>107</td>\n      <td>00:00:00</td>\n      <td>Qns</td>\n      <td>Opposite of 70-87 PA</td>\n      <td>RK DRIVE EAST</td>\n      <td>NaN</td>\n      <td>2021-07-01</td>\n      <td>7</td>\n      <td>1</td>\n      <td>2021</td>\n      <td>0</td>\n      <td>50.000000</td>\n    </tr>\n    <tr>\n      <th>22002</th>\n      <td>0</td>\n      <td>VAN</td>\n      <td>0</td>\n      <td>0</td>\n      <td>0</td>\n      <td>0</td>\n      <td>00:00:00</td>\n      <td>NaN</td>\n      <td>NaN</td>\n      <td>NaN</td>\n      <td>NaN</td>\n      <td>2021-07-01</td>\n      <td>7</td>\n      <td>1</td>\n      <td>2021</td>\n      <td>0</td>\n      <td>0.000000</td>\n    </tr>\n    <tr>\n      <th>23604</th>\n      <td>0</td>\n      <td>SUBN</td>\n      <td>0</td>\n      <td>0</td>\n      <td>0</td>\n      <td>0</td>\n      <td>00:00:00</td>\n      <td>NaN</td>\n      <td>NaN</td>\n      <td>NaN</td>\n      <td>NaN</td>\n      <td>2021-07-01</td>\n      <td>7</td>\n      <td>1</td>\n      <td>2021</td>\n      <td>0</td>\n      <td>0.000000</td>\n    </tr>\n    <tr>\n      <th>26384</th>\n      <td>21</td>\n      <td>4DSD</td>\n      <td>8120</td>\n      <td>25860</td>\n      <td>25890</td>\n      <td>40</td>\n      <td>00:00:00</td>\n      <td>Bronx</td>\n      <td>ALEXANDER AVENUE</td>\n      <td>NaN</td>\n      <td>NaN</td>\n      <td>2021-07-01</td>\n      <td>7</td>\n      <td>1</td>\n      <td>2021</td>\n      <td>0</td>\n      <td>20.833333</td>\n    </tr>\n    <tr>\n      <th>28018</th>\n      <td>21</td>\n      <td>SUBN</td>\n      <td>0</td>\n      <td>0</td>\n      <td>0</td>\n      <td>78</td>\n      <td>00:00:00</td>\n      <td>Kings</td>\n      <td>Front Of 190 12 STRE</td>\n      <td>ET</td>\n      <td>NaN</td>\n      <td>2021-07-01</td>\n      <td>7</td>\n      <td>1</td>\n      <td>2021</td>\n      <td>0</td>\n      <td>100.000000</td>\n    </tr>\n    <tr>\n      <th>...</th>\n      <td>...</td>\n      <td>...</td>\n      <td>...</td>\n      <td>...</td>\n      <td>...</td>\n      <td>...</td>\n      <td>...</td>\n      <td>...</td>\n      <td>...</td>\n      <td>...</td>\n      <td>...</td>\n      <td>...</td>\n      <td>...</td>\n      <td>...</td>\n      <td>...</td>\n      <td>...</td>\n      <td>...</td>\n    </tr>\n    <tr>\n      <th>14316</th>\n      <td>20</td>\n      <td>SDN</td>\n      <td>13820</td>\n      <td>0</td>\n      <td>0</td>\n      <td>84</td>\n      <td>20:12:00</td>\n      <td>K</td>\n      <td>BROOKLYN BRIDGE PARK</td>\n      <td>PIER 5 LOOP</td>\n      <td>NaN</td>\n      <td>2021-08-16</td>\n      <td>8</td>\n      <td>16</td>\n      <td>2021</td>\n      <td>20</td>\n      <td>100.000000</td>\n    </tr>\n    <tr>\n      <th>10511</th>\n      <td>41</td>\n      <td>SUBN</td>\n      <td>32560</td>\n      <td>49130</td>\n      <td>13430</td>\n      <td>81</td>\n      <td>08:45:00</td>\n      <td>K</td>\n      <td>DEWEY PLACE</td>\n      <td>NaN</td>\n      <td>NaN</td>\n      <td>2021-08-17</td>\n      <td>8</td>\n      <td>17</td>\n      <td>2021</td>\n      <td>8</td>\n      <td>100.000000</td>\n    </tr>\n    <tr>\n      <th>10081</th>\n      <td>20</td>\n      <td>SUBN</td>\n      <td>0</td>\n      <td>30140</td>\n      <td>0</td>\n      <td>101</td>\n      <td>17:08:00</td>\n      <td>Q</td>\n      <td>SEAGIRT ST</td>\n      <td>B 17 ST</td>\n      <td>NaN</td>\n      <td>2021-08-31</td>\n      <td>8</td>\n      <td>31</td>\n      <td>2021</td>\n      <td>17</td>\n      <td>100.000000</td>\n    </tr>\n    <tr>\n      <th>10496</th>\n      <td>41</td>\n      <td>SUBN</td>\n      <td>0</td>\n      <td>0</td>\n      <td>0</td>\n      <td>81</td>\n      <td>08:55:00</td>\n      <td>K</td>\n      <td>C/O DEWEY PL</td>\n      <td>HERKIMER</td>\n      <td>NaN</td>\n      <td>2021-09-24</td>\n      <td>9</td>\n      <td>24</td>\n      <td>2021</td>\n      <td>8</td>\n      <td>100.000000</td>\n    </tr>\n    <tr>\n      <th>14226</th>\n      <td>14</td>\n      <td>SDN</td>\n      <td>16910</td>\n      <td>11720</td>\n      <td>16400</td>\n      <td>34</td>\n      <td>18:37:00</td>\n      <td>NY</td>\n      <td>DYCKMAN STREET</td>\n      <td>NaN</td>\n      <td>NaN</td>\n      <td>2022-02-04</td>\n      <td>2</td>\n      <td>4</td>\n      <td>2022</td>\n      <td>18</td>\n      <td>100.000000</td>\n    </tr>\n  </tbody>\n</table>\n<p>50776 rows × 17 columns</p>\n</div>"
     },
     "execution_count": 23,
     "metadata": {},
     "output_type": "execute_result"
    }
   ],
   "source": [
    "df_1"
   ],
   "metadata": {
    "collapsed": false,
    "ExecuteTime": {
     "start_time": "2023-11-23T23:22:28.016898Z",
     "end_time": "2023-11-23T23:22:28.026701Z"
    }
   }
  },
  {
   "cell_type": "code",
   "execution_count": 24,
   "outputs": [],
   "source": [
    "def scale_between_0_and_1(value, min_value, max_value):\n",
    "    \"\"\"\n",
    "    Scale a value to be between 0 and 1.\n",
    "\n",
    "    :param value: The value to be scaled.\n",
    "    :param min_value: The minimum value in the range of your data.\n",
    "    :param max_value: The maximum value in the range of your data.\n",
    "    :return: Scaled value between 0 and 1.\n",
    "    \"\"\"\n",
    "    if max_value == min_value:\n",
    "        return 0  # Avoid division by zero if all values are the same\n",
    "\n",
    "    return (value - min_value) / (max_value - min_value)"
   ],
   "metadata": {
    "collapsed": false,
    "ExecuteTime": {
     "start_time": "2023-11-23T23:22:28.030023Z",
     "end_time": "2023-11-23T23:22:28.032033Z"
    }
   }
  },
  {
   "cell_type": "code",
   "execution_count": 25,
   "outputs": [
    {
     "data": {
      "text/plain": "19777    0.018519\n22002    0.000000\n23604    0.000000\n26384    0.007716\n28018    0.037037\n           ...   \n14316    0.037037\n10511    0.037037\n10081    0.037037\n10496    0.037037\n14226    0.037037\nName: Violation Rate (Scaled), Length: 50776, dtype: float64"
     },
     "execution_count": 25,
     "metadata": {},
     "output_type": "execute_result"
    }
   ],
   "source": [
    "df_1['Violation Rate (Scaled)'] = df_1['Violation Rate'].apply(lambda x: scale_between_0_and_1(x, df_1['Violation Rate'].min(), df_1['Violation Rate'].max()))\n",
    "df_1['Violation Rate (Scaled)']"
   ],
   "metadata": {
    "collapsed": false,
    "ExecuteTime": {
     "start_time": "2023-11-23T23:22:28.035036Z",
     "end_time": "2023-11-23T23:22:35.282314Z"
    }
   }
  },
  {
   "cell_type": "code",
   "execution_count": 26,
   "outputs": [
    {
     "data": {
      "text/plain": "2700.0"
     },
     "execution_count": 26,
     "metadata": {},
     "output_type": "execute_result"
    }
   ],
   "source": [
    "df_1['Violation Rate'].max()"
   ],
   "metadata": {
    "collapsed": false,
    "ExecuteTime": {
     "start_time": "2023-11-23T23:22:35.282314Z",
     "end_time": "2023-11-23T23:22:35.288697Z"
    }
   }
  }
 ],
 "metadata": {
  "kernelspec": {
   "display_name": "Python 3",
   "language": "python",
   "name": "python3"
  },
  "language_info": {
   "codemirror_mode": {
    "name": "ipython",
    "version": 2
   },
   "file_extension": ".py",
   "mimetype": "text/x-python",
   "name": "python",
   "nbconvert_exporter": "python",
   "pygments_lexer": "ipython2",
   "version": "2.7.6"
  }
 },
 "nbformat": 4,
 "nbformat_minor": 0
}
