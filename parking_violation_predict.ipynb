{
 "cells": [
  {
   "cell_type": "code",
   "execution_count": 1,
   "metadata": {
    "collapsed": true,
    "ExecuteTime": {
     "start_time": "2023-11-22T15:06:01.938753Z",
     "end_time": "2023-11-22T15:06:03.030747Z"
    }
   },
   "outputs": [],
   "source": [
    "import pandas as pd\n",
    "import numpy as np\n",
    "import matplotlib.pyplot as plt"
   ]
  },
  {
   "cell_type": "code",
   "execution_count": 2,
   "outputs": [
    {
     "name": "stderr",
     "output_type": "stream",
     "text": [
      "C:\\Users\\YSK\\AppData\\Local\\Temp\\ipykernel_10816\\1023093742.py:28: DtypeWarning: Columns (30,31,32) have mixed types. Specify dtype option on import or set low_memory=False.\n",
      "  df = pd.read_csv(file_path, usecols=selected_columns, nrows=n_rows_to_read) # nrows=n_rows_to_read\n"
     ]
    },
    {
     "data": {
      "text/plain": "        Issue Date  Violation Code Vehicle Body Type  Street Code1  \\\n0       06/25/2021              40               VAN         63430   \n1       06/25/2021              20              SUBN         13490   \n2       06/17/2021              98               SDN         79430   \n3       06/16/2021              98               SDN         53130   \n4       07/04/2021              40              TAXI         81030   \n...            ...             ...               ...           ...   \n349995  07/27/2021              36              SUBN             0   \n349996  07/27/2021              36              SUBN             0   \n349997  07/27/2021              36              SUBN             0   \n349998  07/27/2021              36              SUBN             0   \n349999  07/27/2021              36              4DSD             0   \n\n        Street Code2  Street Code3  Violation Precinct Violation Time  \\\n0              69230         13490                  88          0130A   \n1              40404         40404                  88          0225A   \n2              47130         11750                  88          0809P   \n3              23230         23930                  83          0605P   \n4              23930         40030                  83          1058P   \n...              ...           ...                 ...            ...   \n349995             0             0                   0          1204P   \n349996             0             0                   0          1204P   \n349997             0             0                   0          1204P   \n349998             0             0                   0          1204P   \n349999             0             0                   0          1204P   \n\n       Violation County Intersecting Street Days Parking In Effect  \\\n0                     K                 NaN                BBBBBBB   \n1                     K                 NaN                BBBBBBB   \n2                     K                 NaN                BBBBBBB   \n3                     K                 NaN                BBBBBBB   \n4                     K                 NaN                BBBBBBB   \n...                 ...                 ...                    ...   \n349995               QN              1ST ST                    NaN   \n349996               BK        Y @ BILLS PL                    NaN   \n349997               ST            ONIA AVE                    NaN   \n349998               QN               TH ST                    NaN   \n349999               QN               H AVE                    NaN   \n\n       From Hours In Effect To Hours In Effect  Violation Post Code  \n0                       ALL                ALL                  NaN  \n1                       ALL                ALL                  NaN  \n2                       ALL                ALL                  NaN  \n3                       ALL                ALL                  NaN  \n4                       ALL                ALL                  NaN  \n...                     ...                ...                  ...  \n349995                  NaN                NaN                  NaN  \n349996                  NaN                NaN                  NaN  \n349997                  NaN                NaN                  NaN  \n349998                  NaN                NaN                  NaN  \n349999                  NaN                NaN                  NaN  \n\n[350000 rows x 14 columns]",
      "text/html": "<div>\n<style scoped>\n    .dataframe tbody tr th:only-of-type {\n        vertical-align: middle;\n    }\n\n    .dataframe tbody tr th {\n        vertical-align: top;\n    }\n\n    .dataframe thead th {\n        text-align: right;\n    }\n</style>\n<table border=\"1\" class=\"dataframe\">\n  <thead>\n    <tr style=\"text-align: right;\">\n      <th></th>\n      <th>Issue Date</th>\n      <th>Violation Code</th>\n      <th>Vehicle Body Type</th>\n      <th>Street Code1</th>\n      <th>Street Code2</th>\n      <th>Street Code3</th>\n      <th>Violation Precinct</th>\n      <th>Violation Time</th>\n      <th>Violation County</th>\n      <th>Intersecting Street</th>\n      <th>Days Parking In Effect</th>\n      <th>From Hours In Effect</th>\n      <th>To Hours In Effect</th>\n      <th>Violation Post Code</th>\n    </tr>\n  </thead>\n  <tbody>\n    <tr>\n      <th>0</th>\n      <td>06/25/2021</td>\n      <td>40</td>\n      <td>VAN</td>\n      <td>63430</td>\n      <td>69230</td>\n      <td>13490</td>\n      <td>88</td>\n      <td>0130A</td>\n      <td>K</td>\n      <td>NaN</td>\n      <td>BBBBBBB</td>\n      <td>ALL</td>\n      <td>ALL</td>\n      <td>NaN</td>\n    </tr>\n    <tr>\n      <th>1</th>\n      <td>06/25/2021</td>\n      <td>20</td>\n      <td>SUBN</td>\n      <td>13490</td>\n      <td>40404</td>\n      <td>40404</td>\n      <td>88</td>\n      <td>0225A</td>\n      <td>K</td>\n      <td>NaN</td>\n      <td>BBBBBBB</td>\n      <td>ALL</td>\n      <td>ALL</td>\n      <td>NaN</td>\n    </tr>\n    <tr>\n      <th>2</th>\n      <td>06/17/2021</td>\n      <td>98</td>\n      <td>SDN</td>\n      <td>79430</td>\n      <td>47130</td>\n      <td>11750</td>\n      <td>88</td>\n      <td>0809P</td>\n      <td>K</td>\n      <td>NaN</td>\n      <td>BBBBBBB</td>\n      <td>ALL</td>\n      <td>ALL</td>\n      <td>NaN</td>\n    </tr>\n    <tr>\n      <th>3</th>\n      <td>06/16/2021</td>\n      <td>98</td>\n      <td>SDN</td>\n      <td>53130</td>\n      <td>23230</td>\n      <td>23930</td>\n      <td>83</td>\n      <td>0605P</td>\n      <td>K</td>\n      <td>NaN</td>\n      <td>BBBBBBB</td>\n      <td>ALL</td>\n      <td>ALL</td>\n      <td>NaN</td>\n    </tr>\n    <tr>\n      <th>4</th>\n      <td>07/04/2021</td>\n      <td>40</td>\n      <td>TAXI</td>\n      <td>81030</td>\n      <td>23930</td>\n      <td>40030</td>\n      <td>83</td>\n      <td>1058P</td>\n      <td>K</td>\n      <td>NaN</td>\n      <td>BBBBBBB</td>\n      <td>ALL</td>\n      <td>ALL</td>\n      <td>NaN</td>\n    </tr>\n    <tr>\n      <th>...</th>\n      <td>...</td>\n      <td>...</td>\n      <td>...</td>\n      <td>...</td>\n      <td>...</td>\n      <td>...</td>\n      <td>...</td>\n      <td>...</td>\n      <td>...</td>\n      <td>...</td>\n      <td>...</td>\n      <td>...</td>\n      <td>...</td>\n      <td>...</td>\n    </tr>\n    <tr>\n      <th>349995</th>\n      <td>07/27/2021</td>\n      <td>36</td>\n      <td>SUBN</td>\n      <td>0</td>\n      <td>0</td>\n      <td>0</td>\n      <td>0</td>\n      <td>1204P</td>\n      <td>QN</td>\n      <td>1ST ST</td>\n      <td>NaN</td>\n      <td>NaN</td>\n      <td>NaN</td>\n      <td>NaN</td>\n    </tr>\n    <tr>\n      <th>349996</th>\n      <td>07/27/2021</td>\n      <td>36</td>\n      <td>SUBN</td>\n      <td>0</td>\n      <td>0</td>\n      <td>0</td>\n      <td>0</td>\n      <td>1204P</td>\n      <td>BK</td>\n      <td>Y @ BILLS PL</td>\n      <td>NaN</td>\n      <td>NaN</td>\n      <td>NaN</td>\n      <td>NaN</td>\n    </tr>\n    <tr>\n      <th>349997</th>\n      <td>07/27/2021</td>\n      <td>36</td>\n      <td>SUBN</td>\n      <td>0</td>\n      <td>0</td>\n      <td>0</td>\n      <td>0</td>\n      <td>1204P</td>\n      <td>ST</td>\n      <td>ONIA AVE</td>\n      <td>NaN</td>\n      <td>NaN</td>\n      <td>NaN</td>\n      <td>NaN</td>\n    </tr>\n    <tr>\n      <th>349998</th>\n      <td>07/27/2021</td>\n      <td>36</td>\n      <td>SUBN</td>\n      <td>0</td>\n      <td>0</td>\n      <td>0</td>\n      <td>0</td>\n      <td>1204P</td>\n      <td>QN</td>\n      <td>TH ST</td>\n      <td>NaN</td>\n      <td>NaN</td>\n      <td>NaN</td>\n      <td>NaN</td>\n    </tr>\n    <tr>\n      <th>349999</th>\n      <td>07/27/2021</td>\n      <td>36</td>\n      <td>4DSD</td>\n      <td>0</td>\n      <td>0</td>\n      <td>0</td>\n      <td>0</td>\n      <td>1204P</td>\n      <td>QN</td>\n      <td>H AVE</td>\n      <td>NaN</td>\n      <td>NaN</td>\n      <td>NaN</td>\n      <td>NaN</td>\n    </tr>\n  </tbody>\n</table>\n<p>350000 rows × 14 columns</p>\n</div>"
     },
     "execution_count": 2,
     "metadata": {},
     "output_type": "execute_result"
    }
   ],
   "source": [
    "selected_columns = [\n",
    "    'Street Code1',\n",
    "    'Street Code2',\n",
    "    'Street Code3',\n",
    "    # 'Violation Location',\n",
    "    'Violation Post Code',\n",
    "    'Intersecting Street',\n",
    "    'Violation Precinct',\n",
    "    'Violation County',\n",
    "    'Vehicle Body Type',\n",
    "    'Issue Date',\n",
    "    # 'Date First Observed',\n",
    "    'Violation Time',\n",
    "    'Days Parking In Effect',\n",
    "    'From Hours In Effect',\n",
    "    'To Hours In Effect',\n",
    "    'Violation Code',\n",
    "]\n",
    "\n",
    "'''\n",
    "Genel olarak, \"county\" (ilçe) daha büyük bir alanı temsil eder. Bir \"county\", genellikle belirli bir eyaletin sınırları içinde bulunan büyük bir coğrafi bölgeyi kapsar. Bir eyalette birden çok \"county\" bulunabilir ve her biri kendi yerel yönetimine sahiptir.\n",
    "\n",
    "Öte yandan, \"precinct\" (seçim bölgesi) daha küçük bir coğrafi bölgeyi ifade eder. Bu, genellikle seçmenlerin oy kullandığı belirli bir mahalle veya köyü temsil eder. Seçim bölgesi, seçimlerde kullanılan ve oy verme işlemini düzenleyen bir kavramdır.\n",
    "'''\n",
    "\n",
    "n_rows_to_read = 350000\n",
    "file_path = 'Parking_Violations_2022.csv'\n",
    "df = pd.read_csv(file_path, usecols=selected_columns, nrows=n_rows_to_read) # nrows=n_rows_to_read\n",
    "df"
   ],
   "metadata": {
    "collapsed": false,
    "ExecuteTime": {
     "start_time": "2023-11-22T15:06:03.035750Z",
     "end_time": "2023-11-22T15:06:03.827753Z"
    }
   }
  },
  {
   "cell_type": "code",
   "execution_count": 3,
   "outputs": [
    {
     "data": {
      "text/plain": "53078"
     },
     "execution_count": 3,
     "metadata": {},
     "output_type": "execute_result"
    }
   ],
   "source": [
    "df['Intersecting Street'].isna().sum()"
   ],
   "metadata": {
    "collapsed": false,
    "ExecuteTime": {
     "start_time": "2023-11-22T15:06:03.827753Z",
     "end_time": "2023-11-22T15:06:03.937747Z"
    }
   }
  },
  {
   "cell_type": "code",
   "execution_count": 4,
   "outputs": [
    {
     "name": "stdout",
     "output_type": "stream",
     "text": [
      "<class 'pandas.core.frame.DataFrame'>\n",
      "RangeIndex: 350000 entries, 0 to 349999\n",
      "Data columns (total 14 columns):\n",
      " #   Column                  Non-Null Count   Dtype  \n",
      "---  ------                  --------------   -----  \n",
      " 0   Issue Date              350000 non-null  object \n",
      " 1   Violation Code          350000 non-null  int64  \n",
      " 2   Vehicle Body Type       347859 non-null  object \n",
      " 3   Street Code1            350000 non-null  int64  \n",
      " 4   Street Code2            350000 non-null  int64  \n",
      " 5   Street Code3            350000 non-null  int64  \n",
      " 6   Violation Precinct      350000 non-null  int64  \n",
      " 7   Violation Time          349991 non-null  object \n",
      " 8   Violation County        348269 non-null  object \n",
      " 9   Intersecting Street     296922 non-null  object \n",
      " 10  Days Parking In Effect  34361 non-null   object \n",
      " 11  From Hours In Effect    39343 non-null   object \n",
      " 12  To Hours In Effect      39342 non-null   object \n",
      " 13  Violation Post Code     0 non-null       float64\n",
      "dtypes: float64(1), int64(5), object(8)\n",
      "memory usage: 37.4+ MB\n"
     ]
    }
   ],
   "source": [
    "df.info()"
   ],
   "metadata": {
    "collapsed": false,
    "ExecuteTime": {
     "start_time": "2023-11-22T15:06:03.862756Z",
     "end_time": "2023-11-22T15:06:04.252752Z"
    }
   }
  },
  {
   "cell_type": "code",
   "execution_count": 5,
   "outputs": [
    {
     "data": {
      "text/plain": "0         0130A\n1         0225A\n2         0809P\n3         0605P\n4         1058P\n          ...  \n349995    1204P\n349996    1204P\n349997    1204P\n349998    1204P\n349999    1204P\nName: Violation Time, Length: 350000, dtype: object"
     },
     "execution_count": 5,
     "metadata": {},
     "output_type": "execute_result"
    }
   ],
   "source": [
    "df['Violation Time']"
   ],
   "metadata": {
    "collapsed": false,
    "ExecuteTime": {
     "start_time": "2023-11-22T15:06:04.255752Z",
     "end_time": "2023-11-22T15:06:04.328748Z"
    }
   }
  },
  {
   "cell_type": "code",
   "execution_count": 6,
   "outputs": [],
   "source": [
    "df_1 = df.copy()"
   ],
   "metadata": {
    "collapsed": false,
    "ExecuteTime": {
     "start_time": "2023-11-22T15:06:04.271753Z",
     "end_time": "2023-11-22T15:06:04.356753Z"
    }
   }
  },
  {
   "cell_type": "code",
   "execution_count": 7,
   "outputs": [],
   "source": [
    "# import sweetviz as sv\n",
    "# analyze_report = sv.analyze(df_1)\n",
    "# analyze_report.show_html('analyze.html', open_browser=False)"
   ],
   "metadata": {
    "collapsed": false,
    "ExecuteTime": {
     "start_time": "2023-11-22T15:06:04.303752Z",
     "end_time": "2023-11-22T15:06:04.368748Z"
    }
   }
  },
  {
   "cell_type": "code",
   "execution_count": 8,
   "outputs": [],
   "source": [
    "df_1['Violation Date'] = pd.to_datetime(df_1['Issue Date'])\n",
    "df_1['Violation Date (Month)'] = df_1['Violation Date'].dt.month\n",
    "df_1['Violation Date (Day)'] = df_1['Violation Date'].dt.day\n",
    "df_1['Violation Date (Year)'] = df_1['Violation Date'].dt.year\n",
    "df_1 = df_1.drop(columns=['Issue Date'])"
   ],
   "metadata": {
    "collapsed": false,
    "ExecuteTime": {
     "start_time": "2023-11-22T15:06:04.319751Z",
     "end_time": "2023-11-22T15:06:04.459747Z"
    }
   }
  },
  {
   "cell_type": "code",
   "execution_count": 9,
   "outputs": [
    {
     "data": {
      "text/plain": "        Violation Code Vehicle Body Type  Street Code1  Street Code2  \\\n0                   40               VAN         63430         69230   \n1                   20              SUBN         13490         40404   \n2                   98               SDN         79430         47130   \n3                   98               SDN         53130         23230   \n4                   40              TAXI         81030         23930   \n...                ...               ...           ...           ...   \n349995              36              SUBN             0             0   \n349996              36              SUBN             0             0   \n349997              36              SUBN             0             0   \n349998              36              SUBN             0             0   \n349999              36              4DSD             0             0   \n\n        Street Code3  Violation Precinct Violation Time Violation County  \\\n0              13490                  88          0130A                K   \n1              40404                  88          0225A                K   \n2              11750                  88          0809P                K   \n3              23930                  83          0605P                K   \n4              40030                  83          1058P                K   \n...              ...                 ...            ...              ...   \n349995             0                   0          1204P               QN   \n349996             0                   0          1204P               BK   \n349997             0                   0          1204P               ST   \n349998             0                   0          1204P               QN   \n349999             0                   0          1204P               QN   \n\n       Intersecting Street Days Parking In Effect From Hours In Effect  \\\n0                      NaN                BBBBBBB                  ALL   \n1                      NaN                BBBBBBB                  ALL   \n2                      NaN                BBBBBBB                  ALL   \n3                      NaN                BBBBBBB                  ALL   \n4                      NaN                BBBBBBB                  ALL   \n...                    ...                    ...                  ...   \n349995              1ST ST                    NaN                  NaN   \n349996        Y @ BILLS PL                    NaN                  NaN   \n349997            ONIA AVE                    NaN                  NaN   \n349998               TH ST                    NaN                  NaN   \n349999               H AVE                    NaN                  NaN   \n\n       To Hours In Effect  Violation Post Code Violation Date  \\\n0                     ALL                  NaN     2021-06-25   \n1                     ALL                  NaN     2021-06-25   \n2                     ALL                  NaN     2021-06-17   \n3                     ALL                  NaN     2021-06-16   \n4                     ALL                  NaN     2021-07-04   \n...                   ...                  ...            ...   \n349995                NaN                  NaN     2021-07-27   \n349996                NaN                  NaN     2021-07-27   \n349997                NaN                  NaN     2021-07-27   \n349998                NaN                  NaN     2021-07-27   \n349999                NaN                  NaN     2021-07-27   \n\n        Violation Date (Month)  Violation Date (Day)  Violation Date (Year)  \n0                            6                    25                   2021  \n1                            6                    25                   2021  \n2                            6                    17                   2021  \n3                            6                    16                   2021  \n4                            7                     4                   2021  \n...                        ...                   ...                    ...  \n349995                       7                    27                   2021  \n349996                       7                    27                   2021  \n349997                       7                    27                   2021  \n349998                       7                    27                   2021  \n349999                       7                    27                   2021  \n\n[350000 rows x 17 columns]",
      "text/html": "<div>\n<style scoped>\n    .dataframe tbody tr th:only-of-type {\n        vertical-align: middle;\n    }\n\n    .dataframe tbody tr th {\n        vertical-align: top;\n    }\n\n    .dataframe thead th {\n        text-align: right;\n    }\n</style>\n<table border=\"1\" class=\"dataframe\">\n  <thead>\n    <tr style=\"text-align: right;\">\n      <th></th>\n      <th>Violation Code</th>\n      <th>Vehicle Body Type</th>\n      <th>Street Code1</th>\n      <th>Street Code2</th>\n      <th>Street Code3</th>\n      <th>Violation Precinct</th>\n      <th>Violation Time</th>\n      <th>Violation County</th>\n      <th>Intersecting Street</th>\n      <th>Days Parking In Effect</th>\n      <th>From Hours In Effect</th>\n      <th>To Hours In Effect</th>\n      <th>Violation Post Code</th>\n      <th>Violation Date</th>\n      <th>Violation Date (Month)</th>\n      <th>Violation Date (Day)</th>\n      <th>Violation Date (Year)</th>\n    </tr>\n  </thead>\n  <tbody>\n    <tr>\n      <th>0</th>\n      <td>40</td>\n      <td>VAN</td>\n      <td>63430</td>\n      <td>69230</td>\n      <td>13490</td>\n      <td>88</td>\n      <td>0130A</td>\n      <td>K</td>\n      <td>NaN</td>\n      <td>BBBBBBB</td>\n      <td>ALL</td>\n      <td>ALL</td>\n      <td>NaN</td>\n      <td>2021-06-25</td>\n      <td>6</td>\n      <td>25</td>\n      <td>2021</td>\n    </tr>\n    <tr>\n      <th>1</th>\n      <td>20</td>\n      <td>SUBN</td>\n      <td>13490</td>\n      <td>40404</td>\n      <td>40404</td>\n      <td>88</td>\n      <td>0225A</td>\n      <td>K</td>\n      <td>NaN</td>\n      <td>BBBBBBB</td>\n      <td>ALL</td>\n      <td>ALL</td>\n      <td>NaN</td>\n      <td>2021-06-25</td>\n      <td>6</td>\n      <td>25</td>\n      <td>2021</td>\n    </tr>\n    <tr>\n      <th>2</th>\n      <td>98</td>\n      <td>SDN</td>\n      <td>79430</td>\n      <td>47130</td>\n      <td>11750</td>\n      <td>88</td>\n      <td>0809P</td>\n      <td>K</td>\n      <td>NaN</td>\n      <td>BBBBBBB</td>\n      <td>ALL</td>\n      <td>ALL</td>\n      <td>NaN</td>\n      <td>2021-06-17</td>\n      <td>6</td>\n      <td>17</td>\n      <td>2021</td>\n    </tr>\n    <tr>\n      <th>3</th>\n      <td>98</td>\n      <td>SDN</td>\n      <td>53130</td>\n      <td>23230</td>\n      <td>23930</td>\n      <td>83</td>\n      <td>0605P</td>\n      <td>K</td>\n      <td>NaN</td>\n      <td>BBBBBBB</td>\n      <td>ALL</td>\n      <td>ALL</td>\n      <td>NaN</td>\n      <td>2021-06-16</td>\n      <td>6</td>\n      <td>16</td>\n      <td>2021</td>\n    </tr>\n    <tr>\n      <th>4</th>\n      <td>40</td>\n      <td>TAXI</td>\n      <td>81030</td>\n      <td>23930</td>\n      <td>40030</td>\n      <td>83</td>\n      <td>1058P</td>\n      <td>K</td>\n      <td>NaN</td>\n      <td>BBBBBBB</td>\n      <td>ALL</td>\n      <td>ALL</td>\n      <td>NaN</td>\n      <td>2021-07-04</td>\n      <td>7</td>\n      <td>4</td>\n      <td>2021</td>\n    </tr>\n    <tr>\n      <th>...</th>\n      <td>...</td>\n      <td>...</td>\n      <td>...</td>\n      <td>...</td>\n      <td>...</td>\n      <td>...</td>\n      <td>...</td>\n      <td>...</td>\n      <td>...</td>\n      <td>...</td>\n      <td>...</td>\n      <td>...</td>\n      <td>...</td>\n      <td>...</td>\n      <td>...</td>\n      <td>...</td>\n      <td>...</td>\n    </tr>\n    <tr>\n      <th>349995</th>\n      <td>36</td>\n      <td>SUBN</td>\n      <td>0</td>\n      <td>0</td>\n      <td>0</td>\n      <td>0</td>\n      <td>1204P</td>\n      <td>QN</td>\n      <td>1ST ST</td>\n      <td>NaN</td>\n      <td>NaN</td>\n      <td>NaN</td>\n      <td>NaN</td>\n      <td>2021-07-27</td>\n      <td>7</td>\n      <td>27</td>\n      <td>2021</td>\n    </tr>\n    <tr>\n      <th>349996</th>\n      <td>36</td>\n      <td>SUBN</td>\n      <td>0</td>\n      <td>0</td>\n      <td>0</td>\n      <td>0</td>\n      <td>1204P</td>\n      <td>BK</td>\n      <td>Y @ BILLS PL</td>\n      <td>NaN</td>\n      <td>NaN</td>\n      <td>NaN</td>\n      <td>NaN</td>\n      <td>2021-07-27</td>\n      <td>7</td>\n      <td>27</td>\n      <td>2021</td>\n    </tr>\n    <tr>\n      <th>349997</th>\n      <td>36</td>\n      <td>SUBN</td>\n      <td>0</td>\n      <td>0</td>\n      <td>0</td>\n      <td>0</td>\n      <td>1204P</td>\n      <td>ST</td>\n      <td>ONIA AVE</td>\n      <td>NaN</td>\n      <td>NaN</td>\n      <td>NaN</td>\n      <td>NaN</td>\n      <td>2021-07-27</td>\n      <td>7</td>\n      <td>27</td>\n      <td>2021</td>\n    </tr>\n    <tr>\n      <th>349998</th>\n      <td>36</td>\n      <td>SUBN</td>\n      <td>0</td>\n      <td>0</td>\n      <td>0</td>\n      <td>0</td>\n      <td>1204P</td>\n      <td>QN</td>\n      <td>TH ST</td>\n      <td>NaN</td>\n      <td>NaN</td>\n      <td>NaN</td>\n      <td>NaN</td>\n      <td>2021-07-27</td>\n      <td>7</td>\n      <td>27</td>\n      <td>2021</td>\n    </tr>\n    <tr>\n      <th>349999</th>\n      <td>36</td>\n      <td>4DSD</td>\n      <td>0</td>\n      <td>0</td>\n      <td>0</td>\n      <td>0</td>\n      <td>1204P</td>\n      <td>QN</td>\n      <td>H AVE</td>\n      <td>NaN</td>\n      <td>NaN</td>\n      <td>NaN</td>\n      <td>NaN</td>\n      <td>2021-07-27</td>\n      <td>7</td>\n      <td>27</td>\n      <td>2021</td>\n    </tr>\n  </tbody>\n</table>\n<p>350000 rows × 17 columns</p>\n</div>"
     },
     "execution_count": 9,
     "metadata": {},
     "output_type": "execute_result"
    }
   ],
   "source": [
    "df_1"
   ],
   "metadata": {
    "collapsed": false,
    "ExecuteTime": {
     "start_time": "2023-11-22T15:06:04.460747Z",
     "end_time": "2023-11-22T15:06:04.524748Z"
    }
   }
  },
  {
   "cell_type": "code",
   "execution_count": 10,
   "outputs": [],
   "source": [
    "def convert_to_24hr_format(time_str):\n",
    "    if '.' in time_str:\n",
    "        return None\n",
    "    if time_str[-1] == 'P':\n",
    "        return '{:02d}:{:02d}'.format((int(time_str[:2]) + 12) % 24, int(time_str[2:4]))\n",
    "    elif time_str[-1] == 'A':\n",
    "        return '{:02d}:{:02d}'.format(int(time_str[:2]) % 12, int(time_str[2:4]))\n",
    "    else:\n",
    "        return None\n",
    "\n",
    "df_1['Violation Time'] = df_1['Violation Time'].astype(str)\n",
    "df_1.loc[:, 'Violation Time'] = df_1['Violation Time'].apply(convert_to_24hr_format)\n",
    "df_1 = df_1.dropna(subset=['Violation Time'])"
   ],
   "metadata": {
    "collapsed": false,
    "ExecuteTime": {
     "start_time": "2023-11-22T15:06:04.497749Z",
     "end_time": "2023-11-22T15:06:05.224752Z"
    }
   }
  },
  {
   "cell_type": "code",
   "execution_count": 11,
   "outputs": [
    {
     "name": "stderr",
     "output_type": "stream",
     "text": [
      "C:\\Users\\YSK\\AppData\\Local\\Temp\\ipykernel_10816\\163225079.py:1: SettingWithCopyWarning: \n",
      "A value is trying to be set on a copy of a slice from a DataFrame.\n",
      "Try using .loc[row_indexer,col_indexer] = value instead\n",
      "\n",
      "See the caveats in the documentation: https://pandas.pydata.org/pandas-docs/stable/user_guide/indexing.html#returning-a-view-versus-a-copy\n",
      "  df_1.loc[:, 'Violation Time'] = pd.to_datetime(df_1['Violation Time'], format='%H:%M', errors='coerce').dt.time\n"
     ]
    }
   ],
   "source": [
    "df_1.loc[:, 'Violation Time'] = pd.to_datetime(df_1['Violation Time'], format='%H:%M', errors='coerce').dt.time"
   ],
   "metadata": {
    "collapsed": false,
    "ExecuteTime": {
     "start_time": "2023-11-22T15:06:05.225750Z",
     "end_time": "2023-11-22T15:06:06.164766Z"
    }
   }
  },
  {
   "cell_type": "code",
   "execution_count": 12,
   "outputs": [
    {
     "data": {
      "text/plain": "0         01:30:00\n1         02:25:00\n2         20:09:00\n3         18:05:00\n4         22:58:00\n            ...   \n349995    00:04:00\n349996    00:04:00\n349997    00:04:00\n349998    00:04:00\n349999    00:04:00\nName: Violation Time, Length: 349983, dtype: object"
     },
     "execution_count": 12,
     "metadata": {},
     "output_type": "execute_result"
    }
   ],
   "source": [
    "df_1['Violation Time']"
   ],
   "metadata": {
    "collapsed": false,
    "ExecuteTime": {
     "start_time": "2023-11-22T15:06:06.166765Z",
     "end_time": "2023-11-22T15:06:06.221767Z"
    }
   }
  },
  {
   "cell_type": "code",
   "execution_count": 13,
   "outputs": [
    {
     "data": {
      "text/plain": "        Violation Code Vehicle Body Type  Street Code1  Street Code2  \\\n0                   40               VAN         63430         69230   \n1                   20              SUBN         13490         40404   \n2                   98               SDN         79430         47130   \n3                   98               SDN         53130         23230   \n4                   40              TAXI         81030         23930   \n...                ...               ...           ...           ...   \n349995              36              SUBN             0             0   \n349996              36              SUBN             0             0   \n349997              36              SUBN             0             0   \n349998              36              SUBN             0             0   \n349999              36              4DSD             0             0   \n\n        Street Code3  Violation Precinct Violation Time Violation County  \\\n0              13490                  88       01:30:00                K   \n1              40404                  88       02:25:00                K   \n2              11750                  88       20:09:00                K   \n3              23930                  83       18:05:00                K   \n4              40030                  83       22:58:00                K   \n...              ...                 ...            ...              ...   \n349995             0                   0       00:04:00               QN   \n349996             0                   0       00:04:00               BK   \n349997             0                   0       00:04:00               ST   \n349998             0                   0       00:04:00               QN   \n349999             0                   0       00:04:00               QN   \n\n       Intersecting Street Days Parking In Effect From Hours In Effect  \\\n0                      NaN                BBBBBBB                  ALL   \n1                      NaN                BBBBBBB                  ALL   \n2                      NaN                BBBBBBB                  ALL   \n3                      NaN                BBBBBBB                  ALL   \n4                      NaN                BBBBBBB                  ALL   \n...                    ...                    ...                  ...   \n349995              1ST ST                    NaN                  NaN   \n349996        Y @ BILLS PL                    NaN                  NaN   \n349997            ONIA AVE                    NaN                  NaN   \n349998               TH ST                    NaN                  NaN   \n349999               H AVE                    NaN                  NaN   \n\n       To Hours In Effect  Violation Post Code Violation Date  \\\n0                     ALL                  NaN     2021-06-25   \n1                     ALL                  NaN     2021-06-25   \n2                     ALL                  NaN     2021-06-17   \n3                     ALL                  NaN     2021-06-16   \n4                     ALL                  NaN     2021-07-04   \n...                   ...                  ...            ...   \n349995                NaN                  NaN     2021-07-27   \n349996                NaN                  NaN     2021-07-27   \n349997                NaN                  NaN     2021-07-27   \n349998                NaN                  NaN     2021-07-27   \n349999                NaN                  NaN     2021-07-27   \n\n        Violation Date (Month)  Violation Date (Day)  Violation Date (Year)  \n0                            6                    25                   2021  \n1                            6                    25                   2021  \n2                            6                    17                   2021  \n3                            6                    16                   2021  \n4                            7                     4                   2021  \n...                        ...                   ...                    ...  \n349995                       7                    27                   2021  \n349996                       7                    27                   2021  \n349997                       7                    27                   2021  \n349998                       7                    27                   2021  \n349999                       7                    27                   2021  \n\n[349983 rows x 17 columns]",
      "text/html": "<div>\n<style scoped>\n    .dataframe tbody tr th:only-of-type {\n        vertical-align: middle;\n    }\n\n    .dataframe tbody tr th {\n        vertical-align: top;\n    }\n\n    .dataframe thead th {\n        text-align: right;\n    }\n</style>\n<table border=\"1\" class=\"dataframe\">\n  <thead>\n    <tr style=\"text-align: right;\">\n      <th></th>\n      <th>Violation Code</th>\n      <th>Vehicle Body Type</th>\n      <th>Street Code1</th>\n      <th>Street Code2</th>\n      <th>Street Code3</th>\n      <th>Violation Precinct</th>\n      <th>Violation Time</th>\n      <th>Violation County</th>\n      <th>Intersecting Street</th>\n      <th>Days Parking In Effect</th>\n      <th>From Hours In Effect</th>\n      <th>To Hours In Effect</th>\n      <th>Violation Post Code</th>\n      <th>Violation Date</th>\n      <th>Violation Date (Month)</th>\n      <th>Violation Date (Day)</th>\n      <th>Violation Date (Year)</th>\n    </tr>\n  </thead>\n  <tbody>\n    <tr>\n      <th>0</th>\n      <td>40</td>\n      <td>VAN</td>\n      <td>63430</td>\n      <td>69230</td>\n      <td>13490</td>\n      <td>88</td>\n      <td>01:30:00</td>\n      <td>K</td>\n      <td>NaN</td>\n      <td>BBBBBBB</td>\n      <td>ALL</td>\n      <td>ALL</td>\n      <td>NaN</td>\n      <td>2021-06-25</td>\n      <td>6</td>\n      <td>25</td>\n      <td>2021</td>\n    </tr>\n    <tr>\n      <th>1</th>\n      <td>20</td>\n      <td>SUBN</td>\n      <td>13490</td>\n      <td>40404</td>\n      <td>40404</td>\n      <td>88</td>\n      <td>02:25:00</td>\n      <td>K</td>\n      <td>NaN</td>\n      <td>BBBBBBB</td>\n      <td>ALL</td>\n      <td>ALL</td>\n      <td>NaN</td>\n      <td>2021-06-25</td>\n      <td>6</td>\n      <td>25</td>\n      <td>2021</td>\n    </tr>\n    <tr>\n      <th>2</th>\n      <td>98</td>\n      <td>SDN</td>\n      <td>79430</td>\n      <td>47130</td>\n      <td>11750</td>\n      <td>88</td>\n      <td>20:09:00</td>\n      <td>K</td>\n      <td>NaN</td>\n      <td>BBBBBBB</td>\n      <td>ALL</td>\n      <td>ALL</td>\n      <td>NaN</td>\n      <td>2021-06-17</td>\n      <td>6</td>\n      <td>17</td>\n      <td>2021</td>\n    </tr>\n    <tr>\n      <th>3</th>\n      <td>98</td>\n      <td>SDN</td>\n      <td>53130</td>\n      <td>23230</td>\n      <td>23930</td>\n      <td>83</td>\n      <td>18:05:00</td>\n      <td>K</td>\n      <td>NaN</td>\n      <td>BBBBBBB</td>\n      <td>ALL</td>\n      <td>ALL</td>\n      <td>NaN</td>\n      <td>2021-06-16</td>\n      <td>6</td>\n      <td>16</td>\n      <td>2021</td>\n    </tr>\n    <tr>\n      <th>4</th>\n      <td>40</td>\n      <td>TAXI</td>\n      <td>81030</td>\n      <td>23930</td>\n      <td>40030</td>\n      <td>83</td>\n      <td>22:58:00</td>\n      <td>K</td>\n      <td>NaN</td>\n      <td>BBBBBBB</td>\n      <td>ALL</td>\n      <td>ALL</td>\n      <td>NaN</td>\n      <td>2021-07-04</td>\n      <td>7</td>\n      <td>4</td>\n      <td>2021</td>\n    </tr>\n    <tr>\n      <th>...</th>\n      <td>...</td>\n      <td>...</td>\n      <td>...</td>\n      <td>...</td>\n      <td>...</td>\n      <td>...</td>\n      <td>...</td>\n      <td>...</td>\n      <td>...</td>\n      <td>...</td>\n      <td>...</td>\n      <td>...</td>\n      <td>...</td>\n      <td>...</td>\n      <td>...</td>\n      <td>...</td>\n      <td>...</td>\n    </tr>\n    <tr>\n      <th>349995</th>\n      <td>36</td>\n      <td>SUBN</td>\n      <td>0</td>\n      <td>0</td>\n      <td>0</td>\n      <td>0</td>\n      <td>00:04:00</td>\n      <td>QN</td>\n      <td>1ST ST</td>\n      <td>NaN</td>\n      <td>NaN</td>\n      <td>NaN</td>\n      <td>NaN</td>\n      <td>2021-07-27</td>\n      <td>7</td>\n      <td>27</td>\n      <td>2021</td>\n    </tr>\n    <tr>\n      <th>349996</th>\n      <td>36</td>\n      <td>SUBN</td>\n      <td>0</td>\n      <td>0</td>\n      <td>0</td>\n      <td>0</td>\n      <td>00:04:00</td>\n      <td>BK</td>\n      <td>Y @ BILLS PL</td>\n      <td>NaN</td>\n      <td>NaN</td>\n      <td>NaN</td>\n      <td>NaN</td>\n      <td>2021-07-27</td>\n      <td>7</td>\n      <td>27</td>\n      <td>2021</td>\n    </tr>\n    <tr>\n      <th>349997</th>\n      <td>36</td>\n      <td>SUBN</td>\n      <td>0</td>\n      <td>0</td>\n      <td>0</td>\n      <td>0</td>\n      <td>00:04:00</td>\n      <td>ST</td>\n      <td>ONIA AVE</td>\n      <td>NaN</td>\n      <td>NaN</td>\n      <td>NaN</td>\n      <td>NaN</td>\n      <td>2021-07-27</td>\n      <td>7</td>\n      <td>27</td>\n      <td>2021</td>\n    </tr>\n    <tr>\n      <th>349998</th>\n      <td>36</td>\n      <td>SUBN</td>\n      <td>0</td>\n      <td>0</td>\n      <td>0</td>\n      <td>0</td>\n      <td>00:04:00</td>\n      <td>QN</td>\n      <td>TH ST</td>\n      <td>NaN</td>\n      <td>NaN</td>\n      <td>NaN</td>\n      <td>NaN</td>\n      <td>2021-07-27</td>\n      <td>7</td>\n      <td>27</td>\n      <td>2021</td>\n    </tr>\n    <tr>\n      <th>349999</th>\n      <td>36</td>\n      <td>4DSD</td>\n      <td>0</td>\n      <td>0</td>\n      <td>0</td>\n      <td>0</td>\n      <td>00:04:00</td>\n      <td>QN</td>\n      <td>H AVE</td>\n      <td>NaN</td>\n      <td>NaN</td>\n      <td>NaN</td>\n      <td>NaN</td>\n      <td>2021-07-27</td>\n      <td>7</td>\n      <td>27</td>\n      <td>2021</td>\n    </tr>\n  </tbody>\n</table>\n<p>349983 rows × 17 columns</p>\n</div>"
     },
     "execution_count": 13,
     "metadata": {},
     "output_type": "execute_result"
    }
   ],
   "source": [
    "df_1"
   ],
   "metadata": {
    "collapsed": false,
    "ExecuteTime": {
     "start_time": "2023-11-22T15:06:06.181769Z",
     "end_time": "2023-11-22T15:06:06.222768Z"
    }
   }
  },
  {
   "cell_type": "code",
   "execution_count": 14,
   "outputs": [
    {
     "name": "stderr",
     "output_type": "stream",
     "text": [
      "C:\\Users\\YSK\\AppData\\Local\\Temp\\ipykernel_10816\\735695388.py:1: SettingWithCopyWarning: \n",
      "A value is trying to be set on a copy of a slice from a DataFrame\n",
      "\n",
      "See the caveats in the documentation: https://pandas.pydata.org/pandas-docs/stable/user_guide/indexing.html#returning-a-view-versus-a-copy\n",
      "  df_1.sort_values(by=['Violation Date', 'Violation Time'], inplace=True)\n"
     ]
    },
    {
     "data": {
      "text/plain": "       Violation Code Vehicle Body Type  Street Code1  Street Code2  \\\n6647               20              SUBN         72720         27180   \n3082               78               NaN             0         40404   \n5337               35               VAN         10610         40404   \n15310              67               SDN         68390         48290   \n1635               98               VAN         19990         17540   \n...               ...               ...           ...           ...   \n7140               14              SUBN         62200         33490   \n3717               74              MOPE         31250         27950   \n3730               74              MOPE         31250         27950   \n9132               67               SDN             0             0   \n593                40               SDN         18090          7790   \n\n       Street Code3  Violation Precinct Violation Time Violation County  \\\n6647          29220                  46       00:04:00               BX   \n3082          40404                 105       22:00:00                Q   \n5337          40404                  14       00:52:00               NY   \n15310         54090                 104       09:10:00              NaN   \n1635          17740                 106       01:05:00                Q   \n...             ...                 ...            ...              ...   \n7140              0                 100       15:31:00                Q   \n3717          47530                 121       04:30:00                R   \n3730          47530                 121       04:30:00                R   \n9132              0                  71       08:51:00                K   \n593            7990                 115       23:09:00              NaN   \n\n      Intersecting Street Days Parking In Effect From Hours In Effect  \\\n6647                  NaN                BBBBBBB                  ALL   \n3082                  NaN                BBBBBBB                  ALL   \n5337                  NaN                BBBBBBB                  ALL   \n15310                 NaN                BBBBBBB                  ALL   \n1635                  NaN                BBBBBBB                  ALL   \n...                   ...                    ...                  ...   \n7140         BEACH 100 ST                BBBBBBB                  ALL   \n3717                  NaN                BBBBBBB                  ALL   \n3730                  NaN                BBBBBBB                  ALL   \n9132      S/O STERLING ST                BBBBBBB                  ALL   \n593                   NaN                BBBBBBB                  ALL   \n\n      To Hours In Effect  Violation Post Code Violation Date  \\\n6647                 ALL                  NaN     2000-06-27   \n3082                 ALL                  NaN     2000-06-28   \n5337                 ALL                  NaN     2000-07-15   \n15310                ALL                  NaN     2010-07-10   \n1635                 ALL                  NaN     2010-07-21   \n...                  ...                  ...            ...   \n7140                 ALL                  NaN     2022-07-20   \n3717                 ALL                  NaN     2024-07-24   \n3730                 ALL                  NaN     2024-07-24   \n9132                 ALL                  NaN     2029-06-29   \n593                  ALL                  NaN     2031-07-01   \n\n       Violation Date (Month)  Violation Date (Day)  Violation Date (Year)  \n6647                        6                    27                   2000  \n3082                        6                    28                   2000  \n5337                        7                    15                   2000  \n15310                       7                    10                   2010  \n1635                        7                    21                   2010  \n...                       ...                   ...                    ...  \n7140                        7                    20                   2022  \n3717                        7                    24                   2024  \n3730                        7                    24                   2024  \n9132                        6                    29                   2029  \n593                         7                     1                   2031  \n\n[349983 rows x 17 columns]",
      "text/html": "<div>\n<style scoped>\n    .dataframe tbody tr th:only-of-type {\n        vertical-align: middle;\n    }\n\n    .dataframe tbody tr th {\n        vertical-align: top;\n    }\n\n    .dataframe thead th {\n        text-align: right;\n    }\n</style>\n<table border=\"1\" class=\"dataframe\">\n  <thead>\n    <tr style=\"text-align: right;\">\n      <th></th>\n      <th>Violation Code</th>\n      <th>Vehicle Body Type</th>\n      <th>Street Code1</th>\n      <th>Street Code2</th>\n      <th>Street Code3</th>\n      <th>Violation Precinct</th>\n      <th>Violation Time</th>\n      <th>Violation County</th>\n      <th>Intersecting Street</th>\n      <th>Days Parking In Effect</th>\n      <th>From Hours In Effect</th>\n      <th>To Hours In Effect</th>\n      <th>Violation Post Code</th>\n      <th>Violation Date</th>\n      <th>Violation Date (Month)</th>\n      <th>Violation Date (Day)</th>\n      <th>Violation Date (Year)</th>\n    </tr>\n  </thead>\n  <tbody>\n    <tr>\n      <th>6647</th>\n      <td>20</td>\n      <td>SUBN</td>\n      <td>72720</td>\n      <td>27180</td>\n      <td>29220</td>\n      <td>46</td>\n      <td>00:04:00</td>\n      <td>BX</td>\n      <td>NaN</td>\n      <td>BBBBBBB</td>\n      <td>ALL</td>\n      <td>ALL</td>\n      <td>NaN</td>\n      <td>2000-06-27</td>\n      <td>6</td>\n      <td>27</td>\n      <td>2000</td>\n    </tr>\n    <tr>\n      <th>3082</th>\n      <td>78</td>\n      <td>NaN</td>\n      <td>0</td>\n      <td>40404</td>\n      <td>40404</td>\n      <td>105</td>\n      <td>22:00:00</td>\n      <td>Q</td>\n      <td>NaN</td>\n      <td>BBBBBBB</td>\n      <td>ALL</td>\n      <td>ALL</td>\n      <td>NaN</td>\n      <td>2000-06-28</td>\n      <td>6</td>\n      <td>28</td>\n      <td>2000</td>\n    </tr>\n    <tr>\n      <th>5337</th>\n      <td>35</td>\n      <td>VAN</td>\n      <td>10610</td>\n      <td>40404</td>\n      <td>40404</td>\n      <td>14</td>\n      <td>00:52:00</td>\n      <td>NY</td>\n      <td>NaN</td>\n      <td>BBBBBBB</td>\n      <td>ALL</td>\n      <td>ALL</td>\n      <td>NaN</td>\n      <td>2000-07-15</td>\n      <td>7</td>\n      <td>15</td>\n      <td>2000</td>\n    </tr>\n    <tr>\n      <th>15310</th>\n      <td>67</td>\n      <td>SDN</td>\n      <td>68390</td>\n      <td>48290</td>\n      <td>54090</td>\n      <td>104</td>\n      <td>09:10:00</td>\n      <td>NaN</td>\n      <td>NaN</td>\n      <td>BBBBBBB</td>\n      <td>ALL</td>\n      <td>ALL</td>\n      <td>NaN</td>\n      <td>2010-07-10</td>\n      <td>7</td>\n      <td>10</td>\n      <td>2010</td>\n    </tr>\n    <tr>\n      <th>1635</th>\n      <td>98</td>\n      <td>VAN</td>\n      <td>19990</td>\n      <td>17540</td>\n      <td>17740</td>\n      <td>106</td>\n      <td>01:05:00</td>\n      <td>Q</td>\n      <td>NaN</td>\n      <td>BBBBBBB</td>\n      <td>ALL</td>\n      <td>ALL</td>\n      <td>NaN</td>\n      <td>2010-07-21</td>\n      <td>7</td>\n      <td>21</td>\n      <td>2010</td>\n    </tr>\n    <tr>\n      <th>...</th>\n      <td>...</td>\n      <td>...</td>\n      <td>...</td>\n      <td>...</td>\n      <td>...</td>\n      <td>...</td>\n      <td>...</td>\n      <td>...</td>\n      <td>...</td>\n      <td>...</td>\n      <td>...</td>\n      <td>...</td>\n      <td>...</td>\n      <td>...</td>\n      <td>...</td>\n      <td>...</td>\n      <td>...</td>\n    </tr>\n    <tr>\n      <th>7140</th>\n      <td>14</td>\n      <td>SUBN</td>\n      <td>62200</td>\n      <td>33490</td>\n      <td>0</td>\n      <td>100</td>\n      <td>15:31:00</td>\n      <td>Q</td>\n      <td>BEACH 100 ST</td>\n      <td>BBBBBBB</td>\n      <td>ALL</td>\n      <td>ALL</td>\n      <td>NaN</td>\n      <td>2022-07-20</td>\n      <td>7</td>\n      <td>20</td>\n      <td>2022</td>\n    </tr>\n    <tr>\n      <th>3717</th>\n      <td>74</td>\n      <td>MOPE</td>\n      <td>31250</td>\n      <td>27950</td>\n      <td>47530</td>\n      <td>121</td>\n      <td>04:30:00</td>\n      <td>R</td>\n      <td>NaN</td>\n      <td>BBBBBBB</td>\n      <td>ALL</td>\n      <td>ALL</td>\n      <td>NaN</td>\n      <td>2024-07-24</td>\n      <td>7</td>\n      <td>24</td>\n      <td>2024</td>\n    </tr>\n    <tr>\n      <th>3730</th>\n      <td>74</td>\n      <td>MOPE</td>\n      <td>31250</td>\n      <td>27950</td>\n      <td>47530</td>\n      <td>121</td>\n      <td>04:30:00</td>\n      <td>R</td>\n      <td>NaN</td>\n      <td>BBBBBBB</td>\n      <td>ALL</td>\n      <td>ALL</td>\n      <td>NaN</td>\n      <td>2024-07-24</td>\n      <td>7</td>\n      <td>24</td>\n      <td>2024</td>\n    </tr>\n    <tr>\n      <th>9132</th>\n      <td>67</td>\n      <td>SDN</td>\n      <td>0</td>\n      <td>0</td>\n      <td>0</td>\n      <td>71</td>\n      <td>08:51:00</td>\n      <td>K</td>\n      <td>S/O STERLING ST</td>\n      <td>BBBBBBB</td>\n      <td>ALL</td>\n      <td>ALL</td>\n      <td>NaN</td>\n      <td>2029-06-29</td>\n      <td>6</td>\n      <td>29</td>\n      <td>2029</td>\n    </tr>\n    <tr>\n      <th>593</th>\n      <td>40</td>\n      <td>SDN</td>\n      <td>18090</td>\n      <td>7790</td>\n      <td>7990</td>\n      <td>115</td>\n      <td>23:09:00</td>\n      <td>NaN</td>\n      <td>NaN</td>\n      <td>BBBBBBB</td>\n      <td>ALL</td>\n      <td>ALL</td>\n      <td>NaN</td>\n      <td>2031-07-01</td>\n      <td>7</td>\n      <td>1</td>\n      <td>2031</td>\n    </tr>\n  </tbody>\n</table>\n<p>349983 rows × 17 columns</p>\n</div>"
     },
     "execution_count": 14,
     "metadata": {},
     "output_type": "execute_result"
    }
   ],
   "source": [
    "df_1.sort_values(by=['Violation Date', 'Violation Time'], inplace=True)\n",
    "df_1"
   ],
   "metadata": {
    "collapsed": false,
    "ExecuteTime": {
     "start_time": "2023-11-22T15:06:06.217768Z",
     "end_time": "2023-11-22T15:06:06.419764Z"
    }
   }
  },
  {
   "cell_type": "code",
   "execution_count": 15,
   "outputs": [],
   "source": [
    "start_date = pd.to_datetime('2021-07-01')\n",
    "end_date = pd.to_datetime('2022-06-30')"
   ],
   "metadata": {
    "collapsed": false,
    "ExecuteTime": {
     "start_time": "2023-11-22T15:06:06.373767Z",
     "end_time": "2023-11-22T15:06:06.419764Z"
    }
   }
  },
  {
   "cell_type": "code",
   "execution_count": 16,
   "outputs": [
    {
     "data": {
      "text/plain": "       Violation Code Vehicle Body Type  Street Code1  Street Code2  \\\n19777              21              4DSD             0             0   \n22002               0               VAN             0             0   \n23604               0              SUBN             0             0   \n26384              21              4DSD          8120         25860   \n28018              21              SUBN             0             0   \n...               ...               ...           ...           ...   \n14316              20               SDN         13820             0   \n10511              41              SUBN         32560         49130   \n10081              20              SUBN             0         30140   \n10496              41              SUBN             0             0   \n14226              14               SDN         16910         11720   \n\n       Street Code3  Violation Precinct Violation Time Violation County  \\\n19777             0                 107       00:00:00              Qns   \n22002             0                   0       00:00:00              NaN   \n23604             0                   0       00:00:00              NaN   \n26384         25890                  40       00:00:00            Bronx   \n28018             0                  78       00:00:00            Kings   \n...             ...                 ...            ...              ...   \n14316             0                  84       20:12:00                K   \n10511         13430                  81       08:45:00                K   \n10081             0                 101       17:08:00                Q   \n10496             0                  81       08:55:00                K   \n14226         16400                  34       18:37:00               NY   \n\n      Intersecting Street Days Parking In Effect From Hours In Effect  \\\n19777       RK DRIVE EAST                      Y                0830A   \n22002                 NaN                    NaN                  NaN   \n23604                 NaN                    NaN                  NaN   \n26384                 NaN                   Y  Y                1130A   \n28018                  ET                      Y                0930A   \n...                   ...                    ...                  ...   \n14316         PIER 5 LOOP                BBBBBBB                  ALL   \n10511                 NaN                YBBYBBB                0800A   \n10081             B 17 ST                BBBBBBB                  ALL   \n10496            HERKIMER                YBBYBBB                0800A   \n14226                 NaN                BBBBBBB                  ALL   \n\n      To Hours In Effect  Violation Post Code Violation Date  \\\n19777              1000A                  NaN     2021-07-01   \n22002                NaN                  NaN     2021-07-01   \n23604                NaN                  NaN     2021-07-01   \n26384              0100P                  NaN     2021-07-01   \n28018              1101A                  NaN     2021-07-01   \n...                  ...                  ...            ...   \n14316                ALL                  NaN     2021-08-16   \n10511              0930A                  NaN     2021-08-17   \n10081                ALL                  NaN     2021-08-31   \n10496              0930A                  NaN     2021-09-24   \n14226                ALL                  NaN     2022-02-04   \n\n       Violation Date (Month)  Violation Date (Day)  Violation Date (Year)  \n19777                       7                     1                   2021  \n22002                       7                     1                   2021  \n23604                       7                     1                   2021  \n26384                       7                     1                   2021  \n28018                       7                     1                   2021  \n...                       ...                   ...                    ...  \n14316                       8                    16                   2021  \n10511                       8                    17                   2021  \n10081                       8                    31                   2021  \n10496                       9                    24                   2021  \n14226                       2                     4                   2022  \n\n[297151 rows x 17 columns]",
      "text/html": "<div>\n<style scoped>\n    .dataframe tbody tr th:only-of-type {\n        vertical-align: middle;\n    }\n\n    .dataframe tbody tr th {\n        vertical-align: top;\n    }\n\n    .dataframe thead th {\n        text-align: right;\n    }\n</style>\n<table border=\"1\" class=\"dataframe\">\n  <thead>\n    <tr style=\"text-align: right;\">\n      <th></th>\n      <th>Violation Code</th>\n      <th>Vehicle Body Type</th>\n      <th>Street Code1</th>\n      <th>Street Code2</th>\n      <th>Street Code3</th>\n      <th>Violation Precinct</th>\n      <th>Violation Time</th>\n      <th>Violation County</th>\n      <th>Intersecting Street</th>\n      <th>Days Parking In Effect</th>\n      <th>From Hours In Effect</th>\n      <th>To Hours In Effect</th>\n      <th>Violation Post Code</th>\n      <th>Violation Date</th>\n      <th>Violation Date (Month)</th>\n      <th>Violation Date (Day)</th>\n      <th>Violation Date (Year)</th>\n    </tr>\n  </thead>\n  <tbody>\n    <tr>\n      <th>19777</th>\n      <td>21</td>\n      <td>4DSD</td>\n      <td>0</td>\n      <td>0</td>\n      <td>0</td>\n      <td>107</td>\n      <td>00:00:00</td>\n      <td>Qns</td>\n      <td>RK DRIVE EAST</td>\n      <td>Y</td>\n      <td>0830A</td>\n      <td>1000A</td>\n      <td>NaN</td>\n      <td>2021-07-01</td>\n      <td>7</td>\n      <td>1</td>\n      <td>2021</td>\n    </tr>\n    <tr>\n      <th>22002</th>\n      <td>0</td>\n      <td>VAN</td>\n      <td>0</td>\n      <td>0</td>\n      <td>0</td>\n      <td>0</td>\n      <td>00:00:00</td>\n      <td>NaN</td>\n      <td>NaN</td>\n      <td>NaN</td>\n      <td>NaN</td>\n      <td>NaN</td>\n      <td>NaN</td>\n      <td>2021-07-01</td>\n      <td>7</td>\n      <td>1</td>\n      <td>2021</td>\n    </tr>\n    <tr>\n      <th>23604</th>\n      <td>0</td>\n      <td>SUBN</td>\n      <td>0</td>\n      <td>0</td>\n      <td>0</td>\n      <td>0</td>\n      <td>00:00:00</td>\n      <td>NaN</td>\n      <td>NaN</td>\n      <td>NaN</td>\n      <td>NaN</td>\n      <td>NaN</td>\n      <td>NaN</td>\n      <td>2021-07-01</td>\n      <td>7</td>\n      <td>1</td>\n      <td>2021</td>\n    </tr>\n    <tr>\n      <th>26384</th>\n      <td>21</td>\n      <td>4DSD</td>\n      <td>8120</td>\n      <td>25860</td>\n      <td>25890</td>\n      <td>40</td>\n      <td>00:00:00</td>\n      <td>Bronx</td>\n      <td>NaN</td>\n      <td>Y  Y</td>\n      <td>1130A</td>\n      <td>0100P</td>\n      <td>NaN</td>\n      <td>2021-07-01</td>\n      <td>7</td>\n      <td>1</td>\n      <td>2021</td>\n    </tr>\n    <tr>\n      <th>28018</th>\n      <td>21</td>\n      <td>SUBN</td>\n      <td>0</td>\n      <td>0</td>\n      <td>0</td>\n      <td>78</td>\n      <td>00:00:00</td>\n      <td>Kings</td>\n      <td>ET</td>\n      <td>Y</td>\n      <td>0930A</td>\n      <td>1101A</td>\n      <td>NaN</td>\n      <td>2021-07-01</td>\n      <td>7</td>\n      <td>1</td>\n      <td>2021</td>\n    </tr>\n    <tr>\n      <th>...</th>\n      <td>...</td>\n      <td>...</td>\n      <td>...</td>\n      <td>...</td>\n      <td>...</td>\n      <td>...</td>\n      <td>...</td>\n      <td>...</td>\n      <td>...</td>\n      <td>...</td>\n      <td>...</td>\n      <td>...</td>\n      <td>...</td>\n      <td>...</td>\n      <td>...</td>\n      <td>...</td>\n      <td>...</td>\n    </tr>\n    <tr>\n      <th>14316</th>\n      <td>20</td>\n      <td>SDN</td>\n      <td>13820</td>\n      <td>0</td>\n      <td>0</td>\n      <td>84</td>\n      <td>20:12:00</td>\n      <td>K</td>\n      <td>PIER 5 LOOP</td>\n      <td>BBBBBBB</td>\n      <td>ALL</td>\n      <td>ALL</td>\n      <td>NaN</td>\n      <td>2021-08-16</td>\n      <td>8</td>\n      <td>16</td>\n      <td>2021</td>\n    </tr>\n    <tr>\n      <th>10511</th>\n      <td>41</td>\n      <td>SUBN</td>\n      <td>32560</td>\n      <td>49130</td>\n      <td>13430</td>\n      <td>81</td>\n      <td>08:45:00</td>\n      <td>K</td>\n      <td>NaN</td>\n      <td>YBBYBBB</td>\n      <td>0800A</td>\n      <td>0930A</td>\n      <td>NaN</td>\n      <td>2021-08-17</td>\n      <td>8</td>\n      <td>17</td>\n      <td>2021</td>\n    </tr>\n    <tr>\n      <th>10081</th>\n      <td>20</td>\n      <td>SUBN</td>\n      <td>0</td>\n      <td>30140</td>\n      <td>0</td>\n      <td>101</td>\n      <td>17:08:00</td>\n      <td>Q</td>\n      <td>B 17 ST</td>\n      <td>BBBBBBB</td>\n      <td>ALL</td>\n      <td>ALL</td>\n      <td>NaN</td>\n      <td>2021-08-31</td>\n      <td>8</td>\n      <td>31</td>\n      <td>2021</td>\n    </tr>\n    <tr>\n      <th>10496</th>\n      <td>41</td>\n      <td>SUBN</td>\n      <td>0</td>\n      <td>0</td>\n      <td>0</td>\n      <td>81</td>\n      <td>08:55:00</td>\n      <td>K</td>\n      <td>HERKIMER</td>\n      <td>YBBYBBB</td>\n      <td>0800A</td>\n      <td>0930A</td>\n      <td>NaN</td>\n      <td>2021-09-24</td>\n      <td>9</td>\n      <td>24</td>\n      <td>2021</td>\n    </tr>\n    <tr>\n      <th>14226</th>\n      <td>14</td>\n      <td>SDN</td>\n      <td>16910</td>\n      <td>11720</td>\n      <td>16400</td>\n      <td>34</td>\n      <td>18:37:00</td>\n      <td>NY</td>\n      <td>NaN</td>\n      <td>BBBBBBB</td>\n      <td>ALL</td>\n      <td>ALL</td>\n      <td>NaN</td>\n      <td>2022-02-04</td>\n      <td>2</td>\n      <td>4</td>\n      <td>2022</td>\n    </tr>\n  </tbody>\n</table>\n<p>297151 rows × 17 columns</p>\n</div>"
     },
     "execution_count": 16,
     "metadata": {},
     "output_type": "execute_result"
    }
   ],
   "source": [
    "df_1 = df_1[(df_1['Violation Date'] >= start_date) & (df_1['Violation Date'] <= end_date)]\n",
    "df_1"
   ],
   "metadata": {
    "collapsed": false,
    "ExecuteTime": {
     "start_time": "2023-11-22T15:06:06.389772Z",
     "end_time": "2023-11-22T15:06:06.522765Z"
    }
   }
  },
  {
   "cell_type": "code",
   "execution_count": 17,
   "outputs": [
    {
     "name": "stderr",
     "output_type": "stream",
     "text": [
      "C:\\Users\\YSK\\AppData\\Local\\Temp\\ipykernel_10816\\1034078261.py:1: SettingWithCopyWarning: \n",
      "A value is trying to be set on a copy of a slice from a DataFrame.\n",
      "Try using .loc[row_indexer,col_indexer] = value instead\n",
      "\n",
      "See the caveats in the documentation: https://pandas.pydata.org/pandas-docs/stable/user_guide/indexing.html#returning-a-view-versus-a-copy\n",
      "  df_1['Violation Hour'] = df_1['Violation Time'].apply(lambda x: (x.hour % 24)).astype(int)\n"
     ]
    },
    {
     "data": {
      "text/plain": "19777     0\n22002     0\n23604     0\n26384     0\n28018     0\n         ..\n14316    20\n10511     8\n10081    17\n10496     8\n14226    18\nName: Violation Hour, Length: 297151, dtype: int32"
     },
     "execution_count": 17,
     "metadata": {},
     "output_type": "execute_result"
    }
   ],
   "source": [
    "df_1['Violation Hour'] = df_1['Violation Time'].apply(lambda x: (x.hour % 24)).astype(int)\n",
    "df_1['Violation Hour']"
   ],
   "metadata": {
    "collapsed": false,
    "ExecuteTime": {
     "start_time": "2023-11-22T15:06:06.466770Z",
     "end_time": "2023-11-22T15:06:06.716766Z"
    }
   }
  },
  {
   "cell_type": "code",
   "execution_count": 18,
   "outputs": [
    {
     "name": "stdout",
     "output_type": "stream",
     "text": [
      "Empty DataFrame\n",
      "Columns: [Violation Code, Vehicle Body Type, Street Code1, Street Code2, Street Code3, Violation Precinct, Violation Time, Violation County, Intersecting Street, Days Parking In Effect, From Hours In Effect, To Hours In Effect, Violation Post Code, Violation Date, Violation Date (Month), Violation Date (Day), Violation Date (Year), Violation Hour]\n",
      "Index: []\n",
      "Location Violation Rate for 59520 between 08:00 and 12:00: 0.00%\n"
     ]
    }
   ],
   "source": [
    "from datetime import datetime\n",
    "\n",
    "def calculate_location_violation_rate(df, location, time_range):\n",
    "    start_time = datetime.strptime(time_range[0], \"%H:%M\").time()\n",
    "    end_time = datetime.strptime(time_range[1], \"%H:%M\").time()\n",
    "\n",
    "    # 'NaT' değerleri kontrol et\n",
    "    filtered_data = df[(df['Street Code2'] == location) & (~df['Violation Time'].isna()) &\n",
    "                       (df['Violation Time'].apply(lambda x: not pd.isna(x) and x == x and start_time <= x <= end_time))]\n",
    "\n",
    "    print(filtered_data)\n",
    "    # Belirli bir konumun toplam ihlal sayısı\n",
    "    total_location_violations = len(df[(df['Street Code2'] == location) & (df['Violation Code'] > 0)])\n",
    "\n",
    "    if total_location_violations == 0:\n",
    "        return 0\n",
    "\n",
    "    # Belirli bir konum ve saat aralığındaki ihlal sayısı\n",
    "    location_violations = len(filtered_data[filtered_data['Violation Code'] > 0])\n",
    "\n",
    "    # Location Violation Rate hesapla\n",
    "    location_violation_rate = (location_violations / total_location_violations) * 100\n",
    "\n",
    "    return location_violation_rate\n",
    "\n",
    "location = '59520'\n",
    "time_range = ('08:00', '12:00')\n",
    "rate = calculate_location_violation_rate(df_1, location, time_range)\n",
    "print(f'Location Violation Rate for {location} between {time_range[0]} and {time_range[1]}: {rate:.2f}%')"
   ],
   "metadata": {
    "collapsed": false,
    "ExecuteTime": {
     "start_time": "2023-11-22T15:06:06.593766Z",
     "end_time": "2023-11-22T15:06:06.890766Z"
    }
   }
  },
  {
   "cell_type": "code",
   "execution_count": null,
   "outputs": [],
   "source": [
    "from datetime import datetime, timedelta\n",
    "\n",
    "def calculate_violation_rate(row, df):\n",
    "    location = row['Street Code2']\n",
    "    hour = row['Violation Hour']\n",
    "\n",
    "    # Convert hour to datetime.time object\n",
    "    start_time = datetime.strptime(f'{hour:02d}:00', '%H:%M').time()\n",
    "    end_time = (datetime.strptime(f'{hour+2:02d}:00', '%H:%M') + timedelta(minutes=59, seconds=59)).time()\n",
    "\n",
    "    filtered_data = df[(df['Street Code2'] == location) & (df['Violation Time'].between(start_time, end_time))]\n",
    "\n",
    "    total_location_violations = len(df[(df['Street Code2'] == location) & (df['Violation Code'] > 0)])\n",
    "\n",
    "    location_violations = len(filtered_data[filtered_data['Violation Code'] > 0])\n",
    "\n",
    "    if total_location_violations == 0:\n",
    "        return 0\n",
    "\n",
    "    location_violation_rate = (location_violations / total_location_violations) * 100\n",
    "\n",
    "    return location_violation_rate\n",
    "\n",
    "df_1['Violation Rate'] = df_1.apply(lambda row: calculate_violation_rate(row, df_1), axis=1)"
   ],
   "metadata": {
    "collapsed": false,
    "pycharm": {
     "is_executing": true
    }
   }
  }
 ],
 "metadata": {
  "kernelspec": {
   "display_name": "Python 3",
   "language": "python",
   "name": "python3"
  },
  "language_info": {
   "codemirror_mode": {
    "name": "ipython",
    "version": 2
   },
   "file_extension": ".py",
   "mimetype": "text/x-python",
   "name": "python",
   "nbconvert_exporter": "python",
   "pygments_lexer": "ipython2",
   "version": "2.7.6"
  }
 },
 "nbformat": 4,
 "nbformat_minor": 0
}
