{
 "metadata": {
  "kernelspec": {
   "language": "python",
   "display_name": "Python 3",
   "name": "python3"
  },
  "language_info": {
   "name": "python",
   "version": "3.10.12",
   "mimetype": "text/x-python",
   "codemirror_mode": {
    "name": "ipython",
    "version": 3
   },
   "pygments_lexer": "ipython3",
   "nbconvert_exporter": "python",
   "file_extension": ".py"
  },
  "kaggle": {
   "accelerator": "none",
   "dataSources": [
    {
     "sourceId": 1146042,
     "sourceType": "datasetVersion",
     "datasetId": 3498
    }
   ],
   "dockerImageVersionId": 30587,
   "isInternetEnabled": true,
   "language": "python",
   "sourceType": "notebook",
   "isGpuEnabled": false
  }
 },
 "nbformat_minor": 4,
 "nbformat": 4,
 "cells": [
  {
   "cell_type": "code",
   "source": [
    "# This Python 3 environment comes with many helpful analytics libraries installed\n",
    "# It is defined by the kaggle/python Docker image: https://github.com/kaggle/docker-python\n",
    "# For example, here's several helpful packages to load\n",
    "\n",
    "import numpy as np # linear algebra\n",
    "import pandas as pd # data processing, CSV file I/O (e.g. pd.read_csv)\n",
    "\n",
    "# Input data files are available in the read-only \"../input/\" directory\n",
    "# For example, running this (by clicking run or pressing Shift+Enter) will list all files under the input directory\n",
    "\n",
    "import os\n",
    "import sys\n",
    "\n",
    "os.environ['PYSPARK_PYTHON'] = sys.executable\n",
    "os.environ['PYSPARK_DRIVER_PYTHON'] = sys.executable\n",
    "# You can write up to 20GB to the current directory (/kaggle/working/) that gets preserved as output when you create a version using \"Save & Run All\" \n",
    "# You can also write temporary files to /kaggle/temp/, but they won't be saved outside of the current session"
   ],
   "metadata": {
    "_uuid": "8f2839f25d086af736a60e9eeb907d3b93b6e0e5",
    "_cell_guid": "b1076dfc-b9ad-4769-8c92-a6c4dae69d19",
    "execution": {
     "iopub.status.busy": "2023-11-23T18:13:21.262933Z",
     "iopub.execute_input": "2023-11-23T18:13:21.263605Z",
     "iopub.status.idle": "2023-11-23T18:13:21.308297Z",
     "shell.execute_reply.started": "2023-11-23T18:13:21.263561Z",
     "shell.execute_reply": "2023-11-23T18:13:21.307058Z"
    },
    "trusted": true,
    "ExecuteTime": {
     "start_time": "2023-11-24T11:20:52.622428Z",
     "end_time": "2023-11-24T11:20:52.682425Z"
    }
   },
   "execution_count": 2,
   "outputs": []
  },
  {
   "cell_type": "code",
   "source": [
    "# !pip install pyspark\n",
    "!pip install pandas findspark --user"
   ],
   "metadata": {
    "execution": {
     "iopub.status.busy": "2023-11-23T18:13:21.310573Z",
     "iopub.execute_input": "2023-11-23T18:13:21.311320Z",
     "iopub.status.idle": "2023-11-23T18:13:34.170672Z",
     "shell.execute_reply.started": "2023-11-23T18:13:21.311283Z",
     "shell.execute_reply": "2023-11-23T18:13:34.169193Z"
    },
    "trusted": true,
    "ExecuteTime": {
     "start_time": "2023-11-24T11:20:52.630425Z",
     "end_time": "2023-11-24T11:21:03.646511Z"
    }
   },
   "execution_count": 3,
   "outputs": [
    {
     "name": "stdout",
     "output_type": "stream",
     "text": [
      "Requirement already satisfied: pandas in c:\\users\\ysk\\anaconda3\\lib\\site-packages (2.1.1)\n",
      "Requirement already satisfied: findspark in c:\\users\\ysk\\appdata\\roaming\\python\\python311\\site-packages (2.0.1)\n",
      "Requirement already satisfied: numpy>=1.23.2 in c:\\users\\ysk\\anaconda3\\lib\\site-packages (from pandas) (1.24.3)\n",
      "Requirement already satisfied: python-dateutil>=2.8.2 in c:\\users\\ysk\\anaconda3\\lib\\site-packages (from pandas) (2.8.2)\n",
      "Requirement already satisfied: pytz>=2020.1 in c:\\users\\ysk\\anaconda3\\lib\\site-packages (from pandas) (2023.3.post1)\n",
      "Requirement already satisfied: tzdata>=2022.1 in c:\\users\\ysk\\anaconda3\\lib\\site-packages (from pandas) (2023.3)\n",
      "Requirement already satisfied: six>=1.5 in c:\\users\\ysk\\anaconda3\\lib\\site-packages (from python-dateutil>=2.8.2->pandas) (1.16.0)\n"
     ]
    }
   ]
  },
  {
   "cell_type": "code",
   "source": [
    "import findspark\n",
    "from pyspark.sql import SparkSession\n",
    "from pyspark.sql.functions import col, to_date, expr, when, udf, struct, lit"
   ],
   "metadata": {
    "execution": {
     "iopub.status.busy": "2023-11-23T18:13:34.172733Z",
     "iopub.execute_input": "2023-11-23T18:13:34.173513Z",
     "iopub.status.idle": "2023-11-23T18:13:34.180288Z",
     "shell.execute_reply.started": "2023-11-23T18:13:34.173475Z",
     "shell.execute_reply": "2023-11-23T18:13:34.179010Z"
    },
    "trusted": true,
    "ExecuteTime": {
     "start_time": "2023-11-24T11:21:03.647511Z",
     "end_time": "2023-11-24T11:21:03.656544Z"
    }
   },
   "execution_count": 4,
   "outputs": []
  },
  {
   "cell_type": "code",
   "execution_count": 5,
   "outputs": [],
   "source": [
    "findspark.init(\"c:\\spark\")"
   ],
   "metadata": {
    "collapsed": false,
    "ExecuteTime": {
     "start_time": "2023-11-24T11:21:03.657543Z",
     "end_time": "2023-11-24T11:21:03.662789Z"
    }
   }
  },
  {
   "cell_type": "code",
   "source": [
    "# spark = SparkSession \\\n",
    "#     .builder \\\n",
    "#     .appName(\"Violation Rate\") \\\n",
    "#     .getOrCreate()\n",
    "\n",
    "spark = SparkSession.builder.config(\"spark.driver.memory\", \"4g\").appName(\"Violation Rate\").getOrCreate()"
   ],
   "metadata": {
    "execution": {
     "iopub.status.busy": "2023-11-23T18:13:34.182459Z",
     "iopub.execute_input": "2023-11-23T18:13:34.182949Z",
     "iopub.status.idle": "2023-11-23T18:13:34.198154Z",
     "shell.execute_reply.started": "2023-11-23T18:13:34.182898Z",
     "shell.execute_reply": "2023-11-23T18:13:34.196994Z"
    },
    "trusted": true,
    "ExecuteTime": {
     "start_time": "2023-11-24T11:21:03.668791Z",
     "end_time": "2023-11-24T11:21:09.818552Z"
    }
   },
   "execution_count": 6,
   "outputs": []
  },
  {
   "cell_type": "code",
   "execution_count": 7,
   "outputs": [
    {
     "data": {
      "text/plain": "'3.5.0'"
     },
     "execution_count": 7,
     "metadata": {},
     "output_type": "execute_result"
    }
   ],
   "source": [
    "spark.version"
   ],
   "metadata": {
    "collapsed": false,
    "ExecuteTime": {
     "start_time": "2023-11-24T11:21:09.820554Z",
     "end_time": "2023-11-24T11:21:09.829667Z"
    }
   }
  },
  {
   "cell_type": "code",
   "source": [
    "selected_columns = [\n",
    "    'Street Code1',\n",
    "    'Street Code2',\n",
    "    'Street Code3',\n",
    "    'Street Name',\n",
    "    'Violation Post Code',\n",
    "    'Intersecting Street',\n",
    "    'Violation Precinct',\n",
    "    'Violation County',\n",
    "    'Vehicle Body Type',\n",
    "    'Issue Date',\n",
    "    'Violation Time',\n",
    "    'Violation Code',\n",
    "]\n",
    "\n",
    "parking_violation = spark.read.format(\"csv\") \\\n",
    "    .option(\"header\", \"true\") \\\n",
    "    .option(\"inferSchema\", \"true\") \\\n",
    "    .load('Parking_Violations_2022.csv') \\\n",
    "    .select(*[col(col_name) for col_name in selected_columns]) \\\n",
    "    .limit(5000)"
   ],
   "metadata": {
    "execution": {
     "iopub.status.busy": "2023-11-23T18:13:34.201739Z",
     "iopub.execute_input": "2023-11-23T18:13:34.202192Z",
     "iopub.status.idle": "2023-11-23T18:14:08.755731Z",
     "shell.execute_reply.started": "2023-11-23T18:13:34.202158Z",
     "shell.execute_reply": "2023-11-23T18:14:08.754560Z"
    },
    "trusted": true,
    "ExecuteTime": {
     "start_time": "2023-11-24T11:21:09.832670Z",
     "end_time": "2023-11-24T11:21:31.420167Z"
    }
   },
   "execution_count": 8,
   "outputs": []
  },
  {
   "cell_type": "code",
   "source": [
    "parking_violation.show(5)"
   ],
   "metadata": {
    "execution": {
     "iopub.status.busy": "2023-11-23T18:14:08.760114Z",
     "iopub.execute_input": "2023-11-23T18:14:08.761471Z",
     "iopub.status.idle": "2023-11-23T18:14:08.904696Z",
     "shell.execute_reply.started": "2023-11-23T18:14:08.761420Z",
     "shell.execute_reply": "2023-11-23T18:14:08.903867Z"
    },
    "trusted": true,
    "ExecuteTime": {
     "start_time": "2023-11-24T11:21:31.423180Z",
     "end_time": "2023-11-24T11:21:31.725106Z"
    }
   },
   "execution_count": 9,
   "outputs": [
    {
     "name": "stdout",
     "output_type": "stream",
     "text": [
      "+------------+------------+------------+------------------+-------------------+-------------------+------------------+----------------+-----------------+----------+--------------+--------------+\n",
      "|Street Code1|Street Code2|Street Code3|       Street Name|Violation Post Code|Intersecting Street|Violation Precinct|Violation County|Vehicle Body Type|Issue Date|Violation Time|Violation Code|\n",
      "+------------+------------+------------+------------------+-------------------+-------------------+------------------+----------------+-----------------+----------+--------------+--------------+\n",
      "|       63430|       69230|       13490|NORTH PORTLAND AVE|               NULL|               NULL|                88|               K|              VAN|06/25/2021|         0130A|            40|\n",
      "|       13490|       40404|       40404|      AUBURN PLACE|               NULL|               NULL|                88|               K|             SUBN|06/25/2021|         0225A|            20|\n",
      "|       79430|       47130|       11750|SOUTH PORTLAND AVE|               NULL|               NULL|                88|               K|              SDN|06/17/2021|         0809P|            98|\n",
      "|       53130|       23230|       23930|      JEFFERSON ST|               NULL|               NULL|                83|               K|              SDN|06/16/2021|         0605P|            98|\n",
      "|       81030|       23930|       40030|       STANHOPE ST|               NULL|               NULL|                83|               K|             TAXI|07/04/2021|         1058P|            40|\n",
      "+------------+------------+------------+------------------+-------------------+-------------------+------------------+----------------+-----------------+----------+--------------+--------------+\n",
      "only showing top 5 rows\n",
      "\n"
     ]
    }
   ]
  },
  {
   "cell_type": "code",
   "source": [
    "parking_violation.filter(col('Violation Precinct').isNull()).count()"
   ],
   "metadata": {
    "execution": {
     "iopub.status.busy": "2023-11-23T18:14:08.906181Z",
     "iopub.execute_input": "2023-11-23T18:14:08.906506Z",
     "iopub.status.idle": "2023-11-23T18:14:09.530820Z",
     "shell.execute_reply.started": "2023-11-23T18:14:08.906479Z",
     "shell.execute_reply": "2023-11-23T18:14:09.529997Z"
    },
    "trusted": true,
    "ExecuteTime": {
     "start_time": "2023-11-24T11:21:31.728105Z",
     "end_time": "2023-11-24T11:21:32.923750Z"
    }
   },
   "execution_count": 10,
   "outputs": [
    {
     "data": {
      "text/plain": "0"
     },
     "execution_count": 10,
     "metadata": {},
     "output_type": "execute_result"
    }
   ]
  },
  {
   "cell_type": "code",
   "source": [
    "parking_violation.head()"
   ],
   "metadata": {
    "execution": {
     "iopub.status.busy": "2023-11-23T18:14:09.533373Z",
     "iopub.execute_input": "2023-11-23T18:14:09.533852Z",
     "iopub.status.idle": "2023-11-23T18:14:09.648512Z",
     "shell.execute_reply.started": "2023-11-23T18:14:09.533790Z",
     "shell.execute_reply": "2023-11-23T18:14:09.647377Z"
    },
    "trusted": true,
    "ExecuteTime": {
     "start_time": "2023-11-24T11:21:32.924755Z",
     "end_time": "2023-11-24T11:21:33.160259Z"
    }
   },
   "execution_count": 11,
   "outputs": [
    {
     "data": {
      "text/plain": "Row(Street Code1=63430, Street Code2=69230, Street Code3=13490, Street Name='NORTH PORTLAND AVE', Violation Post Code=None, Intersecting Street=None, Violation Precinct=88, Violation County='K', Vehicle Body Type='VAN', Issue Date='06/25/2021', Violation Time='0130A', Violation Code=40)"
     },
     "execution_count": 11,
     "metadata": {},
     "output_type": "execute_result"
    }
   ]
  },
  {
   "cell_type": "code",
   "source": [
    "parking_violation.describe().show()"
   ],
   "metadata": {
    "execution": {
     "iopub.status.busy": "2023-11-23T18:14:09.654395Z",
     "iopub.execute_input": "2023-11-23T18:14:09.655352Z",
     "iopub.status.idle": "2023-11-23T18:14:11.802948Z",
     "shell.execute_reply.started": "2023-11-23T18:14:09.655307Z",
     "shell.execute_reply": "2023-11-23T18:14:11.802077Z"
    },
    "trusted": true,
    "ExecuteTime": {
     "start_time": "2023-11-24T11:21:33.160259Z",
     "end_time": "2023-11-24T11:21:35.532147Z"
    }
   },
   "execution_count": 12,
   "outputs": [
    {
     "name": "stdout",
     "output_type": "stream",
     "text": [
      "+-------+------------------+-----------------+------------------+------------------+-------------------+-------------------+------------------+----------------+-----------------+----------+------------------+------------------+\n",
      "|summary|      Street Code1|     Street Code2|      Street Code3|       Street Name|Violation Post Code|Intersecting Street|Violation Precinct|Violation County|Vehicle Body Type|Issue Date|    Violation Time|    Violation Code|\n",
      "+-------+------------------+-----------------+------------------+------------------+-------------------+-------------------+------------------+----------------+-----------------+----------+------------------+------------------+\n",
      "|  count|              5000|             5000|              5000|              4990|                  0|                773|              5000|            4289|             4724|      5000|              4997|              5000|\n",
      "|   mean|        32016.9234|       32162.7564|        30802.9034|             143.0|               NULL|              120.0|           68.5424|            NULL|             NULL|      NULL|1058.6666666666667|           49.0512|\n",
      "| stddev|23473.741130208942|22666.65294070935|24183.464421442055|21.213203435596427|               NULL|               NULL|42.490512952636806|            NULL|             NULL|      NULL| 89.00187263947502|29.751080718534983|\n",
      "|    min|                 0|                0|                 0|             1 AVE|               NULL|            100 AVE|                 0|              BX|             4DSD|01/02/2021|             0002A|                 4|\n",
      "|    max|             97540|            97950|             97950|       YORK STREET|               NULL|   YELLOWSTONE BLVD|               806|               R|             YANT|12/11/2020|             1259A|                99|\n",
      "+-------+------------------+-----------------+------------------+------------------+-------------------+-------------------+------------------+----------------+-----------------+----------+------------------+------------------+\n",
      "\n"
     ]
    }
   ]
  },
  {
   "cell_type": "code",
   "source": [
    "# datatype of columns\n",
    "parking_violation.printSchema()"
   ],
   "metadata": {
    "execution": {
     "iopub.status.busy": "2023-11-23T18:14:11.803938Z",
     "iopub.execute_input": "2023-11-23T18:14:11.804249Z",
     "iopub.status.idle": "2023-11-23T18:14:11.811868Z",
     "shell.execute_reply.started": "2023-11-23T18:14:11.804223Z",
     "shell.execute_reply": "2023-11-23T18:14:11.810582Z"
    },
    "trusted": true,
    "ExecuteTime": {
     "start_time": "2023-11-24T11:21:35.531148Z",
     "end_time": "2023-11-24T11:21:35.541367Z"
    }
   },
   "execution_count": 13,
   "outputs": [
    {
     "name": "stdout",
     "output_type": "stream",
     "text": [
      "root\n",
      " |-- Street Code1: integer (nullable = true)\n",
      " |-- Street Code2: integer (nullable = true)\n",
      " |-- Street Code3: integer (nullable = true)\n",
      " |-- Street Name: string (nullable = true)\n",
      " |-- Violation Post Code: string (nullable = true)\n",
      " |-- Intersecting Street: string (nullable = true)\n",
      " |-- Violation Precinct: integer (nullable = true)\n",
      " |-- Violation County: string (nullable = true)\n",
      " |-- Vehicle Body Type: string (nullable = true)\n",
      " |-- Issue Date: string (nullable = true)\n",
      " |-- Violation Time: string (nullable = true)\n",
      " |-- Violation Code: integer (nullable = true)\n",
      "\n"
     ]
    }
   ]
  },
  {
   "cell_type": "code",
   "source": [
    "parking_violation.count()"
   ],
   "metadata": {
    "execution": {
     "iopub.status.busy": "2023-11-23T18:14:11.814106Z",
     "iopub.execute_input": "2023-11-23T18:14:11.814575Z",
     "iopub.status.idle": "2023-11-23T18:14:12.082708Z",
     "shell.execute_reply.started": "2023-11-23T18:14:11.814533Z",
     "shell.execute_reply": "2023-11-23T18:14:12.081521Z"
    },
    "trusted": true,
    "ExecuteTime": {
     "start_time": "2023-11-24T11:21:35.537368Z",
     "end_time": "2023-11-24T11:21:35.883407Z"
    }
   },
   "execution_count": 14,
   "outputs": [
    {
     "data": {
      "text/plain": "5000"
     },
     "execution_count": 14,
     "metadata": {},
     "output_type": "execute_result"
    }
   ]
  },
  {
   "cell_type": "code",
   "source": [
    "len(parking_violation.columns)"
   ],
   "metadata": {
    "execution": {
     "iopub.status.busy": "2023-11-23T18:14:12.084394Z",
     "iopub.execute_input": "2023-11-23T18:14:12.084751Z",
     "iopub.status.idle": "2023-11-23T18:14:12.094203Z",
     "shell.execute_reply.started": "2023-11-23T18:14:12.084720Z",
     "shell.execute_reply": "2023-11-23T18:14:12.093143Z"
    },
    "trusted": true,
    "ExecuteTime": {
     "start_time": "2023-11-24T11:21:35.889406Z",
     "end_time": "2023-11-24T11:21:35.896910Z"
    }
   },
   "execution_count": 15,
   "outputs": [
    {
     "data": {
      "text/plain": "12"
     },
     "execution_count": 15,
     "metadata": {},
     "output_type": "execute_result"
    }
   ]
  },
  {
   "cell_type": "code",
   "source": [
    "# Drop duplicates\n",
    "parking_violation = parking_violation.dropDuplicates()\n",
    "parking_violation.count()"
   ],
   "metadata": {
    "execution": {
     "iopub.status.busy": "2023-11-23T18:14:12.096179Z",
     "iopub.execute_input": "2023-11-23T18:14:12.098313Z",
     "iopub.status.idle": "2023-11-23T18:14:13.030018Z",
     "shell.execute_reply.started": "2023-11-23T18:14:12.098256Z",
     "shell.execute_reply": "2023-11-23T18:14:13.028731Z"
    },
    "trusted": true,
    "ExecuteTime": {
     "start_time": "2023-11-24T11:21:35.898911Z",
     "end_time": "2023-11-24T11:21:36.616550Z"
    }
   },
   "execution_count": 16,
   "outputs": [
    {
     "data": {
      "text/plain": "4977"
     },
     "execution_count": 16,
     "metadata": {},
     "output_type": "execute_result"
    }
   ]
  },
  {
   "cell_type": "code",
   "source": [
    "parking_violation = parking_violation.toDF(*(c.replace(' ', '_') for c in parking_violation.columns))\n",
    "parking_violation.show(5)"
   ],
   "metadata": {
    "execution": {
     "iopub.status.busy": "2023-11-23T18:14:13.035934Z",
     "iopub.execute_input": "2023-11-23T18:14:13.036443Z",
     "iopub.status.idle": "2023-11-23T18:14:14.116667Z",
     "shell.execute_reply.started": "2023-11-23T18:14:13.036400Z",
     "shell.execute_reply": "2023-11-23T18:14:14.115520Z"
    },
    "trusted": true,
    "ExecuteTime": {
     "start_time": "2023-11-24T11:21:36.620554Z",
     "end_time": "2023-11-24T11:21:37.218100Z"
    }
   },
   "execution_count": 17,
   "outputs": [
    {
     "name": "stdout",
     "output_type": "stream",
     "text": [
      "+------------+------------+------------+------------------+-------------------+-------------------+------------------+----------------+-----------------+----------+--------------+--------------+\n",
      "|Street_Code1|Street_Code2|Street_Code3|       Street_Name|Violation_Post_Code|Intersecting_Street|Violation_Precinct|Violation_County|Vehicle_Body_Type|Issue_Date|Violation_Time|Violation_Code|\n",
      "+------------+------------+------------+------------------+-------------------+-------------------+------------------+----------------+-----------------+----------+--------------+--------------+\n",
      "|       63430|       69230|       13490|NORTH PORTLAND AVE|               NULL|               NULL|                88|               K|              VAN|06/25/2021|         0130A|            40|\n",
      "|       13490|       40404|       40404|      AUBURN PLACE|               NULL|               NULL|                88|               K|             SUBN|06/25/2021|         0225A|            20|\n",
      "|       79430|       47130|       11750|SOUTH PORTLAND AVE|               NULL|               NULL|                88|               K|              SDN|06/17/2021|         0809P|            98|\n",
      "|       53130|       23230|       23930|      JEFFERSON ST|               NULL|               NULL|                83|               K|              SDN|06/16/2021|         0605P|            98|\n",
      "|       81030|       23930|       40030|       STANHOPE ST|               NULL|               NULL|                83|               K|             TAXI|07/04/2021|         1058P|            40|\n",
      "+------------+------------+------------+------------------+-------------------+-------------------+------------------+----------------+-----------------+----------+--------------+--------------+\n",
      "only showing top 5 rows\n",
      "\n"
     ]
    }
   ]
  },
  {
   "cell_type": "code",
   "source": [
    "# Assuming 'parking_violation' is your PySpark DataFrame\n",
    "parking_violation = parking_violation.withColumn('Violation_Date', to_date(col('Issue_Date')))\n",
    "parking_violation = parking_violation.withColumn('Violation_Date_Month', col('Violation_Date').cast('string').substr(6, 2).cast('int'))\n",
    "parking_violation = parking_violation.withColumn('Violation_Date_Day', col('Violation_Date').cast('string').substr(9, 2).cast('int'))\n",
    "parking_violation = parking_violation.withColumn('Violation_Date_Year', col('Violation_Date').cast('string').substr(1, 4).cast('int'))"
   ],
   "metadata": {
    "execution": {
     "iopub.status.busy": "2023-11-23T18:14:14.118014Z",
     "iopub.execute_input": "2023-11-23T18:14:14.118454Z",
     "iopub.status.idle": "2023-11-23T18:14:14.179697Z",
     "shell.execute_reply.started": "2023-11-23T18:14:14.118414Z",
     "shell.execute_reply": "2023-11-23T18:14:14.178755Z"
    },
    "trusted": true,
    "ExecuteTime": {
     "start_time": "2023-11-24T11:21:37.225103Z",
     "end_time": "2023-11-24T11:21:37.302479Z"
    }
   },
   "execution_count": 18,
   "outputs": []
  },
  {
   "cell_type": "code",
   "source": [
    "parking_violation = parking_violation.drop('Issue_Date')"
   ],
   "metadata": {
    "execution": {
     "iopub.status.busy": "2023-11-23T18:14:14.180772Z",
     "iopub.execute_input": "2023-11-23T18:14:14.181101Z",
     "iopub.status.idle": "2023-11-23T18:14:14.196992Z",
     "shell.execute_reply.started": "2023-11-23T18:14:14.181074Z",
     "shell.execute_reply": "2023-11-23T18:14:14.195990Z"
    },
    "trusted": true,
    "ExecuteTime": {
     "start_time": "2023-11-24T11:21:37.303480Z",
     "end_time": "2023-11-24T11:21:37.326972Z"
    }
   },
   "execution_count": 19,
   "outputs": []
  },
  {
   "cell_type": "code",
   "source": [
    "parking_violation.show(10)"
   ],
   "metadata": {
    "execution": {
     "iopub.status.busy": "2023-11-23T18:14:14.198074Z",
     "iopub.execute_input": "2023-11-23T18:14:14.198399Z",
     "iopub.status.idle": "2023-11-23T18:14:15.260514Z",
     "shell.execute_reply.started": "2023-11-23T18:14:14.198372Z",
     "shell.execute_reply": "2023-11-23T18:14:15.259559Z"
    },
    "trusted": true,
    "ExecuteTime": {
     "start_time": "2023-11-24T11:21:37.324967Z",
     "end_time": "2023-11-24T11:21:37.943435Z"
    }
   },
   "execution_count": 20,
   "outputs": [
    {
     "name": "stdout",
     "output_type": "stream",
     "text": [
      "+------------+------------+------------+------------------+-------------------+-------------------+------------------+----------------+-----------------+--------------+--------------+--------------+--------------------+------------------+-------------------+\n",
      "|Street_Code1|Street_Code2|Street_Code3|       Street_Name|Violation_Post_Code|Intersecting_Street|Violation_Precinct|Violation_County|Vehicle_Body_Type|Violation_Time|Violation_Code|Violation_Date|Violation_Date_Month|Violation_Date_Day|Violation_Date_Year|\n",
      "+------------+------------+------------+------------------+-------------------+-------------------+------------------+----------------+-----------------+--------------+--------------+--------------+--------------------+------------------+-------------------+\n",
      "|       63430|       69230|       13490|NORTH PORTLAND AVE|               NULL|               NULL|                88|               K|              VAN|         0130A|            40|          NULL|                NULL|              NULL|               NULL|\n",
      "|       13490|       40404|       40404|      AUBURN PLACE|               NULL|               NULL|                88|               K|             SUBN|         0225A|            20|          NULL|                NULL|              NULL|               NULL|\n",
      "|       79430|       47130|       11750|SOUTH PORTLAND AVE|               NULL|               NULL|                88|               K|              SDN|         0809P|            98|          NULL|                NULL|              NULL|               NULL|\n",
      "|       53130|       23230|       23930|      JEFFERSON ST|               NULL|               NULL|                83|               K|              SDN|         0605P|            98|          NULL|                NULL|              NULL|               NULL|\n",
      "|       81030|       23930|       40030|       STANHOPE ST|               NULL|               NULL|                83|               K|             TAXI|         1058P|            40|          NULL|                NULL|              NULL|               NULL|\n",
      "|           0|       40404|       40404|        MENEHAN ST|               NULL|               NULL|                83|               K|              SDN|         1120A|            98|          NULL|                NULL|              NULL|               NULL|\n",
      "|       42130|       58330|       59640|        FREEMAN ST|               NULL|               NULL|                94|               K|              SDN|         0905A|            98|          NULL|                NULL|              NULL|               NULL|\n",
      "|       85330|       55730|       73050|        THROOP AVE|               NULL|               NULL|                79|            NULL|              SDN|         0740P|            40|          NULL|                NULL|              NULL|               NULL|\n",
      "|       85330|       55730|       73050|        THROOP AVE|               NULL|               NULL|                79|            NULL|              SDN|         0740P|            70|          NULL|                NULL|              NULL|               NULL|\n",
      "|       46820|       65320|       15920|      LONGWOOD AVE|               NULL|               NULL|                41|            NULL|             SUBN|         0600A|            74|          NULL|                NULL|              NULL|               NULL|\n",
      "+------------+------------+------------+------------------+-------------------+-------------------+------------------+----------------+-----------------+--------------+--------------+--------------+--------------------+------------------+-------------------+\n",
      "only showing top 10 rows\n",
      "\n"
     ]
    }
   ]
  },
  {
   "cell_type": "code",
   "source": [
    "from pyspark.sql.functions import udf\n",
    "from pyspark.sql.types import StringType\n",
    "\n",
    "def convert_to_24hr_format_udf(time_str):\n",
    "    try:\n",
    "        if '.' in time_str:\n",
    "            return None\n",
    "        if time_str[-1] == 'P':\n",
    "            return '{:02d}:{:02d}'.format((int(time_str[:2]) + 12) % 24, int(time_str[2:4]))\n",
    "        elif time_str[-1] == 'A':\n",
    "            return '{:02d}:{:02d}'.format(int(time_str[:2]) % 12, int(time_str[2:4]))\n",
    "        else:\n",
    "            return None\n",
    "    except (ValueError, TypeError):\n",
    "        return None\n",
    "\n",
    "\n",
    "convert_to_24hr_format_udf_spark = udf(convert_to_24hr_format_udf, StringType())\n",
    "\n",
    "parking_violation = parking_violation.withColumn('Violation_Time', convert_to_24hr_format_udf_spark(col('Violation_Time')))\n",
    "\n",
    "parking_violation = parking_violation.dropna(subset=['Violation_Time'])"
   ],
   "metadata": {
    "execution": {
     "iopub.status.busy": "2023-11-23T18:14:15.261685Z",
     "iopub.execute_input": "2023-11-23T18:14:15.262136Z",
     "iopub.status.idle": "2023-11-23T18:14:15.325027Z",
     "shell.execute_reply.started": "2023-11-23T18:14:15.262097Z",
     "shell.execute_reply": "2023-11-23T18:14:15.324152Z"
    },
    "trusted": true,
    "ExecuteTime": {
     "start_time": "2023-11-24T11:21:37.940436Z",
     "end_time": "2023-11-24T11:21:38.031007Z"
    }
   },
   "execution_count": 21,
   "outputs": []
  },
  {
   "cell_type": "code",
   "source": [
    "parking_violation.show(5)"
   ],
   "metadata": {
    "execution": {
     "iopub.status.busy": "2023-11-23T18:14:15.325945Z",
     "iopub.execute_input": "2023-11-23T18:14:15.326232Z",
     "iopub.status.idle": "2023-11-23T18:14:16.778430Z",
     "shell.execute_reply.started": "2023-11-23T18:14:15.326207Z",
     "shell.execute_reply": "2023-11-23T18:14:16.777272Z"
    },
    "trusted": true,
    "ExecuteTime": {
     "start_time": "2023-11-24T11:21:38.012012Z",
     "end_time": "2023-11-24T11:21:41.605597Z"
    }
   },
   "execution_count": 22,
   "outputs": [
    {
     "name": "stdout",
     "output_type": "stream",
     "text": [
      "+------------+------------+------------+-------------+-------------------+-------------------+------------------+----------------+-----------------+--------------+--------------+--------------+--------------------+------------------+-------------------+\n",
      "|Street_Code1|Street_Code2|Street_Code3|  Street_Name|Violation_Post_Code|Intersecting_Street|Violation_Precinct|Violation_County|Vehicle_Body_Type|Violation_Time|Violation_Code|Violation_Date|Violation_Date_Month|Violation_Date_Day|Violation_Date_Year|\n",
      "+------------+------------+------------+-------------+-------------------+-------------------+------------------+----------------+-----------------+--------------+--------------+--------------+--------------------+------------------+-------------------+\n",
      "|       39202|           0|           0|MIDLAND BEACH|               NULL|              LOT 8|               122|               R|              VAN|         14:54|            27|          NULL|                NULL|              NULL|               NULL|\n",
      "|       11440|       18240|       18490|       55 AVE|               NULL|               NULL|               110|               Q|              SDN|         10:50|            98|          NULL|                NULL|              NULL|               NULL|\n",
      "|       60230|       40030|       25330|   MENAHAN ST|               NULL|               NULL|                83|               K|             SUBN|         00:36|            17|          NULL|                NULL|              NULL|               NULL|\n",
      "|       11800|       53630|       93250| ADAMS STREET|               NULL|               NULL|                84|               K|             SUBN|         08:17|            17|          NULL|                NULL|              NULL|               NULL|\n",
      "|       61120|       58220|       45120|   REVERE AVE|               NULL|               NULL|                45|              BX|             SUBN|         08:21|            40|          NULL|                NULL|              NULL|               NULL|\n",
      "+------------+------------+------------+-------------+-------------------+-------------------+------------------+----------------+-----------------+--------------+--------------+--------------+--------------------+------------------+-------------------+\n",
      "only showing top 5 rows\n",
      "\n"
     ]
    }
   ]
  },
  {
   "cell_type": "code",
   "source": [
    "parking_violation.select('Violation_Time').show(5)"
   ],
   "metadata": {
    "execution": {
     "iopub.status.busy": "2023-11-23T18:14:16.780549Z",
     "iopub.execute_input": "2023-11-23T18:14:16.781049Z",
     "iopub.status.idle": "2023-11-23T18:14:18.285396Z",
     "shell.execute_reply.started": "2023-11-23T18:14:16.781004Z",
     "shell.execute_reply": "2023-11-23T18:14:18.284225Z"
    },
    "trusted": true,
    "ExecuteTime": {
     "start_time": "2023-11-24T11:21:41.608596Z",
     "end_time": "2023-11-24T11:21:44.875356Z"
    }
   },
   "execution_count": 23,
   "outputs": [
    {
     "name": "stdout",
     "output_type": "stream",
     "text": [
      "+--------------+\n",
      "|Violation_Time|\n",
      "+--------------+\n",
      "|         14:54|\n",
      "|         10:50|\n",
      "|         00:36|\n",
      "|         08:17|\n",
      "|         08:21|\n",
      "+--------------+\n",
      "only showing top 5 rows\n",
      "\n"
     ]
    }
   ]
  },
  {
   "cell_type": "code",
   "source": [
    "parking_violation = parking_violation.orderBy(col('Violation_Date'), col('Violation_Time'))"
   ],
   "metadata": {
    "execution": {
     "iopub.status.busy": "2023-11-23T18:14:18.286755Z",
     "iopub.execute_input": "2023-11-23T18:14:18.287208Z",
     "iopub.status.idle": "2023-11-23T18:14:18.317165Z",
     "shell.execute_reply.started": "2023-11-23T18:14:18.287167Z",
     "shell.execute_reply": "2023-11-23T18:14:18.315750Z"
    },
    "trusted": true,
    "ExecuteTime": {
     "start_time": "2023-11-24T11:21:44.867354Z",
     "end_time": "2023-11-24T11:21:44.893661Z"
    }
   },
   "execution_count": 24,
   "outputs": []
  },
  {
   "cell_type": "code",
   "source": [
    "parking_violation = parking_violation.withColumn(\n",
    "    'Violation_Hour',\n",
    "    (expr(\"hour(`Violation_Time`) % 24\")).cast('int')\n",
    ")"
   ],
   "metadata": {
    "execution": {
     "iopub.status.busy": "2023-11-23T18:14:18.319319Z",
     "iopub.execute_input": "2023-11-23T18:14:18.319832Z",
     "iopub.status.idle": "2023-11-23T18:14:18.345231Z",
     "shell.execute_reply.started": "2023-11-23T18:14:18.319774Z",
     "shell.execute_reply": "2023-11-23T18:14:18.343798Z"
    },
    "trusted": true,
    "ExecuteTime": {
     "start_time": "2023-11-24T11:21:44.892657Z",
     "end_time": "2023-11-24T11:21:44.975021Z"
    }
   },
   "execution_count": 25,
   "outputs": []
  },
  {
   "cell_type": "code",
   "source": [
    "parking_violation.select('Violation_Hour').show(5)"
   ],
   "metadata": {
    "execution": {
     "iopub.status.busy": "2023-11-23T18:14:18.346743Z",
     "iopub.execute_input": "2023-11-23T18:14:18.347681Z",
     "iopub.status.idle": "2023-11-23T18:14:20.010090Z",
     "shell.execute_reply.started": "2023-11-23T18:14:18.347618Z",
     "shell.execute_reply": "2023-11-23T18:14:20.009220Z"
    },
    "trusted": true,
    "ExecuteTime": {
     "start_time": "2023-11-24T11:21:44.976024Z",
     "end_time": "2023-11-24T11:21:48.746833Z"
    }
   },
   "execution_count": 26,
   "outputs": [
    {
     "name": "stdout",
     "output_type": "stream",
     "text": [
      "+--------------+\n",
      "|Violation_Hour|\n",
      "+--------------+\n",
      "|             0|\n",
      "|             0|\n",
      "|             0|\n",
      "|             0|\n",
      "|             0|\n",
      "+--------------+\n",
      "only showing top 5 rows\n",
      "\n"
     ]
    }
   ]
  },
  {
   "cell_type": "code",
   "execution_count": 27,
   "outputs": [],
   "source": [
    "from pyspark.sql.functions import unix_timestamp\n",
    "from pyspark.sql.types import TimestampType\n",
    "\n",
    "parking_violation = parking_violation.withColumn(\n",
    "    'Violation_Time',\n",
    "    unix_timestamp('Violation_Time', 'HH:mm:ss').cast(TimestampType())\n",
    ")"
   ],
   "metadata": {
    "collapsed": false,
    "ExecuteTime": {
     "start_time": "2023-11-24T11:21:48.749834Z",
     "end_time": "2023-11-24T11:21:48.770556Z"
    }
   }
  },
  {
   "cell_type": "code",
   "execution_count": 28,
   "outputs": [
    {
     "name": "stdout",
     "output_type": "stream",
     "text": [
      "[('Street_Code1', 'int'), ('Street_Code2', 'int'), ('Street_Code3', 'int'), ('Street_Name', 'string'), ('Violation_Post_Code', 'string'), ('Intersecting_Street', 'string'), ('Violation_Precinct', 'int'), ('Violation_County', 'string'), ('Vehicle_Body_Type', 'string'), ('Violation_Time', 'timestamp'), ('Violation_Code', 'int'), ('Violation_Date', 'date'), ('Violation_Date_Month', 'int'), ('Violation_Date_Day', 'int'), ('Violation_Date_Year', 'int'), ('Violation_Hour', 'int')]\n"
     ]
    }
   ],
   "source": [
    "print(parking_violation.dtypes)"
   ],
   "metadata": {
    "collapsed": false,
    "ExecuteTime": {
     "start_time": "2023-11-24T11:21:48.773555Z",
     "end_time": "2023-11-24T11:21:48.836740Z"
    }
   }
  },
  {
   "cell_type": "code",
   "source": [
    "from datetime import datetime, time\n",
    "\n",
    "def calculate_location_violation_rate(parking_violation, location, time_range, precinct, violation_date):\n",
    "    start_time = datetime.strptime(time_range[0], \"%H:%M\").time()\n",
    "    end_time = datetime.strptime(time_range[1], \"%H:%M\").time()\n",
    "\n",
    "    violation_date = datetime.strptime(violation_date, \"%Y-%m-%d\").date()\n",
    "\n",
    "    filtered_data = parking_violation.filter(\n",
    "        (col('Street_Name') == location) &\n",
    "        (col('Violation_Date') == violation_date) &\n",
    "        (col('Violation_Time').isNotNull()) &\n",
    "        (col('Violation_Time').between(lit(datetime.combine(violation_date, start_time)), \n",
    "                                       lit(datetime.combine(violation_date, end_time))))\n",
    "    )\n",
    "\n",
    "    print(\"filtered data:\", filtered_data.count())\n",
    "\n",
    "    total_location_violations = parking_violation.filter(\n",
    "        (col('Violation_Time').between(lit(datetime.combine(violation_date, start_time)),\n",
    "                                        lit(datetime.combine(violation_date, end_time)))) &\n",
    "        (col('Violation_Precinct') == precinct) &\n",
    "        (col('Violation_Date') == violation_date)\n",
    "    ).count()\n",
    "\n",
    "    print(\"total_location_violations:\", total_location_violations)\n",
    "\n",
    "    if total_location_violations == 0:\n",
    "        return 0\n",
    "\n",
    "    location_violations = filtered_data.count()\n",
    "\n",
    "    location_violation_rate = (location_violations / total_location_violations) * 100\n",
    "\n",
    "    return location_violation_rate\n",
    "\n",
    "location = 'GRANDVIEW AVE'\n",
    "location_precinct = 121\n",
    "time_range = ('00:00', '23:00')\n",
    "violation_date = '2021-07-25'\n",
    "\n",
    "# Assuming 'parking_violation' is your PySpark DataFrame\n",
    "rate = calculate_location_violation_rate(parking_violation, location, time_range, location_precinct, violation_date)\n",
    "print(f'Location Violation Rate for {location} between {time_range[0]} and {time_range[1]}: {rate:.2f}%')"
   ],
   "metadata": {
    "execution": {
     "iopub.status.busy": "2023-11-23T18:14:20.011259Z",
     "iopub.execute_input": "2023-11-23T18:14:20.011568Z",
     "iopub.status.idle": "2023-11-23T18:14:22.298685Z",
     "shell.execute_reply.started": "2023-11-23T18:14:20.011541Z",
     "shell.execute_reply": "2023-11-23T18:14:22.296981Z"
    },
    "trusted": true,
    "ExecuteTime": {
     "start_time": "2023-11-24T11:21:48.788743Z",
     "end_time": "2023-11-24T11:21:52.198218Z"
    }
   },
   "execution_count": 29,
   "outputs": [
    {
     "name": "stdout",
     "output_type": "stream",
     "text": [
      "filtered data: 0\n",
      "total_location_violations: 0\n",
      "Location Violation Rate for GRANDVIEW AVE between 00:00 and 23:00: 0.00%\n"
     ]
    }
   ]
  },
  {
   "cell_type": "code",
   "source": [
    "from pyspark.sql.functions import col, when, lit\n",
    "from datetime import datetime\n",
    "\n",
    "def calculate_violation_rate(hour, violation_date, precinct, street_name):\n",
    "\n",
    "    total_location_violations = parking_violation.filter(\n",
    "        (col('Violation_Hour').between(hour,hour+1)) &\n",
    "        (col('Violation_Precinct') == precinct) &\n",
    "        (col('Violation_Date') == violation_date)\n",
    "    ).count()\n",
    "\n",
    "    location_violations = parking_violation.filter(\n",
    "        (col('Street_Name') == street_name) &\n",
    "        (col('Violation_Hour').between(hour,hour+1)) &\n",
    "        (col('Violation_Date') == violation_date)\n",
    "    ).count()\n",
    "\n",
    "    print(\"total_location_violations:\", total_location_violations)\n",
    "    if total_location_violations == 0:\n",
    "            return 0\n",
    "\n",
    "    return when(total_location_violations != 0,(location_violations / total_location_violations) * 100).otherwise(0)\n",
    "\n",
    "if 'Violation_Rate' in parking_violation.columns:\n",
    "    parking_violation = parking_violation.drop('Violation_Rate')\n",
    "\n",
    "parking_violation = parking_violation.withColumn(\n",
    "    'Violation_Rate',\n",
    "    calculate_violation_rate(\n",
    "        col('Violation_Hour'),\n",
    "        col('Violation_Date'),\n",
    "        col('Violation_Precinct'),\n",
    "        col('Street_Name')\n",
    "    )\n",
    ")"
   ],
   "metadata": {
    "execution": {
     "iopub.status.busy": "2023-11-23T18:39:43.292182Z",
     "iopub.execute_input": "2023-11-23T18:39:43.292690Z",
     "iopub.status.idle": "2023-11-23T18:39:43.466304Z",
     "shell.execute_reply.started": "2023-11-23T18:39:43.292656Z",
     "shell.execute_reply": "2023-11-23T18:39:43.464081Z"
    },
    "trusted": true
   },
   "execution_count": 53,
   "outputs": [
    {
     "name": "stdout",
     "output_type": "stream",
     "text": [
      "total_location_violations: 0\n"
     ]
    },
    {
     "ename": "PySparkTypeError",
     "evalue": "[NOT_COLUMN] Argument `col` should be a Column, got int.",
     "output_type": "error",
     "traceback": [
      "\u001B[1;31m---------------------------------------------------------------------------\u001B[0m",
      "\u001B[1;31mPySparkTypeError\u001B[0m                          Traceback (most recent call last)",
      "Cell \u001B[1;32mIn[53], line 29\u001B[0m\n\u001B[0;32m     26\u001B[0m \u001B[38;5;28;01mif\u001B[39;00m \u001B[38;5;124m'\u001B[39m\u001B[38;5;124mViolation_Rate\u001B[39m\u001B[38;5;124m'\u001B[39m \u001B[38;5;129;01min\u001B[39;00m parking_violation\u001B[38;5;241m.\u001B[39mcolumns:\n\u001B[0;32m     27\u001B[0m     parking_violation \u001B[38;5;241m=\u001B[39m parking_violation\u001B[38;5;241m.\u001B[39mdrop(\u001B[38;5;124m'\u001B[39m\u001B[38;5;124mViolation_Rate\u001B[39m\u001B[38;5;124m'\u001B[39m)\n\u001B[1;32m---> 29\u001B[0m parking_violation \u001B[38;5;241m=\u001B[39m parking_violation\u001B[38;5;241m.\u001B[39mwithColumn(\n\u001B[0;32m     30\u001B[0m     \u001B[38;5;124m'\u001B[39m\u001B[38;5;124mViolation_Rate\u001B[39m\u001B[38;5;124m'\u001B[39m,\n\u001B[0;32m     31\u001B[0m     calculate_violation_rate(\n\u001B[0;32m     32\u001B[0m         col(\u001B[38;5;124m'\u001B[39m\u001B[38;5;124mViolation_Hour\u001B[39m\u001B[38;5;124m'\u001B[39m),\n\u001B[0;32m     33\u001B[0m         col(\u001B[38;5;124m'\u001B[39m\u001B[38;5;124mViolation_Date\u001B[39m\u001B[38;5;124m'\u001B[39m),\n\u001B[0;32m     34\u001B[0m         col(\u001B[38;5;124m'\u001B[39m\u001B[38;5;124mViolation_Precinct\u001B[39m\u001B[38;5;124m'\u001B[39m),\n\u001B[0;32m     35\u001B[0m         col(\u001B[38;5;124m'\u001B[39m\u001B[38;5;124mStreet_Name\u001B[39m\u001B[38;5;124m'\u001B[39m)\n\u001B[0;32m     36\u001B[0m     )\n\u001B[0;32m     37\u001B[0m )\n",
      "File \u001B[1;32m~\\anaconda3\\Lib\\site-packages\\pyspark\\sql\\dataframe.py:4785\u001B[0m, in \u001B[0;36mDataFrame.withColumn\u001B[1;34m(self, colName, col)\u001B[0m\n\u001B[0;32m   4742\u001B[0m \u001B[38;5;250m\u001B[39m\u001B[38;5;124;03m\"\"\"\u001B[39;00m\n\u001B[0;32m   4743\u001B[0m \u001B[38;5;124;03mReturns a new :class:`DataFrame` by adding a column or replacing the\u001B[39;00m\n\u001B[0;32m   4744\u001B[0m \u001B[38;5;124;03mexisting column that has the same name.\u001B[39;00m\n\u001B[1;32m   (...)\u001B[0m\n\u001B[0;32m   4782\u001B[0m \u001B[38;5;124;03m+---+-----+----+\u001B[39;00m\n\u001B[0;32m   4783\u001B[0m \u001B[38;5;124;03m\"\"\"\u001B[39;00m\n\u001B[0;32m   4784\u001B[0m \u001B[38;5;28;01mif\u001B[39;00m \u001B[38;5;129;01mnot\u001B[39;00m \u001B[38;5;28misinstance\u001B[39m(col, Column):\n\u001B[1;32m-> 4785\u001B[0m     \u001B[38;5;28;01mraise\u001B[39;00m PySparkTypeError(\n\u001B[0;32m   4786\u001B[0m         error_class\u001B[38;5;241m=\u001B[39m\u001B[38;5;124m\"\u001B[39m\u001B[38;5;124mNOT_COLUMN\u001B[39m\u001B[38;5;124m\"\u001B[39m,\n\u001B[0;32m   4787\u001B[0m         message_parameters\u001B[38;5;241m=\u001B[39m{\u001B[38;5;124m\"\u001B[39m\u001B[38;5;124marg_name\u001B[39m\u001B[38;5;124m\"\u001B[39m: \u001B[38;5;124m\"\u001B[39m\u001B[38;5;124mcol\u001B[39m\u001B[38;5;124m\"\u001B[39m, \u001B[38;5;124m\"\u001B[39m\u001B[38;5;124marg_type\u001B[39m\u001B[38;5;124m\"\u001B[39m: \u001B[38;5;28mtype\u001B[39m(col)\u001B[38;5;241m.\u001B[39m\u001B[38;5;18m__name__\u001B[39m},\n\u001B[0;32m   4788\u001B[0m     )\n\u001B[0;32m   4789\u001B[0m \u001B[38;5;28;01mreturn\u001B[39;00m DataFrame(\u001B[38;5;28mself\u001B[39m\u001B[38;5;241m.\u001B[39m_jdf\u001B[38;5;241m.\u001B[39mwithColumn(colName, col\u001B[38;5;241m.\u001B[39m_jc), \u001B[38;5;28mself\u001B[39m\u001B[38;5;241m.\u001B[39msparkSession)\n",
      "\u001B[1;31mPySparkTypeError\u001B[0m: [NOT_COLUMN] Argument `col` should be a Column, got int."
     ]
    }
   ]
  }
 ]
}
